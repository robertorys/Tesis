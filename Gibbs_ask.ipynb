{
 "cells": [
  {
   "cell_type": "code",
   "execution_count": 7,
   "metadata": {},
   "outputs": [],
   "source": [
    "import mib_v2_3_3 as mb \n",
    "import numpy as np\n",
    "import glob\n",
    "import tpproc as tp\n"
   ]
  },
  {
   "cell_type": "code",
   "execution_count": 2,
   "metadata": {},
   "outputs": [],
   "source": [
    "valeus = set([True,False])\n",
    "C = mb.Var('C', valeus)\n",
    "S = mb.Var('S', valeus) \n",
    "R = mb.Var('R', valeus)\n",
    "W = mb.Var('W', valeus)\n",
    "\n",
    "tC = {(True,):0.5, (False,):0.5}\n",
    "PC = mb.Distrib(tC,(C,))\n",
    "\n",
    "tS_C = {\n",
    "    (True,): {(True,):0.1, (False,):0.9},\n",
    "    (False,): {(True,):0.5, (False,):0.5}\n",
    "}\n",
    "PS_C = mb.Distrib((tS_C),(S,),(C,))\n",
    "\n",
    "\n",
    "tR_C = {\n",
    "    (True,): {(True,):0.8, (False,):0.2},\n",
    "    (False,): {(True,):0.2, (False,):0.8}\n",
    "}\n",
    "PR_C = mb.Distrib((tR_C),(R,),(C,))\n",
    "\n",
    "tW_SR = {\n",
    "    (True,True): {(True,):0.99, (False,):0.01},\n",
    "    (True,False): {(True,):0.9, (False,):0.1},\n",
    "    (False,True): {(True,):0.9, (False,):0.1},\n",
    "    (False,False): {(True,):0.0, (False,):0.1}\n",
    "}\n",
    "PW_SR = mb.Distrib((tW_SR),(W,),(S,R))\n",
    "\n",
    "PC.setChildren(set([PS_C,PR_C]))\n",
    "PS_C.setChildren(set([PW_SR]))\n",
    "PR_C.setChildren(set([PW_SR]))\n",
    "\n",
    "vars = set([C,S,R,W])\n",
    "descomp = tuple([PC,PS_C,PR_C,PW_SR])\n",
    "PCSRW = mb.Specification(vars,descomp)\n",
    "Q_CSRW = mb.Question(PCSRW)"
   ]
  },
  {
   "cell_type": "code",
   "execution_count": 3,
   "metadata": {},
   "outputs": [
    {
     "data": {
      "text/plain": [
       "(('R',), (False,), 0.6796116504854368)"
      ]
     },
     "execution_count": 3,
     "metadata": {},
     "output_type": "execute_result"
    }
   ],
   "source": [
    "Q_CSRW.Query(vars=(R,),indep=(S,W),indep_values=(True,True))"
   ]
  },
  {
   "cell_type": "code",
   "execution_count": 6,
   "metadata": {},
   "outputs": [
    {
     "data": {
      "text/plain": [
       "(('R',), (True,), 0.9957616707616708)"
      ]
     },
     "execution_count": 6,
     "metadata": {},
     "output_type": "execute_result"
    }
   ],
   "source": [
    "Q_CSRW.Query(vars=(R,),indep=(C,S,W),indep_values=(True,False,True), aproximation=True,N=50000)"
   ]
  },
  {
   "cell_type": "code",
   "execution_count": 5,
   "metadata": {},
   "outputs": [
    {
     "name": "stdout",
     "output_type": "stream",
     "text": [
      "0.9523809523809524\n",
      "0.04761904761904763\n",
      "1.0\n"
     ]
    }
   ],
   "source": [
    "Mb = []\n",
    "vars_Mb = set([C,S,R])\n",
    "\n",
    "for d in PCSRW.descomp:\n",
    "    if d.check(vars_Mb):\n",
    "        Mb.append(d)\n",
    "\n",
    "tC_SR = {}\n",
    "S.event = True\n",
    "R.event = False\n",
    "\n",
    "for Cv in C.values:\n",
    "    C.event = Cv\n",
    "    p = 1\n",
    "    for d in Mb:\n",
    "        p *= d.P()\n",
    "    tC_SR[(Cv,)] = p\n",
    "\n",
    "x = 1 / (np.sum(list(tC_SR.values())))\n",
    "print(tC_SR[(False,)] * x)\n",
    "print(tC_SR[(True,)] * x)\n",
    "print((tC_SR[(True,)] * x) + (tC_SR[(False,)] * x))\n",
    "    "
   ]
  }
 ],
 "metadata": {
  "kernelspec": {
   "display_name": "Python 3",
   "language": "python",
   "name": "python3"
  },
  "language_info": {
   "codemirror_mode": {
    "name": "ipython",
    "version": 3
   },
   "file_extension": ".py",
   "mimetype": "text/x-python",
   "name": "python",
   "nbconvert_exporter": "python",
   "pygments_lexer": "ipython3",
   "version": "3.10.12"
  }
 },
 "nbformat": 4,
 "nbformat_minor": 2
}
