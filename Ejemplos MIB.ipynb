{
 "cells": [
  {
   "cell_type": "markdown",
   "id": "9196dbb3-3768-42f9-924e-6fefd8382888",
   "metadata": {
    "tags": []
   },
   "source": [
    "<h1 style=\"font-size:50px;\" align=\"center\">Inferencia Bayesiana usando el Motor de Inferencia MIB</h1>"
   ]
  },
  {
   "cell_type": "code",
   "execution_count": 1,
   "id": "823f3853-36f6-4a97-997d-3f81eea64b0c",
   "metadata": {},
   "outputs": [
    {
     "name": "stdout",
     "output_type": "stream",
     "text": [
      "('A', 0) 0.3\n",
      "('A', 1) 0.7\n",
      "{('A', 0): {('B', 0): 0.2, ('B', 1): 0.8}, ('A', 1): {('B', 0): 0.3, ('B', 1): 0.7}}\n",
      "computing marginal P(B)\n",
      "('B', 0) 0.27\n",
      "('B', 1) 0.7299999999999999\n",
      "Printing:  P(B)\n",
      "('B', 0):0.27  ('B', 1):0.7299999999999999  \n",
      "\n",
      "None\n"
     ]
    }
   ],
   "source": [
    "import numpy as np\n",
    "import numpy.ma as ma\n",
    "import pandas as pd\n",
    "\n",
    "import mib_v1_2 as mb"
   ]
  },
  {
   "cell_type": "markdown",
   "id": "6264ac05-8790-4e31-9d77-4dfd5b7908a1",
   "metadata": {},
   "source": [
    "### Variables"
   ]
  },
  {
   "cell_type": "markdown",
   "id": "15bc6d6b-3d76-4909-9969-99e6333dc4d0",
   "metadata": {},
   "source": [
    "* Se declaran las siguientes variables:\n",
    "    - A:= {0,1}\n",
    "    - B:= {0,1}\n",
    "    - C:= {0,1,2}\n",
    "    - D:= {0,1,2}"
   ]
  },
  {
   "cell_type": "code",
   "execution_count": 2,
   "id": "8c39ea1f-39bf-454a-8b0c-ab94ecd1a5f8",
   "metadata": {},
   "outputs": [],
   "source": [
    "A=mb.Var('A')\n",
    "A.set_values([0,1])\n",
    "B=mb.Var('B',[0,1])\n",
    "C=mb.Var('C',[0,1,2])\n",
    "D=mb.Var('D',[0,1,2])"
   ]
  },
  {
   "cell_type": "code",
   "execution_count": 3,
   "id": "74b215d5-7ffc-46f5-b5e4-ec864fba8cbf",
   "metadata": {},
   "outputs": [
    {
     "name": "stdout",
     "output_type": "stream",
     "text": [
      "Cardinalidad de A=2, Cardinalidad de C=3\n"
     ]
    }
   ],
   "source": [
    "print(f'Cardinalidad de A={A.card}, Cardinalidad de C={C.card}')"
   ]
  },
  {
   "cell_type": "code",
   "execution_count": 4,
   "id": "ce870ee4",
   "metadata": {},
   "outputs": [
    {
     "data": {
      "text/plain": [
       "('A', 2, [0, 1])"
      ]
     },
     "execution_count": 4,
     "metadata": {},
     "output_type": "execute_result"
    }
   ],
   "source": [
    "A.print_var()"
   ]
  },
  {
   "cell_type": "code",
   "execution_count": 5,
   "id": "59c64b8c-25b4-4f53-a9c8-9c939064f79d",
   "metadata": {},
   "outputs": [
    {
     "name": "stdout",
     "output_type": "stream",
     "text": [
      "('A', 2, [0, 1])\n",
      "('B', 2, [0, 1])\n",
      "('C', 3, [0, 1, 2])\n",
      "('D', 3, [0, 1, 2])\n"
     ]
    }
   ],
   "source": [
    "print(A.print_var())\n",
    "print(B.print_var())\n",
    "print(C.print_var())\n",
    "print(D.print_var())"
   ]
  },
  {
   "cell_type": "markdown",
   "id": "c5c609b2-01d7-44d9-a43d-706a8011f4b2",
   "metadata": {},
   "source": [
    "## Modelo de descomposición exacta"
   ]
  },
  {
   "cell_type": "markdown",
   "id": "5888bfec-aaed-442a-b3a9-aad34a2d2a15",
   "metadata": {},
   "source": [
    "* Deseamos construir el siguiente modelo:\n",
    "    - $P(ABC) = P(A)P(B|A)P(C|AB)$\n",
    "    \n",
    "$\\;\\;\\;\\;\\;\\;\\;\\;\\;\\;\\;\\;$<img src=\"./P(ABC).jpg\" width=200/>"
   ]
  },
  {
   "cell_type": "markdown",
   "id": "1ff8554a-958e-41aa-9b4a-d7780ee8dda7",
   "metadata": {},
   "source": [
    "### Identificación de parámetros"
   ]
  },
  {
   "cell_type": "markdown",
   "id": "2a7866e9-c872-43b2-b982-efa705beaff7",
   "metadata": {},
   "source": [
    "* Definimos sus distribuciones (de manera arbitraria)"
   ]
  },
  {
   "cell_type": "markdown",
   "id": "630b353d-bcfc-4795-9647-9a8f694300ce",
   "metadata": {},
   "source": [
    "<table width=\"90%\">\n",
    "    <tr>\n",
    "        <td valign=\"top\">\n",
    "            <table width=\"50%\">\n",
    "              <tr>\n",
    "                <th> $A$</th>\n",
    "                <th><p style=\"text-align:center;\"> $P(A)$</p></th>\n",
    "              </tr>\n",
    "              <tr>\n",
    "                <td><p style=\"text-align:center;\">$0$</p></td>\n",
    "                <td><p style=\"text-align:center;\">$0.3$</p></td>\n",
    "              </tr>\n",
    "              <tr>\n",
    "                <td><p style=\"text-align:center;\">$1$</p></td>\n",
    "                <td><p style=\"text-align:center;\">$0.7$</p></td>\n",
    "              </tr>\n",
    "            </table>\n",
    "        </td>\n",
    "        <td valign=\"top\">\n",
    "            <table width=\"60%\">\n",
    "              <tr>\n",
    "                <td style=\"height:1px;\"> &nbsp;</td>\n",
    "                <td colspan=\"2\"><p style=\"text-align:center;\">$P$($B$|$A$)</p></td>\n",
    "              </tr>\n",
    "              <tr>\n",
    "                <td>$A$</td>\n",
    "                <td><p style=\"text-align:center;\">$0$</p></td>\n",
    "                <td><p style=\"text-align:center;\">$1$</p></td>\n",
    "              </tr>\n",
    "              <tr>\n",
    "                <td><p style=\"text-align:center;\">$0$</p></td>\n",
    "                <td><p style=\"text-align:center;\">$0.2$</p></td>\n",
    "                <td><p style=\"text-align:center;\">$0.8$</p></td>\n",
    "              </tr>\n",
    "              <tr>\n",
    "                <td><p style=\"text-align:center;\">$1$</p></td>\n",
    "                <td><p style=\"text-align:center;\">$0.3$</p></td>\n",
    "                <td><p style=\"text-align:center;\">$0.7$</p></td>\n",
    "              </tr>\n",
    "            </table>        \n",
    "        </td>\n",
    "        <td valign=\"top\">\n",
    "            <table width=\"90%\">\n",
    "              <tr>\n",
    "                <td style=\"height:1px;\"> &nbsp;</td>\n",
    "                <td colspan=\"2\"><p style=\"text-align:center;\">$P$($C$|$AB$)</p></td>\n",
    "              </tr>\n",
    "              <tr>\n",
    "                <td>$AB$</td>\n",
    "                <td><p style=\"text-align:center;\">$0$</p></td>\n",
    "                <td><p style=\"text-align:center;\">$1$</p></td>\n",
    "                <td><p style=\"text-align:center;\">$2$</p></td>\n",
    "              </tr>\n",
    "              <tr>\n",
    "                <td><p style=\"text-align:center;\">$00$</p></td>\n",
    "                <td><p style=\"text-align:center;\">$0.1$</p></td>\n",
    "                <td><p style=\"text-align:center;\">$0.8$</p></td>\n",
    "                <td><p style=\"text-align:center;\">$0.1$</p></td>\n",
    "              </tr>\n",
    "              <tr>\n",
    "                <td><p style=\"text-align:center;\">$01$</p></td>\n",
    "                <td><p style=\"text-align:center;\">$0.3$</p></td>\n",
    "                <td><p style=\"text-align:center;\">$0.5$</p></td>\n",
    "                <td><p style=\"text-align:center;\">$0.2$</p></td>\n",
    "              </tr>\n",
    "              <tr>\n",
    "                <td><p style=\"text-align:center;\">$10$</p></td>\n",
    "                <td><p style=\"text-align:center;\">$0.4$</p></td>\n",
    "                <td><p style=\"text-align:center;\">$0.5$</p></td>\n",
    "                <td><p style=\"text-align:center;\">$0.1$</p></td>\n",
    "              </tr>\n",
    "              <tr>\n",
    "                <td><p style=\"text-align:center;\">$11$</p></td>\n",
    "                <td><p style=\"text-align:center;\">$0.1$</p></td>\n",
    "                <td><p style=\"text-align:center;\">$0.7$</p></td>\n",
    "                <td><p style=\"text-align:center;\">$0.2$</p></td>\n",
    "              </tr>\n",
    "            </table>        \n",
    "        </td>\n",
    "    </tr>\n",
    "</table>\n"
   ]
  },
  {
   "cell_type": "markdown",
   "id": "98b41810-c7ea-45a1-8f48-04aa1c92b67b",
   "metadata": {},
   "source": [
    "### Construcción de las distribuciones"
   ]
  },
  {
   "cell_type": "code",
   "execution_count": 6,
   "id": "df2dbd47",
   "metadata": {},
   "outputs": [
    {
     "data": {
      "text/plain": [
       "dict_values([{(0, 0): 0.1, (0, 1): 0.3, (1, 0): 0.4, (1, 1): 0.1}, {(0, 0): 0.8, (0, 1): 0.5, (1, 0): 0.5, (1, 1): 0.7}, {(0, 0): 0.1, (0, 1): 0.2, (1, 0): 0.1, (1, 1): 0.2}])"
      ]
     },
     "execution_count": 6,
     "metadata": {},
     "output_type": "execute_result"
    }
   ],
   "source": [
    "tabla = {0: {(0,0): 0.1, (0,1): 0.3, (1,0): 0.4, (1,1): 0.1},\n",
    "        1: {(0,0): 0.8, (0,1): 0.5, (1,0): 0.5, (1,1): 0.7},\n",
    "        2: {(0,0): 0.1, (0,1): 0.2, (1,0): 0.1, (1,1): 0.2}}\n",
    "tabla.values()"
   ]
  },
  {
   "cell_type": "code",
   "execution_count": 7,
   "id": "d85a1e77",
   "metadata": {},
   "outputs": [
    {
     "name": "stdout",
     "output_type": "stream",
     "text": [
      "('A', 0) 0.3\n",
      "('A', 1) 0.7\n",
      "Printing:  P(A)\n",
      "('A', 0):0.3  ('A', 1):0.7  \n",
      "\n",
      "Printing:  P(C|AB)\n",
      "('A', 'B', 0, 0):{('C', 0): 0.1, ('C', 1): 0.8, ('C', 2): 0.1}  ('A', 'B', 0, 1):{('C', 0): 0.3, ('C', 1): 0.5, ('C', 2): 0.2}  ('A', 'B', 1, 0):{('C', 0): 0.4, ('C', 1): 0.5, ('C', 2): 0.1}  ('A', 'B', 1, 1):{('C', 0): 0.1, ('C', 1): 0.7, ('C', 2): 0.2}  \n",
      "\n"
     ]
    }
   ],
   "source": [
    "dA={0:0.3,1:0.7}\n",
    "PA=mb.Distrib(name='P(A)',variable=[A],tabla=dA)\n",
    "\n",
    "dB_A={0:{0:.2,1:.8},1:{0:.3,1:.7}}\n",
    "PB_A=mb.DistribCond(name='P(B|A)',var=B,indep=[A],tabla=dB_A)\n",
    "\n",
    "tabla = {(0,0): (0.1,0.8,0.1),\n",
    "        (0,1): (0.3,0.5,0.2),\n",
    "        (1,0): (0.4,0.5,0.1),\n",
    "        (1,1): (0.1,0.7,0.2)}\n",
    "PC_AB=mb.DistribCond('P(C|AB)',C,[A,B],tabla)\n",
    "\n",
    "PA._print()\n",
    "PC_AB._print()"
   ]
  },
  {
   "cell_type": "code",
   "execution_count": 8,
   "id": "6988700c-6efc-4001-8240-c76ce977a672",
   "metadata": {},
   "outputs": [
    {
     "name": "stdout",
     "output_type": "stream",
     "text": [
      "Creating DataFrame for:  P(A)\n"
     ]
    },
    {
     "data": {
      "text/html": [
       "<div>\n",
       "<style scoped>\n",
       "    .dataframe tbody tr th:only-of-type {\n",
       "        vertical-align: middle;\n",
       "    }\n",
       "\n",
       "    .dataframe tbody tr th {\n",
       "        vertical-align: top;\n",
       "    }\n",
       "\n",
       "    .dataframe thead th {\n",
       "        text-align: right;\n",
       "    }\n",
       "</style>\n",
       "<table border=\"1\" class=\"dataframe\">\n",
       "  <thead>\n",
       "    <tr style=\"text-align: right;\">\n",
       "      <th></th>\n",
       "      <th>P(A)</th>\n",
       "    </tr>\n",
       "  </thead>\n",
       "  <tbody>\n",
       "    <tr>\n",
       "      <th>(A, 0)</th>\n",
       "      <td>0.3</td>\n",
       "    </tr>\n",
       "    <tr>\n",
       "      <th>(A, 1)</th>\n",
       "      <td>0.7</td>\n",
       "    </tr>\n",
       "  </tbody>\n",
       "</table>\n",
       "</div>"
      ],
      "text/plain": [
       "        P(A)\n",
       "(A, 0)   0.3\n",
       "(A, 1)   0.7"
      ]
     },
     "execution_count": 8,
     "metadata": {},
     "output_type": "execute_result"
    }
   ],
   "source": [
    "PA.to_Frame()"
   ]
  },
  {
   "cell_type": "markdown",
   "id": "c793ace0-587d-43db-8372-134ddd59ae9f",
   "metadata": {},
   "source": [
    "### Construcción de la distribución conjunta con base en la descomposición"
   ]
  },
  {
   "cell_type": "code",
   "execution_count": 9,
   "id": "5bb7cd3c-8554-4fc7-a92f-a72045e256d7",
   "metadata": {},
   "outputs": [
    {
     "name": "stdout",
     "output_type": "stream",
     "text": [
      "Computing marginal joint: P(A,B,C)\n",
      "('A', 'B', 'C', 0, 0, 0) 0.006000000000000001\n",
      "('A', 'B', 'C', 0, 0, 1) 0.04800000000000001\n",
      "('A', 'B', 'C', 0, 0, 2) 0.006000000000000001\n",
      "('A', 'B', 'C', 0, 1, 0) 0.072\n",
      "('A', 'B', 'C', 0, 1, 1) 0.12\n",
      "('A', 'B', 'C', 0, 1, 2) 0.04800000000000001\n",
      "('A', 'B', 'C', 1, 0, 0) 0.08399999999999999\n",
      "('A', 'B', 'C', 1, 0, 1) 0.105\n",
      "('A', 'B', 'C', 1, 0, 2) 0.020999999999999998\n",
      "('A', 'B', 'C', 1, 1, 0) 0.048999999999999995\n",
      "('A', 'B', 'C', 1, 1, 1) 0.3429999999999999\n",
      "('A', 'B', 'C', 1, 1, 2) 0.09799999999999999\n"
     ]
    },
    {
     "data": {
      "text/html": [
       "<div>\n",
       "<style scoped>\n",
       "    .dataframe tbody tr th:only-of-type {\n",
       "        vertical-align: middle;\n",
       "    }\n",
       "\n",
       "    .dataframe tbody tr th {\n",
       "        vertical-align: top;\n",
       "    }\n",
       "\n",
       "    .dataframe thead th {\n",
       "        text-align: right;\n",
       "    }\n",
       "</style>\n",
       "<table border=\"1\" class=\"dataframe\">\n",
       "  <thead>\n",
       "    <tr style=\"text-align: right;\">\n",
       "      <th></th>\n",
       "      <th>P(ABC)</th>\n",
       "    </tr>\n",
       "  </thead>\n",
       "  <tbody>\n",
       "    <tr>\n",
       "      <th>(A, B, C, 0, 0, 0)</th>\n",
       "      <td>0.006</td>\n",
       "    </tr>\n",
       "    <tr>\n",
       "      <th>(A, B, C, 0, 0, 1)</th>\n",
       "      <td>0.048</td>\n",
       "    </tr>\n",
       "    <tr>\n",
       "      <th>(A, B, C, 0, 0, 2)</th>\n",
       "      <td>0.006</td>\n",
       "    </tr>\n",
       "    <tr>\n",
       "      <th>(A, B, C, 0, 1, 0)</th>\n",
       "      <td>0.072</td>\n",
       "    </tr>\n",
       "    <tr>\n",
       "      <th>(A, B, C, 0, 1, 1)</th>\n",
       "      <td>0.120</td>\n",
       "    </tr>\n",
       "    <tr>\n",
       "      <th>(A, B, C, 0, 1, 2)</th>\n",
       "      <td>0.048</td>\n",
       "    </tr>\n",
       "    <tr>\n",
       "      <th>(A, B, C, 1, 0, 0)</th>\n",
       "      <td>0.084</td>\n",
       "    </tr>\n",
       "    <tr>\n",
       "      <th>(A, B, C, 1, 0, 1)</th>\n",
       "      <td>0.105</td>\n",
       "    </tr>\n",
       "    <tr>\n",
       "      <th>(A, B, C, 1, 0, 2)</th>\n",
       "      <td>0.021</td>\n",
       "    </tr>\n",
       "    <tr>\n",
       "      <th>(A, B, C, 1, 1, 0)</th>\n",
       "      <td>0.049</td>\n",
       "    </tr>\n",
       "    <tr>\n",
       "      <th>(A, B, C, 1, 1, 1)</th>\n",
       "      <td>0.343</td>\n",
       "    </tr>\n",
       "    <tr>\n",
       "      <th>(A, B, C, 1, 1, 2)</th>\n",
       "      <td>0.098</td>\n",
       "    </tr>\n",
       "  </tbody>\n",
       "</table>\n",
       "</div>"
      ],
      "text/plain": [
       "                    P(ABC)\n",
       "(A, B, C, 0, 0, 0)   0.006\n",
       "(A, B, C, 0, 0, 1)   0.048\n",
       "(A, B, C, 0, 0, 2)   0.006\n",
       "(A, B, C, 0, 1, 0)   0.072\n",
       "(A, B, C, 0, 1, 1)   0.120\n",
       "(A, B, C, 0, 1, 2)   0.048\n",
       "(A, B, C, 1, 0, 0)   0.084\n",
       "(A, B, C, 1, 0, 1)   0.105\n",
       "(A, B, C, 1, 0, 2)   0.021\n",
       "(A, B, C, 1, 1, 0)   0.049\n",
       "(A, B, C, 1, 1, 1)   0.343\n",
       "(A, B, C, 1, 1, 2)   0.098"
      ]
     },
     "execution_count": 9,
     "metadata": {},
     "output_type": "execute_result"
    }
   ],
   "source": [
    "PABC=mb.JointDistrib(name='P(ABC)',variables=[A,B,C],descomp=[PA,PB_A,PC_AB])\n",
    "PABC.to_Frame()"
   ]
  },
  {
   "cell_type": "code",
   "execution_count": 10,
   "id": "09f67983-dfc3-418d-af65-2f4295ab4369",
   "metadata": {},
   "outputs": [
    {
     "data": {
      "text/plain": [
       "{('A', 0): {('B', 0): 0.2, ('B', 1): 0.8},\n",
       " ('A', 1): {('B', 0): 0.3, ('B', 1): 0.7}}"
      ]
     },
     "execution_count": 10,
     "metadata": {},
     "output_type": "execute_result"
    }
   ],
   "source": [
    "PB_A.get_P()"
   ]
  },
  {
   "cell_type": "markdown",
   "id": "64c8c0d2-2c8f-4558-86d0-e34564926bea",
   "metadata": {},
   "source": [
    "### Construcción de la Pregunta\n",
    "\n",
    "* Creamos la estructura de pregunta"
   ]
  },
  {
   "cell_type": "code",
   "execution_count": 11,
   "id": "b0d6fc67-f705-4266-900e-91847ae600a3",
   "metadata": {},
   "outputs": [],
   "source": [
    "Q_ABC=mb.Question(joint=PABC)"
   ]
  },
  {
   "cell_type": "markdown",
   "id": "210fd36d-33da-4f91-a05c-30f1ded7ad0b",
   "metadata": {},
   "source": [
    "### Formulación de la consulta (query)\n",
    "\n",
    "* Formulamos una consulta (query): $P(B)$"
   ]
  },
  {
   "cell_type": "code",
   "execution_count": 12,
   "id": "30385d26-7ae2-4ad2-afe5-f749c3020073",
   "metadata": {},
   "outputs": [
    {
     "name": "stdout",
     "output_type": "stream",
     "text": [
      "computing marginal P(B)\n",
      "('B', 0) 0.27\n",
      "('B', 1) 0.7299999999999999\n",
      "Printing:  P(B)\n",
      "('B', 0):0.27  ('B', 1):0.7299999999999999  \n",
      "\n"
     ]
    }
   ],
   "source": [
    "PB=Q_ABC.query(searched=[B])\n",
    "PB._print()"
   ]
  },
  {
   "cell_type": "markdown",
   "id": "5339d580-256d-4639-b769-7b1ca46b0085",
   "metadata": {},
   "source": [
    "#### Ejercicio resuelto:\n",
    "* Comprueba por tu cuenta (manualmente) que $P(B)$ es correcta \n",
    "    - Necesitas calcular $$P(B)=\\sum_{AC}P(ABC)$$\n",
    "    - donde $$P(ABC)=P(A)P(B|A)P(C|AB)$$"
   ]
  },
  {
   "cell_type": "markdown",
   "id": "f652807f-8282-4b45-9169-ceeba0c17805",
   "metadata": {},
   "source": [
    "* Algoritmo:\n",
    "1. &emsp;Comenzamos escribiendo $P(B=0)$ como la suma sobre todos los valores posibles de $A$ y $C$ en la conjunta:<br>\n",
    "&emsp;$P(B=0)=P(A=0)P(B=0|A=0)P(C=0|A=0 \\wedge B=0)+$<br>\n",
    "&emsp;&emsp;&emsp;&emsp;&emsp;&emsp;&emsp;$P(A=1)P(B=0|A=1)P(C=0|A=1 \\wedge B=0)+$<br>\n",
    "&emsp;&emsp;&emsp;&emsp;&emsp;&emsp;&emsp;$P(A=0)P(B=0|A=0)P(C=1|A=0 \\wedge B=0)+$<br>\n",
    "&emsp;&emsp;&emsp;&emsp;&emsp;&emsp;&emsp;$P(A=1)P(B=0|A=1)P(C=1|A=1 \\wedge B=0)+$<br>\n",
    "&emsp;&emsp;&emsp;&emsp;&emsp;&emsp;&emsp;$P(A=0)P(B=0|A=0)P(C=2|A=0 \\wedge B=0)+$<br>\n",
    "&emsp;&emsp;&emsp;&emsp;&emsp;&emsp;&emsp;$P(A=1)P(B=0|A=1)P(C=2|A=1 \\wedge B=0)$\n",
    "2. &emsp;Simplificamos el cálculo factorizando los términos en $A$ y $B$:<br>\n",
    "&emsp;$P(B=0)=P(A=0)P(B=0|A=0)\\displaystyle \\sum_C P(C|A=0 \\wedge B=0)+$<br>\n",
    "&emsp;&emsp;&emsp;&emsp;&emsp;&emsp;&emsp;$P(A=1)P(B=0|A=1)\\sum_C P(C|A=1 \\wedge B=0)$<br>\n",
    "3. &emsp;Como $\\displaystyle \\sum_C P(C|A=0 \\wedge B=0)=1$:<br>\n",
    "&emsp;$P(B=0)=P(A=0)P(B=0|A=0)+P(A=1)P(B=0|A=1)$<br>\n",
    "4. &emsp;El algoritmo entonces:\n",
    "    - Multiplica los valores de  $P(B|A)\\times P(A)$ para la llave ('A',0) y lo suma al mismo producto para la llave ('A',1).\n",
    "    - Repite el proceso para $B=1$. "
   ]
  },
  {
   "cell_type": "code",
   "execution_count": 13,
   "id": "0c3352d8-69f6-46f4-8d59-ca294f1f8ad9",
   "metadata": {},
   "outputs": [
    {
     "name": "stdout",
     "output_type": "stream",
     "text": [
      "dict_items([(('A', 0), 0.3), (('A', 1), 0.7)])\n",
      "dict_items([(('A', 0), {('B', 0): 0.2, ('B', 1): 0.8}), (('A', 1), {('B', 0): 0.3, ('B', 1): 0.7})])\n"
     ]
    }
   ],
   "source": [
    "pa=PA.get_P()\n",
    "pb_a=PB_A.get_P()\n",
    "\n",
    "print(pa.items())\n",
    "print(pb_a.items())"
   ]
  },
  {
   "cell_type": "code",
   "execution_count": 14,
   "id": "fe74e0b4-fdd7-498c-8359-8d1e18ea2639",
   "metadata": {},
   "outputs": [
    {
     "name": "stdout",
     "output_type": "stream",
     "text": [
      "0.3\n",
      "0.2\n"
     ]
    }
   ],
   "source": [
    "#P(A=0)\n",
    "print(PA.get_P(('A',0)))\n",
    "\n",
    "#P(B=0|A=0)\n",
    "print(PB_A.get_P([('A',0)])[0][('B',0)])"
   ]
  },
  {
   "cell_type": "code",
   "execution_count": 15,
   "id": "eabcc341-9f6d-4361-a2a9-17c962050845",
   "metadata": {},
   "outputs": [
    {
     "name": "stdout",
     "output_type": "stream",
     "text": [
      "Obtenemos P(B=0|A=0)\n",
      "Obtenemos P(A=0)\n",
      "Calculamos P(B=0|A=0)xP(A=0)\n",
      "Obtenemos P(B=0|A=1)\n",
      "Obtenemos P(A=1)\n",
      "Calculamos P(B=0|A=1)xP(A=1)\n",
      "valor obtenido luego de la suma: 0.27\n",
      "Obtenemos P(B=1|A=0)\n",
      "Obtenemos P(A=0)\n",
      "Calculamos P(B=1|A=0)xP(A=0)\n",
      "Obtenemos P(B=1|A=1)\n",
      "Obtenemos P(A=1)\n",
      "Calculamos P(B=1|A=1)xP(A=1)\n",
      "valor obtenido luego de la suma: 0.73\n",
      "[0.27, 0.73]\n"
     ]
    }
   ],
   "source": [
    "P_B=[]\n",
    "for b in range(B.card):   #b={0,1}\n",
    "    suma=0\n",
    "    for i,ka in enumerate(pb_a.keys()): #para ambas llaves ka en P(B|ka)\n",
    "        kb=list(pb_a[ka].keys())[b] #obtiene la llave kb para P(kb|ka)\n",
    "        print(f'Obtenemos P({kb[0]}={kb[1]}|{ka[0]}={ka[1]})')\n",
    "        a=list(pa.keys())[i]        #obtiene la llave a de P(A=i)\n",
    "        print(f'Obtenemos P({a[0]}={a[1]})')\n",
    "        pb=pb_a[ka][kb]*pa[a]       #calcula P(kb|ka)xP(a)\n",
    "        print(f'Calculamos P({kb[0]}={kb[1]}|{ka[0]}={ka[1]})xP({a[0]}={a[1]})')\n",
    "        suma+=pb                    #calcula SUM[P(kb|ka)xP(a)]\n",
    "    print(f'valor obtenido luego de la suma: {suma}')\n",
    "    P_B.append(suma)\n",
    "print(P_B)"
   ]
  },
  {
   "cell_type": "markdown",
   "id": "fcc91428-778c-41d6-b36c-eff8a87e00a0",
   "metadata": {},
   "source": [
    "### Marginal de $C$"
   ]
  },
  {
   "cell_type": "code",
   "execution_count": 16,
   "id": "f2366bd7-4e22-4f0f-8ec4-0267675f13a3",
   "metadata": {},
   "outputs": [
    {
     "name": "stdout",
     "output_type": "stream",
     "text": [
      "computing marginal P(C)\n",
      "('C', 0) 0.21099999999999997\n",
      "('C', 1) 0.6159999999999999\n",
      "('C', 2) 0.173\n",
      "Printing:  P(C)\n",
      "('C', 0):0.21099999999999997  ('C', 1):0.6159999999999999  ('C', 2):0.173  \n",
      "\n"
     ]
    }
   ],
   "source": [
    "PC=Q_ABC.query([C])\n",
    "PC._print()"
   ]
  },
  {
   "cell_type": "markdown",
   "id": "854a46aa-457d-459c-9318-3894f79bf714",
   "metadata": {},
   "source": [
    "#### Ejercicio:\n",
    "* Comprueba por tu cuenta (manualmente) que $P(C)$ es correcta \n",
    "    - Necesitas calcular $$P(C)=\\sum_{AB}P(ABC)$$\n",
    "    - donde $$P(ABC)=P(A)P(B|A)P(C|AB)$$"
   ]
  },
  {
   "cell_type": "markdown",
   "id": "dfc9c78a-f169-4049-9f26-bd4144defb5b",
   "metadata": {},
   "source": [
    "* Algoritmo:\n",
    "1. &emsp;Comienza analizando $P(C=0)$:<br>\n",
    "&emsp;$P(C=0)=P(A=0)P(B=0|A=0)P(C=0|A=0 \\wedge B=0)+$<br>\n",
    "&emsp;&emsp;&emsp;&emsp;&emsp;&emsp;&emsp;$P(A=1)P(B=0|A=1)P(C=0|A=1 \\wedge B=0)+$<br>\n",
    "&emsp;&emsp;&emsp;&emsp;&emsp;&emsp;&emsp;$P(A=0)P(B=1|A=0)P(C=0|A=0 \\wedge B=1)+$<br>\n",
    "&emsp;&emsp;&emsp;&emsp;&emsp;&emsp;&emsp;$P(A=1)P(B=1|A=1)P(C=0|A=1 \\wedge B=1)$<br>\n",
    "2. &emsp;Reescribe $P(C=0)$ para simplificar la expresión.\n",
    "3. &emsp;Escribe el algoritmo."
   ]
  },
  {
   "cell_type": "markdown",
   "id": "1810d112-b089-4799-954c-1a6e1d8301ad",
   "metadata": {},
   "source": [
    "#### TU RESPUESTA AQUI\n",
    "2. &emsp;$P(C=0)=P(A=0)\\sum_B P(B|A=0)P(C=0|A=0 \\wedge B)+P(A=1)\\sum_B P(B|A=1)P(C=0|A=1 \\wedge B)$\n",
    "3. &emsp;El algoritmo entonces:\n",
    "    - Multiplica los valores de  $P(B|A=0)\\times P(C=0|A=0B)$ y los suma, para todos los valores de $B$.\n",
    "    - Multiplica $P(A=0)$ con la suma anterior.\n",
    "    - Repite el proceso para $A=1$.\n",
    "    - Suma estos valores\n",
    "    - Repite para los demás valores de $C$"
   ]
  },
  {
   "cell_type": "code",
   "execution_count": 17,
   "id": "45233121-a836-4871-b4be-269d67aece68",
   "metadata": {},
   "outputs": [
    {
     "name": "stdout",
     "output_type": "stream",
     "text": [
      "dict_items([(('A', 0), 0.3), (('A', 1), 0.7)])\n",
      "dict_items([(('A', 0), {('B', 0): 0.2, ('B', 1): 0.8}), (('A', 1), {('B', 0): 0.3, ('B', 1): 0.7})])\n",
      "dict_items([(('A', 'B', 0, 0), {('C', 0): 0.1, ('C', 1): 0.8, ('C', 2): 0.1}), (('A', 'B', 0, 1), {('C', 0): 0.3, ('C', 1): 0.5, ('C', 2): 0.2}), (('A', 'B', 1, 0), {('C', 0): 0.4, ('C', 1): 0.5, ('C', 2): 0.1}), (('A', 'B', 1, 1), {('C', 0): 0.1, ('C', 1): 0.7, ('C', 2): 0.2})])\n"
     ]
    }
   ],
   "source": [
    "pc_ab=PC_AB.get_P()\n",
    "\n",
    "print(pa.items())\n",
    "print(pb_a.items())\n",
    "print(pc_ab.items())"
   ]
  },
  {
   "cell_type": "code",
   "execution_count": 18,
   "id": "997627c5-ecae-4762-a303-0747d00e4db0",
   "metadata": {},
   "outputs": [
    {
     "name": "stdout",
     "output_type": "stream",
     "text": [
      "('A', 0) ('B', 0) x ('A', 'B', 0, 0) ('C', 0)\n",
      "('A', 0) ('B', 1) x ('A', 'B', 0, 1) ('C', 0)\n",
      "('A', 1) ('B', 0) x ('A', 'B', 1, 0) ('C', 0)\n",
      "('A', 1) ('B', 1) x ('A', 'B', 1, 1) ('C', 0)\n",
      "('A', 0) ('B', 0) x ('A', 'B', 0, 0) ('C', 1)\n",
      "('A', 0) ('B', 1) x ('A', 'B', 0, 1) ('C', 1)\n",
      "('A', 1) ('B', 0) x ('A', 'B', 1, 0) ('C', 1)\n",
      "('A', 1) ('B', 1) x ('A', 'B', 1, 1) ('C', 1)\n",
      "('A', 0) ('B', 0) x ('A', 'B', 0, 0) ('C', 2)\n",
      "('A', 0) ('B', 1) x ('A', 'B', 0, 1) ('C', 2)\n",
      "('A', 1) ('B', 0) x ('A', 'B', 1, 0) ('C', 2)\n",
      "('A', 1) ('B', 1) x ('A', 'B', 1, 1) ('C', 2)\n",
      "[0.21099999999999997, 0.6159999999999999, 0.173]\n"
     ]
    }
   ],
   "source": [
    "P_C=[]\n",
    "for c in range(C.card): #para todos los valores de C\n",
    "    psum=0\n",
    "    for i,ka in enumerate(pb_a.keys()): #para ambas llaves en P(B|A)\n",
    "        suma=0\n",
    "        for b in range(B.card): #para todos los valores de B\n",
    "            kb=list(pb_a[ka].keys())[b]\n",
    "            llave = list(pc_ab.keys())[b+2*i]\n",
    "            prob = list(pc_ab[llave].keys())[c]\n",
    "            print(ka, kb,end=' x ')\n",
    "            print(llave, prob)\n",
    "            \"\"\" TU CODIGO AQUI \"\"\"\n",
    "            p1=pb_a[ka][kb]*pc_ab[llave][prob]\n",
    "            suma+=p1\n",
    "        p_c = pa[ka]*suma\n",
    "        psum += p_c\n",
    "    P_C.append(psum)\n",
    "print(P_C)\n",
    "            "
   ]
  },
  {
   "cell_type": "markdown",
   "id": "9db458dd-68c9-49c6-9d17-b7f8703061be",
   "metadata": {},
   "source": [
    "### Condicional de $C|A$"
   ]
  },
  {
   "cell_type": "code",
   "execution_count": 19,
   "id": "4c8a8321-aaf0-49c1-8965-b1bde2eab4bc",
   "metadata": {},
   "outputs": [
    {
     "name": "stdout",
     "output_type": "stream",
     "text": [
      "computing conditional: P(C|A)\n",
      "Printing:  P(C|A)\n",
      "('A', 0):{('C', 0): 0.25999999999999995, ('C', 1): 0.5599999999999999, ('C', 2): 0.18}  ('A', 1):{('C', 0): 0.19, ('C', 1): 0.64, ('C', 2): 0.17000000000000004}  \n",
      "\n"
     ]
    }
   ],
   "source": [
    "# P(C|A)\n",
    "PC_A=Q_ABC.query(searched=[C],known=[A])\n",
    "PC_A._print()"
   ]
  },
  {
   "cell_type": "markdown",
   "id": "93b04b34-e157-4c45-badb-56f3a2b0b578",
   "metadata": {},
   "source": [
    "### Conjunta de $A \\wedge C$"
   ]
  },
  {
   "cell_type": "code",
   "execution_count": 20,
   "id": "3b51912c-f486-4ec3-b2e0-38c37e4d1492",
   "metadata": {},
   "outputs": [
    {
     "name": "stdout",
     "output_type": "stream",
     "text": [
      "Computing marginal joint: P(A,C)\n",
      "('A', 'C', 0, 0) 0.078\n",
      "('A', 'C', 0, 1) 0.168\n",
      "('A', 'C', 0, 2) 0.054000000000000006\n",
      "('A', 'C', 1, 0) 0.13299999999999998\n",
      "('A', 'C', 1, 1) 0.4479999999999999\n",
      "('A', 'C', 1, 2) 0.119\n",
      "Printing:  P(A,C)\n",
      "('A', 'C', 0, 0):0.078  ('A', 'C', 0, 1):0.168  ('A', 'C', 0, 2):0.054000000000000006  ('A', 'C', 1, 0):0.13299999999999998  ('A', 'C', 1, 1):0.4479999999999999  ('A', 'C', 1, 2):0.119  \n",
      "\n"
     ]
    }
   ],
   "source": [
    "# P(AC)\n",
    "PAC=Q_ABC.query([A,C])\n",
    "PAC._print()"
   ]
  },
  {
   "cell_type": "markdown",
   "id": "c93e5c39-d37d-482d-8541-ac7635644da0",
   "metadata": {},
   "source": [
    "## Modelo tipo _Bayes Ingenuo_\n",
    "\n",
    "### Descomposición\n",
    "* $P(ABCD) = P(A)P(B|A)P(C|A)P(D|A)$\n",
    "    \n",
    "$\\;\\;\\;\\;\\;\\;\\;\\;\\;\\;\\;\\;$<img src=\"./Bayes_Ingenuo.jpg\" width=200/>"
   ]
  },
  {
   "cell_type": "code",
   "execution_count": 22,
   "id": "0d6c07bb-7a82-4ede-ac68-b19d3a0dbebd",
   "metadata": {},
   "outputs": [
    {
     "name": "stdout",
     "output_type": "stream",
     "text": [
      "('A', 0) 0.3\n",
      "('A', 1) 0.7\n"
     ]
    }
   ],
   "source": [
    "dA={0:0.3,1:0.7}\n",
    "PA=mb.Distrib('P(A)',[A],dA)\n",
    "\n",
    "dB_A={0:{0:.2,1:.8},1:{0:.3,1:.7}}\n",
    "PB_A=mb.DistribCond('P(B|A)',var=B,indep=[A],tabla=dB_A)\n",
    "\n",
    "dC_A = {0: {0:.1, 1: .8, 2:.1}, 1:{0:.3, 1:.5, 2:.2}}\n",
    "PC_A=mb.DistribCond('P(C|A)',C,[A],dC_A)\n",
    "\n",
    "dD_A={0:{0:0.333,1:0.333,2:0.333},1:{0:0.8,1:0.15,2:0.05},}\n",
    "PD_A=mb.DistribCond('P(D|A)',D,[A],dD_A)"
   ]
  },
  {
   "cell_type": "markdown",
   "id": "9714c374-7080-4b64-8e5d-e093646003f7",
   "metadata": {},
   "source": [
    "### Conjunta y Pregunta"
   ]
  },
  {
   "cell_type": "code",
   "execution_count": 23,
   "id": "0e9f19be-d944-42a7-84e3-0168c887cae7",
   "metadata": {},
   "outputs": [
    {
     "name": "stdout",
     "output_type": "stream",
     "text": [
      "P(B|A) : {('A', 0): {('B', 0): 0.2, ('B', 1): 0.8}, ('A', 1): {('B', 0): 0.3, ('B', 1): 0.7}}\n",
      "P(C|A) : {('A', 0): {('C', 0): 0.1, ('C', 1): 0.8, ('C', 2): 0.1}, ('A', 1): {('C', 0): 0.3, ('C', 1): 0.5, ('C', 2): 0.2}}\n",
      "P(D|A) : {('A', 0): {('D', 0): 0.333, ('D', 1): 0.333, ('D', 2): 0.333}, ('A', 1): {('D', 0): 0.8, ('D', 1): 0.15, ('D', 2): 0.05}}\n",
      "P(A) : {('A', 0): 0.3, ('A', 1): 0.7}\n"
     ]
    }
   ],
   "source": [
    "PABCD=mb.JointDistrib(name='P(ABCD)',variables=[A,B,C,D],descomp=[PA,PB_A,PC_A,PD_A])\n",
    "Q_ABCD=mb.Question(PABCD)\n",
    "\n",
    "PABCD._print()"
   ]
  },
  {
   "cell_type": "markdown",
   "id": "6001a8a6-1bc3-48d7-b9fa-e5e9ae758cc6",
   "metadata": {},
   "source": [
    "### Marginales"
   ]
  },
  {
   "cell_type": "code",
   "execution_count": 24,
   "id": "7d3c6133-0d7d-4090-aa1b-6d80cc1752be",
   "metadata": {},
   "outputs": [
    {
     "name": "stdout",
     "output_type": "stream",
     "text": [
      "computing marginal P(A)\n",
      "('A', 0) 0.2997\n",
      "('A', 1) 0.7\n",
      "computing marginal P(B)\n",
      "('B', 0) 0.26994\n",
      "('B', 1) 0.72976\n",
      "computing marginal P(C)\n",
      "('C', 0) 0.23997\n",
      "('C', 1) 0.5897600000000001\n",
      "('C', 2) 0.16996999999999998\n",
      "computing marginal P(D)\n",
      "('D', 0) 0.6598999999999999\n",
      "('D', 1) 0.2049\n",
      "('D', 2) 0.1349\n",
      "Printing:  P(A)\n",
      "('A', 0):0.2997  ('A', 1):0.7  \n",
      "\n",
      "Printing:  P(B)\n",
      "('B', 0):0.26994  ('B', 1):0.72976  \n",
      "\n",
      "Printing:  P(C)\n",
      "('C', 0):0.23997  ('C', 1):0.5897600000000001  ('C', 2):0.16996999999999998  \n",
      "\n",
      "Printing:  P(D)\n",
      "('D', 0):0.6598999999999999  ('D', 1):0.2049  ('D', 2):0.1349  \n",
      "\n"
     ]
    }
   ],
   "source": [
    "# P(A), P(B), P(C) y P(D)\n",
    "PAc=Q_ABCD.query([A])\n",
    "PBc=Q_ABCD.query([B])\n",
    "PCc=Q_ABCD.query([C])\n",
    "PDc=Q_ABCD.query([D])\n",
    "PAc._print()\n",
    "PBc._print()\n",
    "PCc._print()\n",
    "PDc._print()"
   ]
  },
  {
   "cell_type": "markdown",
   "id": "ccbe87ac-d7d7-4982-8362-36b0aee6e7db",
   "metadata": {},
   "source": [
    "### Condicionales directas\n",
    "\n",
    "$\\;\\;\\;\\;\\;\\;\\;\\;\\;\\;\\;\\;$<img src=\"./Directo.jpg\" width=200/>"
   ]
  },
  {
   "cell_type": "code",
   "execution_count": 25,
   "id": "1cc72d54-7606-4cde-97ee-559e3da0348b",
   "metadata": {},
   "outputs": [
    {
     "name": "stdout",
     "output_type": "stream",
     "text": [
      "computing conditional: P(B|A)\n",
      "computing conditional: P(C|A)\n",
      "computing conditional: P(D|A)\n",
      "Printing:  P(B|A)\n",
      "('A', 0):{('B', 0): 0.2, ('B', 1): 0.8}  ('A', 1):{('B', 0): 0.3, ('B', 1): 0.7}  \n",
      "\n",
      "Printing:  P(C|A)\n",
      "('A', 0):{('C', 0): 0.1, ('C', 1): 0.8, ('C', 2): 0.1}  ('A', 1):{('C', 0): 0.3, ('C', 1): 0.5, ('C', 2): 0.19999999999999998}  \n",
      "\n",
      "Printing:  P(D|A)\n",
      "('A', 0):{('D', 0): 0.3333333333333333, ('D', 1): 0.3333333333333333, ('D', 2): 0.3333333333333333}  ('A', 1):{('D', 0): 0.7999999999999999, ('D', 1): 0.15, ('D', 2): 0.049999999999999996}  \n",
      "\n"
     ]
    }
   ],
   "source": [
    "# P(B|A), P(C|A) y P(D|A)\n",
    "PB_Ac=Q_ABCD.query([B],[A])\n",
    "PC_Ac=Q_ABCD.query([C],[A])\n",
    "PD_Ac=Q_ABCD.query([D],[A])\n",
    "PB_Ac._print()\n",
    "PC_Ac._print()\n",
    "PD_Ac._print()"
   ]
  },
  {
   "cell_type": "markdown",
   "id": "1e938aa4-1ccb-4997-b2a9-a46a5f4472dd",
   "metadata": {},
   "source": [
    "### Condicionales inversas\n",
    "\n",
    "$\\;\\;\\;\\;\\;\\;\\;\\;\\;\\;\\;\\;$<img src=\"./Inverso.jpg\" width=200/>"
   ]
  },
  {
   "cell_type": "code",
   "execution_count": 27,
   "id": "9fae4b2b-dddd-458c-a897-5b540749e5d5",
   "metadata": {},
   "outputs": [
    {
     "name": "stdout",
     "output_type": "stream",
     "text": [
      "computing conditional: P(A|B)\n",
      "computing conditional: P(A|C)\n",
      "computing conditional: P(A|D)\n",
      "Printing:  P(A|B)\n",
      "('B', 0):{('A', 0): 0.22204934429873308, ('A', 1): 0.7779506557012669}  ('B', 1):{('A', 0): 0.3285463714097786, ('A', 1): 0.6714536285902214}  \n",
      "\n",
      "Printing:  P(A|C)\n",
      "('C', 0):{('A', 0): 0.12489061132641582, ('A', 1): 0.8751093886735842}  ('C', 1):{('A', 0): 0.4065382528486164, ('A', 1): 0.5934617471513836}  ('C', 2):{('A', 0): 0.1763252338647997, ('A', 1): 0.8236747661352003}  \n",
      "\n",
      "Printing:  P(A|D)\n",
      "('D', 0):{('A', 0): 0.15138657372329142, ('A', 1): 0.8486134262767085}  ('D', 1):{('A', 0): 0.4875549048316252, ('A', 1): 0.5124450951683748}  ('D', 2):{('A', 0): 0.7405485544848036, ('A', 1): 0.25945144551519644}  \n",
      "\n"
     ]
    }
   ],
   "source": [
    "# P(A|B), P(A|C) y P(A|D)\n",
    "PA_Bc=Q_ABCD.query([A],[B])\n",
    "PA_Cc=Q_ABCD.query([A],[C])\n",
    "PA_Dc=Q_ABCD.query([A],[D])\n",
    "PA_Bc._print()\n",
    "PA_Cc._print()\n",
    "PA_Dc._print()"
   ]
  },
  {
   "cell_type": "markdown",
   "id": "9dc56f07-7daa-4bbf-9a15-055f1a956016",
   "metadata": {},
   "source": [
    "### Condicionales \"transversales\"\n",
    "\n",
    "$\\;\\;\\;\\;\\;\\;\\;\\;\\;\\;\\;\\;$<img src=\"./Transversal.jpg\" width=200/>"
   ]
  },
  {
   "cell_type": "code",
   "execution_count": 28,
   "id": "da3f557e-911b-404c-8094-58d77a2dd1d0",
   "metadata": {},
   "outputs": [
    {
     "name": "stdout",
     "output_type": "stream",
     "text": [
      "computing conditional: P(B|C)\n",
      "Printing:  P(B|C)\n",
      "('C', 0):{('B', 0): 0.28751093886735846, ('B', 1): 0.7124890611326415}  ('C', 1):{('B', 0): 0.2593461747151383, ('B', 1): 0.7406538252848616}  ('C', 2):{('B', 0): 0.28236747661352, ('B', 1): 0.7176325233864801}  \n",
      "\n",
      "computing conditional: P(C|B)\n",
      "Printing:  P(C|B)\n",
      "('B', 0):{('C', 0): 0.25559013114025336, ('C', 1): 0.5666148032896199, ('C', 2): 0.17779506557012667}  ('B', 1):{('C', 0): 0.2342907257180443, ('C', 1): 0.5985639114229335, ('C', 2): 0.16714536285902215}  \n",
      "\n",
      "computing conditional: P(D|B,C)\n",
      "computing conditional of joint: P(B,C|D)\n"
     ]
    }
   ],
   "source": [
    "#P(B|C), P(C|B), P(D|BC) , P(BC|D)\n",
    "PB_Cc=Q_ABCD.query([B],[C])\n",
    "PB_Cc._print()\n",
    "\n",
    "PC_Bc=Q_ABCD.query([C],[B])\n",
    "PC_Bc._print()\n",
    "\n",
    "PD_BCc=Q_ABCD.query([D],[B,C])\n",
    "df1=PD_BCc.to_Frame()\n",
    "\n",
    "PBC_Dc=Q_ABCD.query([B,C],[D])\n",
    "df2=PBC_Dc.to_Frame()\n"
   ]
  },
  {
   "cell_type": "code",
   "execution_count": 29,
   "id": "9c571157-e44d-46ab-9e6d-3c6e3079cc5b",
   "metadata": {},
   "outputs": [
    {
     "data": {
      "text/html": [
       "<div>\n",
       "<style scoped>\n",
       "    .dataframe tbody tr th:only-of-type {\n",
       "        vertical-align: middle;\n",
       "    }\n",
       "\n",
       "    .dataframe tbody tr th {\n",
       "        vertical-align: top;\n",
       "    }\n",
       "\n",
       "    .dataframe thead tr th {\n",
       "        text-align: left;\n",
       "    }\n",
       "</style>\n",
       "<table border=\"1\" class=\"dataframe\">\n",
       "  <thead>\n",
       "    <tr>\n",
       "      <th></th>\n",
       "      <th>(D, 0)</th>\n",
       "      <th>(D, 1)</th>\n",
       "      <th>(D, 2)</th>\n",
       "    </tr>\n",
       "  </thead>\n",
       "  <tbody>\n",
       "    <tr>\n",
       "      <th>(B, C, 0, 0)</th>\n",
       "      <td>0.759457</td>\n",
       "      <td>0.165927</td>\n",
       "      <td>0.074615</td>\n",
       "    </tr>\n",
       "    <tr>\n",
       "      <th>(B, C, 0, 1)</th>\n",
       "      <td>0.653695</td>\n",
       "      <td>0.207477</td>\n",
       "      <td>0.138828</td>\n",
       "    </tr>\n",
       "    <tr>\n",
       "      <th>(B, C, 0, 2)</th>\n",
       "      <td>0.741718</td>\n",
       "      <td>0.172897</td>\n",
       "      <td>0.085386</td>\n",
       "    </tr>\n",
       "    <tr>\n",
       "      <th>(B, C, 1, 0)</th>\n",
       "      <td>0.734559</td>\n",
       "      <td>0.175709</td>\n",
       "      <td>0.089732</td>\n",
       "    </tr>\n",
       "    <tr>\n",
       "      <th>(B, C, 1, 1)</th>\n",
       "      <td>0.595081</td>\n",
       "      <td>0.230504</td>\n",
       "      <td>0.174415</td>\n",
       "    </tr>\n",
       "    <tr>\n",
       "      <th>(B, C, 1, 2)</th>\n",
       "      <td>0.708270</td>\n",
       "      <td>0.186037</td>\n",
       "      <td>0.105693</td>\n",
       "    </tr>\n",
       "  </tbody>\n",
       "</table>\n",
       "</div>"
      ],
      "text/plain": [
       "                (D, 0)    (D, 1)    (D, 2)\n",
       "(B, C, 0, 0)  0.759457  0.165927  0.074615\n",
       "(B, C, 0, 1)  0.653695  0.207477  0.138828\n",
       "(B, C, 0, 2)  0.741718  0.172897  0.085386\n",
       "(B, C, 1, 0)  0.734559  0.175709  0.089732\n",
       "(B, C, 1, 1)  0.595081  0.230504  0.174415\n",
       "(B, C, 1, 2)  0.708270  0.186037  0.105693"
      ]
     },
     "execution_count": 29,
     "metadata": {},
     "output_type": "execute_result"
    }
   ],
   "source": [
    "df1"
   ]
  },
  {
   "cell_type": "code",
   "execution_count": 30,
   "id": "68742882-9dd0-4434-940f-b78a1423fa18",
   "metadata": {},
   "outputs": [
    {
     "data": {
      "text/html": [
       "<div>\n",
       "<style scoped>\n",
       "    .dataframe tbody tr th:only-of-type {\n",
       "        vertical-align: middle;\n",
       "    }\n",
       "\n",
       "    .dataframe tbody tr th {\n",
       "        vertical-align: top;\n",
       "    }\n",
       "\n",
       "    .dataframe thead tr th {\n",
       "        text-align: left;\n",
       "    }\n",
       "</style>\n",
       "<table border=\"1\" class=\"dataframe\">\n",
       "  <thead>\n",
       "    <tr>\n",
       "      <th></th>\n",
       "      <th>(B, C, 0, 0)</th>\n",
       "      <th>(B, C, 0, 1)</th>\n",
       "      <th>(B, C, 0, 2)</th>\n",
       "      <th>(B, C, 1, 0)</th>\n",
       "      <th>(B, C, 1, 1)</th>\n",
       "      <th>(B, C, 1, 2)</th>\n",
       "    </tr>\n",
       "  </thead>\n",
       "  <tbody>\n",
       "    <tr>\n",
       "      <th>(D, 0)</th>\n",
       "      <td>0.079403</td>\n",
       "      <td>0.151514</td>\n",
       "      <td>0.053945</td>\n",
       "      <td>0.190320</td>\n",
       "      <td>0.393902</td>\n",
       "      <td>0.130917</td>\n",
       "    </tr>\n",
       "    <tr>\n",
       "      <th>(D, 1)</th>\n",
       "      <td>0.055871</td>\n",
       "      <td>0.154876</td>\n",
       "      <td>0.040498</td>\n",
       "      <td>0.146618</td>\n",
       "      <td>0.491391</td>\n",
       "      <td>0.110747</td>\n",
       "    </tr>\n",
       "    <tr>\n",
       "      <th>(D, 2)</th>\n",
       "      <td>0.038162</td>\n",
       "      <td>0.157405</td>\n",
       "      <td>0.030378</td>\n",
       "      <td>0.113729</td>\n",
       "      <td>0.564759</td>\n",
       "      <td>0.095567</td>\n",
       "    </tr>\n",
       "  </tbody>\n",
       "</table>\n",
       "</div>"
      ],
      "text/plain": [
       "       (B, C, 0, 0) (B, C, 0, 1) (B, C, 0, 2) (B, C, 1, 0) (B, C, 1, 1)  \\\n",
       "(D, 0)     0.079403     0.151514     0.053945     0.190320     0.393902   \n",
       "(D, 1)     0.055871     0.154876     0.040498     0.146618     0.491391   \n",
       "(D, 2)     0.038162     0.157405     0.030378     0.113729     0.564759   \n",
       "\n",
       "       (B, C, 1, 2)  \n",
       "(D, 0)     0.130917  \n",
       "(D, 1)     0.110747  \n",
       "(D, 2)     0.095567  "
      ]
     },
     "execution_count": 30,
     "metadata": {},
     "output_type": "execute_result"
    }
   ],
   "source": [
    "df2"
   ]
  },
  {
   "cell_type": "markdown",
   "id": "0ddbe5fc-7e1d-4865-9288-08b226411952",
   "metadata": {
    "tags": []
   },
   "source": [
    "### Marginales conjuntas"
   ]
  },
  {
   "cell_type": "code",
   "execution_count": 31,
   "id": "0749c522-7853-4efc-b7e9-2e160f5ef8a9",
   "metadata": {},
   "outputs": [
    {
     "name": "stdout",
     "output_type": "stream",
     "text": [
      "Computing marginal joint: P(A,B)\n",
      "('A', 'B', 0, 0) 0.05994000000000001\n",
      "('A', 'B', 0, 1) 0.23976000000000003\n",
      "('A', 'B', 1, 0) 0.21\n",
      "('A', 'B', 1, 1) 0.48999999999999994\n",
      "Creating DataFrame for:  P(A,B)\n"
     ]
    },
    {
     "data": {
      "text/html": [
       "<div>\n",
       "<style scoped>\n",
       "    .dataframe tbody tr th:only-of-type {\n",
       "        vertical-align: middle;\n",
       "    }\n",
       "\n",
       "    .dataframe tbody tr th {\n",
       "        vertical-align: top;\n",
       "    }\n",
       "\n",
       "    .dataframe thead th {\n",
       "        text-align: right;\n",
       "    }\n",
       "</style>\n",
       "<table border=\"1\" class=\"dataframe\">\n",
       "  <thead>\n",
       "    <tr style=\"text-align: right;\">\n",
       "      <th></th>\n",
       "      <th>P(A,B)</th>\n",
       "    </tr>\n",
       "  </thead>\n",
       "  <tbody>\n",
       "    <tr>\n",
       "      <th>(A, B, 0, 0)</th>\n",
       "      <td>0.05994</td>\n",
       "    </tr>\n",
       "    <tr>\n",
       "      <th>(A, B, 0, 1)</th>\n",
       "      <td>0.23976</td>\n",
       "    </tr>\n",
       "    <tr>\n",
       "      <th>(A, B, 1, 0)</th>\n",
       "      <td>0.21000</td>\n",
       "    </tr>\n",
       "    <tr>\n",
       "      <th>(A, B, 1, 1)</th>\n",
       "      <td>0.49000</td>\n",
       "    </tr>\n",
       "  </tbody>\n",
       "</table>\n",
       "</div>"
      ],
      "text/plain": [
       "               P(A,B)\n",
       "(A, B, 0, 0)  0.05994\n",
       "(A, B, 0, 1)  0.23976\n",
       "(A, B, 1, 0)  0.21000\n",
       "(A, B, 1, 1)  0.49000"
      ]
     },
     "execution_count": 31,
     "metadata": {},
     "output_type": "execute_result"
    }
   ],
   "source": [
    "# P(AB), P(AC) y P(AD)\n",
    "PABc=Q_ABCD.query([A,B])\n",
    "df=PABc.to_Frame()\n",
    "df"
   ]
  },
  {
   "cell_type": "markdown",
   "id": "5cd19fe5-e0a8-4e70-af1a-799cc440579b",
   "metadata": {
    "tags": []
   },
   "source": [
    "### Distribución conjunta"
   ]
  },
  {
   "cell_type": "code",
   "execution_count": 32,
   "id": "2e0155c2-e3c7-4ff3-ad4a-7a8fa6139c03",
   "metadata": {},
   "outputs": [
    {
     "name": "stdout",
     "output_type": "stream",
     "text": [
      "Computing marginal joint: P(A,B,C,D)\n",
      "('A', 'B', 'C', 'D', 0, 0, 0, 0) 0.0019980000000000006\n",
      "('A', 'B', 'C', 'D', 0, 0, 0, 1) 0.0019980000000000006\n",
      "('A', 'B', 'C', 'D', 0, 0, 0, 2) 0.0019980000000000006\n",
      "('A', 'B', 'C', 'D', 0, 0, 1, 0) 0.015984000000000005\n",
      "('A', 'B', 'C', 'D', 0, 0, 1, 1) 0.015984000000000005\n",
      "('A', 'B', 'C', 'D', 0, 0, 1, 2) 0.015984000000000005\n",
      "('A', 'B', 'C', 'D', 0, 0, 2, 0) 0.0019980000000000006\n",
      "('A', 'B', 'C', 'D', 0, 0, 2, 1) 0.0019980000000000006\n",
      "('A', 'B', 'C', 'D', 0, 0, 2, 2) 0.0019980000000000006\n",
      "('A', 'B', 'C', 'D', 0, 1, 0, 0) 0.007992000000000003\n",
      "('A', 'B', 'C', 'D', 0, 1, 0, 1) 0.007992000000000003\n",
      "('A', 'B', 'C', 'D', 0, 1, 0, 2) 0.007992000000000003\n",
      "('A', 'B', 'C', 'D', 0, 1, 1, 0) 0.06393600000000002\n",
      "('A', 'B', 'C', 'D', 0, 1, 1, 1) 0.06393600000000002\n",
      "('A', 'B', 'C', 'D', 0, 1, 1, 2) 0.06393600000000002\n",
      "('A', 'B', 'C', 'D', 0, 1, 2, 0) 0.007992000000000003\n",
      "('A', 'B', 'C', 'D', 0, 1, 2, 1) 0.007992000000000003\n",
      "('A', 'B', 'C', 'D', 0, 1, 2, 2) 0.007992000000000003\n",
      "('A', 'B', 'C', 'D', 1, 0, 0, 0) 0.05039999999999999\n",
      "('A', 'B', 'C', 'D', 1, 0, 0, 1) 0.00945\n",
      "('A', 'B', 'C', 'D', 1, 0, 0, 2) 0.0031499999999999996\n",
      "('A', 'B', 'C', 'D', 1, 0, 1, 0) 0.08399999999999999\n",
      "('A', 'B', 'C', 'D', 1, 0, 1, 1) 0.01575\n",
      "('A', 'B', 'C', 'D', 1, 0, 1, 2) 0.0052499999999999995\n",
      "('A', 'B', 'C', 'D', 1, 0, 2, 0) 0.0336\n",
      "('A', 'B', 'C', 'D', 1, 0, 2, 1) 0.006299999999999999\n",
      "('A', 'B', 'C', 'D', 1, 0, 2, 2) 0.0021\n",
      "('A', 'B', 'C', 'D', 1, 1, 0, 0) 0.1176\n",
      "('A', 'B', 'C', 'D', 1, 1, 0, 1) 0.02205\n",
      "('A', 'B', 'C', 'D', 1, 1, 0, 2) 0.00735\n",
      "('A', 'B', 'C', 'D', 1, 1, 1, 0) 0.19599999999999998\n",
      "('A', 'B', 'C', 'D', 1, 1, 1, 1) 0.03675\n",
      "('A', 'B', 'C', 'D', 1, 1, 1, 2) 0.012249999999999999\n",
      "('A', 'B', 'C', 'D', 1, 1, 2, 0) 0.07839999999999998\n",
      "('A', 'B', 'C', 'D', 1, 1, 2, 1) 0.014699999999999998\n",
      "('A', 'B', 'C', 'D', 1, 1, 2, 2) 0.004899999999999999\n",
      "Creating DataFrame for:  P(A,B,C,D)\n"
     ]
    },
    {
     "data": {
      "text/html": [
       "<div>\n",
       "<style scoped>\n",
       "    .dataframe tbody tr th:only-of-type {\n",
       "        vertical-align: middle;\n",
       "    }\n",
       "\n",
       "    .dataframe tbody tr th {\n",
       "        vertical-align: top;\n",
       "    }\n",
       "\n",
       "    .dataframe thead th {\n",
       "        text-align: right;\n",
       "    }\n",
       "</style>\n",
       "<table border=\"1\" class=\"dataframe\">\n",
       "  <thead>\n",
       "    <tr style=\"text-align: right;\">\n",
       "      <th></th>\n",
       "      <th>P(A,B,C,D)</th>\n",
       "    </tr>\n",
       "  </thead>\n",
       "  <tbody>\n",
       "    <tr>\n",
       "      <th>(A, B, C, D, 0, 0, 0, 0)</th>\n",
       "      <td>0.001998</td>\n",
       "    </tr>\n",
       "    <tr>\n",
       "      <th>(A, B, C, D, 0, 0, 0, 1)</th>\n",
       "      <td>0.001998</td>\n",
       "    </tr>\n",
       "    <tr>\n",
       "      <th>(A, B, C, D, 0, 0, 0, 2)</th>\n",
       "      <td>0.001998</td>\n",
       "    </tr>\n",
       "    <tr>\n",
       "      <th>(A, B, C, D, 0, 0, 1, 0)</th>\n",
       "      <td>0.015984</td>\n",
       "    </tr>\n",
       "    <tr>\n",
       "      <th>(A, B, C, D, 0, 0, 1, 1)</th>\n",
       "      <td>0.015984</td>\n",
       "    </tr>\n",
       "    <tr>\n",
       "      <th>(A, B, C, D, 0, 0, 1, 2)</th>\n",
       "      <td>0.015984</td>\n",
       "    </tr>\n",
       "    <tr>\n",
       "      <th>(A, B, C, D, 0, 0, 2, 0)</th>\n",
       "      <td>0.001998</td>\n",
       "    </tr>\n",
       "    <tr>\n",
       "      <th>(A, B, C, D, 0, 0, 2, 1)</th>\n",
       "      <td>0.001998</td>\n",
       "    </tr>\n",
       "    <tr>\n",
       "      <th>(A, B, C, D, 0, 0, 2, 2)</th>\n",
       "      <td>0.001998</td>\n",
       "    </tr>\n",
       "    <tr>\n",
       "      <th>(A, B, C, D, 0, 1, 0, 0)</th>\n",
       "      <td>0.007992</td>\n",
       "    </tr>\n",
       "    <tr>\n",
       "      <th>(A, B, C, D, 0, 1, 0, 1)</th>\n",
       "      <td>0.007992</td>\n",
       "    </tr>\n",
       "    <tr>\n",
       "      <th>(A, B, C, D, 0, 1, 0, 2)</th>\n",
       "      <td>0.007992</td>\n",
       "    </tr>\n",
       "    <tr>\n",
       "      <th>(A, B, C, D, 0, 1, 1, 0)</th>\n",
       "      <td>0.063936</td>\n",
       "    </tr>\n",
       "    <tr>\n",
       "      <th>(A, B, C, D, 0, 1, 1, 1)</th>\n",
       "      <td>0.063936</td>\n",
       "    </tr>\n",
       "    <tr>\n",
       "      <th>(A, B, C, D, 0, 1, 1, 2)</th>\n",
       "      <td>0.063936</td>\n",
       "    </tr>\n",
       "    <tr>\n",
       "      <th>(A, B, C, D, 0, 1, 2, 0)</th>\n",
       "      <td>0.007992</td>\n",
       "    </tr>\n",
       "    <tr>\n",
       "      <th>(A, B, C, D, 0, 1, 2, 1)</th>\n",
       "      <td>0.007992</td>\n",
       "    </tr>\n",
       "    <tr>\n",
       "      <th>(A, B, C, D, 0, 1, 2, 2)</th>\n",
       "      <td>0.007992</td>\n",
       "    </tr>\n",
       "    <tr>\n",
       "      <th>(A, B, C, D, 1, 0, 0, 0)</th>\n",
       "      <td>0.050400</td>\n",
       "    </tr>\n",
       "    <tr>\n",
       "      <th>(A, B, C, D, 1, 0, 0, 1)</th>\n",
       "      <td>0.009450</td>\n",
       "    </tr>\n",
       "    <tr>\n",
       "      <th>(A, B, C, D, 1, 0, 0, 2)</th>\n",
       "      <td>0.003150</td>\n",
       "    </tr>\n",
       "    <tr>\n",
       "      <th>(A, B, C, D, 1, 0, 1, 0)</th>\n",
       "      <td>0.084000</td>\n",
       "    </tr>\n",
       "    <tr>\n",
       "      <th>(A, B, C, D, 1, 0, 1, 1)</th>\n",
       "      <td>0.015750</td>\n",
       "    </tr>\n",
       "    <tr>\n",
       "      <th>(A, B, C, D, 1, 0, 1, 2)</th>\n",
       "      <td>0.005250</td>\n",
       "    </tr>\n",
       "    <tr>\n",
       "      <th>(A, B, C, D, 1, 0, 2, 0)</th>\n",
       "      <td>0.033600</td>\n",
       "    </tr>\n",
       "    <tr>\n",
       "      <th>(A, B, C, D, 1, 0, 2, 1)</th>\n",
       "      <td>0.006300</td>\n",
       "    </tr>\n",
       "    <tr>\n",
       "      <th>(A, B, C, D, 1, 0, 2, 2)</th>\n",
       "      <td>0.002100</td>\n",
       "    </tr>\n",
       "    <tr>\n",
       "      <th>(A, B, C, D, 1, 1, 0, 0)</th>\n",
       "      <td>0.117600</td>\n",
       "    </tr>\n",
       "    <tr>\n",
       "      <th>(A, B, C, D, 1, 1, 0, 1)</th>\n",
       "      <td>0.022050</td>\n",
       "    </tr>\n",
       "    <tr>\n",
       "      <th>(A, B, C, D, 1, 1, 0, 2)</th>\n",
       "      <td>0.007350</td>\n",
       "    </tr>\n",
       "    <tr>\n",
       "      <th>(A, B, C, D, 1, 1, 1, 0)</th>\n",
       "      <td>0.196000</td>\n",
       "    </tr>\n",
       "    <tr>\n",
       "      <th>(A, B, C, D, 1, 1, 1, 1)</th>\n",
       "      <td>0.036750</td>\n",
       "    </tr>\n",
       "    <tr>\n",
       "      <th>(A, B, C, D, 1, 1, 1, 2)</th>\n",
       "      <td>0.012250</td>\n",
       "    </tr>\n",
       "    <tr>\n",
       "      <th>(A, B, C, D, 1, 1, 2, 0)</th>\n",
       "      <td>0.078400</td>\n",
       "    </tr>\n",
       "    <tr>\n",
       "      <th>(A, B, C, D, 1, 1, 2, 1)</th>\n",
       "      <td>0.014700</td>\n",
       "    </tr>\n",
       "    <tr>\n",
       "      <th>(A, B, C, D, 1, 1, 2, 2)</th>\n",
       "      <td>0.004900</td>\n",
       "    </tr>\n",
       "  </tbody>\n",
       "</table>\n",
       "</div>"
      ],
      "text/plain": [
       "                          P(A,B,C,D)\n",
       "(A, B, C, D, 0, 0, 0, 0)    0.001998\n",
       "(A, B, C, D, 0, 0, 0, 1)    0.001998\n",
       "(A, B, C, D, 0, 0, 0, 2)    0.001998\n",
       "(A, B, C, D, 0, 0, 1, 0)    0.015984\n",
       "(A, B, C, D, 0, 0, 1, 1)    0.015984\n",
       "(A, B, C, D, 0, 0, 1, 2)    0.015984\n",
       "(A, B, C, D, 0, 0, 2, 0)    0.001998\n",
       "(A, B, C, D, 0, 0, 2, 1)    0.001998\n",
       "(A, B, C, D, 0, 0, 2, 2)    0.001998\n",
       "(A, B, C, D, 0, 1, 0, 0)    0.007992\n",
       "(A, B, C, D, 0, 1, 0, 1)    0.007992\n",
       "(A, B, C, D, 0, 1, 0, 2)    0.007992\n",
       "(A, B, C, D, 0, 1, 1, 0)    0.063936\n",
       "(A, B, C, D, 0, 1, 1, 1)    0.063936\n",
       "(A, B, C, D, 0, 1, 1, 2)    0.063936\n",
       "(A, B, C, D, 0, 1, 2, 0)    0.007992\n",
       "(A, B, C, D, 0, 1, 2, 1)    0.007992\n",
       "(A, B, C, D, 0, 1, 2, 2)    0.007992\n",
       "(A, B, C, D, 1, 0, 0, 0)    0.050400\n",
       "(A, B, C, D, 1, 0, 0, 1)    0.009450\n",
       "(A, B, C, D, 1, 0, 0, 2)    0.003150\n",
       "(A, B, C, D, 1, 0, 1, 0)    0.084000\n",
       "(A, B, C, D, 1, 0, 1, 1)    0.015750\n",
       "(A, B, C, D, 1, 0, 1, 2)    0.005250\n",
       "(A, B, C, D, 1, 0, 2, 0)    0.033600\n",
       "(A, B, C, D, 1, 0, 2, 1)    0.006300\n",
       "(A, B, C, D, 1, 0, 2, 2)    0.002100\n",
       "(A, B, C, D, 1, 1, 0, 0)    0.117600\n",
       "(A, B, C, D, 1, 1, 0, 1)    0.022050\n",
       "(A, B, C, D, 1, 1, 0, 2)    0.007350\n",
       "(A, B, C, D, 1, 1, 1, 0)    0.196000\n",
       "(A, B, C, D, 1, 1, 1, 1)    0.036750\n",
       "(A, B, C, D, 1, 1, 1, 2)    0.012250\n",
       "(A, B, C, D, 1, 1, 2, 0)    0.078400\n",
       "(A, B, C, D, 1, 1, 2, 1)    0.014700\n",
       "(A, B, C, D, 1, 1, 2, 2)    0.004900"
      ]
     },
     "execution_count": 32,
     "metadata": {},
     "output_type": "execute_result"
    }
   ],
   "source": [
    "# P(ABCD)\n",
    "PABCDc=Q_ABCD.query([A,B,C,D])\n",
    "df=PABCDc.to_Frame()\n",
    "df"
   ]
  },
  {
   "cell_type": "markdown",
   "id": "6c90458f-8398-485a-a386-2f435a7872fd",
   "metadata": {},
   "source": [
    "## SOLUCION TAREA FILTRO SPAM"
   ]
  },
  {
   "cell_type": "markdown",
   "id": "c923811f-913d-4239-a1c9-753916607307",
   "metadata": {},
   "source": [
    "### Principio de solución\n",
    "* Tenemos las siguientes variables:\n",
    "    - $Spam:=\\{0,1\\}$ con $\\{0:.25, 1:.75\\}$.\n",
    "    - $W_i:=\\{0,1\\}$ con sus respectivas probabilidades dadas por la Tabla 1.\n",
    "* Conjunta: \n",
    "    - $P(Spam, W^4_0)=P(Spam)\\displaystyle \\prod_i P(W_i|Spam)$.\n",
    "* Consulta:\n",
    "    - $P(W_i|Spam)$."
   ]
  },
  {
   "cell_type": "markdown",
   "id": "484f7a8d-0b99-457b-a96d-23b1d5b4cb0b",
   "metadata": {},
   "source": [
    "### Variables\n",
    "\n",
    "#### Spam"
   ]
  },
  {
   "cell_type": "code",
   "execution_count": 35,
   "id": "17725032-bdf7-4537-a05d-ea7774a59735",
   "metadata": {},
   "outputs": [
    {
     "data": {
      "text/plain": [
       "('Spam', 2, [0, 1])"
      ]
     },
     "execution_count": 35,
     "metadata": {},
     "output_type": "execute_result"
    }
   ],
   "source": [
    "#Spam\n",
    "Spam=mb.Var('Spam')\n",
    "Spam.set_values([0,1])\n",
    "Spam.print_var()"
   ]
  },
  {
   "cell_type": "markdown",
   "id": "daad050d-9982-421e-a015-75a6f56c090e",
   "metadata": {},
   "source": [
    "#### $W_i$"
   ]
  },
  {
   "cell_type": "code",
   "execution_count": 34,
   "id": "61c9e9cd-5c69-4edf-a904-e68a1a4373f0",
   "metadata": {},
   "outputs": [
    {
     "name": "stdout",
     "output_type": "stream",
     "text": [
      "W[0]: {'fortune': <mib_v1_2.Var object at 0x7f8ef5407fd0>}\n",
      "W[1]: {'next': <mib_v1_2.Var object at 0x7f8ef5407bb0>}\n",
      "W[2]: {'programming': <mib_v1_2.Var object at 0x7f8ef5407cd0>}\n",
      "W[3]: {'money': <mib_v1_2.Var object at 0x7f8ef5407b80>}\n",
      "W[4]: {'you': <mib_v1_2.Var object at 0x7f8ef5407ee0>}\n"
     ]
    }
   ],
   "source": [
    "#Palabras, presente:1 ausente:0\n",
    "vocabulario=['fortune','next','programming','money','you']\n",
    "W = {}\n",
    "for i,w in enumerate(vocabulario):\n",
    "    W[i] = {w:mb.Var(name='W'+str(i),values=[0,1])}\n",
    "\n",
    "for i in range(len(W)):\n",
    "    print(f'W[{i}]: {W[i]}')"
   ]
  },
  {
   "cell_type": "markdown",
   "id": "c838a940-efd9-4972-8f81-b1d587ac180b",
   "metadata": {},
   "source": [
    "### Descomposición\n",
    "\n",
    "$P(Spam)$"
   ]
  },
  {
   "cell_type": "code",
   "execution_count": 36,
   "id": "e0a27ac8-eb5e-4d18-803e-91bdac9c8a77",
   "metadata": {},
   "outputs": [
    {
     "name": "stdout",
     "output_type": "stream",
     "text": [
      "('Spam', 0) 0.25\n",
      "('Spam', 1) 0.75\n",
      "Printing:  P(Spam)\n",
      "('Spam', 0):0.25  ('Spam', 1):0.75  \n",
      "\n"
     ]
    }
   ],
   "source": [
    "PSpam=mb.Distrib('P(Spam)',[Spam],{0:.25, 1:.75})\n",
    "PSpam._print()"
   ]
  },
  {
   "cell_type": "markdown",
   "id": "97bbb873-c144-4813-ad09-6cb0e0a5651c",
   "metadata": {},
   "source": [
    "$P(W_i|Spam)$"
   ]
  },
  {
   "cell_type": "code",
   "execution_count": 38,
   "id": "850def87-4d2f-4067-8406-8d3b284db776",
   "metadata": {},
   "outputs": [
    {
     "name": "stdout",
     "output_type": "stream",
     "text": [
      "Conteos iniciales:\n",
      "{'W0': {'ham': 0, 'spam': 375}, 'W1': {'ham': 125, 'spam': 0}, 'W2': {'ham': 250, 'spam': 0}, 'W3': {'ham': 0, 'spam': 750}, 'W4': {'ham': 125, 'spam': 375}}\n",
      "[(0.996031746031746, 0.003968253968253968), (0.5, 0.5)]\n"
     ]
    },
    {
     "ename": "AttributeError",
     "evalue": "'list' object has no attribute 'values'",
     "output_type": "error",
     "traceback": [
      "\u001b[0;31m---------------------------------------------------------------------------\u001b[0m",
      "\u001b[0;31mAttributeError\u001b[0m                            Traceback (most recent call last)",
      "Cell \u001b[0;32mIn [38], line 31\u001b[0m\n\u001b[1;32m     29\u001b[0m \u001b[38;5;28;01mfor\u001b[39;00m i,word,t \u001b[38;5;129;01min\u001b[39;00m \u001b[38;5;28mzip\u001b[39m(W,vocabulario,pw_):\n\u001b[1;32m     30\u001b[0m     \u001b[38;5;28mprint\u001b[39m(t)\n\u001b[0;32m---> 31\u001b[0m     P_W_Spam\u001b[38;5;241m.\u001b[39mappend(mb\u001b[38;5;241m.\u001b[39mDistribCond(name\u001b[38;5;241m=\u001b[39m\u001b[38;5;124m'\u001b[39m\u001b[38;5;124mP(W\u001b[39m\u001b[38;5;124m'\u001b[39m\u001b[38;5;241m+\u001b[39m\u001b[38;5;28mstr\u001b[39m(i)\u001b[38;5;241m+\u001b[39m\u001b[38;5;124m'\u001b[39m\u001b[38;5;124m|Spam)\u001b[39m\u001b[38;5;124m'\u001b[39m,var\u001b[38;5;241m=\u001b[39mW[i][word],indep\u001b[38;5;241m=\u001b[39m[Spam],tabla\u001b[38;5;241m=\u001b[39mt))\n\u001b[1;32m     33\u001b[0m \u001b[38;5;28;01mfor\u001b[39;00m distrib \u001b[38;5;129;01min\u001b[39;00m P_W_Spam:\n\u001b[1;32m     34\u001b[0m     \u001b[38;5;28mprint\u001b[39m(distrib\u001b[38;5;241m.\u001b[39mname,\u001b[38;5;124m'\u001b[39m\u001b[38;5;130;01m\\n\u001b[39;00m\u001b[38;5;124m'\u001b[39m,distrib\u001b[38;5;241m.\u001b[39mto_Frame(),\u001b[38;5;124m'\u001b[39m\u001b[38;5;130;01m\\n\u001b[39;00m\u001b[38;5;124m'\u001b[39m)\n",
      "File \u001b[0;32m~/Roberto/Tesis/mib_v1_2.py:602\u001b[0m, in \u001b[0;36mDistribCond.__init__\u001b[0;34m(self, name, var, indep, tabla)\u001b[0m\n\u001b[1;32m    599\u001b[0m \u001b[38;5;28mself\u001b[39m\u001b[38;5;241m.\u001b[39mentry \u001b[38;5;241m=\u001b[39m genera_espacio(entrada)\n\u001b[1;32m    601\u001b[0m \u001b[38;5;28;01mif\u001b[39;00m tabla \u001b[38;5;129;01mis\u001b[39;00m \u001b[38;5;129;01mnot\u001b[39;00m \u001b[38;5;28;01mNone\u001b[39;00m:\n\u001b[0;32m--> 602\u001b[0m     \u001b[38;5;28mself\u001b[39m\u001b[38;5;241m.\u001b[39mtabla \u001b[38;5;241m=\u001b[39m \u001b[43mcarga_tabla_cond\u001b[49m\u001b[43m(\u001b[49m\u001b[38;5;28;43mself\u001b[39;49m\u001b[38;5;241;43m.\u001b[39;49m\u001b[43mvar\u001b[49m\u001b[43m,\u001b[49m\u001b[38;5;28;43mself\u001b[39;49m\u001b[38;5;241;43m.\u001b[39;49m\u001b[43mentry\u001b[49m\u001b[43m,\u001b[49m\u001b[38;5;28;43mself\u001b[39;49m\u001b[38;5;241;43m.\u001b[39;49m\u001b[43mindep\u001b[49m\u001b[43m,\u001b[49m\u001b[43mtabla\u001b[49m\u001b[43m)\u001b[49m\n",
      "File \u001b[0;32m~/Roberto/Tesis/mib_v1_2.py:490\u001b[0m, in \u001b[0;36mcarga_tabla_cond\u001b[0;34m(var, entrada, indep, tabla)\u001b[0m\n\u001b[1;32m    486\u001b[0m dico \u001b[38;5;241m=\u001b[39m {}\n\u001b[1;32m    488\u001b[0m salidas,keys \u001b[38;5;241m=\u001b[39m genera_llaves_cond(var,entrada,indep)\n\u001b[0;32m--> 490\u001b[0m \u001b[38;5;28;01mfor\u001b[39;00m k,v \u001b[38;5;129;01min\u001b[39;00m \u001b[38;5;28mzip\u001b[39m(keys,\u001b[38;5;28mlist\u001b[39m(\u001b[43mtabla\u001b[49m\u001b[38;5;241;43m.\u001b[39;49m\u001b[43mvalues\u001b[49m())):\n\u001b[1;32m    491\u001b[0m     tab \u001b[38;5;241m=\u001b[39m {}\n\u001b[1;32m    492\u001b[0m     \u001b[38;5;28;01mfor\u001b[39;00m i,s \u001b[38;5;129;01min\u001b[39;00m \u001b[38;5;28menumerate\u001b[39m(salidas):\n",
      "\u001b[0;31mAttributeError\u001b[0m: 'list' object has no attribute 'values'"
     ]
    }
   ],
   "source": [
    "nif = [0,125,250,0,125]\n",
    "niv = [375,0,0,750,375]\n",
    "\n",
    "conteos={}\n",
    "for i,word,h,s in zip(W,vocabulario,nif,niv):\n",
    "    var = W[i][word]\n",
    "    conteos[var.name]={'ham':h,'spam':s}\n",
    "\n",
    "print(f'Conteos iniciales:\\n{conteos}')\n",
    "\n",
    "ns = 750\n",
    "nh = 250\n",
    "\n",
    "def p_ham(var):\n",
    "    pw_1=(1+conteos[var.name]['ham'])/(var.card+nh)\n",
    "    pw_0=1.0-pw_1\n",
    "    return (pw_0,pw_1)\n",
    "\n",
    "def p_spam(var):\n",
    "    pw_1=(1+conteos[var.name]['spam'])/(var.card+ns)\n",
    "    pw_0=1.0-pw_1\n",
    "    return (pw_0,pw_1)\n",
    "\n",
    "pw_=[]\n",
    "for i,word in zip(W,vocabulario):\n",
    "    pw_.append([p_ham(W[i][word]),p_spam(W[i][word])])\n",
    "\n",
    "P_W_Spam=[]\n",
    "for i,word,t in zip(W,vocabulario,pw_):\n",
    "    print(t)\n",
    "    P_W_Spam.append(mb.DistribCond(name='P(W'+str(i)+'|Spam)',var=W[i][word],indep=[Spam],tabla=t))\n",
    "\n",
    "for distrib in P_W_Spam:\n",
    "    print(distrib.name,'\\n',distrib.to_Frame(),'\\n')"
   ]
  },
  {
   "cell_type": "code",
   "execution_count": null,
   "id": "8195a5ce-47a4-4863-94ca-497a79f84bd2",
   "metadata": {},
   "outputs": [
    {
     "data": {
      "text/html": [
       "<div>\n",
       "<style scoped>\n",
       "    .dataframe tbody tr th:only-of-type {\n",
       "        vertical-align: middle;\n",
       "    }\n",
       "\n",
       "    .dataframe tbody tr th {\n",
       "        vertical-align: top;\n",
       "    }\n",
       "\n",
       "    .dataframe thead tr th {\n",
       "        text-align: left;\n",
       "    }\n",
       "</style>\n",
       "<table border=\"1\" class=\"dataframe\">\n",
       "  <thead>\n",
       "    <tr>\n",
       "      <th></th>\n",
       "      <th colspan=\"2\" halign=\"left\">(Spam, 0)</th>\n",
       "      <th colspan=\"2\" halign=\"left\">(Spam, 1)</th>\n",
       "    </tr>\n",
       "    <tr>\n",
       "      <th></th>\n",
       "      <th>Wi=false</th>\n",
       "      <th>Wi=true</th>\n",
       "      <th>Wi=false</th>\n",
       "      <th>Wi=true</th>\n",
       "    </tr>\n",
       "    <tr>\n",
       "      <th></th>\n",
       "      <th>P(Wi|Spam)</th>\n",
       "      <th>P(Wi|Spam)</th>\n",
       "      <th>P(Wi|Spam)</th>\n",
       "      <th>P(Wi|Spam)</th>\n",
       "    </tr>\n",
       "  </thead>\n",
       "  <tbody>\n",
       "    <tr>\n",
       "      <th>0</th>\n",
       "      <td>0.996032</td>\n",
       "      <td>0.003968</td>\n",
       "      <td>0.50000</td>\n",
       "      <td>0.50000</td>\n",
       "    </tr>\n",
       "    <tr>\n",
       "      <th>1</th>\n",
       "      <td>0.500000</td>\n",
       "      <td>0.500000</td>\n",
       "      <td>0.99867</td>\n",
       "      <td>0.00133</td>\n",
       "    </tr>\n",
       "    <tr>\n",
       "      <th>2</th>\n",
       "      <td>0.003968</td>\n",
       "      <td>0.996032</td>\n",
       "      <td>0.99867</td>\n",
       "      <td>0.00133</td>\n",
       "    </tr>\n",
       "    <tr>\n",
       "      <th>3</th>\n",
       "      <td>0.996032</td>\n",
       "      <td>0.003968</td>\n",
       "      <td>0.00133</td>\n",
       "      <td>0.99867</td>\n",
       "    </tr>\n",
       "    <tr>\n",
       "      <th>4</th>\n",
       "      <td>0.500000</td>\n",
       "      <td>0.500000</td>\n",
       "      <td>0.50000</td>\n",
       "      <td>0.50000</td>\n",
       "    </tr>\n",
       "  </tbody>\n",
       "</table>\n",
       "</div>"
      ],
      "text/plain": [
       "   (Spam, 0)             (Spam, 1)           \n",
       "    Wi=false    Wi=true   Wi=false    Wi=true\n",
       "  P(Wi|Spam) P(Wi|Spam) P(Wi|Spam) P(Wi|Spam)\n",
       "0   0.996032   0.003968    0.50000    0.50000\n",
       "1   0.500000   0.500000    0.99867    0.00133\n",
       "2   0.003968   0.996032    0.99867    0.00133\n",
       "3   0.996032   0.003968    0.00133    0.99867\n",
       "4   0.500000   0.500000    0.50000    0.50000"
      ]
     },
     "execution_count": 32,
     "metadata": {},
     "output_type": "execute_result"
    }
   ],
   "source": [
    "spam_value = list(P_W_Spam[0].get_P().keys())\n",
    "columnas = ['Wi=false','Wi=true']\n",
    "\n",
    "registros=[]\n",
    "for d in P_W_Spam:\n",
    "    tabla=d.get_P().values()\n",
    "    reg=[]\n",
    "    for dico in tabla:\n",
    "        for k in dico.keys():\n",
    "            reg.append(dico[k])\n",
    "    registros.append(reg)\n",
    "\n",
    "# print(spam_value,columnas,registros)\n",
    "\n",
    "df=pd.DataFrame(registros)\n",
    "df.columns=pd.MultiIndex.from_product([spam_value,columnas,['P(Wi|Spam)']])\n",
    "df"
   ]
  },
  {
   "cell_type": "markdown",
   "id": "2381d1fa-874f-4dbd-8aad-3dcfd62c0458",
   "metadata": {},
   "source": [
    "### Distribución conjunta\n",
    "$P(Spam)\\displaystyle \\prod_i P(W_i|Spam)$"
   ]
  },
  {
   "cell_type": "code",
   "execution_count": null,
   "id": "9ad9cdc8-1148-4799-886d-8745afa658f9",
   "metadata": {},
   "outputs": [
    {
     "name": "stdout",
     "output_type": "stream",
     "text": [
      "P(W0|Spam) : {('Spam', 0): {('W0', 0): 0.996031746031746, ('W0', 1): 0.003968253968253968}, ('Spam', 1): {('W0', 0): 0.5, ('W0', 1): 0.5}}\n",
      "P(W1|Spam) : {('Spam', 0): {('W1', 0): 0.5, ('W1', 1): 0.5}, ('Spam', 1): {('W1', 0): 0.9986702127659575, ('W1', 1): 0.0013297872340425532}}\n",
      "P(W2|Spam) : {('Spam', 0): {('W2', 0): 0.003968253968253954, ('W2', 1): 0.996031746031746}, ('Spam', 1): {('W2', 0): 0.9986702127659575, ('W2', 1): 0.0013297872340425532}}\n",
      "P(W3|Spam) : {('Spam', 0): {('W3', 0): 0.996031746031746, ('W3', 1): 0.003968253968253968}, ('Spam', 1): {('W3', 0): 0.0013297872340425343, ('W3', 1): 0.9986702127659575}}\n",
      "P(W4|Spam) : {('Spam', 0): {('W4', 0): 0.5, ('W4', 1): 0.5}, ('Spam', 1): {('W4', 0): 0.5, ('W4', 1): 0.5}}\n",
      "P(Spam) : {('Spam', 0): 0.25, ('Spam', 1): 0.75}\n"
     ]
    }
   ],
   "source": [
    "PSpamWs=mb.JointDistrib('P(SpamWs)',[Spam]+[d.var for d in P_W_Spam],\\\n",
    "                         [PSpam]+[d for d in P_W_Spam])\n",
    "PSpamWs._print()"
   ]
  },
  {
   "cell_type": "markdown",
   "id": "9251c89e-7dff-4b59-ab30-4d7b80c4a9e9",
   "metadata": {},
   "source": [
    "### Pregunta"
   ]
  },
  {
   "cell_type": "code",
   "execution_count": null,
   "id": "9e329538-10e7-49c7-aa7d-3f480ce33b6b",
   "metadata": {},
   "outputs": [],
   "source": [
    "Q_Spam=mb.Question(PSpamWs)"
   ]
  },
  {
   "cell_type": "code",
   "execution_count": null,
   "id": "5b68e5f4-1a9c-4872-9fd8-fe1fed0ca324",
   "metadata": {},
   "outputs": [
    {
     "name": "stdout",
     "output_type": "stream",
     "text": [
      "computing conditional: P(Spam|W0,W1,W2,W3,W4)\n"
     ]
    },
    {
     "data": {
      "text/html": [
       "<div>\n",
       "<style scoped>\n",
       "    .dataframe tbody tr th:only-of-type {\n",
       "        vertical-align: middle;\n",
       "    }\n",
       "\n",
       "    .dataframe tbody tr th {\n",
       "        vertical-align: top;\n",
       "    }\n",
       "\n",
       "    .dataframe thead tr th {\n",
       "        text-align: left;\n",
       "    }\n",
       "</style>\n",
       "<table border=\"1\" class=\"dataframe\">\n",
       "  <thead>\n",
       "    <tr>\n",
       "      <th></th>\n",
       "      <th>index</th>\n",
       "      <th>(Spam, 0)</th>\n",
       "      <th>(Spam, 1)</th>\n",
       "    </tr>\n",
       "  </thead>\n",
       "  <tbody>\n",
       "    <tr>\n",
       "      <th>0</th>\n",
       "      <td>(W0, W1, W2, W3, W4, 0, 0, 0, 0, 0)</td>\n",
       "      <td>0.497351</td>\n",
       "      <td>0.502649</td>\n",
       "    </tr>\n",
       "    <tr>\n",
       "      <th>1</th>\n",
       "      <td>(W0, W1, W2, W3, W4, 0, 0, 0, 0, 1)</td>\n",
       "      <td>0.497351</td>\n",
       "      <td>0.502649</td>\n",
       "    </tr>\n",
       "    <tr>\n",
       "      <th>2</th>\n",
       "      <td>(W0, W1, W2, W3, W4, 0, 0, 0, 1, 0)</td>\n",
       "      <td>5.249068925585543e-06</td>\n",
       "      <td>0.999995</td>\n",
       "    </tr>\n",
       "    <tr>\n",
       "      <th>3</th>\n",
       "      <td>(W0, W1, W2, W3, W4, 0, 0, 0, 1, 1)</td>\n",
       "      <td>5.249068925585543e-06</td>\n",
       "      <td>0.999995</td>\n",
       "    </tr>\n",
       "    <tr>\n",
       "      <th>4</th>\n",
       "      <td>(W0, W1, W2, W3, W4, 0, 0, 1, 0, 0)</td>\n",
       "      <td>0.999995</td>\n",
       "      <td>5.361493692197752e-06</td>\n",
       "    </tr>\n",
       "    <tr>\n",
       "      <th>5</th>\n",
       "      <td>(W0, W1, W2, W3, W4, 0, 0, 1, 0, 1)</td>\n",
       "      <td>0.999995</td>\n",
       "      <td>5.361493692197752e-06</td>\n",
       "    </tr>\n",
       "    <tr>\n",
       "      <th>6</th>\n",
       "      <td>(W0, W1, W2, W3, W4, 0, 0, 1, 1, 0)</td>\n",
       "      <td>0.497351</td>\n",
       "      <td>0.502649</td>\n",
       "    </tr>\n",
       "    <tr>\n",
       "      <th>7</th>\n",
       "      <td>(W0, W1, W2, W3, W4, 0, 0, 1, 1, 1)</td>\n",
       "      <td>0.497351</td>\n",
       "      <td>0.502649</td>\n",
       "    </tr>\n",
       "    <tr>\n",
       "      <th>8</th>\n",
       "      <td>(W0, W1, W2, W3, W4, 0, 1, 0, 0, 0)</td>\n",
       "      <td>0.998656</td>\n",
       "      <td>0.001344</td>\n",
       "    </tr>\n",
       "    <tr>\n",
       "      <th>9</th>\n",
       "      <td>(W0, W1, W2, W3, W4, 0, 1, 0, 0, 1)</td>\n",
       "      <td>0.998656</td>\n",
       "      <td>0.001344</td>\n",
       "    </tr>\n",
       "    <tr>\n",
       "      <th>10</th>\n",
       "      <td>(W0, W1, W2, W3, W4, 0, 1, 0, 1, 0)</td>\n",
       "      <td>0.003927</td>\n",
       "      <td>0.996073</td>\n",
       "    </tr>\n",
       "    <tr>\n",
       "      <th>11</th>\n",
       "      <td>(W0, W1, W2, W3, W4, 0, 1, 0, 1, 1)</td>\n",
       "      <td>0.003927</td>\n",
       "      <td>0.996073</td>\n",
       "    </tr>\n",
       "    <tr>\n",
       "      <th>12</th>\n",
       "      <td>(W0, W1, W2, W3, W4, 0, 1, 1, 0, 0)</td>\n",
       "      <td>1.000000</td>\n",
       "      <td>7.139177629413613e-09</td>\n",
       "    </tr>\n",
       "    <tr>\n",
       "      <th>13</th>\n",
       "      <td>(W0, W1, W2, W3, W4, 0, 1, 1, 0, 1)</td>\n",
       "      <td>1.000000</td>\n",
       "      <td>7.139177629413613e-09</td>\n",
       "    </tr>\n",
       "    <tr>\n",
       "      <th>14</th>\n",
       "      <td>(W0, W1, W2, W3, W4, 0, 1, 1, 1, 0)</td>\n",
       "      <td>0.998656</td>\n",
       "      <td>0.001344</td>\n",
       "    </tr>\n",
       "    <tr>\n",
       "      <th>15</th>\n",
       "      <td>(W0, W1, W2, W3, W4, 0, 1, 1, 1, 1)</td>\n",
       "      <td>0.998656</td>\n",
       "      <td>0.001344</td>\n",
       "    </tr>\n",
       "    <tr>\n",
       "      <th>16</th>\n",
       "      <td>(W0, W1, W2, W3, W4, 1, 0, 0, 0, 0)</td>\n",
       "      <td>0.003927</td>\n",
       "      <td>0.996073</td>\n",
       "    </tr>\n",
       "    <tr>\n",
       "      <th>17</th>\n",
       "      <td>(W0, W1, W2, W3, W4, 1, 0, 0, 0, 1)</td>\n",
       "      <td>0.003927</td>\n",
       "      <td>0.996073</td>\n",
       "    </tr>\n",
       "    <tr>\n",
       "      <th>18</th>\n",
       "      <td>(W0, W1, W2, W3, W4, 1, 0, 0, 1, 0)</td>\n",
       "      <td>2.091273453658085e-08</td>\n",
       "      <td>1.000000</td>\n",
       "    </tr>\n",
       "    <tr>\n",
       "      <th>19</th>\n",
       "      <td>(W0, W1, W2, W3, W4, 1, 0, 0, 1, 1)</td>\n",
       "      <td>2.091273453658085e-08</td>\n",
       "      <td>1.000000</td>\n",
       "    </tr>\n",
       "    <tr>\n",
       "      <th>20</th>\n",
       "      <td>(W0, W1, W2, W3, W4, 1, 0, 1, 0, 0)</td>\n",
       "      <td>0.998656</td>\n",
       "      <td>0.001344</td>\n",
       "    </tr>\n",
       "    <tr>\n",
       "      <th>21</th>\n",
       "      <td>(W0, W1, W2, W3, W4, 1, 0, 1, 0, 1)</td>\n",
       "      <td>0.998656</td>\n",
       "      <td>0.001344</td>\n",
       "    </tr>\n",
       "    <tr>\n",
       "      <th>22</th>\n",
       "      <td>(W0, W1, W2, W3, W4, 1, 0, 1, 1, 0)</td>\n",
       "      <td>0.003927</td>\n",
       "      <td>0.996073</td>\n",
       "    </tr>\n",
       "    <tr>\n",
       "      <th>23</th>\n",
       "      <td>(W0, W1, W2, W3, W4, 1, 0, 1, 1, 1)</td>\n",
       "      <td>0.003927</td>\n",
       "      <td>0.996073</td>\n",
       "    </tr>\n",
       "    <tr>\n",
       "      <th>24</th>\n",
       "      <td>(W0, W1, W2, W3, W4, 1, 1, 0, 0, 0)</td>\n",
       "      <td>0.747506</td>\n",
       "      <td>0.252494</td>\n",
       "    </tr>\n",
       "    <tr>\n",
       "      <th>25</th>\n",
       "      <td>(W0, W1, W2, W3, W4, 1, 1, 0, 0, 1)</td>\n",
       "      <td>0.747506</td>\n",
       "      <td>0.252494</td>\n",
       "    </tr>\n",
       "    <tr>\n",
       "      <th>26</th>\n",
       "      <td>(W0, W1, W2, W3, W4, 1, 1, 0, 1, 0)</td>\n",
       "      <td>1.5705217307691924e-05</td>\n",
       "      <td>0.999984</td>\n",
       "    </tr>\n",
       "    <tr>\n",
       "      <th>27</th>\n",
       "      <td>(W0, W1, W2, W3, W4, 1, 1, 0, 1, 1)</td>\n",
       "      <td>1.5705217307691924e-05</td>\n",
       "      <td>0.999984</td>\n",
       "    </tr>\n",
       "    <tr>\n",
       "      <th>28</th>\n",
       "      <td>(W0, W1, W2, W3, W4, 1, 1, 1, 0, 0)</td>\n",
       "      <td>0.999998</td>\n",
       "      <td>1.7919303867554844e-06</td>\n",
       "    </tr>\n",
       "    <tr>\n",
       "      <th>29</th>\n",
       "      <td>(W0, W1, W2, W3, W4, 1, 1, 1, 0, 1)</td>\n",
       "      <td>0.999998</td>\n",
       "      <td>1.7919303867554844e-06</td>\n",
       "    </tr>\n",
       "    <tr>\n",
       "      <th>30</th>\n",
       "      <td>(W0, W1, W2, W3, W4, 1, 1, 1, 1, 0)</td>\n",
       "      <td>0.747506</td>\n",
       "      <td>0.252494</td>\n",
       "    </tr>\n",
       "    <tr>\n",
       "      <th>31</th>\n",
       "      <td>(W0, W1, W2, W3, W4, 1, 1, 1, 1, 1)</td>\n",
       "      <td>0.747506</td>\n",
       "      <td>0.252494</td>\n",
       "    </tr>\n",
       "  </tbody>\n",
       "</table>\n",
       "</div>"
      ],
      "text/plain": [
       "                                  index               (Spam, 0)  \\\n",
       "0   (W0, W1, W2, W3, W4, 0, 0, 0, 0, 0)                0.497351   \n",
       "1   (W0, W1, W2, W3, W4, 0, 0, 0, 0, 1)                0.497351   \n",
       "2   (W0, W1, W2, W3, W4, 0, 0, 0, 1, 0)   5.249068925585543e-06   \n",
       "3   (W0, W1, W2, W3, W4, 0, 0, 0, 1, 1)   5.249068925585543e-06   \n",
       "4   (W0, W1, W2, W3, W4, 0, 0, 1, 0, 0)                0.999995   \n",
       "5   (W0, W1, W2, W3, W4, 0, 0, 1, 0, 1)                0.999995   \n",
       "6   (W0, W1, W2, W3, W4, 0, 0, 1, 1, 0)                0.497351   \n",
       "7   (W0, W1, W2, W3, W4, 0, 0, 1, 1, 1)                0.497351   \n",
       "8   (W0, W1, W2, W3, W4, 0, 1, 0, 0, 0)                0.998656   \n",
       "9   (W0, W1, W2, W3, W4, 0, 1, 0, 0, 1)                0.998656   \n",
       "10  (W0, W1, W2, W3, W4, 0, 1, 0, 1, 0)                0.003927   \n",
       "11  (W0, W1, W2, W3, W4, 0, 1, 0, 1, 1)                0.003927   \n",
       "12  (W0, W1, W2, W3, W4, 0, 1, 1, 0, 0)                1.000000   \n",
       "13  (W0, W1, W2, W3, W4, 0, 1, 1, 0, 1)                1.000000   \n",
       "14  (W0, W1, W2, W3, W4, 0, 1, 1, 1, 0)                0.998656   \n",
       "15  (W0, W1, W2, W3, W4, 0, 1, 1, 1, 1)                0.998656   \n",
       "16  (W0, W1, W2, W3, W4, 1, 0, 0, 0, 0)                0.003927   \n",
       "17  (W0, W1, W2, W3, W4, 1, 0, 0, 0, 1)                0.003927   \n",
       "18  (W0, W1, W2, W3, W4, 1, 0, 0, 1, 0)   2.091273453658085e-08   \n",
       "19  (W0, W1, W2, W3, W4, 1, 0, 0, 1, 1)   2.091273453658085e-08   \n",
       "20  (W0, W1, W2, W3, W4, 1, 0, 1, 0, 0)                0.998656   \n",
       "21  (W0, W1, W2, W3, W4, 1, 0, 1, 0, 1)                0.998656   \n",
       "22  (W0, W1, W2, W3, W4, 1, 0, 1, 1, 0)                0.003927   \n",
       "23  (W0, W1, W2, W3, W4, 1, 0, 1, 1, 1)                0.003927   \n",
       "24  (W0, W1, W2, W3, W4, 1, 1, 0, 0, 0)                0.747506   \n",
       "25  (W0, W1, W2, W3, W4, 1, 1, 0, 0, 1)                0.747506   \n",
       "26  (W0, W1, W2, W3, W4, 1, 1, 0, 1, 0)  1.5705217307691924e-05   \n",
       "27  (W0, W1, W2, W3, W4, 1, 1, 0, 1, 1)  1.5705217307691924e-05   \n",
       "28  (W0, W1, W2, W3, W4, 1, 1, 1, 0, 0)                0.999998   \n",
       "29  (W0, W1, W2, W3, W4, 1, 1, 1, 0, 1)                0.999998   \n",
       "30  (W0, W1, W2, W3, W4, 1, 1, 1, 1, 0)                0.747506   \n",
       "31  (W0, W1, W2, W3, W4, 1, 1, 1, 1, 1)                0.747506   \n",
       "\n",
       "                 (Spam, 1)  \n",
       "0                 0.502649  \n",
       "1                 0.502649  \n",
       "2                 0.999995  \n",
       "3                 0.999995  \n",
       "4    5.361493692197752e-06  \n",
       "5    5.361493692197752e-06  \n",
       "6                 0.502649  \n",
       "7                 0.502649  \n",
       "8                 0.001344  \n",
       "9                 0.001344  \n",
       "10                0.996073  \n",
       "11                0.996073  \n",
       "12   7.139177629413613e-09  \n",
       "13   7.139177629413613e-09  \n",
       "14                0.001344  \n",
       "15                0.001344  \n",
       "16                0.996073  \n",
       "17                0.996073  \n",
       "18                1.000000  \n",
       "19                1.000000  \n",
       "20                0.001344  \n",
       "21                0.001344  \n",
       "22                0.996073  \n",
       "23                0.996073  \n",
       "24                0.252494  \n",
       "25                0.252494  \n",
       "26                0.999984  \n",
       "27                0.999984  \n",
       "28  1.7919303867554844e-06  \n",
       "29  1.7919303867554844e-06  \n",
       "30                0.252494  \n",
       "31                0.252494  "
      ]
     },
     "execution_count": 35,
     "metadata": {},
     "output_type": "execute_result"
    }
   ],
   "source": [
    "PSpam_WS=Q_Spam.query([Spam],[d.var for d in P_W_Spam])\n",
    "df1=PSpam_WS.to_Frame(formateo=True)\n",
    "df1.reset_index()"
   ]
  },
  {
   "cell_type": "code",
   "execution_count": null,
   "id": "770b9f75-de56-46cb-9427-afd82a60ef41",
   "metadata": {},
   "outputs": [
    {
     "name": "stdout",
     "output_type": "stream",
     "text": [
      "computing conditional: P(Spam|W0,W1,W2,W3,W4)\n"
     ]
    },
    {
     "data": {
      "text/html": [
       "<div>\n",
       "<style scoped>\n",
       "    .dataframe tbody tr th:only-of-type {\n",
       "        vertical-align: middle;\n",
       "    }\n",
       "\n",
       "    .dataframe tbody tr th {\n",
       "        vertical-align: top;\n",
       "    }\n",
       "\n",
       "    .dataframe thead tr th {\n",
       "        text-align: left;\n",
       "    }\n",
       "</style>\n",
       "<table border=\"1\" class=\"dataframe\">\n",
       "  <thead>\n",
       "    <tr>\n",
       "      <th></th>\n",
       "      <th>(Spam, 0)</th>\n",
       "      <th>(Spam, 1)</th>\n",
       "    </tr>\n",
       "  </thead>\n",
       "  <tbody>\n",
       "    <tr>\n",
       "      <th>(W0, W1, W2, W3, W4, 0, 0, 0, 0, 0)</th>\n",
       "      <td>0.497351</td>\n",
       "      <td>0.502649</td>\n",
       "    </tr>\n",
       "    <tr>\n",
       "      <th>(W0, W1, W2, W3, W4, 0, 0, 0, 0, 1)</th>\n",
       "      <td>0.497351</td>\n",
       "      <td>0.502649</td>\n",
       "    </tr>\n",
       "    <tr>\n",
       "      <th>(W0, W1, W2, W3, W4, 0, 0, 0, 1, 0)</th>\n",
       "      <td>5.249068925585543e-06</td>\n",
       "      <td>0.999995</td>\n",
       "    </tr>\n",
       "    <tr>\n",
       "      <th>(W0, W1, W2, W3, W4, 0, 0, 0, 1, 1)</th>\n",
       "      <td>5.249068925585543e-06</td>\n",
       "      <td>0.999995</td>\n",
       "    </tr>\n",
       "    <tr>\n",
       "      <th>(W0, W1, W2, W3, W4, 0, 0, 1, 0, 0)</th>\n",
       "      <td>0.999995</td>\n",
       "      <td>5.361493692197752e-06</td>\n",
       "    </tr>\n",
       "    <tr>\n",
       "      <th>(W0, W1, W2, W3, W4, 0, 0, 1, 0, 1)</th>\n",
       "      <td>0.999995</td>\n",
       "      <td>5.361493692197752e-06</td>\n",
       "    </tr>\n",
       "    <tr>\n",
       "      <th>(W0, W1, W2, W3, W4, 0, 0, 1, 1, 0)</th>\n",
       "      <td>0.497351</td>\n",
       "      <td>0.502649</td>\n",
       "    </tr>\n",
       "    <tr>\n",
       "      <th>(W0, W1, W2, W3, W4, 0, 0, 1, 1, 1)</th>\n",
       "      <td>0.497351</td>\n",
       "      <td>0.502649</td>\n",
       "    </tr>\n",
       "    <tr>\n",
       "      <th>(W0, W1, W2, W3, W4, 0, 1, 0, 0, 0)</th>\n",
       "      <td>0.998656</td>\n",
       "      <td>0.001344</td>\n",
       "    </tr>\n",
       "    <tr>\n",
       "      <th>(W0, W1, W2, W3, W4, 0, 1, 0, 0, 1)</th>\n",
       "      <td>0.998656</td>\n",
       "      <td>0.001344</td>\n",
       "    </tr>\n",
       "    <tr>\n",
       "      <th>(W0, W1, W2, W3, W4, 0, 1, 0, 1, 0)</th>\n",
       "      <td>0.003927</td>\n",
       "      <td>0.996073</td>\n",
       "    </tr>\n",
       "    <tr>\n",
       "      <th>(W0, W1, W2, W3, W4, 0, 1, 0, 1, 1)</th>\n",
       "      <td>0.003927</td>\n",
       "      <td>0.996073</td>\n",
       "    </tr>\n",
       "    <tr>\n",
       "      <th>(W0, W1, W2, W3, W4, 0, 1, 1, 0, 0)</th>\n",
       "      <td>1.000000</td>\n",
       "      <td>7.139177629413613e-09</td>\n",
       "    </tr>\n",
       "    <tr>\n",
       "      <th>(W0, W1, W2, W3, W4, 0, 1, 1, 0, 1)</th>\n",
       "      <td>1.000000</td>\n",
       "      <td>7.139177629413613e-09</td>\n",
       "    </tr>\n",
       "    <tr>\n",
       "      <th>(W0, W1, W2, W3, W4, 0, 1, 1, 1, 0)</th>\n",
       "      <td>0.998656</td>\n",
       "      <td>0.001344</td>\n",
       "    </tr>\n",
       "    <tr>\n",
       "      <th>(W0, W1, W2, W3, W4, 0, 1, 1, 1, 1)</th>\n",
       "      <td>0.998656</td>\n",
       "      <td>0.001344</td>\n",
       "    </tr>\n",
       "    <tr>\n",
       "      <th>(W0, W1, W2, W3, W4, 1, 0, 0, 0, 0)</th>\n",
       "      <td>0.003927</td>\n",
       "      <td>0.996073</td>\n",
       "    </tr>\n",
       "    <tr>\n",
       "      <th>(W0, W1, W2, W3, W4, 1, 0, 0, 0, 1)</th>\n",
       "      <td>0.003927</td>\n",
       "      <td>0.996073</td>\n",
       "    </tr>\n",
       "    <tr>\n",
       "      <th>(W0, W1, W2, W3, W4, 1, 0, 0, 1, 0)</th>\n",
       "      <td>2.091273453658085e-08</td>\n",
       "      <td>1.000000</td>\n",
       "    </tr>\n",
       "    <tr>\n",
       "      <th>(W0, W1, W2, W3, W4, 1, 0, 0, 1, 1)</th>\n",
       "      <td>2.091273453658085e-08</td>\n",
       "      <td>1.000000</td>\n",
       "    </tr>\n",
       "    <tr>\n",
       "      <th>(W0, W1, W2, W3, W4, 1, 0, 1, 0, 0)</th>\n",
       "      <td>0.998656</td>\n",
       "      <td>0.001344</td>\n",
       "    </tr>\n",
       "    <tr>\n",
       "      <th>(W0, W1, W2, W3, W4, 1, 0, 1, 0, 1)</th>\n",
       "      <td>0.998656</td>\n",
       "      <td>0.001344</td>\n",
       "    </tr>\n",
       "    <tr>\n",
       "      <th>(W0, W1, W2, W3, W4, 1, 0, 1, 1, 0)</th>\n",
       "      <td>0.003927</td>\n",
       "      <td>0.996073</td>\n",
       "    </tr>\n",
       "    <tr>\n",
       "      <th>(W0, W1, W2, W3, W4, 1, 0, 1, 1, 1)</th>\n",
       "      <td>0.003927</td>\n",
       "      <td>0.996073</td>\n",
       "    </tr>\n",
       "    <tr>\n",
       "      <th>(W0, W1, W2, W3, W4, 1, 1, 0, 0, 0)</th>\n",
       "      <td>0.747506</td>\n",
       "      <td>0.252494</td>\n",
       "    </tr>\n",
       "    <tr>\n",
       "      <th>(W0, W1, W2, W3, W4, 1, 1, 0, 0, 1)</th>\n",
       "      <td>0.747506</td>\n",
       "      <td>0.252494</td>\n",
       "    </tr>\n",
       "    <tr>\n",
       "      <th>(W0, W1, W2, W3, W4, 1, 1, 0, 1, 0)</th>\n",
       "      <td>1.5705217307691924e-05</td>\n",
       "      <td>0.999984</td>\n",
       "    </tr>\n",
       "    <tr>\n",
       "      <th>(W0, W1, W2, W3, W4, 1, 1, 0, 1, 1)</th>\n",
       "      <td>1.5705217307691924e-05</td>\n",
       "      <td>0.999984</td>\n",
       "    </tr>\n",
       "    <tr>\n",
       "      <th>(W0, W1, W2, W3, W4, 1, 1, 1, 0, 0)</th>\n",
       "      <td>0.999998</td>\n",
       "      <td>1.7919303867554844e-06</td>\n",
       "    </tr>\n",
       "    <tr>\n",
       "      <th>(W0, W1, W2, W3, W4, 1, 1, 1, 0, 1)</th>\n",
       "      <td>0.999998</td>\n",
       "      <td>1.7919303867554844e-06</td>\n",
       "    </tr>\n",
       "    <tr>\n",
       "      <th>(W0, W1, W2, W3, W4, 1, 1, 1, 1, 0)</th>\n",
       "      <td>0.747506</td>\n",
       "      <td>0.252494</td>\n",
       "    </tr>\n",
       "    <tr>\n",
       "      <th>(W0, W1, W2, W3, W4, 1, 1, 1, 1, 1)</th>\n",
       "      <td>0.747506</td>\n",
       "      <td>0.252494</td>\n",
       "    </tr>\n",
       "  </tbody>\n",
       "</table>\n",
       "</div>"
      ],
      "text/plain": [
       "                                                  (Spam, 0)  \\\n",
       "(W0, W1, W2, W3, W4, 0, 0, 0, 0, 0)                0.497351   \n",
       "(W0, W1, W2, W3, W4, 0, 0, 0, 0, 1)                0.497351   \n",
       "(W0, W1, W2, W3, W4, 0, 0, 0, 1, 0)   5.249068925585543e-06   \n",
       "(W0, W1, W2, W3, W4, 0, 0, 0, 1, 1)   5.249068925585543e-06   \n",
       "(W0, W1, W2, W3, W4, 0, 0, 1, 0, 0)                0.999995   \n",
       "(W0, W1, W2, W3, W4, 0, 0, 1, 0, 1)                0.999995   \n",
       "(W0, W1, W2, W3, W4, 0, 0, 1, 1, 0)                0.497351   \n",
       "(W0, W1, W2, W3, W4, 0, 0, 1, 1, 1)                0.497351   \n",
       "(W0, W1, W2, W3, W4, 0, 1, 0, 0, 0)                0.998656   \n",
       "(W0, W1, W2, W3, W4, 0, 1, 0, 0, 1)                0.998656   \n",
       "(W0, W1, W2, W3, W4, 0, 1, 0, 1, 0)                0.003927   \n",
       "(W0, W1, W2, W3, W4, 0, 1, 0, 1, 1)                0.003927   \n",
       "(W0, W1, W2, W3, W4, 0, 1, 1, 0, 0)                1.000000   \n",
       "(W0, W1, W2, W3, W4, 0, 1, 1, 0, 1)                1.000000   \n",
       "(W0, W1, W2, W3, W4, 0, 1, 1, 1, 0)                0.998656   \n",
       "(W0, W1, W2, W3, W4, 0, 1, 1, 1, 1)                0.998656   \n",
       "(W0, W1, W2, W3, W4, 1, 0, 0, 0, 0)                0.003927   \n",
       "(W0, W1, W2, W3, W4, 1, 0, 0, 0, 1)                0.003927   \n",
       "(W0, W1, W2, W3, W4, 1, 0, 0, 1, 0)   2.091273453658085e-08   \n",
       "(W0, W1, W2, W3, W4, 1, 0, 0, 1, 1)   2.091273453658085e-08   \n",
       "(W0, W1, W2, W3, W4, 1, 0, 1, 0, 0)                0.998656   \n",
       "(W0, W1, W2, W3, W4, 1, 0, 1, 0, 1)                0.998656   \n",
       "(W0, W1, W2, W3, W4, 1, 0, 1, 1, 0)                0.003927   \n",
       "(W0, W1, W2, W3, W4, 1, 0, 1, 1, 1)                0.003927   \n",
       "(W0, W1, W2, W3, W4, 1, 1, 0, 0, 0)                0.747506   \n",
       "(W0, W1, W2, W3, W4, 1, 1, 0, 0, 1)                0.747506   \n",
       "(W0, W1, W2, W3, W4, 1, 1, 0, 1, 0)  1.5705217307691924e-05   \n",
       "(W0, W1, W2, W3, W4, 1, 1, 0, 1, 1)  1.5705217307691924e-05   \n",
       "(W0, W1, W2, W3, W4, 1, 1, 1, 0, 0)                0.999998   \n",
       "(W0, W1, W2, W3, W4, 1, 1, 1, 0, 1)                0.999998   \n",
       "(W0, W1, W2, W3, W4, 1, 1, 1, 1, 0)                0.747506   \n",
       "(W0, W1, W2, W3, W4, 1, 1, 1, 1, 1)                0.747506   \n",
       "\n",
       "                                                  (Spam, 1)  \n",
       "(W0, W1, W2, W3, W4, 0, 0, 0, 0, 0)                0.502649  \n",
       "(W0, W1, W2, W3, W4, 0, 0, 0, 0, 1)                0.502649  \n",
       "(W0, W1, W2, W3, W4, 0, 0, 0, 1, 0)                0.999995  \n",
       "(W0, W1, W2, W3, W4, 0, 0, 0, 1, 1)                0.999995  \n",
       "(W0, W1, W2, W3, W4, 0, 0, 1, 0, 0)   5.361493692197752e-06  \n",
       "(W0, W1, W2, W3, W4, 0, 0, 1, 0, 1)   5.361493692197752e-06  \n",
       "(W0, W1, W2, W3, W4, 0, 0, 1, 1, 0)                0.502649  \n",
       "(W0, W1, W2, W3, W4, 0, 0, 1, 1, 1)                0.502649  \n",
       "(W0, W1, W2, W3, W4, 0, 1, 0, 0, 0)                0.001344  \n",
       "(W0, W1, W2, W3, W4, 0, 1, 0, 0, 1)                0.001344  \n",
       "(W0, W1, W2, W3, W4, 0, 1, 0, 1, 0)                0.996073  \n",
       "(W0, W1, W2, W3, W4, 0, 1, 0, 1, 1)                0.996073  \n",
       "(W0, W1, W2, W3, W4, 0, 1, 1, 0, 0)   7.139177629413613e-09  \n",
       "(W0, W1, W2, W3, W4, 0, 1, 1, 0, 1)   7.139177629413613e-09  \n",
       "(W0, W1, W2, W3, W4, 0, 1, 1, 1, 0)                0.001344  \n",
       "(W0, W1, W2, W3, W4, 0, 1, 1, 1, 1)                0.001344  \n",
       "(W0, W1, W2, W3, W4, 1, 0, 0, 0, 0)                0.996073  \n",
       "(W0, W1, W2, W3, W4, 1, 0, 0, 0, 1)                0.996073  \n",
       "(W0, W1, W2, W3, W4, 1, 0, 0, 1, 0)                1.000000  \n",
       "(W0, W1, W2, W3, W4, 1, 0, 0, 1, 1)                1.000000  \n",
       "(W0, W1, W2, W3, W4, 1, 0, 1, 0, 0)                0.001344  \n",
       "(W0, W1, W2, W3, W4, 1, 0, 1, 0, 1)                0.001344  \n",
       "(W0, W1, W2, W3, W4, 1, 0, 1, 1, 0)                0.996073  \n",
       "(W0, W1, W2, W3, W4, 1, 0, 1, 1, 1)                0.996073  \n",
       "(W0, W1, W2, W3, W4, 1, 1, 0, 0, 0)                0.252494  \n",
       "(W0, W1, W2, W3, W4, 1, 1, 0, 0, 1)                0.252494  \n",
       "(W0, W1, W2, W3, W4, 1, 1, 0, 1, 0)                0.999984  \n",
       "(W0, W1, W2, W3, W4, 1, 1, 0, 1, 1)                0.999984  \n",
       "(W0, W1, W2, W3, W4, 1, 1, 1, 0, 0)  1.7919303867554844e-06  \n",
       "(W0, W1, W2, W3, W4, 1, 1, 1, 0, 1)  1.7919303867554844e-06  \n",
       "(W0, W1, W2, W3, W4, 1, 1, 1, 1, 0)                0.252494  \n",
       "(W0, W1, W2, W3, W4, 1, 1, 1, 1, 1)                0.252494  "
      ]
     },
     "execution_count": 36,
     "metadata": {},
     "output_type": "execute_result"
    }
   ],
   "source": [
    "PSpam_WS=Q_Spam.query([Spam],[d.var for d in P_W_Spam])\n",
    "df2=PSpam_WS.to_Frame(formateo=True)\n",
    "df2"
   ]
  },
  {
   "cell_type": "markdown",
   "id": "3d6b7ba2-c2e8-4066-aa3b-57a8c3c5673b",
   "metadata": {},
   "source": [
    "## TAREA PARA ENTREGAR (INDIVIDUAL)"
   ]
  },
  {
   "cell_type": "markdown",
   "id": "6b449928-b5ba-4727-b5a9-e3cbb0e054be",
   "metadata": {},
   "source": [
    "#### Planteamiento\n",
    "\n",
    "Una compañía sabe que la contratación profesional de un candidato se efectúa luego de una entrevista, que se lleva a cabo en función de las calificaciones reportadas en el certificado del candidato y si éste tiene experiencia laboral o no. Generalmente, sólo se consideran los candidatos con calificaciones sobresalientes o regulares, y la entrevista arroja típicamente tres tipos de apreciación."
   ]
  },
  {
   "cell_type": "markdown",
   "id": "952bdee1-eeb1-4960-9684-a10f7de28586",
   "metadata": {},
   "source": [
    "La compañía ha elaborado el siguiente modelo de contratación:\n",
    "\n",
    "$\\;\\;\\;\\;\\;\\;\\;\\;\\;\\;\\;\\;$<img src=\"./MODELO_TAREA.jpg\" width=300/>"
   ]
  },
  {
   "cell_type": "markdown",
   "id": "fca228ee-18a5-49dd-9d43-bb0b4a4495ab",
   "metadata": {},
   "source": [
    "La compañía ha recolectado datos históricos de los últimos 5 años sobre la evaluación de 500 candidatos y sabe que la proporción de candidatos con calificaciones regulares es del 30%, mientras que los candidatos con experiencia laboral representan el 60%. En la mejor condición, con calificaciones sobresalientes y experiencia laboral, los candidatos obtienen la más alta apreciación en la entrevista en un 80%, y la peor apreciación en un 2% de los casos. Estos porcentajes cambian respectivamente a 30% y 10% cuando las calificaciones no son las mejores, pero sí hay experiencia, y ambas son del 30% con calificaciones sobresalientes pero sin experiencia. En el peor caso, con calificaciones regulares y sin experiencia, los candidatos obtienen la mejor apreciación en la entrevista en un 10% y la peor en un 70%. Por último, se sabe que la tasa de candidatos rechazados es de un 10% cuando obtienen una apreciación favorable, un 60% cuando obtienen una apreciación regular, y un 99% cuando obtienen una apreciación desfavorable en la entrevista."
   ]
  },
  {
   "cell_type": "markdown",
   "id": "6a600ef9-797a-47f4-b2a8-364b88f28356",
   "metadata": {
    "tags": []
   },
   "source": [
    "#### Ojetivos\n",
    "La compañía desea saber:\n",
    "1. Cuál es su tasa de contratación (i.e. cuál es la probabilidad de ser contratado).\n",
    "2. Cuantos candidatos ha contratado la compañía en los últimos 5 años.\n",
    "3. Cuál es la tasa de apreciaciones favorables en la compañía.\n",
    "4. Cuál es la tasa de apreciaciones regulares dado que se contrata a alguien. \n",
    "5. Cuantos de los candidatos contratados obtuvieron una apreciación favorable.\n",
    "6. Cuantos de los candidatos contratados obtuvieron una apreciación regular.\n",
    "7. Cómo se distribuye la contratación de candidatos en función de sus calificaciones.\n",
    "8. Cómo se distribuye la contratación de candidatos en función de su experiencia.\n",
    "9. Cuál es la probabilidad de que alguien con experiencia laboral tenga calificaciones sobresalientes.\n",
    "10. Cuál es la distribución conjunta del personal contratado y la apreciación de la entrevista. \n",
    "11. ¿Diría usted que la compañía está haciendo bien su trabajo de contratación? Explique. "
   ]
  },
  {
   "cell_type": "code",
   "execution_count": null,
   "id": "1eb7e27e-f17c-418b-80c5-736c9fd2dedd",
   "metadata": {},
   "outputs": [],
   "source": []
  }
 ],
 "metadata": {
  "kernelspec": {
   "display_name": "Python 3",
   "language": "python",
   "name": "python3"
  },
  "language_info": {
   "codemirror_mode": {
    "name": "ipython",
    "version": 3
   },
   "file_extension": ".py",
   "mimetype": "text/x-python",
   "name": "python",
   "nbconvert_exporter": "python",
   "pygments_lexer": "ipython3",
   "version": "3.10.12"
  }
 },
 "nbformat": 4,
 "nbformat_minor": 5
}
