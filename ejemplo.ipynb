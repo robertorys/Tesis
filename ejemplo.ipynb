{
 "cells": [
  {
   "cell_type": "code",
   "execution_count": 1,
   "metadata": {},
   "outputs": [],
   "source": [
    "import mib_v2 as mb"
   ]
  },
  {
   "cell_type": "code",
   "execution_count": 2,
   "metadata": {},
   "outputs": [
    {
     "name": "stdout",
     "output_type": "stream",
     "text": [
      "   A  probability\n",
      "0  0          0.3\n",
      "1  1          0.7\n",
      "Consulta no valida\n",
      "None\n",
      "   C  B  probability\n",
      "0  2  1          0.2\n"
     ]
    }
   ],
   "source": [
    "import mib_v2_1_1 as mb\n",
    "import pandas as pd\n",
    "# Declaración de variables\n",
    "A = mb.Var('A', set([0,1]))\n",
    "B = mb.Var('B', set([0,1]))\n",
    "C = mb.Var('C', set([0,1,2]))\n",
    "\n",
    "\n",
    "tA = [\n",
    "    [0, 0.3],\n",
    "    [1, 0.7]\n",
    "]\n",
    "dA = mb.Distrib(set([A]), pd.DataFrame(tA, columns=['A','probability']))\n",
    "\n",
    "tB_A = [\n",
    "    [0, 0, 0.2],\n",
    "    [0, 1, 0.8],\n",
    "    [1, 0, 0.3],\n",
    "    [1, 1, 0.7]\n",
    "]\n",
    "dB_A = mb.CondDistrib(set([A]),set([B]),pd.DataFrame(tB_A, columns=['A','B','probability']))\n",
    "\n",
    "tC_AB = [\n",
    "    [0, 0, 0, 0.1],\n",
    "    [0, 0, 1, 0.8],\n",
    "    [0, 0, 2, 0.1],\n",
    "    [0, 1, 0, 0.3],\n",
    "    [0, 1, 1, 0.5],\n",
    "    [0, 1, 2, 0.2],\n",
    "    [1, 0, 0, 0.4],\n",
    "    [1, 0, 1, 0.5],\n",
    "    [1, 0, 2, 0.1],\n",
    "    [1, 1, 0, 0.1],\n",
    "    [1, 1, 1, 0.7],\n",
    "    [1, 1, 2, 0.2]\n",
    "]\n",
    "dC_AB = mb.CondDistrib(set([C]),set([A,B]),pd.DataFrame(tC_AB, columns=['A','B','C','probability']))\n",
    "\n",
    "PABC = mb.Specification(set([A,B,C]),set([dA, dB_A, dC_AB]))\n",
    "\n",
    "Q_ABC = mb.Question(PABC)\n",
    "\n",
    "print(Q_ABC.DistributionQuery(set([A])).table)\n",
    "print(Q_ABC.Query(vars=set([A])))\n",
    "print(Q_ABC.Query(vars=set([C]),indep=set([B]),values=[2]))"
   ]
  },
  {
   "cell_type": "markdown",
   "metadata": {},
   "source": [
    "# Ejemplo de uso"
   ]
  },
  {
   "cell_type": "markdown",
   "metadata": {},
   "source": [
    "## Modelo de un problema\n",
    "$P(ABC) = P(A)P(B|A)P(C|AB)$.\n",
    "### Probabilidades"
   ]
  },
  {
   "cell_type": "markdown",
   "metadata": {},
   "source": [
    "<table width=\"90%\">\n",
    "    <tr>\n",
    "        <td valign=\"top\">\n",
    "            <table width=\"50%\">\n",
    "              <tr>\n",
    "                <th> $A$</th>\n",
    "                <th><p style=\"text-align:center;\"> $P(A)$</p></th>\n",
    "              </tr>\n",
    "              <tr>\n",
    "                <td><p style=\"text-align:center;\">$0$</p></td>\n",
    "                <td><p style=\"text-align:center;\">$0.3$</p></td>\n",
    "              </tr>\n",
    "              <tr>\n",
    "                <td><p style=\"text-align:center;\">$1$</p></td>\n",
    "                <td><p style=\"text-align:center;\">$0.7$</p></td>\n",
    "              </tr>\n",
    "            </table>\n",
    "        </td>\n",
    "        <td valign=\"top\">\n",
    "            <table width=\"60%\">\n",
    "              <tr>\n",
    "                <td style=\"height:1px;\"> &nbsp;</td>\n",
    "                <td colspan=\"2\"><p style=\"text-align:center;\">$P$($B$|$A$)</p></td>\n",
    "              </tr>\n",
    "              <tr>\n",
    "                <td>$A$</td>\n",
    "                <td><p style=\"text-align:center;\">$0$</p></td>\n",
    "                <td><p style=\"text-align:center;\">$1$</p></td>\n",
    "              </tr>\n",
    "              <tr>\n",
    "                <td><p style=\"text-align:center;\">$0$</p></td>\n",
    "                <td><p style=\"text-align:center;\">$0.2$</p></td>\n",
    "                <td><p style=\"text-align:center;\">$0.8$</p></td>\n",
    "              </tr>\n",
    "              <tr>\n",
    "                <td><p style=\"text-align:center;\">$1$</p></td>\n",
    "                <td><p style=\"text-align:center;\">$0.3$</p></td>\n",
    "                <td><p style=\"text-align:center;\">$0.7$</p></td>\n",
    "              </tr>\n",
    "            </table>        \n",
    "        </td>\n",
    "        <td valign=\"top\">\n",
    "            <table width=\"90%\">\n",
    "              <tr>\n",
    "                <td style=\"height:1px;\"> &nbsp;</td>\n",
    "                <td colspan=\"2\"><p style=\"text-align:center;\">$P$($C$|$AB$)</p></td>\n",
    "              </tr>\n",
    "              <tr>\n",
    "                <td>$AB$</td>\n",
    "                <td><p style=\"text-align:center;\">$0$</p></td>\n",
    "                <td><p style=\"text-align:center;\">$1$</p></td>\n",
    "                <td><p style=\"text-align:center;\">$2$</p></td>\n",
    "              </tr>\n",
    "              <tr>\n",
    "                <td><p style=\"text-align:center;\">$00$</p></td>\n",
    "                <td><p style=\"text-align:center;\">$0.1$</p></td>\n",
    "                <td><p style=\"text-align:center;\">$0.8$</p></td>\n",
    "                <td><p style=\"text-align:center;\">$0.1$</p></td>\n",
    "              </tr>\n",
    "              <tr>\n",
    "                <td><p style=\"text-align:center;\">$01$</p></td>\n",
    "                <td><p style=\"text-align:center;\">$0.3$</p></td>\n",
    "                <td><p style=\"text-align:center;\">$0.5$</p></td>\n",
    "                <td><p style=\"text-align:center;\">$0.2$</p></td>\n",
    "              </tr>\n",
    "              <tr>\n",
    "                <td><p style=\"text-align:center;\">$10$</p></td>\n",
    "                <td><p style=\"text-align:center;\">$0.4$</p></td>\n",
    "                <td><p style=\"text-align:center;\">$0.5$</p></td>\n",
    "                <td><p style=\"text-align:center;\">$0.1$</p></td>\n",
    "              </tr>\n",
    "              <tr>\n",
    "                <td><p style=\"text-align:center;\">$11$</p></td>\n",
    "                <td><p style=\"text-align:center;\">$0.1$</p></td>\n",
    "                <td><p style=\"text-align:center;\">$0.7$</p></td>\n",
    "                <td><p style=\"text-align:center;\">$0.2$</p></td>\n",
    "              </tr>\n",
    "            </table>        \n",
    "        </td>\n",
    "    </tr>\n",
    "</table>"
   ]
  },
  {
   "cell_type": "markdown",
   "metadata": {},
   "source": [
    "## Creación de datos\n",
    "### Declaración de diccionarios"
   ]
  },
  {
   "cell_type": "code",
   "execution_count": null,
   "metadata": {},
   "outputs": [],
   "source": [
    "dA = {\n",
    "    0:0.3,\n",
    "    1:0.7\n",
    "}\n",
    "\n",
    "# {(variables independientes): {variables: p}}\n",
    "# {(A,):{B: P(B|A)}}\n",
    "dB_A = {\n",
    "    (0,):{0:.2,1:.8},\n",
    "    (1,):{0:.3,1:.7}\n",
    "}\n",
    "\n",
    "# {(A,B):{C: P(C|A,B)}}\n",
    "dC_AB = {\n",
    "    (0,0): {0: 0.1, 1: 0.8, 2: 0.1},\n",
    "    (0,1): {0: 0.3, 1: 0.5, 2:0.2},\n",
    "    (1,0): {0: 0.4, 1: 0.5, 2: 0.1},\n",
    "    (1,1): {0: 0.2, 1: 0.7, 2: 0.2}\n",
    "    }"
   ]
  },
  {
   "cell_type": "markdown",
   "metadata": {},
   "source": [
    "### Declaración de variables"
   ]
  },
  {
   "cell_type": "code",
   "execution_count": null,
   "metadata": {},
   "outputs": [],
   "source": [
    "A = mb.Var(set([0,1]))\n",
    "B = mb.Var(set([0,1]))\n",
    "C = mb.Var(set([0,1,2]))"
   ]
  },
  {
   "cell_type": "markdown",
   "metadata": {},
   "source": [
    "### Declaración de distribuciones "
   ]
  },
  {
   "cell_type": "code",
   "execution_count": null,
   "metadata": {},
   "outputs": [],
   "source": [
    "# P(A)\n",
    "PA = mb.Distrib(A,dA)\n",
    "# P(B|A)\n",
    "PB_A = mb.CondDistrib(B,[A],dB_A)\n",
    "# P(C|AB)\n",
    "PC_AB = mb.CondDistrib(C,[A,B],dC_AB)"
   ]
  },
  {
   "cell_type": "markdown",
   "metadata": {},
   "source": [
    "## Creación del motor de inferencia "
   ]
  },
  {
   "cell_type": "code",
   "execution_count": null,
   "metadata": {},
   "outputs": [],
   "source": [
    "# Probabilidad conjunta (modelo)\n",
    "PABC = mb.Model([A,B,C], [PA, PB_A, PC_AB])\n",
    "\n",
    "# Motor de inferencia\n",
    "mib = mb.Mib(PABC)"
   ]
  },
  {
   "cell_type": "markdown",
   "metadata": {},
   "source": [
    "### Inferenica de margianles "
   ]
  },
  {
   "cell_type": "code",
   "execution_count": null,
   "metadata": {},
   "outputs": [
    {
     "name": "stdout",
     "output_type": "stream",
     "text": [
      "0.27\n",
      "0.7789999999999998\n"
     ]
    }
   ],
   "source": [
    "print(mib.MarginalInference_Event(B, 0))\n",
    "print(mib.MarginalInference_Event(B, 1))"
   ]
  },
  {
   "cell_type": "code",
   "execution_count": null,
   "metadata": {},
   "outputs": [
    {
     "name": "stdout",
     "output_type": "stream",
     "text": [
      "{0: 0.27, 1: 0.7789999999999998}\n"
     ]
    }
   ],
   "source": [
    "PB = mib.Marginal_Distrib(B)\n",
    "print(PB.table)"
   ]
  },
  {
   "cell_type": "code",
   "execution_count": null,
   "metadata": {},
   "outputs": [
    {
     "name": "stdout",
     "output_type": "stream",
     "text": [
      "{0: 0.26, 1: 0.6159999999999999, 2: 0.173}\n"
     ]
    }
   ],
   "source": [
    "PC = mib.Marginal_Distrib(C)\n",
    "print(PC.table)"
   ]
  },
  {
   "cell_type": "code",
   "execution_count": null,
   "metadata": {},
   "outputs": [
    {
     "data": {
      "text/plain": [
       "1.049"
      ]
     },
     "execution_count": 9,
     "metadata": {},
     "output_type": "execute_result"
    }
   ],
   "source": [
    "p = 0\n",
    "for k in PC.table.keys():\n",
    "    p += PC.table[k]\n",
    "p"
   ]
  },
  {
   "cell_type": "markdown",
   "metadata": {},
   "source": [
    "### Inferencia de condicionales"
   ]
  },
  {
   "cell_type": "code",
   "execution_count": null,
   "metadata": {},
   "outputs": [
    {
     "name": "stdout",
     "output_type": "stream",
     "text": [
      "0.2222222222222222\n",
      "0.7777777777777778\n"
     ]
    }
   ],
   "source": [
    "P0_BC = mib.CondInference_Event(A,0,set([B,C]),[0,2])\n",
    "print(P0_BC)\n",
    "P1_BC = mib.CondInference_Event(A,1,set([B,C]),[0,2])\n",
    "print(P1_BC)\n"
   ]
  },
  {
   "cell_type": "code",
   "execution_count": null,
   "metadata": {},
   "outputs": [
    {
     "name": "stdout",
     "output_type": "stream",
     "text": [
      "{0: 0.2222222222222222, 1: 0.7777777777777778}\n",
      "{0: 0.3137254901960784, 1: 0.6862745098039216}\n"
     ]
    }
   ],
   "source": [
    "PA_BC = mib.Cond_Obs(A, set([B,C]), [0,2])\n",
    "print(PA_BC)\n",
    "PA_BC = mib.Cond_Obs(A, set([B,C]), [0,1])\n",
    "print(PA_BC)"
   ]
  },
  {
   "cell_type": "code",
   "execution_count": null,
   "metadata": {},
   "outputs": [
    {
     "name": "stdout",
     "output_type": "stream",
     "text": [
      "{(0, 0): {0: 0.06666666666666667, 1: 0.9333333333333332}, (0, 1): {0: 0.3137254901960784, 1: 0.6862745098039216}, (0, 2): {0: 0.2222222222222222, 1: 0.7777777777777778}, (1, 0): {0: 0.4235294117647059, 1: 0.5764705882352941}, (1, 1): {0: 0.2591792656587473, 1: 0.7408207343412526}, (1, 2): {0: 0.32876712328767127, 1: 0.6712328767123288}}\n"
     ]
    }
   ],
   "source": [
    "PA_BC = mib.Cond_Dist(A, set([B,C]))\n",
    "print(PA_BC.table)"
   ]
  },
  {
   "cell_type": "code",
   "execution_count": null,
   "metadata": {},
   "outputs": [
    {
     "name": "stdout",
     "output_type": "stream",
     "text": [
      "          0                             1                    \n",
      "          0         1         2         0         1         2\n",
      "0  0.066667  0.313725  0.222222  0.423529  0.259179  0.328767\n",
      "1  0.933333  0.686275  0.777778  0.576471  0.740821  0.671233\n"
     ]
    }
   ],
   "source": [
    "import pandas as pd\n",
    "df = pd.DataFrame(PA_BC.table)\n",
    "print(df)"
   ]
  },
  {
   "cell_type": "code",
   "execution_count": null,
   "metadata": {},
   "outputs": [
    {
     "data": {
      "text/plain": [
       "0.5389999999999999"
      ]
     },
     "execution_count": 14,
     "metadata": {},
     "output_type": "execute_result"
    }
   ],
   "source": [
    "PAB = mib.JointInference_Evets(set([A,B]), [1,1])\n",
    "PAB"
   ]
  },
  {
   "cell_type": "code",
   "execution_count": null,
   "metadata": {},
   "outputs": [
    {
     "data": {
      "text/plain": [
       "{(0, 0): 0.078,\n",
       " (0, 1): 0.182,\n",
       " (1, 0): 0.16799999999999998,\n",
       " (1, 1): 0.4479999999999999,\n",
       " (2, 0): 0.054,\n",
       " (2, 1): 0.119}"
      ]
     },
     "execution_count": 18,
     "metadata": {},
     "output_type": "execute_result"
    }
   ],
   "source": [
    "PAC = mib.Joint_Distrib(set([A,C]))\n",
    "PAC.table"
   ]
  },
  {
   "cell_type": "code",
   "execution_count": null,
   "metadata": {},
   "outputs": [
    {
     "data": {
      "text/plain": [
       "1.049"
      ]
     },
     "execution_count": 20,
     "metadata": {},
     "output_type": "execute_result"
    }
   ],
   "source": [
    "sum = 0\n",
    "for key in PAC.table:\n",
    "    sum += PAC.table[key]\n",
    "sum"
   ]
  }
 ],
 "metadata": {
  "kernelspec": {
   "display_name": "Python 3",
   "language": "python",
   "name": "python3"
  },
  "language_info": {
   "codemirror_mode": {
    "name": "ipython",
    "version": 3
   },
   "file_extension": ".py",
   "mimetype": "text/x-python",
   "name": "python",
   "nbconvert_exporter": "python",
   "pygments_lexer": "ipython3",
   "version": "3.12.5"
  }
 },
 "nbformat": 4,
 "nbformat_minor": 2
}
