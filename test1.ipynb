{
 "cells": [
  {
   "cell_type": "code",
   "execution_count": 2,
   "metadata": {},
   "outputs": [],
   "source": [
    "import mib as mb1\n",
    "import mib_v2 as mb\n",
    "import matplotlib.pyplot as plt\n",
    "import time\n",
    "from itertools import product\n",
    "import tracemalloc"
   ]
  },
  {
   "cell_type": "markdown",
   "metadata": {},
   "source": [
    "# Problema de prueba 1"
   ]
  },
  {
   "cell_type": "markdown",
   "metadata": {},
   "source": [
    "## Planteamiento\n",
    "Genarar una grafica del rendimiento del motor de inferencia con problema pequeño y con tres eventon con distribuciones uniformes, donde su cardinalidad de los tres va de uno a cien.\n"
   ]
  },
  {
   "cell_type": "markdown",
   "metadata": {},
   "source": [
    "### Variables\n",
    "A = \\{0, 2, ..., n-1\\}\n",
    "\n",
    "B = \\{0, 2, ..., n-1\\}\n",
    "\n",
    "C = \\{0, 2, ..., n-1\\}"
   ]
  },
  {
   "cell_type": "markdown",
   "metadata": {},
   "source": [
    "### Modelo de descomposición\n",
    "$P(ABC) = P(A)P(B|A)P(C|AB)$.\n",
    "\n",
    "$\\;\\;\\;\\;\\;\\;\\;\\;\\;\\;\\;\\;$<img src=\"./P(ABC).jpg\" width=200/>"
   ]
  },
  {
   "cell_type": "markdown",
   "metadata": {},
   "source": [
    "### Formas \n",
    "\n",
    "$P(A)$, $P(B|A)$ y $P(C|AB)$ serán distribuciones uniformes."
   ]
  },
  {
   "cell_type": "markdown",
   "metadata": {},
   "source": [
    "## Test"
   ]
  },
  {
   "cell_type": "markdown",
   "metadata": {},
   "source": [
    "### Comprobación de generación de distribuciones "
   ]
  },
  {
   "cell_type": "code",
   "execution_count": 3,
   "metadata": {},
   "outputs": [
    {
     "name": "stdout",
     "output_type": "stream",
     "text": [
      "1.0000000000000007\n"
     ]
    }
   ],
   "source": [
    "i = 10\n",
    "dA = {}\n",
    "dB_A = {}\n",
    "dC_AB = {}\n",
    "value = 1 / (i)\n",
    "for x in range(i):\n",
    "    dA[x] = value\n",
    "    dB_A[(x,)] = {}\n",
    "    for y in range(i):\n",
    "        dB_A[(x,)][y] = value\n",
    "        dC_AB[(x,y)] = {}\n",
    "        for z in range(i):\n",
    "            dC_AB[(x,y)][z] = value\n",
    "\n",
    "var = [j for j in range(i)]\n",
    "vars = [var, var, var]\n",
    "sum = 0\n",
    "\n",
    "for x,y,z in product(*vars):\n",
    "    p = dA[x] * dB_A[(x,)][y] * dC_AB[(x,y)][z]\n",
    "    sum += p\n",
    "print(sum)"
   ]
  },
  {
   "cell_type": "markdown",
   "metadata": {},
   "source": [
    "### MIB1.0"
   ]
  },
  {
   "cell_type": "code",
   "execution_count": 29,
   "metadata": {},
   "outputs": [
    {
     "name": "stdout",
     "output_type": "stream",
     "text": [
      "0\n",
      "1\n",
      "2\n",
      "3\n",
      "4\n",
      "5\n",
      "6\n",
      "7\n",
      "8\n",
      "9\n"
     ]
    }
   ],
   "source": [
    "n = 10\n",
    "timesM1 = []\n",
    "memoryM1 = []\n",
    "\n",
    "timesC1 = []\n",
    "memoryC1 = []\n",
    "\n",
    "for i in range(n):\n",
    "    Events = [x for x in range(i+1)]\n",
    "    # Varaibles\n",
    "    A = mb1.Var('A',Events)\n",
    "    B = mb1.Var('B',Events)\n",
    "    C = mb1.Var('C',Events)\n",
    "\n",
    "    dA = {}\n",
    "    dB_A = {}\n",
    "    dC_AB = []\n",
    "    value = 1 / (i+1)\n",
    "    for e in Events:\n",
    "        dA[e] = value\n",
    "        dB_A[e] = {}\n",
    "        for e1 in Events:\n",
    "            dB_A[e][e1] = value\n",
    "            tC_AB = []\n",
    "            for e2 in Events:\n",
    "                tC_AB.append(value)\n",
    "            dC_AB.append(tuple(tC_AB))\n",
    "    \n",
    "    PA=mb1.Distrib(name='P(A)',variable=[A],tabla=dA)\n",
    "    PB_A=mb1.DistribCond(name='P(B|A)',var=B,indep=[A],tabla=dB_A)\n",
    "    PC_AB=mb1.DistribCond('P(C|AB)',C,[A,B],dC_AB)\n",
    "    \n",
    "    PABC=mb1.JointDistrib(name='P(ABC)',variables=[A,B,C],descomp=[PA,PB_A,PC_AB])\n",
    "    Q_ABC=mb1.Question(joint=PABC)\n",
    "\n",
    "    #Inferencia de P(B)\n",
    "    inicio = time.time()\n",
    "    tracemalloc.start()\n",
    "    \n",
    "    PB = Q_ABC.query(searched=[B])\n",
    "    \n",
    "    memoria_actual, memoria_pico = tracemalloc.get_traced_memory()\n",
    "    tracemalloc.stop()\n",
    "    fin = time.time()\n",
    "    tiempo_ejecucion = fin - inicio\n",
    "    \n",
    "    timesM1.append(tiempo_ejecucion)\n",
    "    memoryM1.append(memoria_pico)\n",
    "    \n",
    "    #Inferencia de P(A|BC)\n",
    "    inicio = time.time()\n",
    "    tracemalloc.start()\n",
    "        \n",
    "    PA_BC = Q_ABC.query(searched=[A], known=[B,C])\n",
    "        \n",
    "    memoria_actual, memoria_pico = tracemalloc.get_traced_memory()\n",
    "    fin = time.time()    \n",
    "    tracemalloc.stop()\n",
    "    tiempo_ejecucion = fin - inicio\n",
    "    \n",
    "    timesC1.append(tiempo_ejecucion)\n",
    "    memoryC1.append(memoria_pico)\n",
    "    \n",
    "    print(i)"
   ]
  },
  {
   "cell_type": "markdown",
   "metadata": {},
   "source": [
    "### MIB2.0"
   ]
  },
  {
   "cell_type": "code",
   "execution_count": 36,
   "metadata": {},
   "outputs": [],
   "source": [
    "n = 10\n",
    "timesM = []\n",
    "memoryM = []\n",
    "\n",
    "timesC = []\n",
    "memoryC = []\n",
    "\n",
    "for i in range(n):\n",
    "    Events = set([x for x in range(i+1)])\n",
    "    \n",
    "    # Generación de distribuciones de probabilidad (Distribuciones uniformes).\n",
    "    dA = {}\n",
    "    dB_A = {}\n",
    "    dC_AB = {}\n",
    "    value = 1 / (i+1)\n",
    "    for x in range(i+1):\n",
    "        dA[x] = value\n",
    "        dB_A[(x,)] = {}\n",
    "        for y in range(i+1):\n",
    "            dB_A[(x,)][y] = value\n",
    "            dC_AB[(x,y)] = {}\n",
    "            for z in range(i+1):\n",
    "                dC_AB[(x,y)][z] = value\n",
    "    \n",
    "    # Variables para el motor de inferencia.\n",
    "    A = mb.Var(Events)\n",
    "    PA = mb.Distrib(A,dA)\n",
    "    B = mb.Var(Events)\n",
    "    PB_A = mb.CondDistrib(B,set([A]),dB_A)\n",
    "    C = mb.Var(Events)\n",
    "    PC_AB = mb.CondDistrib(C,set([A,B]),dC_AB)\n",
    "    \n",
    "    # Probabilidad conjunta (modelo)\n",
    "    PABC = mb.Model(set([A,B,C]), set([PA, PB_A, PC_AB]))\n",
    "\n",
    "    # Motor de inferencia\n",
    "    mib = mb.Mib(PABC)\n",
    "    \n",
    "    # Inferencia de una marginal\n",
    "    inicio = time.time()\n",
    "    tracemalloc.start()\n",
    "    \n",
    "    PB = mib.Marginal_inference(B)\n",
    "    \n",
    "    memoria_actual, memoria_pico = tracemalloc.get_traced_memory()\n",
    "    tracemalloc.stop()\n",
    "    fin = time.time()\n",
    "    \n",
    "    tiempo_ejecucion = fin - inicio\n",
    "    timesM.append(tiempo_ejecucion)\n",
    "    memoryM.append(memoria_pico)\n",
    "    \n",
    "    # Inferencia de una condicional dada observaciones\n",
    "    inicio = time.time()\n",
    "    tracemalloc.start()\n",
    "    PA_BC = mib.Cond_Dist(A, set([B,C]))\n",
    "    memoria_actual, memoria_pico = tracemalloc.get_traced_memory()\n",
    "    tracemalloc.stop()\n",
    "    fin = time.time()\n",
    "    \n",
    "    tiempo_ejecucion = fin - inicio\n",
    "    timesC.append(tiempo_ejecucion)\n",
    "    memoryC.append(memoria_pico)"
   ]
  },
  {
   "cell_type": "code",
   "execution_count": 37,
   "metadata": {},
   "outputs": [],
   "source": [
    "xn = [i+1 for i in range(n)]\n"
   ]
  },
  {
   "cell_type": "markdown",
   "metadata": {},
   "source": [
    "### Tiempo de la inferencia en P(B)"
   ]
  },
  {
   "cell_type": "code",
   "execution_count": 38,
   "metadata": {},
   "outputs": [
    {
     "data": {
      "image/png": "[encoded data removed]",
      "text/plain": [
       "<Figure size 1000x400 with 2 Axes>"
      ]
     },
     "metadata": {},
     "output_type": "display_data"
    }
   ],
   "source": [
    "fig, axs = plt.subplots(1, 2, figsize=(10, 4))  # 1 fila, 2 columnas\n",
    "\n",
    "# Primera gráfica (izquierda)\n",
    "axs[0].plot(xn, timesM1, color='b')\n",
    "axs[0].set_title(\"Tiempo de la inferencia en P(B) (MIB1.0)\")\n",
    "axs[0].set_xlabel(\"n\")\n",
    "axs[0].set_ylabel(\"segundos\")\n",
    "\n",
    "# Segunda gráfica (derecha)\n",
    "axs[1].plot(xn, timesM, color='r')\n",
    "axs[1].set_title(\"Tiempo de la inferencia en P(B) (MIB2.0)\")\n",
    "axs[1].set_xlabel(\"n\")\n",
    "axs[1].set_ylabel(\"segundos\")\n",
    "\n",
    "# Mostrar las gráficas\n",
    "plt.tight_layout()  # Ajusta el espaciado para que no se superpongan\n",
    "plt.show()"
   ]
  },
  {
   "cell_type": "markdown",
   "metadata": {},
   "source": [
    "### Memoria de la inferencia en P(B)"
   ]
  },
  {
   "cell_type": "code",
   "execution_count": 39,
   "metadata": {},
   "outputs": [
    {
     "data": {
      "image/png": "[encoded data removed]",
      "text/plain": [
       "<Figure size 1000x400 with 2 Axes>"
      ]
     },
     "metadata": {},
     "output_type": "display_data"
    }
   ],
   "source": [
    "fig, axs = plt.subplots(1, 2, figsize=(10, 4))  # 1 fila, 2 columnas\n",
    "\n",
    "# Primera gráfica (izquierda)\n",
    "axs[0].plot(xn, memoryM1, color='b')\n",
    "axs[0].set_title(\"Espacio de la inferencia en P(B) (MIB1.0)\")\n",
    "axs[0].set_xlabel(\"n\")\n",
    "axs[0].set_ylabel(\"Bytes\")\n",
    "\n",
    "# Segunda gráfica (derecha)\n",
    "axs[1].plot(xn, memoryM, color='r')\n",
    "axs[1].set_title(\"Espacio de la inferencia en P(B) (MIB2.0)\")\n",
    "axs[1].set_xlabel(\"n\")\n",
    "axs[1].set_ylabel(\"Bytes\")\n",
    "\n",
    "# Mostrar las gráficas\n",
    "plt.tight_layout()  # Ajusta el espaciado para que no se superpongan\n",
    "plt.show()"
   ]
  },
  {
   "cell_type": "markdown",
   "metadata": {},
   "source": [
    "### Tiempo de la inferencia de P(A|BC)"
   ]
  },
  {
   "cell_type": "code",
   "execution_count": 40,
   "metadata": {},
   "outputs": [
    {
     "data": {
      "image/png": "[encoded data removed]",
      "text/plain": [
       "<Figure size 1000x400 with 2 Axes>"
      ]
     },
     "metadata": {},
     "output_type": "display_data"
    }
   ],
   "source": [
    "fig, axs = plt.subplots(1, 2, figsize=(10, 4))  # 1 fila, 2 columnas\n",
    "\n",
    "# Primera gráfica (izquierda)\n",
    "axs[0].plot(xn, timesC1, color='b')\n",
    "axs[0].set_title(\"Tiempo de la inferencia en P(A|BC) (MIB1.0)\")\n",
    "axs[0].set_xlabel(\"n\")\n",
    "axs[0].set_ylabel(\"segundos\")\n",
    "\n",
    "# Segunda gráfica (derecha)\n",
    "axs[1].plot(xn, timesC, color='r')\n",
    "axs[1].set_title(\"Tiempo de la inferencia en P(A|BC) (MIB2.0)\")\n",
    "axs[1].set_xlabel(\"n\")\n",
    "axs[1].set_ylabel(\"segundos\")\n",
    "\n",
    "# Mostrar las gráficas\n",
    "plt.tight_layout()  # Ajusta el espaciado para que no se superpongan\n",
    "plt.show()"
   ]
  },
  {
   "cell_type": "code",
   "execution_count": 35,
   "metadata": {},
   "outputs": [
    {
     "data": {
      "image/png": "[encoded data removed]",
      "text/plain": [
       "<Figure size 1000x400 with 2 Axes>"
      ]
     },
     "metadata": {},
     "output_type": "display_data"
    }
   ],
   "source": [
    "fig, axs = plt.subplots(1, 2, figsize=(10, 4))  # 1 fila, 2 columnas\n",
    "\n",
    "# Primera gráfica (izquierda)\n",
    "axs[0].plot(xn, memoryC1, color='b')\n",
    "axs[0].set_title(\"Memoria de la inferencia en P(A|BC) (MIB1.0)\")\n",
    "axs[0].set_xlabel(\"n\")\n",
    "axs[0].set_ylabel(\"MiB\")\n",
    "\n",
    "# Segunda gráfica (derecha)\n",
    "axs[1].plot(xn, memoryC, color='r')\n",
    "axs[1].set_title(\"Memoria de la inferencia en P(A|BC) (MIB2.0)\")\n",
    "axs[1].set_xlabel(\"n\")\n",
    "axs[1].set_ylabel(\"MiB\")\n",
    "\n",
    "# Mostrar las gráficas\n",
    "plt.tight_layout()  # Ajusta el espaciado para que no se superpongan\n",
    "plt.show()"
   ]
  },
  {
   "cell_type": "markdown",
   "metadata": {},
   "source": [
    "# Problema de prueba 2"
   ]
  },
  {
   "cell_type": "markdown",
   "metadata": {},
   "source": [
    "## Plantemiento "
   ]
  },
  {
   "cell_type": "markdown",
   "metadata": {},
   "source": [
    "Se tiene un conjunto de correos, en los cuales se sabe si son spam o no, y se quiere saber si dada las palabras presentes en el correo el correo pertenece a spam."
   ]
  },
  {
   "cell_type": "markdown",
   "metadata": {},
   "source": [
    "### Variables"
   ]
  },
  {
   "cell_type": "markdown",
   "metadata": {},
   "source": [
    "\n",
    "* $Spam := \\{0,1\\}$\n",
    "* $W_i = \\{0,1\\}$"
   ]
  },
  {
   "cell_type": "markdown",
   "metadata": {},
   "source": [
    "* $P(Spam = 0) = 0.25$\n",
    "* $P(Spam = 1) = 0.75$"
   ]
  },
  {
   "cell_type": "markdown",
   "metadata": {},
   "source": [
    "### Modelo de descomposición"
   ]
  },
  {
   "cell_type": "markdown",
   "metadata": {},
   "source": [
    "#### Conjunta\n",
    "$P(Spam W_0 W_1 ... W_n ) = P(Spam)\\prod_i P(W_i|Spam)$."
   ]
  },
  {
   "cell_type": "markdown",
   "metadata": {},
   "source": [
    "Cada una de las $n$ formas de $P(W_i|Spam)$ debe ser espacificado. Para el conteo de la i-ésima palabra que aparesca spam y no spam \n",
    "\n",
    "* $P(W_i|Spam)$\n",
    "    * $P(W_i = true | Spam = false) = \\frac{1 + {n^i}_f}{|W_i| + n_f}$\n",
    "    * $P(W_i = true | Spam = true) = \\frac{1 + {n^i}_v}{|W_i| + n_t}$\n",
    "\n",
    "donde, ${n^i}_f$ es el número de apariciones de la i-ésima palabra en correos que no son spam y $n_f$ es el número total de correos que no son spam, ${n^i}_v$ es el número de apariciones de la i-ésima palabra en correos que son spam y $n_v$ es el número total de correos que son spam.\n"
   ]
  },
  {
   "cell_type": "markdown",
   "metadata": {},
   "source": [
    "## Test"
   ]
  },
  {
   "cell_type": "markdown",
   "metadata": {},
   "source": [
    "### Generación de distribuciones"
   ]
  },
  {
   "cell_type": "markdown",
   "metadata": {},
   "source": [
    "#### P(Spam)"
   ]
  },
  {
   "cell_type": "code",
   "execution_count": 20,
   "metadata": {},
   "outputs": [],
   "source": [
    "dSpam = {0:0.25, 1:0.75}\n",
    "# Variables para el motor de inferencia.\n",
    "Spam = mb.Var(set([0,1]))\n",
    "PSpam = mb.Distrib(Spam, dSpam)"
   ]
  },
  {
   "cell_type": "markdown",
   "metadata": {},
   "source": [
    "#### $W_i$"
   ]
  },
  {
   "cell_type": "code",
   "execution_count": 21,
   "metadata": {},
   "outputs": [
    {
     "name": "stdout",
     "output_type": "stream",
     "text": [
      "W[0]: (fortune, <mib_v2.Var object at 0x779f0652d480>)\n",
      "W[1]: (next, <mib_v2.Var object at 0x779f06ad6cb0>)\n",
      "W[2]: (programming, <mib_v2.Var object at 0x779f06ad78b0>)\n",
      "W[3]: (money, <mib_v2.Var object at 0x779f06ad6fb0>)\n",
      "W[4]: (you, <mib_v2.Var object at 0x779f06ad7fa0>)\n"
     ]
    }
   ],
   "source": [
    "vocabulario = ['fortune','next','programming','money','you']\n",
    "W = {}\n",
    "events = set([0,1])\n",
    "for i in range(len(vocabulario)):\n",
    "    W[i] = (vocabulario[i], mb.Var(events))\n",
    "    print(f'W[{i}]: ({W[i][0]}, {W[i][1]})')"
   ]
  },
  {
   "cell_type": "markdown",
   "metadata": {},
   "source": [
    "#### $P(W_i|Spam)$"
   ]
  },
  {
   "cell_type": "code",
   "execution_count": 22,
   "metadata": {},
   "outputs": [
    {
     "data": {
      "text/plain": [
       "{0: ('fortune', <mib_v2.CondDistrib at 0x779f4460e620>),\n",
       " 1: ('next', <mib_v2.CondDistrib at 0x779f06756560>),\n",
       " 2: ('programming', <mib_v2.CondDistrib at 0x779f442e7a30>),\n",
       " 3: ('money', <mib_v2.CondDistrib at 0x779f06974580>),\n",
       " 4: ('you', <mib_v2.CondDistrib at 0x779f0642e440>)}"
      ]
     },
     "execution_count": 22,
     "metadata": {},
     "output_type": "execute_result"
    }
   ],
   "source": [
    "nif = [0,125,250,0,125] #Canitdad de veces que aparece una palabra en correos que no son spam.\n",
    "niv = [375,0,0,750,375] #Canitdad de veces que aparece una palabra en correos que son spam.\n",
    "\n",
    "nf = 250\n",
    "nv = 750\n",
    "\n",
    "PWi_Spam = {}\n",
    "\n",
    "for Wi in W:\n",
    "    tf = (1 + nif[Wi]) / (2 + nf)\n",
    "    tt = (1 + niv[Wi]) / (2 + nv)\n",
    "    dWi_Spam = {(0,): {0: 1 - tf, 1:  tf},\n",
    "                (1,): {0: 1 - tt, 1: tt}}\n",
    "    \n",
    "    PWi_Spam[Wi] = (W[Wi][0], mb.CondDistrib(W[Wi][1], set([Spam]), dWi_Spam))\n",
    "\n",
    "    \n",
    "PWi_Spam"
   ]
  },
  {
   "cell_type": "markdown",
   "metadata": {},
   "source": [
    "### Comprobación de distribución"
   ]
  },
  {
   "cell_type": "code",
   "execution_count": 23,
   "metadata": {},
   "outputs": [
    {
     "data": {
      "text/plain": [
       "0.9999999999999993"
      ]
     },
     "execution_count": 23,
     "metadata": {},
     "output_type": "execute_result"
    }
   ],
   "source": [
    "wn = [[0,1] for i in range(len(W)+1)]\n",
    "sum = 0\n",
    "for i in product(*wn):\n",
    "    p = 1\n",
    "    p *= PSpam.table[i[5]] \n",
    "    for key in PWi_Spam:\n",
    "        p *= PWi_Spam[key][1].table[(i[5],)][i[key]]\n",
    "    sum += p\n",
    "sum"
   ]
  },
  {
   "cell_type": "code",
   "execution_count": 24,
   "metadata": {},
   "outputs": [],
   "source": [
    "vars = [W[key][1] for key in W]\n",
    "vars.append(Spam)\n",
    "distribs = [PWi_Spam[i][1] for i in PWi_Spam]\n",
    "distribs.append(PSpam)\n",
    "PSpamWs = mb.Model(set(vars), set(distribs))\n",
    "\n",
    "# Motor de inferencia\n",
    "mib = mb.Mib(PSpamWs)"
   ]
  },
  {
   "cell_type": "code",
   "execution_count": 25,
   "metadata": {},
   "outputs": [
    {
     "name": "stdout",
     "output_type": "stream",
     "text": [
      "Unexpected exception formatting exception. Falling back to standard exception\n"
     ]
    },
    {
     "name": "stderr",
     "output_type": "stream",
     "text": [
      "Traceback (most recent call last):\n",
      "  File \"/home/roberto/.local/lib/python3.10/site-packages/IPython/core/interactiveshell.py\", line 3526, in run_code\n",
      "    exec(code_obj, self.user_global_ns, self.user_ns)\n",
      "  File \"/tmp/ipykernel_5576/3171688699.py\", line 4, in <module>\n",
      "    PSpam_wn = mib.Cond_Dist(Spam, set(vars))\n",
      "  File \"/home/roberto/Desktop/Tesis/mib_v2.py\", line 311, in Cond_Dist\n",
      "  File \"/home/roberto/Desktop/Tesis/mib_v2.py\", line 294, in Cond_Obs\n",
      "    def Cond_Dist(self, hypotesis: Var, observations: set) -> CondDistrib:\n",
      "  File \"/home/roberto/Desktop/Tesis/mib_v2.py\", line 255, in CondInference_Event\n",
      "    # Calcular el numerador\n",
      "  File \"/home/roberto/Desktop/Tesis/mib_v2.py\", line 75, in _GetP\n",
      "    \"\"\" Clase para el manejo de distibuciones condicionales.\n",
      "AttributeError: 'Distrib' object has no attribute 'event'\n",
      "\n",
      "During handling of the above exception, another exception occurred:\n",
      "\n",
      "Traceback (most recent call last):\n",
      "  File \"/home/roberto/.local/lib/python3.10/site-packages/IPython/core/interactiveshell.py\", line 2120, in showtraceback\n",
      "    stb = self.InteractiveTB.structured_traceback(\n",
      "  File \"/home/roberto/.local/lib/python3.10/site-packages/IPython/core/ultratb.py\", line 1435, in structured_traceback\n",
      "    return FormattedTB.structured_traceback(\n",
      "  File \"/home/roberto/.local/lib/python3.10/site-packages/IPython/core/ultratb.py\", line 1326, in structured_traceback\n",
      "    return VerboseTB.structured_traceback(\n",
      "  File \"/home/roberto/.local/lib/python3.10/site-packages/IPython/core/ultratb.py\", line 1173, in structured_traceback\n",
      "    formatted_exception = self.format_exception_as_a_whole(etype, evalue, etb, number_of_lines_of_context,\n",
      "  File \"/home/roberto/.local/lib/python3.10/site-packages/IPython/core/ultratb.py\", line 1088, in format_exception_as_a_whole\n",
      "    frames.append(self.format_record(record))\n",
      "  File \"/home/roberto/.local/lib/python3.10/site-packages/IPython/core/ultratb.py\", line 970, in format_record\n",
      "    frame_info.lines, Colors, self.has_colors, lvals\n",
      "  File \"/home/roberto/.local/lib/python3.10/site-packages/IPython/core/ultratb.py\", line 792, in lines\n",
      "    return self._sd.lines\n",
      "  File \"/home/roberto/.local/lib/python3.10/site-packages/stack_data/utils.py\", line 145, in cached_property_wrapper\n",
      "    value = obj.__dict__[self.func.__name__] = self.func(obj)\n",
      "  File \"/home/roberto/.local/lib/python3.10/site-packages/stack_data/core.py\", line 734, in lines\n",
      "    pieces = self.included_pieces\n",
      "  File \"/home/roberto/.local/lib/python3.10/site-packages/stack_data/utils.py\", line 145, in cached_property_wrapper\n",
      "    value = obj.__dict__[self.func.__name__] = self.func(obj)\n",
      "  File \"/home/roberto/.local/lib/python3.10/site-packages/stack_data/core.py\", line 681, in included_pieces\n",
      "    pos = scope_pieces.index(self.executing_piece)\n",
      "  File \"/home/roberto/.local/lib/python3.10/site-packages/stack_data/utils.py\", line 145, in cached_property_wrapper\n",
      "    value = obj.__dict__[self.func.__name__] = self.func(obj)\n",
      "  File \"/home/roberto/.local/lib/python3.10/site-packages/stack_data/core.py\", line 660, in executing_piece\n",
      "    return only(\n",
      "  File \"/home/roberto/.local/lib/python3.10/site-packages/executing/executing.py\", line 116, in only\n",
      "    raise NotOneValueFound('Expected one value, found 0')\n",
      "executing.executing.NotOneValueFound: Expected one value, found 0\n"
     ]
    }
   ],
   "source": [
    "vars = [W[key][1] for key in W]\n",
    "\n",
    "inicio = time.time()\n",
    "PSpam_wn = mib.Cond_Dist(Spam, set(vars))\n",
    "fin = time.time()\n",
    "tiempo_ejecucion = fin - inicio\n",
    "PSpam_wn.table"
   ]
  },
  {
   "cell_type": "markdown",
   "metadata": {},
   "source": [
    "### Tiempo de ejecución "
   ]
  },
  {
   "cell_type": "code",
   "execution_count": null,
   "metadata": {},
   "outputs": [
    {
     "data": {
      "text/plain": [
       "0.001791238784790039"
      ]
     },
     "execution_count": 18,
     "metadata": {},
     "output_type": "execute_result"
    }
   ],
   "source": [
    "tiempo_ejecucion"
   ]
  },
  {
   "cell_type": "code",
   "execution_count": null,
   "metadata": {},
   "outputs": [],
   "source": [
    "inicio = time.time()\n",
    "PSpam_wn = mib.Cond_Obs(Spam, set(vars))\n",
    "fin = time.time()\n",
    "tiempo_ejecucion = fin - inicio\n",
    "PSpam_wn.table"
   ]
  },
  {
   "cell_type": "markdown",
   "metadata": {},
   "source": [
    "# Prueba 3"
   ]
  },
  {
   "cell_type": "markdown",
   "metadata": {},
   "source": [
    "## Planteamiento"
   ]
  },
  {
   "cell_type": "markdown",
   "metadata": {},
   "source": [
    "Una compañía sabe que la contratación profesional de un candidato se efectúa luego de una entrevista, que se lleva a cabo en función de las calificaciones reportadas en el certificado del candidato y si éste tiene experiencia laboral o no. Generalmente, sólo se consideran los candidatos con calificaciones sobresalientes o regulares, y la entrevista arroja típicamente tres tipos de apreciación."
   ]
  },
  {
   "cell_type": "markdown",
   "metadata": {},
   "source": [
    "La compañía ha elaborado el siguiente modelo de contratación:\n",
    "\n",
    "$\\;\\;\\;\\;\\;\\;\\;\\;\\;\\;\\;\\;$<img src=\"./MODELO_EMPRESA.jpg\" width=300/>"
   ]
  },
  {
   "cell_type": "markdown",
   "metadata": {},
   "source": [
    "La compañía ha recolectado datos históricos de los últimos 5 años sobre la evaluación de 500 candidatos y sabe que la proporción de candidatos con calificaciones regulares es del 30%, mientras que los candidatos con experiencia laboral representan el 60%. En la mejor condición, con calificaciones sobresalientes y experiencia laboral, los candidatos obtienen la más alta apreciación en la entrevista en un 80%, y la peor apreciación en un 2% de los casos. Estos porcentajes cambian respectivamente a 30% y 10% cuando las calificaciones no son las mejores, pero sí hay experiencia, y ambas son del 30% con calificaciones sobresalientes pero sin experiencia. En el peor caso, con calificaciones regulares y sin experiencia, los candidatos obtienen la mejor apreciación en la entrevista en un 10% y la peor en un 70%. Por último, se sabe que la tasa de candidatos rechazados es de un 10% cuando obtienen una apreciación favorable, un 60% cuando obtienen una apreciación regular, y un 99% cuando obtienen una apreciación desfavorable en la entrevista."
   ]
  },
  {
   "cell_type": "markdown",
   "metadata": {},
   "source": [
    "### Variables"
   ]
  },
  {
   "cell_type": "markdown",
   "metadata": {},
   "source": [
    "* $C := \\{0,1\\}$, donde C representa las calificaciones; 0 si son calificaciones reguales, 1 otro caso.\n",
    "* $E : = \\{0,1\\}$, donde E representa la experencia; \n",
    "* $N : = \\{0,1,2\\}$, donde  \n",
    "* $O : = \\{0,1\\}$, donde"
   ]
  },
  {
   "cell_type": "markdown",
   "metadata": {},
   "source": [
    "### Modelo de descomposición"
   ]
  },
  {
   "cell_type": "markdown",
   "metadata": {},
   "source": [
    "#### Conjunta\n",
    "$P(C E N O) = P(C)P(E)P(N|C E)P(N|O)$"
   ]
  },
  {
   "cell_type": "markdown",
   "metadata": {},
   "source": [
    "## Test"
   ]
  },
  {
   "cell_type": "markdown",
   "metadata": {},
   "source": [
    "### Generación de distribuciones"
   ]
  },
  {
   "cell_type": "code",
   "execution_count": 7,
   "metadata": {},
   "outputs": [],
   "source": [
    "E = mb.Var(set([0,1]))\n",
    "C = mb.Var(set([0,1]))\n",
    "O = mb.Var(set([0,1]))\n",
    "N = mb.Var(set([0,1,2]))\n",
    "\n",
    "dE = {0:0.4,1:0.6}\n",
    "dC = {0:0.3,1:0.7}\n",
    "dN_EC = {(0,0):{0:0.7, 1:0.2, 2:0.1},\n",
    "        (0,1):{0:.3, 1:0.4, 2:0.3},\n",
    "        (1,0):{0:0.1, 1:0.6, 2:0.3},\n",
    "        (1,1):{0:0.02, 1:0.18, 2:0.8}}\n",
    "dO_N={(0,):{0:0.99, 1:0.01},\n",
    "      (1,):{0:0.6, 1:0.4},\n",
    "      (2,):{0:0.1, 1:0.9}}\n",
    "\n",
    "P_E=mb.Distrib(E,dE)\n",
    "P_C=mb.Distrib(C,dC)\n",
    "P_N_EC=mb.CondDistrib(N,set([E,C]),dN_EC)\n",
    "P_O_N=mb.CondDistrib(O,set([N]),dO_N)"
   ]
  },
  {
   "cell_type": "code",
   "execution_count": 8,
   "metadata": {},
   "outputs": [],
   "source": [
    "#joint distribution\n",
    "vars = set([E,C,N,O])\n",
    "P_ECNO = mb.Model(vars,set([P_E,P_C,P_N_EC,P_O_N]))"
   ]
  },
  {
   "cell_type": "code",
   "execution_count": 10,
   "metadata": {},
   "outputs": [
    {
     "name": "stdout",
     "output_type": "stream",
     "text": [
      "{0: 0.425016, 1: 0.5749839999999999}\n",
      "57.5%\n"
     ]
    }
   ],
   "source": [
    "#1. Cuál es su tasa de contratación \n",
    "#(i.e. cuál es la probabilidad de ser contratado). P(O)\n",
    "Q_P = mb.Mib(P_ECNO)\n",
    "PO = Q_P.Marginal_Distrib(O)\n",
    "print(PO.table)\n",
    "CONT = PO.table[1]\n",
    "print(f'{round(CONT*100,2)}%')"
   ]
  },
  {
   "cell_type": "code",
   "execution_count": 11,
   "metadata": {},
   "outputs": [
    {
     "name": "stdout",
     "output_type": "stream",
     "text": [
      "283\n"
     ]
    }
   ],
   "source": [
    "#2. Cuantos candidatos ha contratado la compañía en los últimos 5 años. \n",
    "#X=P(O=0)*500.\n",
    "from math import floor\n",
    "\n",
    "X  =floor(500*CONT)\n",
    "print(X)"
   ]
  },
  {
   "cell_type": "code",
   "execution_count": null,
   "metadata": {},
   "outputs": [
    {
     "name": "stdout",
     "output_type": "stream",
     "text": [
      "48.6%\n"
     ]
    }
   ],
   "source": [
    "#3. Cuál es la tasa de apreciaciones favorables en la compañía.=\n",
    "PN = Q_P.Marginal_Distrib(N)\n",
    "PN.table\n",
    "FAV = PN.table[2]\n",
    "print(f'{FAV*100}%')"
   ]
  },
  {
   "cell_type": "code",
   "execution_count": null,
   "metadata": {},
   "outputs": [
    {
     "name": "stdout",
     "output_type": "stream",
     "text": [
      "{(0,): {0: 0.44466008650327155, 1: 0.443052012864589, 2: 0.11228790063213927}, (1,): {0: 0.0034274591666901754, 1: 0.22539422832802053, 2: 0.7711783125052895}}\n",
      "22.539422832802053%\n"
     ]
    }
   ],
   "source": [
    "#4. Cuál es la tasa de apreciaciones regulares dado que se contrata a alguien. \n",
    "PN_O = Q_P.Cond_Dist(N,set([O]))\n",
    "print(PN_O.table)\n",
    "TAF = PN_O.table[(1,)][1]\n",
    "print(f'{TAF*100}%')"
   ]
  },
  {
   "cell_type": "code",
   "execution_count": null,
   "metadata": {},
   "outputs": [
    {
     "name": "stdout",
     "output_type": "stream",
     "text": [
      "126\n"
     ]
    }
   ],
   "source": [
    "#5. Cuál es la tasa de apreciaciones regulares dado que se contrata a alguien. .\n",
    "TAF = PN_O.table[(0,)][0]\n",
    "print(f'{int(round(TAF*X,0))}')"
   ]
  },
  {
   "cell_type": "code",
   "execution_count": null,
   "metadata": {},
   "outputs": [
    {
     "name": "stdout",
     "output_type": "stream",
     "text": [
      "125\n"
     ]
    }
   ],
   "source": [
    "#6. Cuantos de los candidatos contratados obtuvieron una apreciación regular. \n",
    "#P(N=1|O=0)*X\n",
    "print(floor(TAF*X))"
   ]
  },
  {
   "cell_type": "code",
   "execution_count": null,
   "metadata": {},
   "outputs": [
    {
     "data": {
      "text/plain": [
       "{(0,): {0: 0.6226, 1: 0.37739999999999996},\n",
       " (1,): {0: 0.35148, 1: 0.6485200000000001}}"
      ]
     },
     "execution_count": 34,
     "metadata": {},
     "output_type": "execute_result"
    }
   ],
   "source": [
    "#7. Cómo se distribuye la contratación de candidatos en función de sus calificaciones. \n",
    "\n",
    "PO_C = Q_P.Cond_Dist(O,set([C]))\n",
    "PO_C.table"
   ]
  },
  {
   "cell_type": "code",
   "execution_count": null,
   "metadata": {},
   "outputs": [
    {
     "data": {
      "text/plain": [
       "{(0,): {0: 0.6438, 1: 0.35619999999999996},\n",
       " (1,): {0: 0.29216, 1: 0.7078400000000001}}"
      ]
     },
     "execution_count": 35,
     "metadata": {},
     "output_type": "execute_result"
    }
   ],
   "source": [
    "#8. Cómo se distribuye la contratación de candidatos en función de su experiencia. \n",
    "\n",
    "PO_E = Q_P.Cond_Dist(O,set([E]))\n",
    "PO_E.table"
   ]
  },
  {
   "cell_type": "code",
   "execution_count": null,
   "metadata": {},
   "outputs": [
    {
     "name": "stdout",
     "output_type": "stream",
     "text": [
      "{(0,): {0: 0.3, 1: 0.7000000000000001}, (1,): {0: 0.30000000000000004, 1: 0.7000000000000002}}\n",
      "70.00000000000001%\n"
     ]
    }
   ],
   "source": [
    "#9. Cuál es la probabilidad de que alguien con experiencia laboral tenga calificaciones sobresalientes. \n",
    "#P(C=0|E=0)\n",
    "PC_E =Q_P.Cond_Dist(C,set([E]))\n",
    "print(PC_E.table)\n",
    "ECS = PC_E.table[(1,)][1]\n",
    "print(f'{ECS*100}%')"
   ]
  },
  {
   "cell_type": "code",
   "execution_count": 11,
   "metadata": {},
   "outputs": [
    {
     "data": {
      "text/plain": [
       "{(0, 0): 0.17265599999999998,\n",
       " (0, 1): 0.20376,\n",
       " (0, 2): 0.0486,\n",
       " (1, 0): 0.001744,\n",
       " (1, 1): 0.13584000000000002,\n",
       " (1, 2): 0.4374}"
      ]
     },
     "execution_count": 11,
     "metadata": {},
     "output_type": "execute_result"
    }
   ],
   "source": [
    "#10. Cuál es la distribución conjunta del personal contratado y \n",
    "#la apreciación de la entrevista.\n",
    "PON = Q_P.Joint_Distrib(set([N,O]))\n",
    "PON.table"
   ]
  },
  {
   "cell_type": "code",
   "execution_count": 12,
   "metadata": {},
   "outputs": [
    {
     "data": {
      "text/plain": [
       "1.0"
      ]
     },
     "execution_count": 12,
     "metadata": {},
     "output_type": "execute_result"
    }
   ],
   "source": [
    "sum = 0\n",
    "for key in PON.table:\n",
    "    sum += PON.table[key]\n",
    "sum"
   ]
  }
 ],
 "metadata": {
  "kernelspec": {
   "display_name": "Python 3",
   "language": "python",
   "name": "python3"
  },
  "language_info": {
   "codemirror_mode": {
    "name": "ipython",
    "version": 3
   },
   "file_extension": ".py",
   "mimetype": "text/x-python",
   "name": "python",
   "nbconvert_exporter": "python",
   "pygments_lexer": "ipython3",
   "version": "3.10.12"
  }
 },
 "nbformat": 4,
 "nbformat_minor": 2
}
