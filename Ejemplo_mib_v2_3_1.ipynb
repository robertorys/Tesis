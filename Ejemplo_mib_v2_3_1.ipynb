{
 "cells": [
  {
   "cell_type": "markdown",
   "metadata": {},
   "source": [
    "# Ejemplo de uso"
   ]
  },
  {
   "cell_type": "code",
   "execution_count": null,
   "metadata": {},
   "outputs": [],
   "source": [
    "import mib_v2_3_1 as mb"
   ]
  },
  {
   "cell_type": "markdown",
   "metadata": {},
   "source": [
    "## Modelo de un problema"
   ]
  },
  {
   "cell_type": "markdown",
   "metadata": {},
   "source": [
    "$P(ABC) = P(A)P(B|A)P(C|AB)$."
   ]
  },
  {
   "cell_type": "markdown",
   "metadata": {},
   "source": [
    "### Probabilidades"
   ]
  },
  {
   "cell_type": "markdown",
   "metadata": {},
   "source": [
    "<table width=\"90%\">\n",
    "    <tr>\n",
    "        <td valign=\"top\">\n",
    "            <table width=\"50%\">\n",
    "              <tr>\n",
    "                <th> $A$</th>\n",
    "                <th><p style=\"text-align:center;\"> $P(A)$</p></th>\n",
    "              </tr>\n",
    "              <tr>\n",
    "                <td><p style=\"text-align:center;\">$0$</p></td>\n",
    "                <td><p style=\"text-align:center;\">$0.3$</p></td>\n",
    "              </tr>\n",
    "              <tr>\n",
    "                <td><p style=\"text-align:center;\">$1$</p></td>\n",
    "                <td><p style=\"text-align:center;\">$0.7$</p></td>\n",
    "              </tr>\n",
    "            </table>\n",
    "        </td>\n",
    "        <td valign=\"top\">\n",
    "            <table width=\"60%\">\n",
    "              <tr>\n",
    "                <td style=\"height:1px;\"> &nbsp;</td>\n",
    "                <td colspan=\"2\"><p style=\"text-align:center;\">$P$($B$|$A$)</p></td>\n",
    "              </tr>\n",
    "              <tr>\n",
    "                <td>$A$</td>\n",
    "                <td><p style=\"text-align:center;\">$0$</p></td>\n",
    "                <td><p style=\"text-align:center;\">$1$</p></td>\n",
    "              </tr>\n",
    "              <tr>\n",
    "                <td><p style=\"text-align:center;\">$0$</p></td>\n",
    "                <td><p style=\"text-align:center;\">$0.2$</p></td>\n",
    "                <td><p style=\"text-align:center;\">$0.8$</p></td>\n",
    "              </tr>\n",
    "              <tr>\n",
    "                <td><p style=\"text-align:center;\">$1$</p></td>\n",
    "                <td><p style=\"text-align:center;\">$0.3$</p></td>\n",
    "                <td><p style=\"text-align:center;\">$0.7$</p></td>\n",
    "              </tr>\n",
    "            </table>        \n",
    "        </td>\n",
    "        <td valign=\"top\">\n",
    "            <table width=\"90%\">\n",
    "              <tr>\n",
    "                <td style=\"height:1px;\"> &nbsp;</td>\n",
    "                <td colspan=\"2\"><p style=\"text-align:center;\">$P$($C$|$AB$)</p></td>\n",
    "              </tr>\n",
    "              <tr>\n",
    "                <td>$AB$</td>\n",
    "                <td><p style=\"text-align:center;\">$0$</p></td>\n",
    "                <td><p style=\"text-align:center;\">$1$</p></td>\n",
    "                <td><p style=\"text-align:center;\">$2$</p></td>\n",
    "              </tr>\n",
    "              <tr>\n",
    "                <td><p style=\"text-align:center;\">$00$</p></td>\n",
    "                <td><p style=\"text-align:center;\">$0.1$</p></td>\n",
    "                <td><p style=\"text-align:center;\">$0.8$</p></td>\n",
    "                <td><p style=\"text-align:center;\">$0.1$</p></td>\n",
    "              </tr>\n",
    "              <tr>\n",
    "                <td><p style=\"text-align:center;\">$01$</p></td>\n",
    "                <td><p style=\"text-align:center;\">$0.3$</p></td>\n",
    "                <td><p style=\"text-align:center;\">$0.5$</p></td>\n",
    "                <td><p style=\"text-align:center;\">$0.2$</p></td>\n",
    "              </tr>\n",
    "              <tr>\n",
    "                <td><p style=\"text-align:center;\">$10$</p></td>\n",
    "                <td><p style=\"text-align:center;\">$0.4$</p></td>\n",
    "                <td><p style=\"text-align:center;\">$0.5$</p></td>\n",
    "                <td><p style=\"text-align:center;\">$0.1$</p></td>\n",
    "              </tr>\n",
    "              <tr>\n",
    "                <td><p style=\"text-align:center;\">$11$</p></td>\n",
    "                <td><p style=\"text-align:center;\">$0.1$</p></td>\n",
    "                <td><p style=\"text-align:center;\">$0.7$</p></td>\n",
    "                <td><p style=\"text-align:center;\">$0.2$</p></td>\n",
    "              </tr>\n",
    "            </table>        \n",
    "        </td>\n",
    "    </tr>\n",
    "</table>"
   ]
  },
  {
   "cell_type": "markdown",
   "metadata": {},
   "source": [
    "## Creación de datos"
   ]
  },
  {
   "cell_type": "markdown",
   "metadata": {},
   "source": [
    "### Declaración de diccionarios"
   ]
  },
  {
   "cell_type": "code",
   "execution_count": null,
   "metadata": {},
   "outputs": [],
   "source": [
    "# Tablas\n",
    "# {(variables independientes): {variables: p}}\n",
    "# {(A,): P(A)}\n",
    "dA = {\n",
    "    (0,): 0.3,\n",
    "    (1,): 0.7\n",
    "}\n",
    "\n",
    "# {(A,):{(B,): P(B|A)}}\n",
    "dB_A = {\n",
    "    (0,):{(0,): 0.2, (1,): 0.8},\n",
    "    (1,):{(0,): 0.3, (1,): 0.7}\n",
    "}\n",
    "\n",
    "# {(A,B):{(C,): P(C|A,B)}}\n",
    "dC_AB = {\n",
    "    (0,0): {(0,): 0.1, (1,): 0.8, (2,): 0.1},\n",
    "    (0,1): {(0,): 0.3, (1,): 0.5, (2,): 0.2},\n",
    "    (1,0): {(0,): 0.4, (1,): 0.5, (2,): 0.1},\n",
    "    (1,1): {(0,): 0.2, (1,): 0.7, (2,): 0.2}\n",
    "    }\n"
   ]
  },
  {
   "cell_type": "markdown",
   "metadata": {},
   "source": [
    "### Declaración de variables"
   ]
  },
  {
   "cell_type": "code",
   "execution_count": null,
   "metadata": {},
   "outputs": [],
   "source": [
    "A = mb.Var(name='A', values=set([0,1]))\n",
    "B = mb.Var(name='B', values=set([0,1]))\n",
    "C = mb.Var(name='C', values=set([0,1,2]))"
   ]
  },
  {
   "cell_type": "markdown",
   "metadata": {},
   "source": [
    "### Declaración de distribuciones "
   ]
  },
  {
   "cell_type": "code",
   "execution_count": null,
   "metadata": {},
   "outputs": [],
   "source": [
    "# P(A)\n",
    "PA = mb.Distrib(table=dA, columns=(A.getName(),))\n",
    "# P(B|A)\n",
    "PB_A = mb.CondDistrib(table=dB_A, columns_vars=(B.getName(),), columns_indep=(A.getName(),))\n",
    "# P(C|AB)\n",
    "PC_AB = mb.CondDistrib(dC_AB, (C.getName(),), (A.getName(), B.getName()))"
   ]
  },
  {
   "cell_type": "markdown",
   "metadata": {},
   "source": [
    "## Creación del motor de inferencia "
   ]
  },
  {
   "cell_type": "code",
   "execution_count": null,
   "metadata": {},
   "outputs": [],
   "source": [
    "# Probabilidad conjunta (Especidicación)\n",
    "PABC = mb.Specification(set([A,B,C]), set([PA, PB_A, PC_AB]))\n",
    "# Generador de consultas (Pregunta)\n",
    "QABC = mb.Question(PABC)"
   ]
  }
 ],
 "metadata": {
  "kernelspec": {
   "display_name": "Python 3",
   "language": "python",
   "name": "python3"
  },
  "language_info": {
   "name": "python",
   "version": "3.8.10"
  }
 },
 "nbformat": 4,
 "nbformat_minor": 2
}
