{
 "cells": [
  {
   "cell_type": "markdown",
   "metadata": {},
   "source": [
    "# Ejemplo de uso"
   ]
  },
  {
   "cell_type": "code",
   "execution_count": 1,
   "metadata": {},
   "outputs": [],
   "source": [
    "import mib_v2_3_2 as mb"
   ]
  },
  {
   "cell_type": "markdown",
   "metadata": {},
   "source": [
    "## Modelo de un problema"
   ]
  },
  {
   "cell_type": "markdown",
   "metadata": {},
   "source": [
    "$P(ABC) = P(A)P(B|A)P(C|AB)$."
   ]
  },
  {
   "cell_type": "markdown",
   "metadata": {},
   "source": [
    "### Probabilidades"
   ]
  },
  {
   "cell_type": "markdown",
   "metadata": {},
   "source": [
    "<table width=\"90%\">\n",
    "    <tr>\n",
    "        <td valign=\"top\">\n",
    "            <table width=\"50%\">\n",
    "              <tr>\n",
    "                <th> $A$</th>\n",
    "                <th><p style=\"text-align:center;\"> $P(A)$</p></th>\n",
    "              </tr>\n",
    "              <tr>\n",
    "                <td><p style=\"text-align:center;\">$0$</p></td>\n",
    "                <td><p style=\"text-align:center;\">$0.3$</p></td>\n",
    "              </tr>\n",
    "              <tr>\n",
    "                <td><p style=\"text-align:center;\">$1$</p></td>\n",
    "                <td><p style=\"text-align:center;\">$0.7$</p></td>\n",
    "              </tr>\n",
    "            </table>\n",
    "        </td>\n",
    "        <td valign=\"top\">\n",
    "            <table width=\"60%\">\n",
    "              <tr>\n",
    "                <td style=\"height:1px;\"> &nbsp;</td>\n",
    "                <td colspan=\"2\"><p style=\"text-align:center;\">$P$($B$|$A$)</p></td>\n",
    "              </tr>\n",
    "              <tr>\n",
    "                <td>$A$</td>\n",
    "                <td><p style=\"text-align:center;\">$0$</p></td>\n",
    "                <td><p style=\"text-align:center;\">$1$</p></td>\n",
    "              </tr>\n",
    "              <tr>\n",
    "                <td><p style=\"text-align:center;\">$0$</p></td>\n",
    "                <td><p style=\"text-align:center;\">$0.2$</p></td>\n",
    "                <td><p style=\"text-align:center;\">$0.8$</p></td>\n",
    "              </tr>\n",
    "              <tr>\n",
    "                <td><p style=\"text-align:center;\">$1$</p></td>\n",
    "                <td><p style=\"text-align:center;\">$0.3$</p></td>\n",
    "                <td><p style=\"text-align:center;\">$0.7$</p></td>\n",
    "              </tr>\n",
    "            </table>        \n",
    "        </td>\n",
    "        <td valign=\"top\">\n",
    "            <table width=\"90%\">\n",
    "              <tr>\n",
    "                <td style=\"height:1px;\"> &nbsp;</td>\n",
    "                <td colspan=\"2\"><p style=\"text-align:center;\">$P$($C$|$AB$)</p></td>\n",
    "              </tr>\n",
    "              <tr>\n",
    "                <td>$AB$</td>\n",
    "                <td><p style=\"text-align:center;\">$0$</p></td>\n",
    "                <td><p style=\"text-align:center;\">$1$</p></td>\n",
    "                <td><p style=\"text-align:center;\">$2$</p></td>\n",
    "              </tr>\n",
    "              <tr>\n",
    "                <td><p style=\"text-align:center;\">$00$</p></td>\n",
    "                <td><p style=\"text-align:center;\">$0.1$</p></td>\n",
    "                <td><p style=\"text-align:center;\">$0.8$</p></td>\n",
    "                <td><p style=\"text-align:center;\">$0.1$</p></td>\n",
    "              </tr>\n",
    "              <tr>\n",
    "                <td><p style=\"text-align:center;\">$01$</p></td>\n",
    "                <td><p style=\"text-align:center;\">$0.3$</p></td>\n",
    "                <td><p style=\"text-align:center;\">$0.5$</p></td>\n",
    "                <td><p style=\"text-align:center;\">$0.2$</p></td>\n",
    "              </tr>\n",
    "              <tr>\n",
    "                <td><p style=\"text-align:center;\">$10$</p></td>\n",
    "                <td><p style=\"text-align:center;\">$0.4$</p></td>\n",
    "                <td><p style=\"text-align:center;\">$0.5$</p></td>\n",
    "                <td><p style=\"text-align:center;\">$0.1$</p></td>\n",
    "              </tr>\n",
    "              <tr>\n",
    "                <td><p style=\"text-align:center;\">$11$</p></td>\n",
    "                <td><p style=\"text-align:center;\">$0.1$</p></td>\n",
    "                <td><p style=\"text-align:center;\">$0.7$</p></td>\n",
    "                <td><p style=\"text-align:center;\">$0.2$</p></td>\n",
    "              </tr>\n",
    "            </table>        \n",
    "        </td>\n",
    "    </tr>\n",
    "</table>"
   ]
  },
  {
   "cell_type": "markdown",
   "metadata": {},
   "source": [
    "## Creación de datos"
   ]
  },
  {
   "cell_type": "markdown",
   "metadata": {},
   "source": [
    "### Declaración de diccionarios"
   ]
  },
  {
   "cell_type": "code",
   "execution_count": 2,
   "metadata": {},
   "outputs": [],
   "source": [
    "# Tablas\n",
    "# {(variables independientes): {variables: p}}\n",
    "# {(A,): P(A)}\n",
    "dA = {\n",
    "    (0,): 0.3,\n",
    "    (1,): 0.7\n",
    "}\n",
    "\n",
    "# {(A,):{(B,): P(B|A)}}\n",
    "dB_A = {\n",
    "    (0,):{(0,): 0.2, (1,): 0.8},\n",
    "    (1,):{(0,): 0.3, (1,): 0.7}\n",
    "}\n",
    "\n",
    "# {(A,B):{(C,): P(C|A,B)}}\n",
    "dC_AB = {\n",
    "    (0,0): {(0,): 0.1, (1,): 0.8, (2,): 0.1},\n",
    "    (0,1): {(0,): 0.3, (1,): 0.5, (2,): 0.2},\n",
    "    (1,0): {(0,): 0.4, (1,): 0.5, (2,): 0.1},\n",
    "    (1,1): {(0,): 0.1, (1,): 0.7, (2,): 0.2}\n",
    "    }\n"
   ]
  },
  {
   "cell_type": "code",
   "execution_count": null,
   "metadata": {},
   "outputs": [],
   "source": [
    "TA = [0.3, 0.7]\n",
    "TB_A = [\n",
    "    [0.2, 0.8],\n",
    "    [0.3, 0.7]\n",
    "]\n",
    "TC_AB = [\n",
    "    [0.1, 0.8, 0.1],\n",
    "    [0.3, 0.5, 0.2], \n",
    "    [0.1, 0.7, 0.2]\n",
    "]\n",
    "\n",
    "\n",
    "\n",
    "for t in range(100000):\n",
    "    xi = []\n",
    "    for i in range(len(T)):\n",
    "        r = 0\n",
    "        for j in range(len(x)):\n",
    "            r += (x[j] * T[j][i])\n",
    "        xi.append(r)\n",
    "    x = xi.copy()\n",
    "print(x)"
   ]
  },
  {
   "cell_type": "markdown",
   "metadata": {},
   "source": [
    "### Declaración de variables"
   ]
  },
  {
   "cell_type": "code",
   "execution_count": 3,
   "metadata": {},
   "outputs": [],
   "source": [
    "A = mb.Var(name='A', values=set([0,1]))\n",
    "B = mb.Var(name='B', values=set([0,1]))\n",
    "C = mb.Var(name='C', values=set([0,1,2]))"
   ]
  },
  {
   "cell_type": "markdown",
   "metadata": {},
   "source": [
    "### Declaración de distribuciones "
   ]
  },
  {
   "cell_type": "code",
   "execution_count": 4,
   "metadata": {},
   "outputs": [],
   "source": [
    "# P(A)\n",
    "PA = mb.Distrib(table=dA, vars=(A,))\n",
    "# P(B|A)\n",
    "PB_A = mb.Distrib(table=dB_A, vars=(B,), parents=(A,))\n",
    "# P(C|AB)\n",
    "PC_AB = mb.Distrib(table=dC_AB, vars=(C,), parents=(A, B))"
   ]
  },
  {
   "cell_type": "markdown",
   "metadata": {},
   "source": [
    "## Creación de la pregunta"
   ]
  },
  {
   "cell_type": "code",
   "execution_count": 5,
   "metadata": {},
   "outputs": [],
   "source": [
    "# Probabilidad conjunta (Especificación)\n",
    "PABC = mb.Specification(set([A,B,C]), (PA, PB_A, PC_AB))\n",
    "# Generador de consultas (Pregunta)\n",
    "QABC = mb.Question(PABC)"
   ]
  },
  {
   "cell_type": "markdown",
   "metadata": {},
   "source": [
    "## Creación de consultas"
   ]
  },
  {
   "cell_type": "markdown",
   "metadata": {},
   "source": [
    "### Distribuciones"
   ]
  },
  {
   "cell_type": "markdown",
   "metadata": {},
   "source": [
    "#### De una variable"
   ]
  },
  {
   "cell_type": "code",
   "execution_count": 6,
   "metadata": {},
   "outputs": [
    {
     "data": {
      "text/plain": [
       "{(0,): 0.27, (1,): 0.7789999999999999}"
      ]
     },
     "execution_count": 6,
     "metadata": {},
     "output_type": "execute_result"
    }
   ],
   "source": [
    "PB = QABC.DistributionQuery(set([B]))\n",
    "PB.table"
   ]
  },
  {
   "cell_type": "code",
   "execution_count": 14,
   "metadata": {},
   "outputs": [
    {
     "data": {
      "text/plain": [
       "{(0,): 0.2738, (1,): 0.7339}"
      ]
     },
     "execution_count": 14,
     "metadata": {},
     "output_type": "execute_result"
    }
   ],
   "source": [
    "PB = QABC.DistributionQuery(set([B]), aproximation=True)\n",
    "PB.table"
   ]
  },
  {
   "cell_type": "markdown",
   "metadata": {},
   "source": [
    "#### Conjuntas"
   ]
  },
  {
   "cell_type": "code",
   "execution_count": 7,
   "metadata": {},
   "outputs": [
    {
     "data": {
      "text/plain": [
       "{(0, 0): 0.06, (0, 1): 0.21, (1, 0): 0.24, (1, 1): 0.5389999999999999}"
      ]
     },
     "execution_count": 7,
     "metadata": {},
     "output_type": "execute_result"
    }
   ],
   "source": [
    "PAB = QABC.DistributionQuery(set([A,B]))\n",
    "PAB.table"
   ]
  },
  {
   "cell_type": "code",
   "execution_count": 15,
   "metadata": {},
   "outputs": [
    {
     "data": {
      "text/plain": [
       "{(0, 0): 0.06, (0, 1): 0.2104, (1, 0): 0.2449, (1, 1): 0.4898}"
      ]
     },
     "execution_count": 15,
     "metadata": {},
     "output_type": "execute_result"
    }
   ],
   "source": [
    "PAB = QABC.DistributionQuery(set([A,B]), aproximation=True)\n",
    "PAB.table"
   ]
  },
  {
   "cell_type": "markdown",
   "metadata": {},
   "source": [
    "#### Condicional"
   ]
  },
  {
   "cell_type": "code",
   "execution_count": 16,
   "metadata": {},
   "outputs": [
    {
     "name": "stdout",
     "output_type": "stream",
     "text": [
      "('B',) ('A',)\n"
     ]
    },
    {
     "data": {
      "text/plain": [
       "{(0,): {(0,): 0.2222222222222222, (1,): 0.7777777777777777},\n",
       " (1,): {(0,): 0.3080872913992298, (1,): 0.6919127086007701}}"
      ]
     },
     "execution_count": 16,
     "metadata": {},
     "output_type": "execute_result"
    }
   ],
   "source": [
    "PA_B = QABC.DistributionQuery(set([A]), set([B]))\n",
    "parents_names = tuple([v.name for v in PA_B.parents])\n",
    "vars_names = tuple([v.name for v in PA_B.vars])\n",
    "print(parents_names, vars_names)\n",
    "PA_B.table"
   ]
  },
  {
   "cell_type": "code",
   "execution_count": 18,
   "metadata": {},
   "outputs": [
    {
     "name": "stdout",
     "output_type": "stream",
     "text": [
      "('B',) ('A',)\n"
     ]
    },
    {
     "data": {
      "text/plain": [
       "{(0,): {(0,): 0.2180673824509441, (1,): 0.7815188926300037},\n",
       " (1,): {(0,): 0.3219733406623609, (1,): 0.6685210312075984}}"
      ]
     },
     "execution_count": 18,
     "metadata": {},
     "output_type": "execute_result"
    }
   ],
   "source": [
    "PA_B = QABC.DistributionQuery(set([A]), set([B]), aproximation=True)\n",
    "parents_names = tuple([v.name for v in PA_B.parents])\n",
    "vars_names = tuple([v.name for v in PA_B.vars])\n",
    "print(parents_names, vars_names)\n",
    "PA_B.table"
   ]
  },
  {
   "cell_type": "markdown",
   "metadata": {},
   "source": [
    "### Consulta de probabilidades"
   ]
  },
  {
   "cell_type": "code",
   "execution_count": 9,
   "metadata": {},
   "outputs": [
    {
     "data": {
      "text/plain": [
       "0.3"
      ]
     },
     "execution_count": 9,
     "metadata": {},
     "output_type": "execute_result"
    }
   ],
   "source": [
    "# P(A=0|C=0)\n",
    "p = QABC.Query((A,), (C,), (0,), (0,))\n",
    "p"
   ]
  },
  {
   "cell_type": "code",
   "execution_count": 10,
   "metadata": {},
   "outputs": [
    {
     "data": {
      "text/plain": [
       "0.06"
      ]
     },
     "execution_count": 10,
     "metadata": {},
     "output_type": "execute_result"
    }
   ],
   "source": [
    "# P(A=0,B=0)\n",
    "p = QABC.Query(vars=(A,B), vars_values=(0,0))\n",
    "p"
   ]
  },
  {
   "cell_type": "markdown",
   "metadata": {},
   "source": [
    "### Consultas de valores más probables"
   ]
  },
  {
   "cell_type": "code",
   "execution_count": 11,
   "metadata": {},
   "outputs": [
    {
     "data": {
      "text/plain": [
       "(('A',), (1,), 0.7777777777777777)"
      ]
     },
     "execution_count": 11,
     "metadata": {},
     "output_type": "execute_result"
    }
   ],
   "source": [
    "#P(A|B=0)\n",
    "p = QABC.Query(vars=(A,), indep=(B,), indep_values=(0,))\n",
    "p"
   ]
  },
  {
   "cell_type": "code",
   "execution_count": 12,
   "metadata": {},
   "outputs": [
    {
     "data": {
      "text/plain": [
       "(('B',), (1,), 0.3080872913992298)"
      ]
     },
     "execution_count": 12,
     "metadata": {},
     "output_type": "execute_result"
    }
   ],
   "source": [
    "#P(A=0|B)\n",
    "p = QABC.Query(vars=(A,), indep=(B,), vars_values=(0,))\n",
    "p"
   ]
  },
  {
   "cell_type": "code",
   "execution_count": 13,
   "metadata": {},
   "outputs": [
    {
     "data": {
      "text/plain": [
       "(('A', 'B'), (1, 1), 0.5389999999999999)"
      ]
     },
     "execution_count": 13,
     "metadata": {},
     "output_type": "execute_result"
    }
   ],
   "source": [
    "#P(AB)\n",
    "p = QABC.Query(vars=(A,B))\n",
    "p"
   ]
  }
 ],
 "metadata": {
  "kernelspec": {
   "display_name": "Python 3",
   "language": "python",
   "name": "python3"
  },
  "language_info": {
   "codemirror_mode": {
    "name": "ipython",
    "version": 3
   },
   "file_extension": ".py",
   "mimetype": "text/x-python",
   "name": "python",
   "nbconvert_exporter": "python",
   "pygments_lexer": "ipython3",
   "version": "3.10.12"
  }
 },
 "nbformat": 4,
 "nbformat_minor": 2
}
