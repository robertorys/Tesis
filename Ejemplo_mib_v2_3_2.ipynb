{
 "cells": [
  {
   "cell_type": "markdown",
   "metadata": {},
   "source": [
    "# Ejemplo de uso"
   ]
  },
  {
   "cell_type": "code",
   "execution_count": 1,
   "metadata": {},
   "outputs": [],
   "source": [
    "import mib_v2_3_2 as mb"
   ]
  },
  {
   "cell_type": "markdown",
   "metadata": {},
   "source": [
    "## Modelo de un problema"
   ]
  },
  {
   "cell_type": "markdown",
   "metadata": {},
   "source": [
    "$P(ABC) = P(A)P(B|A)P(C|AB)$."
   ]
  },
  {
   "cell_type": "markdown",
   "metadata": {},
   "source": [
    "### Probabilidades"
   ]
  },
  {
   "cell_type": "markdown",
   "metadata": {},
   "source": [
    "<table width=\"90%\">\n",
    "    <tr>\n",
    "        <td valign=\"top\">\n",
    "            <table width=\"50%\">\n",
    "              <tr>\n",
    "                <th> $A$</th>\n",
    "                <th><p style=\"text-align:center;\"> $P(A)$</p></th>\n",
    "              </tr>\n",
    "              <tr>\n",
    "                <td><p style=\"text-align:center;\">$0$</p></td>\n",
    "                <td><p style=\"text-align:center;\">$0.3$</p></td>\n",
    "              </tr>\n",
    "              <tr>\n",
    "                <td><p style=\"text-align:center;\">$1$</p></td>\n",
    "                <td><p style=\"text-align:center;\">$0.7$</p></td>\n",
    "              </tr>\n",
    "            </table>\n",
    "        </td>\n",
    "        <td valign=\"top\">\n",
    "            <table width=\"60%\">\n",
    "              <tr>\n",
    "                <td style=\"height:1px;\"> &nbsp;</td>\n",
    "                <td colspan=\"2\"><p style=\"text-align:center;\">$P$($B$|$A$)</p></td>\n",
    "              </tr>\n",
    "              <tr>\n",
    "                <td>$A$</td>\n",
    "                <td><p style=\"text-align:center;\">$0$</p></td>\n",
    "                <td><p style=\"text-align:center;\">$1$</p></td>\n",
    "              </tr>\n",
    "              <tr>\n",
    "                <td><p style=\"text-align:center;\">$0$</p></td>\n",
    "                <td><p style=\"text-align:center;\">$0.2$</p></td>\n",
    "                <td><p style=\"text-align:center;\">$0.8$</p></td>\n",
    "              </tr>\n",
    "              <tr>\n",
    "                <td><p style=\"text-align:center;\">$1$</p></td>\n",
    "                <td><p style=\"text-align:center;\">$0.3$</p></td>\n",
    "                <td><p style=\"text-align:center;\">$0.7$</p></td>\n",
    "              </tr>\n",
    "            </table>        \n",
    "        </td>\n",
    "        <td valign=\"top\">\n",
    "            <table width=\"90%\">\n",
    "              <tr>\n",
    "                <td style=\"height:1px;\"> &nbsp;</td>\n",
    "                <td colspan=\"2\"><p style=\"text-align:center;\">$P$($C$|$AB$)</p></td>\n",
    "              </tr>\n",
    "              <tr>\n",
    "                <td>$AB$</td>\n",
    "                <td><p style=\"text-align:center;\">$0$</p></td>\n",
    "                <td><p style=\"text-align:center;\">$1$</p></td>\n",
    "                <td><p style=\"text-align:center;\">$2$</p></td>\n",
    "              </tr>\n",
    "              <tr>\n",
    "                <td><p style=\"text-align:center;\">$00$</p></td>\n",
    "                <td><p style=\"text-align:center;\">$0.1$</p></td>\n",
    "                <td><p style=\"text-align:center;\">$0.8$</p></td>\n",
    "                <td><p style=\"text-align:center;\">$0.1$</p></td>\n",
    "              </tr>\n",
    "              <tr>\n",
    "                <td><p style=\"text-align:center;\">$01$</p></td>\n",
    "                <td><p style=\"text-align:center;\">$0.3$</p></td>\n",
    "                <td><p style=\"text-align:center;\">$0.5$</p></td>\n",
    "                <td><p style=\"text-align:center;\">$0.2$</p></td>\n",
    "              </tr>\n",
    "              <tr>\n",
    "                <td><p style=\"text-align:center;\">$10$</p></td>\n",
    "                <td><p style=\"text-align:center;\">$0.4$</p></td>\n",
    "                <td><p style=\"text-align:center;\">$0.5$</p></td>\n",
    "                <td><p style=\"text-align:center;\">$0.1$</p></td>\n",
    "              </tr>\n",
    "              <tr>\n",
    "                <td><p style=\"text-align:center;\">$11$</p></td>\n",
    "                <td><p style=\"text-align:center;\">$0.1$</p></td>\n",
    "                <td><p style=\"text-align:center;\">$0.7$</p></td>\n",
    "                <td><p style=\"text-align:center;\">$0.2$</p></td>\n",
    "              </tr>\n",
    "            </table>        \n",
    "        </td>\n",
    "    </tr>\n",
    "</table>"
   ]
  },
  {
   "cell_type": "markdown",
   "metadata": {},
   "source": [
    "## Creación de datos"
   ]
  },
  {
   "cell_type": "markdown",
   "metadata": {},
   "source": [
    "### Declaración de diccionarios"
   ]
  },
  {
   "cell_type": "code",
   "execution_count": 2,
   "metadata": {},
   "outputs": [],
   "source": [
    "# Tablas\n",
    "# {(A,): P(A)}\n",
    "dA = {\n",
    "    (0,): 0.3,\n",
    "    (1,): 0.7\n",
    "}\n",
    "\n",
    "# {(variables independientes): {variables: p}}\n",
    "\n",
    "# {(A,):{(B,): P(B|A)}}\n",
    "dB_A = {\n",
    "    (0,):{(0,): 0.2, (1,): 0.8},\n",
    "    (1,):{(0,): 0.3, (1,): 0.7}\n",
    "}\n",
    "\n",
    "# {(A,B):{(C,): P(C|A,B)}}\n",
    "dC_AB = {\n",
    "    (0,0): {(0,): 0.1, (1,): 0.8, (2,): 0.1},\n",
    "    (0,1): {(0,): 0.3, (1,): 0.5, (2,): 0.2},\n",
    "    (1,0): {(0,): 0.4, (1,): 0.5, (2,): 0.1},\n",
    "    (1,1): {(0,): 0.1, (1,): 0.7, (2,): 0.2}\n",
    "    }\n"
   ]
  },
  {
   "cell_type": "markdown",
   "metadata": {},
   "source": [
    "### Declaración de variables"
   ]
  },
  {
   "cell_type": "code",
   "execution_count": 3,
   "metadata": {},
   "outputs": [],
   "source": [
    "A = mb.Var(name='A', values=set([0,1]))\n",
    "B = mb.Var(name='B', values=set([0,1]))\n",
    "C = mb.Var(name='C', values=set([0,1,2]))"
   ]
  },
  {
   "cell_type": "markdown",
   "metadata": {},
   "source": [
    "### Declaración de distribuciones "
   ]
  },
  {
   "cell_type": "code",
   "execution_count": 4,
   "metadata": {},
   "outputs": [],
   "source": [
    "# P(A)\n",
    "PA = mb.Distrib(table=dA, vars=(A,))\n",
    "# P(B|A)\n",
    "PB_A = mb.Distrib(table=dB_A, vars=(B,), parents=(A,))\n",
    "# P(C|AB)\n",
    "PC_AB = mb.Distrib(table=dC_AB, vars=(C,), parents=(A, B))"
   ]
  },
  {
   "cell_type": "markdown",
   "metadata": {},
   "source": [
    "## Creación de la pregunta"
   ]
  },
  {
   "cell_type": "code",
   "execution_count": 5,
   "metadata": {},
   "outputs": [],
   "source": [
    "# Probabilidad conjunta (Especificación)\n",
    "PABC = mb.Specification(set([A,B,C]), (PA, PB_A, PC_AB))\n",
    "# Generador de consultas (Pregunta)\n",
    "QABC = mb.Question(PABC)"
   ]
  },
  {
   "cell_type": "markdown",
   "metadata": {},
   "source": [
    "## Creación de consultas"
   ]
  },
  {
   "cell_type": "markdown",
   "metadata": {},
   "source": [
    "### Distribuciones"
   ]
  },
  {
   "cell_type": "markdown",
   "metadata": {},
   "source": [
    "#### De una variable"
   ]
  },
  {
   "cell_type": "code",
   "execution_count": 6,
   "metadata": {},
   "outputs": [
    {
     "data": {
      "text/plain": [
       "{(0,): 0.27, (1,): 0.7299999999999999}"
      ]
     },
     "execution_count": 6,
     "metadata": {},
     "output_type": "execute_result"
    }
   ],
   "source": [
    "PB = QABC.DistributionQuery(set([B]))\n",
    "PB.table"
   ]
  },
  {
   "cell_type": "code",
   "execution_count": 7,
   "metadata": {},
   "outputs": [
    {
     "data": {
      "text/plain": [
       "{(0,): 0.2748, (1,): 0.7322}"
      ]
     },
     "execution_count": 7,
     "metadata": {},
     "output_type": "execute_result"
    }
   ],
   "source": [
    "PB = QABC.DistributionQuery(set([B]), aproximation=True)\n",
    "PB.table"
   ]
  },
  {
   "cell_type": "markdown",
   "metadata": {},
   "source": [
    "#### Conjuntas"
   ]
  },
  {
   "cell_type": "code",
   "execution_count": 8,
   "metadata": {},
   "outputs": [
    {
     "data": {
      "text/plain": [
       "{(0, 0): 0.06, (0, 1): 0.24, (1, 0): 0.21, (1, 1): 0.48999999999999994}"
      ]
     },
     "execution_count": 8,
     "metadata": {},
     "output_type": "execute_result"
    }
   ],
   "source": [
    "PAB = QABC.DistributionQuery(set([A,B]))\n",
    "PAB.table"
   ]
  },
  {
   "cell_type": "code",
   "execution_count": 9,
   "metadata": {},
   "outputs": [
    {
     "data": {
      "text/plain": [
       "{(0, 0): 0.063, (0, 1): 0.241, (1, 0): 0.2094, (1, 1): 0.4881}"
      ]
     },
     "execution_count": 9,
     "metadata": {},
     "output_type": "execute_result"
    }
   ],
   "source": [
    "PAB = QABC.DistributionQuery(set([A,B]), aproximation=True)\n",
    "PAB.table"
   ]
  },
  {
   "cell_type": "markdown",
   "metadata": {},
   "source": [
    "#### Condicional"
   ]
  },
  {
   "cell_type": "code",
   "execution_count": 10,
   "metadata": {},
   "outputs": [
    {
     "name": "stdout",
     "output_type": "stream",
     "text": [
      "('B',) ('A',)\n"
     ]
    },
    {
     "data": {
      "text/plain": [
       "{(0,): {(0,): 0.2222222222222222, (1,): 0.7777777777777777},\n",
       " (1,): {(0,): 0.32876712328767127, (1,): 0.6712328767123288}}"
      ]
     },
     "execution_count": 10,
     "metadata": {},
     "output_type": "execute_result"
    }
   ],
   "source": [
    "PA_B = QABC.DistributionQuery(set([A]), set([B]))\n",
    "parents_names = tuple([v.name for v in PA_B.parents])\n",
    "vars_names = tuple([v.name for v in PA_B.vars])\n",
    "print(parents_names, vars_names)\n",
    "PA_B.table"
   ]
  },
  {
   "cell_type": "code",
   "execution_count": 11,
   "metadata": {},
   "outputs": [
    {
     "name": "stdout",
     "output_type": "stream",
     "text": [
      "('B',) ('A',)\n"
     ]
    },
    {
     "data": {
      "text/plain": [
       "{(0,): {(0,): 0, (1,): 0}, (1,): {(0,): 0, (1,): 0}}"
      ]
     },
     "execution_count": 11,
     "metadata": {},
     "output_type": "execute_result"
    }
   ],
   "source": [
    "PA_B = QABC.DistributionQuery(set([A]), set([B]), aproximation=True)\n",
    "parents_names = tuple([v.name for v in PA_B.parents])\n",
    "vars_names = tuple([v.name for v in PA_B.vars])\n",
    "print(parents_names, vars_names)\n",
    "PA_B.table"
   ]
  },
  {
   "cell_type": "markdown",
   "metadata": {},
   "source": [
    "### Consulta de probabilidades"
   ]
  },
  {
   "cell_type": "code",
   "execution_count": 12,
   "metadata": {},
   "outputs": [
    {
     "data": {
      "text/plain": [
       "0.3696682464454977"
      ]
     },
     "execution_count": 12,
     "metadata": {},
     "output_type": "execute_result"
    }
   ],
   "source": [
    "# P(A=0|C=0)\n",
    "p = QABC.Query((A,), (C,), (0,), (0,))\n",
    "p"
   ]
  },
  {
   "cell_type": "code",
   "execution_count": 13,
   "metadata": {},
   "outputs": [
    {
     "data": {
      "text/plain": [
       "0.06"
      ]
     },
     "execution_count": 13,
     "metadata": {},
     "output_type": "execute_result"
    }
   ],
   "source": [
    "# P(A=0,B=0)\n",
    "p = QABC.Query(vars=(A,B), vars_values=(0,0))\n",
    "p"
   ]
  },
  {
   "cell_type": "markdown",
   "metadata": {},
   "source": [
    "### Consultas de valores más probables"
   ]
  },
  {
   "cell_type": "code",
   "execution_count": 14,
   "metadata": {},
   "outputs": [
    {
     "data": {
      "text/plain": [
       "(('A',), (1,), 0.7777777777777777)"
      ]
     },
     "execution_count": 14,
     "metadata": {},
     "output_type": "execute_result"
    }
   ],
   "source": [
    "#P(A|B=0)\n",
    "p = QABC.Query(vars=(A,), indep=(B,), indep_values=(0,))\n",
    "p"
   ]
  },
  {
   "cell_type": "code",
   "execution_count": 15,
   "metadata": {},
   "outputs": [
    {
     "data": {
      "text/plain": [
       "(('B',), (1,), 0.32876712328767127)"
      ]
     },
     "execution_count": 15,
     "metadata": {},
     "output_type": "execute_result"
    }
   ],
   "source": [
    "#P(A=0|B)\n",
    "p = QABC.Query(vars=(A,), indep=(B,), vars_values=(0,))\n",
    "p"
   ]
  },
  {
   "cell_type": "code",
   "execution_count": 16,
   "metadata": {},
   "outputs": [
    {
     "data": {
      "text/plain": [
       "(('A', 'B'), (1, 1), 0.48999999999999994)"
      ]
     },
     "execution_count": 16,
     "metadata": {},
     "output_type": "execute_result"
    }
   ],
   "source": [
    "#P(AB)\n",
    "p = QABC.Query(vars=(A,B))\n",
    "p"
   ]
  },
  {
   "cell_type": "markdown",
   "metadata": {},
   "source": [
    "# Problema de autoria de textos "
   ]
  },
  {
   "cell_type": "markdown",
   "metadata": {},
   "source": [
    "## Planteamiento"
   ]
  },
  {
   "cell_type": "markdown",
   "metadata": {},
   "source": [
    "### Especificación"
   ]
  },
  {
   "cell_type": "markdown",
   "metadata": {},
   "source": [
    "#### Variables"
   ]
  },
  {
   "cell_type": "markdown",
   "metadata": {},
   "source": [
    "- $A$ : Variable para los autores\n",
    "- $T$ : Variable para los tipos de textos\n",
    "- $W_I$ : Variable para las palabras"
   ]
  },
  {
   "cell_type": "markdown",
   "metadata": {},
   "source": [
    "##### Variable $A$"
   ]
  },
  {
   "cell_type": "markdown",
   "metadata": {},
   "source": [
    "$|A| = 10 $"
   ]
  },
  {
   "cell_type": "markdown",
   "metadata": {},
   "source": [
    "##### Variable $T$"
   ]
  },
  {
   "cell_type": "markdown",
   "metadata": {},
   "source": [
    "$ T = \\{'minicuento', 'fábula', 'cuento'\\} $"
   ]
  },
  {
   "cell_type": "markdown",
   "metadata": {},
   "source": [
    "##### Variable $W_i$"
   ]
  },
  {
   "cell_type": "markdown",
   "metadata": {},
   "source": [
    "$ W_i = \\{0,1\\}$, donde cada $W_i$ representa una variable para cada palabra.\n",
    "\n",
    "Si $W_i$ es 0, entonces la palabra no esta. Si $W_i$ es 1 entonces la palabra esta."
   ]
  },
  {
   "cell_type": "markdown",
   "metadata": {},
   "source": [
    "#### Modelo de descomposición"
   ]
  },
  {
   "cell_type": "markdown",
   "metadata": {},
   "source": [
    "$P(A)P(T|A)\\displaystyle \\prod_{i=0}^{n} P(W_i|AT)$"
   ]
  },
  {
   "cell_type": "markdown",
   "metadata": {},
   "source": [
    "## Implementación"
   ]
  },
  {
   "cell_type": "markdown",
   "metadata": {},
   "source": [
    "### Obtención de datos para el test"
   ]
  },
  {
   "cell_type": "code",
   "execution_count": null,
   "metadata": {},
   "outputs": [],
   "source": [
    "archivos = glob.glob('./Train/*/*')\n",
    "archivos,nombres = tp.carga_cuentos(archivos)\n",
    "df_train = tp.lee_cuentos(archivos)\n",
    "\n",
    "archivos = glob.glob('./Test/*')\n",
    "archivos,nombres = tp.carga_cuentos(archivos)\n",
    "df_test = tp.lee_cuentos(archivos,test=True)"
   ]
  },
  {
   "cell_type": "markdown",
   "metadata": {},
   "source": [
    "#### Data Frames de trabajo"
   ]
  },
  {
   "cell_type": "code",
   "execution_count": null,
   "metadata": {},
   "outputs": [],
   "source": [
    "s = df_train.texto.str.cat(sep=' ').split()\n",
    "print(len(s))\n",
    "conteos=Counter(s)\n",
    "nuevo_vocabulario = list(set([palabra for palabra in s if conteos[palabra] < 10 and conteos[palabra] > 5]))\n",
    "print(len(nuevo_vocabulario))"
   ]
  },
  {
   "cell_type": "code",
   "execution_count": null,
   "metadata": {},
   "outputs": [],
   "source": [
    "df_train_T = df_train.copy()\n",
    "df_train_T['nuevo_texto'] = df_train_T.texto.str.split().\\\n",
    "    apply(lambda texto: [w for w in texto if w in nuevo_vocabulario]).\\\n",
    "    apply(lambda x : ' '.join(x))\n",
    "df_train_T['Conteos']=df_train_T.nuevo_texto.str.split().apply(Counter)\n",
    "\n",
    "\n",
    "df_train_T.head()"
   ]
  },
  {
   "cell_type": "code",
   "execution_count": null,
   "metadata": {},
   "outputs": [],
   "source": [
    "df_test_T = df_test.copy()\n",
    "df_test_T['nuevo_texto']=df_test_T.texto.str.split().\\\n",
    "    apply(lambda texto: [w for w in texto if w in nuevo_vocabulario]).\\\n",
    "    apply(lambda x : ' '.join(x))\n",
    "df_test_T['nuevo_total']=df_test_T.nuevo_texto.str.split().apply(len)\n",
    "df_test_T['Conteos']=df_test_T.nuevo_texto.str.split().apply(Counter)\n",
    "\n",
    "\n",
    "df_test_T.head()"
   ]
  }
 ],
 "metadata": {
  "kernelspec": {
   "display_name": "Python 3",
   "language": "python",
   "name": "python3"
  },
  "language_info": {
   "codemirror_mode": {
    "name": "ipython",
    "version": 3
   },
   "file_extension": ".py",
   "mimetype": "text/x-python",
   "name": "python",
   "nbconvert_exporter": "python",
   "pygments_lexer": "ipython3",
   "version": "3.10.12"
  }
 },
 "nbformat": 4,
 "nbformat_minor": 2
}
