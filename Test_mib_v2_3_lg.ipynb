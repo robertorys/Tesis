{
 "cells": [
  {
   "cell_type": "markdown",
   "metadata": {},
   "source": []
  },
  {
   "cell_type": "markdown",
   "metadata": {},
   "source": [
    "## Test de $P(A|W_0,W_1,\\dots,W_n)$ y $P(A|W_0,W_1,\\dots,W_r,W_{r+1},\\dots,W_n)$"
   ]
  },
  {
   "cell_type": "code",
   "execution_count": 1,
   "metadata": {},
   "outputs": [
    {
     "name": "stderr",
     "output_type": "stream",
     "text": [
      "[nltk_data] Downloading package stopwords to\n",
      "[nltk_data]     /home/roberto/nltk_data...\n",
      "[nltk_data]   Package stopwords is already up-to-date!\n",
      "[nltk_data] Downloading package punkt to /home/roberto/nltk_data...\n",
      "[nltk_data]   Package punkt is already up-to-date!\n"
     ]
    }
   ],
   "source": [
    "import tpproc as tp\n",
    "from collections import Counter  #regresa un diccionario con conteos\n",
    "import glob\n",
    "import nltk\n",
    "nltk.download('punkt')\n",
    "from nltk.tokenize import word_tokenize\n",
    "from collections import OrderedDict #diccionarios ordenados\n",
    "import numpy as np\n",
    "import mib_v2_3_lg as mb"
   ]
  },
  {
   "cell_type": "code",
   "execution_count": 2,
   "metadata": {},
   "outputs": [
    {
     "name": "stdout",
     "output_type": "stream",
     "text": [
      "leyendo...\n",
      "tamaño del contenido de archivos cargados:             1 KB\n"
     ]
    },
    {
     "data": {
      "text/html": [
       "<div>\n",
       "<style scoped>\n",
       "    .dataframe tbody tr th:only-of-type {\n",
       "        vertical-align: middle;\n",
       "    }\n",
       "\n",
       "    .dataframe tbody tr th {\n",
       "        vertical-align: top;\n",
       "    }\n",
       "\n",
       "    .dataframe thead th {\n",
       "        text-align: right;\n",
       "    }\n",
       "</style>\n",
       "<table border=\"1\" class=\"dataframe\">\n",
       "  <thead>\n",
       "    <tr style=\"text-align: right;\">\n",
       "      <th></th>\n",
       "      <th>titulo</th>\n",
       "      <th>tipo</th>\n",
       "      <th>autor</th>\n",
       "      <th>texto</th>\n",
       "    </tr>\n",
       "  </thead>\n",
       "  <tbody>\n",
       "    <tr>\n",
       "      <th>0</th>\n",
       "      <td>la sombra</td>\n",
       "      <td>minicuento</td>\n",
       "      <td>gibrán jalil gibrán</td>\n",
       "      <td>cierto día junio hierba dijo sombra olmo mueve...</td>\n",
       "    </tr>\n",
       "    <tr>\n",
       "      <th>1</th>\n",
       "      <td>la búsqueda</td>\n",
       "      <td>cuento</td>\n",
       "      <td>gibrán jalil gibrán</td>\n",
       "      <td>hace mil años dos filósofos encontraron cuesta...</td>\n",
       "    </tr>\n",
       "    <tr>\n",
       "      <th>2</th>\n",
       "      <td>dos poemas</td>\n",
       "      <td>cuento</td>\n",
       "      <td>gibrán jalil gibrán</td>\n",
       "      <td>varios siglos atrás camino atenas encontraron ...</td>\n",
       "    </tr>\n",
       "    <tr>\n",
       "      <th>3</th>\n",
       "      <td>aquel viejo, viejo vino</td>\n",
       "      <td>cuento</td>\n",
       "      <td>gibrán jalil gibrán</td>\n",
       "      <td>vez hombre rico orgulloso bodega vino allí vas...</td>\n",
       "    </tr>\n",
       "    <tr>\n",
       "      <th>4</th>\n",
       "      <td>tres regalos</td>\n",
       "      <td>cuento</td>\n",
       "      <td>gibrán jalil gibrán</td>\n",
       "      <td>cierta vez ciudad becharre vivía amable prínci...</td>\n",
       "    </tr>\n",
       "  </tbody>\n",
       "</table>\n",
       "</div>"
      ],
      "text/plain": [
       "                    titulo        tipo                autor  \\\n",
       "0                la sombra  minicuento  gibrán jalil gibrán   \n",
       "1              la búsqueda      cuento  gibrán jalil gibrán   \n",
       "2               dos poemas      cuento  gibrán jalil gibrán   \n",
       "3  aquel viejo, viejo vino      cuento  gibrán jalil gibrán   \n",
       "4             tres regalos      cuento  gibrán jalil gibrán   \n",
       "\n",
       "                                               texto  \n",
       "0  cierto día junio hierba dijo sombra olmo mueve...  \n",
       "1  hace mil años dos filósofos encontraron cuesta...  \n",
       "2  varios siglos atrás camino atenas encontraron ...  \n",
       "3  vez hombre rico orgulloso bodega vino allí vas...  \n",
       "4  cierta vez ciudad becharre vivía amable prínci...  "
      ]
     },
     "execution_count": 2,
     "metadata": {},
     "output_type": "execute_result"
    }
   ],
   "source": [
    "archivos = glob.glob('./Train/*/*')\n",
    "archivos,nombres = tp.carga_cuentos(archivos)\n",
    "df_train = tp.lee_cuentos(archivos)\n",
    "df_train.head()"
   ]
  },
  {
   "cell_type": "code",
   "execution_count": 3,
   "metadata": {},
   "outputs": [
    {
     "name": "stdout",
     "output_type": "stream",
     "text": [
      "leyendo...\n",
      "tamaño del contenido de archivos cargados:             0 KB\n"
     ]
    },
    {
     "data": {
      "text/html": [
       "<div>\n",
       "<style scoped>\n",
       "    .dataframe tbody tr th:only-of-type {\n",
       "        vertical-align: middle;\n",
       "    }\n",
       "\n",
       "    .dataframe tbody tr th {\n",
       "        vertical-align: top;\n",
       "    }\n",
       "\n",
       "    .dataframe thead th {\n",
       "        text-align: right;\n",
       "    }\n",
       "</style>\n",
       "<table border=\"1\" class=\"dataframe\">\n",
       "  <thead>\n",
       "    <tr style=\"text-align: right;\">\n",
       "      <th></th>\n",
       "      <th>titulo</th>\n",
       "      <th>texto</th>\n",
       "    </tr>\n",
       "  </thead>\n",
       "  <tbody>\n",
       "    <tr>\n",
       "      <th>0</th>\n",
       "      <td>el caballo y el lobo</td>\n",
       "      <td>estación blandos céfiros hacen verdear campos ...</td>\n",
       "    </tr>\n",
       "  </tbody>\n",
       "</table>\n",
       "</div>"
      ],
      "text/plain": [
       "                 titulo                                              texto\n",
       "0  el caballo y el lobo  estación blandos céfiros hacen verdear campos ..."
      ]
     },
     "execution_count": 3,
     "metadata": {},
     "output_type": "execute_result"
    }
   ],
   "source": [
    "archivos = glob.glob('./Test/El Caballo y el Lobo.txt')\n",
    "archivos,nombres = tp.carga_cuentos(archivos)\n",
    "df_test = tp.lee_cuentos(archivos,test=True)\n",
    "df_test.head()"
   ]
  },
  {
   "cell_type": "code",
   "execution_count": 4,
   "metadata": {},
   "outputs": [],
   "source": [
    "df_train = df_train.query('autor ==  \"gibrán jalil gibrán\" or autor ==  \"jean de la fontaine\" or autor ==  \"juan carlos onetti\"')"
   ]
  },
  {
   "cell_type": "code",
   "execution_count": 5,
   "metadata": {},
   "outputs": [
    {
     "name": "stdout",
     "output_type": "stream",
     "text": [
      "377\n"
     ]
    }
   ],
   "source": [
    "s = df_train[df_train['autor'] == 'jean de la fontaine'].texto.str.cat(sep=' ').split()\n",
    "conteos = Counter(s)\n",
    "autor_vocabulario = set([palabra for palabra in s])\n",
    "print(len(autor_vocabulario))"
   ]
  },
  {
   "cell_type": "code",
   "execution_count": 6,
   "metadata": {},
   "outputs": [
    {
     "name": "stdout",
     "output_type": "stream",
     "text": [
      "106\n"
     ]
    }
   ],
   "source": [
    "s = df_test.texto.str.cat(sep=' ').split()\n",
    "conteos = Counter(s)\n",
    "vocab_test = set([palabra for palabra in s])\n",
    "print(len(vocab_test))"
   ]
  },
  {
   "cell_type": "code",
   "execution_count": 7,
   "metadata": {},
   "outputs": [
    {
     "name": "stdout",
     "output_type": "stream",
     "text": [
      "['juan carlos onetti', 'gibrán jalil gibrán', 'jean de la fontaine']\n",
      "{('gibrán jalil gibrán',): 0.45454545454545453, ('jean de la fontaine',): 0.36363636363636365, ('juan carlos onetti',): 0.18181818181818182}\n",
      "{('juan carlos onetti',): {('cuento',): 0.75, ('minicuento',): 0.25}, ('gibrán jalil gibrán',): {('cuento',): 0.7142857142857143, ('minicuento',): 0.2857142857142857}, ('jean de la fontaine',): {('cuento',): 0.16666666666666666, ('minicuento',): 0.8333333333333334}}\n"
     ]
    }
   ],
   "source": [
    "from itertools import product\n",
    "# Creación de variables\n",
    "\n",
    "# Vraible para autor\n",
    "# Ocurrencias de cada autor y conteos de ocurrencias y de número de autores\n",
    "oc_autor = Counter(df_train.autor)\n",
    "tot_oc_aut = np.sum(list(oc_autor.values()))\n",
    "tot_autores = len(oc_autor)\n",
    "A = mb.Var('A', set([autor for autor in oc_autor]))\n",
    "# Distribución P(A)\n",
    "n_= []\n",
    "for autor in oc_autor:\n",
    "    n_.append(((autor,),oc_autor[autor]/tot_oc_aut))\n",
    "\n",
    "# Dicionario de valores de probabilidad\n",
    "dA = dict(n_)\n",
    "# Distribución de probabilidad\n",
    "PA = mb.Distrib(vars=set([A]), table = dA, columns=('A',))\n",
    "print(A.getValues())\n",
    "PA.print_table()\n",
    "\n",
    "\n",
    "# Variable para tipos\n",
    "# Ocurrencias de cada tipo y conteos de ocurrencias y de número de tipos\n",
    "oc_tipo = Counter(df_train.tipo)\n",
    "tot_oc_tipo = np.sum(list(oc_tipo.values()))\n",
    "tot_tipos = len(oc_tipo)\n",
    "T = mb.Var('T', set([tipo for tipo in oc_tipo]))\n",
    "\n",
    "# Distribución P(T|A)\n",
    "\n",
    "# Ocurrencias (conteos) de cada combinación (tipo,autor)\n",
    "conteo_pares = Counter(zip(df_train.autor,df_train.tipo))\n",
    "# Combinaciones (tipo,autor)\n",
    "autores = list(set(df_train.autor))\n",
    "tipos = list(set(df_train.tipo))\n",
    "\n",
    "dT_A = {}\n",
    "\n",
    "for autor, tipo in product(*[autores,tipos]):\n",
    "    par = (autor, tipo)\n",
    "    ak = (autor,)\n",
    "    \n",
    "    if ak in dT_A.keys():\n",
    "        if par in conteo_pares.keys():\n",
    "            dT_A[ak][(tipo,)] = conteo_pares[par]\n",
    "        else:\n",
    "            dT_A[ak][(tipo,)] = 0 \n",
    "    else:\n",
    "        if par in conteo_pares.keys():\n",
    "            dT_A[ak] = {(tipo,): conteo_pares[par]}\n",
    "        else:\n",
    "            dT_A[ak] = {(tipo,): 0}\n",
    "            \n",
    "# Corrección de Laplace en el caso general\n",
    "# Se corrige la misma tabla que se senvía como argumento; no se crea una nueva.\n",
    "def Laplace_gral(tabla):\n",
    "    n = len(tabla[list(tabla.keys())[0]]) \n",
    "    for k in tabla.keys():\n",
    "        registro = tabla[k]\n",
    "        n_j = np.sum(list(registro.values()))\n",
    "        for i in registro.keys():\n",
    "            pb = (registro[i] + 1)/(n_j+n)\n",
    "            tabla[k][i]=pb\n",
    "\n",
    "Laplace_gral(dT_A)\n",
    "\n",
    "PT_A = mb.CondDistrib(set([T]), set([A]), dT_A, (T.getName(),), (A.getName(),))\n",
    "PT_A.print_table()"
   ]
  },
  {
   "cell_type": "code",
   "execution_count": 8,
   "metadata": {},
   "outputs": [
    {
     "name": "stdout",
     "output_type": "stream",
     "text": [
      "['juan carlos onetti', 'gibrán jalil gibrán', 'jean de la fontaine']\n",
      "{('gibrán jalil gibrán',): 0.45454545454545453, ('jean de la fontaine',): 0.36363636363636365, ('juan carlos onetti',): 0.18181818181818182}\n",
      "{('juan carlos onetti',): {('cuento',): 0.75, ('minicuento',): 0.25}, ('gibrán jalil gibrán',): {('cuento',): 0.7142857142857143, ('minicuento',): 0.2857142857142857}, ('jean de la fontaine',): {('cuento',): 0.16666666666666666, ('minicuento',): 0.8333333333333334}}\n"
     ]
    }
   ],
   "source": [
    "from itertools import product\n",
    "# Creación de variables\n",
    "\n",
    "# Vraible para autor\n",
    "# Ocurrencias de cada autor y conteos de ocurrencias y de número de autores\n",
    "oc_autor = Counter(df_train.autor)\n",
    "tot_oc_aut = np.sum(list(oc_autor.values()))\n",
    "tot_autores = len(oc_autor)\n",
    "A = mb.Var('A', set([autor for autor in oc_autor]))\n",
    "# Distribución P(A)\n",
    "n_= []\n",
    "for autor in oc_autor:\n",
    "    n_.append(((autor,),oc_autor[autor]/tot_oc_aut))\n",
    "\n",
    "# Dicionario de valores de probabilidad\n",
    "dA = dict(n_)\n",
    "# Distribución de probabilidad\n",
    "PA = mb.Distrib(vars=set([A]), table = dA, columns=('A',))\n",
    "print(A.getValues())\n",
    "PA.print_table()\n",
    "\n",
    "\n",
    "# Variable para tipos\n",
    "# Ocurrencias de cada tipo y conteos de ocurrencias y de número de tipos\n",
    "oc_tipo = Counter(df_train.tipo)\n",
    "tot_oc_tipo = np.sum(list(oc_tipo.values()))\n",
    "tot_tipos = len(oc_tipo)\n",
    "T = mb.Var('T', set([tipo for tipo in oc_tipo]))\n",
    "\n",
    "# Distribución P(T|A)\n",
    "\n",
    "# Ocurrencias (conteos) de cada combinación (tipo,autor)\n",
    "conteo_pares = Counter(zip(df_train.autor,df_train.tipo))\n",
    "# Combinaciones (tipo,autor)\n",
    "autores = list(set(df_train.autor))\n",
    "tipos = list(set(df_train.tipo))\n",
    "\n",
    "dT_A = {}\n",
    "\n",
    "for autor, tipo in product(*[autores,tipos]):\n",
    "    par = (autor, tipo)\n",
    "    ak = (autor,)\n",
    "    \n",
    "    if ak in dT_A.keys():\n",
    "        if par in conteo_pares.keys():\n",
    "            dT_A[ak][(tipo,)] = conteo_pares[par]\n",
    "        else:\n",
    "            dT_A[ak][(tipo,)] = 0 \n",
    "    else:\n",
    "        if par in conteo_pares.keys():\n",
    "            dT_A[ak] = {(tipo,): conteo_pares[par]}\n",
    "        else:\n",
    "            dT_A[ak] = {(tipo,): 0}\n",
    "            \n",
    "# Corrección de Laplace en el caso general\n",
    "# Se corrige la misma tabla que se senvía como argumento; no se crea una nueva.\n",
    "def Laplace_gral(tabla):\n",
    "    n = len(tabla[list(tabla.keys())[0]]) \n",
    "    for k in tabla.keys():\n",
    "        registro = tabla[k]\n",
    "        n_j = np.sum(list(registro.values()))\n",
    "        for i in registro.keys():\n",
    "            pb = (registro[i] + 1)/(n_j+n)\n",
    "            tabla[k][i]=pb\n",
    "\n",
    "Laplace_gral(dT_A)\n",
    "\n",
    "PT_A = mb.CondDistrib(set([T]), set([A]), dT_A, (T.getName(),), (A.getName(),))\n",
    "PT_A.print_table()"
   ]
  },
  {
   "cell_type": "code",
   "execution_count": 9,
   "metadata": {},
   "outputs": [
    {
     "name": "stdout",
     "output_type": "stream",
     "text": [
      "20\n",
      "357\n",
      "0\n",
      "1\n",
      "2\n",
      "3\n",
      "4\n",
      "5\n",
      "6\n",
      "7\n",
      "8\n",
      "9\n",
      "10\n",
      "11\n",
      "12\n",
      "13\n",
      "14\n",
      "15\n",
      "16\n"
     ]
    }
   ],
   "source": [
    "vocab_inter = vocab_test & autor_vocabulario\n",
    "vocab_dif = autor_vocabulario - vocab_test \n",
    "\n",
    "print(len(vocab_inter))\n",
    "print(len(vocab_dif))\n",
    "\n",
    "nuevo_vocab = vocab_inter.copy()\n",
    "\n",
    "ps_rn = []\n",
    "ps_n = []\n",
    "xn_p = []\n",
    "\n",
    "for i in range(17):\n",
    "    print(i)\n",
    "    xn_p.append(len(nuevo_vocab))\n",
    "    df_train_T = df_train.copy()\n",
    "    df_train_T['nuevo_texto'] = df_train_T.texto.str.split().\\\n",
    "        apply(lambda texto: [w for w in texto if w in nuevo_vocab]).\\\n",
    "        apply(lambda x : ' '.join(x))\n",
    "    df_train_T['Conteos']=df_train_T.nuevo_texto.str.split().apply(Counter)\n",
    "    \n",
    "    \n",
    "    \n",
    "    # Palabras\n",
    "    W = {}\n",
    "    for w in nuevo_vocab:    # vocabulario reducido\n",
    "        W[w] = mb.Var(w,set([0,1]))\n",
    "    \n",
    "    # Combinaciones (tipo,autor)\n",
    "    autores = list(set(df_train_T.autor))\n",
    "    tipos = list(set(df_train_T.tipo))\n",
    "    pares_ta = list(product(autores,tipos))\n",
    "\n",
    "    # Conteos de palabras en nuevo_texto por pares (a,t) en el data frame de train\n",
    "    conteo_w = dict(df_train_T.Conteos)\n",
    "    pares_train = list(zip(df_train_T.autor,df_train_T.tipo))\n",
    "\n",
    "    for i,k in enumerate(conteo_w.keys()):\n",
    "        conteo_w[k] = {pares_train[i] : dict(conteo_w[k])}\n",
    "        \n",
    "    def check(palabra,pares_ta):\n",
    "        pw_ = {}\n",
    "        var = W[palabra]\n",
    "        \n",
    "        for par in pares_ta:\n",
    "            cw_1 = 0   # conteos de presencia \n",
    "            cw_0 = 0   # y ausencia en 0\n",
    "            it = 0     # total de pares (a,t) contabilizados\n",
    "            \n",
    "            for item in list(conteo_w.values()):  # checamos cada par (a,t) en el conjunto de train\n",
    "                # print(i,list(item.keys())[0], end=' ')\n",
    "                it += 1\n",
    "                if par in item: # checamos si el par (a,t) de entrada tiene correspondencia en Train\n",
    "                    if palabra in list(item.values())[0]: #checamos si la palabra existe en el par (a,t) de Train\n",
    "                        cw_1 += 1\n",
    "                    else:\n",
    "                        cw_0 += 1  #debemos contar también la no existencia por si hay igualdad\n",
    "            \n",
    "            if cw_0 == cw_1: # la palabra aparece por igual en todos los pares Train, o bien, no hay pares Train\n",
    "                pw_1 = 0.5   #corrección de Laplace que indica que la palabra puede o no estar por igual\n",
    "                pw_0 = 0.5\n",
    "                \n",
    "            else:\n",
    "                pw_1=(1+cw_1)/(len(var.getValues())+it) #corrección de Laplace en caso de que la palabra exista\n",
    "                pw_0 = 1-pw_1\n",
    "            \n",
    "            pw_[par] = {(0,): pw_0, (1,): pw_1}\n",
    "        pw_ = OrderedDict(sorted(pw_.items()))\n",
    "        return pw_\n",
    "            \n",
    "        \n",
    "    PW_AT = {}\n",
    "    for w in nuevo_vocab:    # vocabulario reducido\n",
    "        t = check(w,pares_ta)\n",
    "        PW_AT[w] = mb.CondDistrib(set([W[w]]),set([A,T]), dict(t), (W[w].getName(),), (A.getName(), T.getName()))\n",
    "        \n",
    "    vars_set = set([A,T] + [W[w] for w in W]) \n",
    "    descomp_set = set([PA, PT_A] + [PW_AT[w] for w in W])\n",
    "    PATW = mb.Specification(vars_set, descomp_set)\n",
    "    \n",
    "    Q_PATW = mb.Question(PATW)\n",
    "    \n",
    "    values_wi = []\n",
    "    for w in W:\n",
    "        if w in vocab_inter:\n",
    "            values_wi.append(1)\n",
    "        else:\n",
    "            values_wi.append(0)\n",
    "    \n",
    "    p = Q_PATW.Query(vars=tuple([A]), indep=tuple([W[w] for w in W]), values_var = tuple(['jean de la fontaine']),values_indep = values_wi)\n",
    "    ps_n.append(p)\n",
    "    \n",
    "    indep_wi = tuple([W[w] for w in vocab_inter])\n",
    "    values_iwi = tuple([1 for w in indep_wi])\n",
    "    p = Q_PATW.Query(vars=tuple([A]), indep = indep_wi, values_var = tuple(['jean de la fontaine']),values_indep = values_iwi)\n",
    "    ps_rn.append(p)\n",
    "    \n",
    "    nuevo_vocab.add(vocab_dif.pop())\n",
    "    "
   ]
  },
  {
   "cell_type": "markdown",
   "metadata": {},
   "source": [
    "- $P(A,T,W_1,\\dots,W_n) = P(A)P(T|A) \\prod_{i=1}^{n} {P(W_i|AT)}$\n",
    "\n",
    "- $log_{10}(P(A,T,W_1,\\dots,W_n)) = log_{10}(P(A)P(T|A) \\prod_{i=1}^{n} {P(W_i|AT)}) = log_{10}(P(A)) + log_{10}(P(T|A)) \\sum_{i=1}^{n} log_{10}(P(W_i|AT))$\n",
    "\n",
    "$P(A|W_1,\\dots,W_r) = \\frac{P(A,W_1,\\dots,W_r)}{P(W_1,\\dots,W_n)}$\n",
    "\n",
    "- $ log_{10}(P(A|W_1,\\dots,W_r)) = log_{10}( \\frac{P(A,W_1,\\dots,W_r)}{P(W_1,\\dots,W_n)} ) = log_{10}(P(A,W_1,\\dots,W_r)) - log_{10}(P(W_1,\\dots,W_n))$\n",
    "\n",
    "- $ P(A,W_1,\\dots,W_r) = \\sum_{T,W_{r+1},\\dots,W_n} {P(A)P(T|A) \\prod_{i=1}^{n} {P(W_i|AT)}}$\n",
    "- $ P(W_1,\\dots,W_r) = \\sum_{A,T,W_{r+1},\\dots,W_n} {P(A)P(T|A) \\prod_{i=1}^{n} {P(W_i|AT)}}$\n"
   ]
  },
  {
   "cell_type": "code",
   "execution_count": 10,
   "metadata": {},
   "outputs": [
    {
     "data": {
      "image/png": "[encoded data removed]",
      "text/plain": [
       "<Figure size 1500x500 with 2 Axes>"
      ]
     },
     "metadata": {},
     "output_type": "display_data"
    }
   ],
   "source": [
    "import matplotlib.pyplot as plt\n",
    "fig, axs = plt.subplots(1, 2)\n",
    "fig.set_size_inches(15,5)\n",
    "\n",
    "axs[0].plot(xn_p, ps_n, color = 'r',label = \"Como decisión\")\n",
    "axs[0].set_title(\"P(A|W0,W1,Wr,...,Wn)\")\n",
    "axs[0].set_xlabel(\"n\")\n",
    "axs[0].set_ylabel(\"P\")\n",
    "\n",
    "\n",
    "axs[1].plot([n-20 for n in xn_p], ps_rn, color = 'b', label = \"Con división\")\n",
    "axs[1].set_title(\"P(A|W0,W1,Wr)\")\n",
    "axs[1].set_xlabel(\"n - r\")\n",
    "axs[1].set_ylabel(\"P\")\n",
    "plt.show()"
   ]
  }
 ],
 "metadata": {
  "kernelspec": {
   "display_name": "Python 3",
   "language": "python",
   "name": "python3"
  },
  "language_info": {
   "codemirror_mode": {
    "name": "ipython",
    "version": 3
   },
   "file_extension": ".py",
   "mimetype": "text/x-python",
   "name": "python",
   "nbconvert_exporter": "python",
   "pygments_lexer": "ipython3",
   "version": "3.8.10"
  }
 },
 "nbformat": 4,
 "nbformat_minor": 2
}
