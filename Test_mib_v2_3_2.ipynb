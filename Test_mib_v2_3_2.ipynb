{
 "cells": [
  {
   "cell_type": "code",
   "execution_count": 2,
   "metadata": {},
   "outputs": [],
   "source": [
    "import mib as mb1\n",
    "import mib_v2_3_2 as mb\n",
    "import matplotlib.pyplot as plt\n",
    "import time\n",
    "import tracemalloc"
   ]
  },
  {
   "cell_type": "markdown",
   "metadata": {},
   "source": [
    "# Test 1"
   ]
  },
  {
   "cell_type": "markdown",
   "metadata": {},
   "source": [
    "## Planteamiento"
   ]
  },
  {
   "cell_type": "markdown",
   "metadata": {},
   "source": [
    "Comprobar del rendimiento del motor de inferencia con problema pequeño y con tres eventos con distribuciones uniformes, donde su cardinalidad de los tres va de uno a cien."
   ]
  },
  {
   "cell_type": "markdown",
   "metadata": {},
   "source": [
    "### Variables"
   ]
  },
  {
   "cell_type": "markdown",
   "metadata": {},
   "source": [
    "- $A = \\{0, 2, ..., n-1\\}$\n",
    "\n",
    "- $B = \\{0, 2, ..., n-1\\}$\n",
    "\n",
    "- $C = \\{0, 2, ..., n-1\\}$"
   ]
  },
  {
   "cell_type": "markdown",
   "metadata": {},
   "source": [
    "### Modelo de descomposición"
   ]
  },
  {
   "cell_type": "markdown",
   "metadata": {},
   "source": [
    "$P(ABC) = P(A)P(B|A)P(C|AB)$.\n",
    "\n",
    "$\\;\\;\\;\\;\\;\\;\\;\\;\\;\\;\\;\\;$<img src=\"./Imagenes/P(ABC).jpg\" width=200/>"
   ]
  },
  {
   "cell_type": "markdown",
   "metadata": {},
   "source": [
    "### Formas "
   ]
  },
  {
   "cell_type": "markdown",
   "metadata": {},
   "source": [
    "$P(A)$, $P(B|A)$ y $P(C|AB)$ serán distribuciones uniformes."
   ]
  },
  {
   "cell_type": "markdown",
   "metadata": {},
   "source": [
    "## Test"
   ]
  },
  {
   "cell_type": "markdown",
   "metadata": {},
   "source": [
    "### MIB1.0"
   ]
  },
  {
   "cell_type": "code",
   "execution_count": null,
   "metadata": {},
   "outputs": [],
   "source": [
    "n = 25\n",
    "timesM1 = []\n",
    "memoryM1 = []\n",
    "\n",
    "timesC1 = []\n",
    "memoryC1 = []\n",
    "\n",
    "for i in range(21,22):\n",
    "    Events = [x for x in range(i+1)]\n",
    "    # Varaibles\n",
    "    A = mb1.Var('A',Events)\n",
    "    B = mb1.Var('B',Events)\n",
    "    C = mb1.Var('C',Events)\n",
    "\n",
    "    dA = {}\n",
    "    dB_A = {}\n",
    "    dC_AB = []\n",
    "    value = 1 / (i+1)\n",
    "    for e in Events:\n",
    "        dA[e] = value\n",
    "        dB_A[e] = {}\n",
    "        for e1 in Events:\n",
    "            dB_A[e][e1] = value\n",
    "            tC_AB = []\n",
    "            for e2 in Events:\n",
    "                tC_AB.append(value)\n",
    "            dC_AB.append(tuple(tC_AB))\n",
    "    \n",
    "    PA=mb1.Distrib(name='P(A)',variable=[A],tabla=dA)\n",
    "    PB_A=mb1.DistribCond(name='P(B|A)',var=B,indep=[A],tabla=dB_A)\n",
    "    PC_AB=mb1.DistribCond('P(C|AB)',C,[A,B],dC_AB)\n",
    "    \n",
    "    PABC=mb1.JointDistrib(name='P(ABC)',variables=[A,B,C],descomp=[PA,PB_A,PC_AB])\n",
    "    Q_ABC=mb1.Question(joint=PABC)\n",
    "\n",
    "    #Inferencia de P(B)\n",
    "    tracemalloc.start()\n",
    "    \n",
    "    inicio = time.time()\n",
    "    PB = Q_ABC.query(searched=[B])\n",
    "    fin = time.time()\n",
    "    \n",
    "    memoria_actual, memoria_pico = tracemalloc.get_traced_memory()\n",
    "    tracemalloc.stop()\n",
    "    \n",
    "    tiempo_ejecucion = fin - inicio\n",
    "    \n",
    "    timesM1.append(tiempo_ejecucion)\n",
    "    memoryM1.append(memoria_pico)\n",
    "    \n",
    "    #Inferencia de P(A|BC)\n",
    "    tracemalloc.start()\n",
    "    \n",
    "    inicio = time.time()\n",
    "    PA_BC = Q_ABC.query(searched=[A], known=[B,C])\n",
    "    fin = time.time() \n",
    "    \n",
    "    memoria_actual, memoria_pico = tracemalloc.get_traced_memory()\n",
    "    tracemalloc.stop()\n",
    "    \n",
    "    tiempo_ejecucion = fin - inicio\n",
    "    \n",
    "    timesC1.append(tiempo_ejecucion)\n",
    "    memoryC1.append(memoria_pico)"
   ]
  },
  {
   "cell_type": "markdown",
   "metadata": {},
   "source": [
    "### MIB2.0"
   ]
  },
  {
   "cell_type": "markdown",
   "metadata": {},
   "source": [
    "Complejidad $O(3) = 25^3$"
   ]
  },
  {
   "cell_type": "code",
   "execution_count": 46,
   "metadata": {},
   "outputs": [],
   "source": [
    "n = 25\n",
    "timesM = []\n",
    "memoryM = []\n",
    "\n",
    "timesC = []\n",
    "memoryC = []\n",
    "\n",
    "for i in range(n):\n",
    "    Events = set([x for x in range(i+1)])\n",
    "    \n",
    "    # Generación de distribuciones de probabilidad (Distribuciones uniformes).\n",
    "    dA = {}\n",
    "    dB_A = {}\n",
    "    dC_AB = {}\n",
    "    value = 1 / (i+1)\n",
    "    for x in range(i+1):\n",
    "        dA[(x,)] = value\n",
    "        dB_A[(x,)] = {}\n",
    "        for y in range(i+1):\n",
    "            dB_A[(x,)][(y,)] = value\n",
    "            dC_AB[(x,y)] = {}\n",
    "            for z in range(i+1):\n",
    "                dC_AB[(x,y)][(z,)] = value\n",
    "    \n",
    "    # Variables para el motor de inferencia.\n",
    "    A = mb.Var('A', Events)\n",
    "    PA = mb.Distrib(dA, (A,))\n",
    "    B = mb.Var('B', Events)\n",
    "    PB_A = mb.Distrib(dB_A, (B,), (A,))\n",
    "    C = mb.Var('C', Events)\n",
    "    PC_AB = mb.Distrib(dC_AB, (C,), (A,B))\n",
    "    \n",
    "    # Probabilidad conjunta (Espesificación)\n",
    "    PABC = mb.Specification(set([A,B,C]), (PA, PB_A, PC_AB))\n",
    "\n",
    "    Q_ABC = mb.Question(PABC)\n",
    "    \n",
    "    timesM_i = 0\n",
    "    memoryM_i = 0\n",
    "    timesC_i = 0\n",
    "    memoryC_i = 0\n",
    "    for j in range(5):\n",
    "        # Inferencia de una distibución marginal\n",
    "        tracemalloc.start()\n",
    "        \n",
    "        inicio = time.time()\n",
    "        PB = Q_ABC.DistributionQuery(set([B]))\n",
    "        fin = time.time()\n",
    "        \n",
    "        memoria_actual, memoria_pico = tracemalloc.get_traced_memory()\n",
    "        tracemalloc.stop()\n",
    "        \n",
    "        tiempo_ejecucion = fin - inicio\n",
    "        \n",
    "        timesM_i += tiempo_ejecucion\n",
    "        memoryM_i += memoria_actual\n",
    "        \n",
    "        # Inferencia de una distibución condicional \n",
    "        tracemalloc.start()\n",
    "        \n",
    "        inicio = time.time()\n",
    "        PA_BC = Q_ABC.DistributionQuery(set([A]), set([B,C]))\n",
    "        fin = time.time()\n",
    "        \n",
    "        memoria_actual, memoria_pico = tracemalloc.get_traced_memory()\n",
    "        tracemalloc.stop()\n",
    "        \n",
    "        tiempo_ejecucion = fin - inicio\n",
    "        \n",
    "        timesC_i += tiempo_ejecucion\n",
    "        memoryC_i += memoria_actual\n",
    "    \n",
    "    timesM.append(timesM_i / 5)\n",
    "    memoryM.append(memoryM_i / 5)\n",
    "    timesC.append(timesC_i/ 5)\n",
    "    memoryC.append(memoryM_i / 5)"
   ]
  },
  {
   "cell_type": "markdown",
   "metadata": {},
   "source": [
    "## Datos obtenidos"
   ]
  },
  {
   "cell_type": "markdown",
   "metadata": {},
   "source": [
    "### Tiempos"
   ]
  },
  {
   "cell_type": "markdown",
   "metadata": {},
   "source": [
    "#### Tiempos de inferencia para $P(B)$"
   ]
  },
  {
   "cell_type": "code",
   "execution_count": null,
   "metadata": {},
   "outputs": [],
   "source": [
    "xn = [i+1 for i in range(n)]\n",
    "fig, ax = plt.subplots(1, 2)\n",
    "fig.set_size_inches(10,4)\n",
    "# fig.set_size_inches(15,5)\n",
    "# MIB_1.0\n",
    "ax[0].plot(xn, timesM1[:len(timesM1)-1], color='b',label = 'MIB_1.0')\n",
    "ax[0].set_title(\"Tiempo de inferencia para P(B) (MIB_1.0)\")\n",
    "ax[0].set_xlabel(\"n\")\n",
    "ax[0].set_ylabel(\"segundos\")\n",
    "\n",
    "# MIB_2.0\n",
    "ax[1].plot(xn, timesM, color='r',label = 'MIB_2.0')\n",
    "ax[1].set_title(\"Tiempo de inferencia para P(B) (MIB_2.0)\")\n",
    "ax[1].set_xlabel(\"n\")\n",
    "ax[1].set_ylabel(\"segundos\")\n",
    "\n",
    "# Mostrar las gráficas\n",
    "plt.show()"
   ]
  },
  {
   "cell_type": "code",
   "execution_count": 47,
   "metadata": {},
   "outputs": [
    {
     "data": {
      "image/png": "[encoded data removed]",
      "text/plain": [
       "<Figure size 640x480 with 1 Axes>"
      ]
     },
     "metadata": {},
     "output_type": "display_data"
    }
   ],
   "source": [
    "fig, ax = plt.subplots()\n",
    "xn = [i+1 for i in range(n)]\n",
    "# MIB_1.0\n",
    "ax.plot(xn, timesM1, color='b', label = 'MIB_1.0')\n",
    "\n",
    "# MIB_2.0\n",
    "ax.plot(xn, timesM, color='r',label = 'MIB_2.0')\n",
    "ax.set_title(\"Tiempo de inferencia para P(B)\")\n",
    "\n",
    "ax.set_xlabel(\"n\")\n",
    "ax.set_ylabel(\"segundos\")\n",
    "ax.legend(loc = 'upper left')\n",
    "\n",
    "# Mostrar las gráficas\n",
    "plt.show()"
   ]
  },
  {
   "cell_type": "markdown",
   "metadata": {},
   "source": [
    "#### Tiempos de inferencia para $P(C|AB)$"
   ]
  },
  {
   "cell_type": "code",
   "execution_count": null,
   "metadata": {},
   "outputs": [],
   "source": [
    "xn = [i+1 for i in range(n)]\n",
    "fig, ax = plt.subplots(1, 2)\n",
    "fig.set_size_inches(10,4)\n",
    "# MIB_1.0\n",
    "ax[0].plot(xn, timesC1, color='b',label = 'MIB_1.0')\n",
    "ax[0].set_title(\"Tiempo de inferencia para P(C|AB) (MIB_1.0)\")\n",
    "ax[0].set_xlabel(\"n\")\n",
    "ax[0].set_ylabel(\"segundos\")\n",
    "\n",
    "# MIB_2.0\n",
    "ax[1].plot(xn, timesC, color='r',label = 'MIB_2.0')\n",
    "ax[1].set_title(\"Tiempo de inferencia para P(C|AB) (MIB_2.0)\")\n",
    "ax[1].set_xlabel(\"n\")\n",
    "ax[1].set_ylabel(\"segundos\")\n",
    "\n",
    "# Mostrar las gráficas\n",
    "plt.show()"
   ]
  },
  {
   "cell_type": "code",
   "execution_count": null,
   "metadata": {},
   "outputs": [],
   "source": [
    "fig, ax = plt.subplots()\n",
    "\n",
    "# MIB_1.0\n",
    "ax.plot(xn, timesC1, color='b', label = 'MIB_1.0')\n",
    "\n",
    "# MIB_2.0\n",
    "ax.plot(xn, timesC, color='r',label = 'MIB_2.0')\n",
    "ax.set_title(\"Tiempo de inferencia para P(B)\")\n",
    "\n",
    "ax.set_xlabel(\"n\")\n",
    "ax.set_ylabel(\"segundos\")\n",
    "ax.legend(loc = 'upper left')\n",
    "\n",
    "# Mostrar las gráficas\n",
    "plt.show()"
   ]
  },
  {
   "cell_type": "markdown",
   "metadata": {},
   "source": [
    "### Memoria"
   ]
  },
  {
   "cell_type": "markdown",
   "metadata": {},
   "source": [
    "#### Memoria para la inferencia de P(B)"
   ]
  },
  {
   "cell_type": "code",
   "execution_count": null,
   "metadata": {},
   "outputs": [],
   "source": [
    "fig, ax = plt.subplots(1, 2)\n",
    "fig.set_size_inches(15,5)\n",
    "# MIB_1.0\n",
    "ax[0].plot(xn, [m/1000 for m in memoryM1], color='b',label = 'MIB_1.0')\n",
    "ax[0].set_title(\"Memoria para la inferencia para P(B) (MIB1.0)\")\n",
    "ax[0].set_xlabel(\"n\")\n",
    "ax[0].set_ylabel(\"MB\")\n",
    "\n",
    "# MIB_2.0\n",
    "ax[1].plot(xn, [m/1000 for m in memoryM], color='r',label = 'MIB_2.0')\n",
    "ax[1].set_title(\"Memoria para la inferencia para P(B) (MIB2.0)\")\n",
    "ax[1].set_xlabel(\"n\")\n",
    "ax[1].set_ylabel(\"MB\")\n",
    "\n",
    "# Mostrar las gráficas\n",
    "plt.show()"
   ]
  },
  {
   "cell_type": "code",
   "execution_count": null,
   "metadata": {},
   "outputs": [],
   "source": [
    "fig, ax = plt.subplots()\n",
    "\n",
    "# MIB_1.0\n",
    "ax.plot(xn, [m/1000 for m in memoryM1], color='b',label = 'MIB_1.0')\n",
    "\n",
    "# MIB_2.0\n",
    "ax.plot(xn, [m/1000 for m in memoryM], color='r',label = 'MIB_2.0')\n",
    "ax.set_title(\"Memoria para la inferencia para P(B)\")\n",
    "\n",
    "ax.set_xlabel(\"n\")\n",
    "ax.set_ylabel(\"MB\")\n",
    "ax.legend(loc = 'upper left')\n",
    "\n",
    "# Mostrar las gráficas\n",
    "plt.show()"
   ]
  },
  {
   "cell_type": "markdown",
   "metadata": {},
   "source": [
    "#### Memoria para la inferencia de P(C|AB)"
   ]
  },
  {
   "cell_type": "code",
   "execution_count": null,
   "metadata": {},
   "outputs": [],
   "source": [
    "fig, ax = plt.subplots(1, 2)\n",
    "fig.set_size_inches(15,5)\n",
    "# MIB_1.0\n",
    "ax[0].plot(xn, [m/1000 for m in memoryC1], color='b',label = 'MIB_1.0')\n",
    "ax[0].set_title(\"Memoria para la inferencia para P(C|AB) (MIB1.0)\")\n",
    "ax[0].set_xlabel(\"n\")\n",
    "ax[0].set_ylabel(\"MB\")\n",
    "\n",
    "# MIB_2.0\n",
    "ax[1].plot(xn, [m/1000 for m in memoryC], color='r',label = 'MIB_2.0')\n",
    "ax[1].set_title(\"Memoria para la inferencia para P(C|AB) (MIB2.0)\")\n",
    "ax[1].set_xlabel(\"n\")\n",
    "ax[1].set_ylabel(\"MB\")\n",
    "\n",
    "# Mostrar las gráficas\n",
    "plt.show()"
   ]
  },
  {
   "cell_type": "code",
   "execution_count": null,
   "metadata": {},
   "outputs": [],
   "source": [
    "fig, ax = plt.subplots()\n",
    "\n",
    "# MIB_1.0\n",
    "ax.plot(xn, [m/1000 for m in memoryC1], color='r',label = 'MIB_1.0')\n",
    "# MIB_2.0\n",
    "ax.plot(xn, [m/1000 for m in memoryC], color='b',label = 'MIB_2.0')\n",
    "\n",
    "ax.set_title(\"Memoria para la inferencia para P(C|AB)\")\n",
    "\n",
    "ax.set_xlabel(\"n\")\n",
    "ax.set_ylabel(\"MB\")\n",
    "ax.legend(loc = 'upper left')\n",
    "\n",
    "# Mostrar las gráficas\n",
    "plt.show()"
   ]
  },
  {
   "cell_type": "markdown",
   "metadata": {},
   "source": [
    "# Test 2"
   ]
  },
  {
   "cell_type": "markdown",
   "metadata": {},
   "source": [
    "## Planteamiento"
   ]
  },
  {
   "cell_type": "markdown",
   "metadata": {},
   "source": [
    "Comprobar del rendimiento del motor de inferencia n variables binarias."
   ]
  },
  {
   "cell_type": "markdown",
   "metadata": {},
   "source": [
    "### Variables"
   ]
  },
  {
   "cell_type": "markdown",
   "metadata": {},
   "source": [
    "$X = \\{X_1, X_2,\\dots,X_n\\}$, donde $\\forall X_i \\in X, X_i = \\{0,1\\}$."
   ]
  },
  {
   "cell_type": "markdown",
   "metadata": {},
   "source": [
    "### Modelo de descomposición"
   ]
  },
  {
   "cell_type": "markdown",
   "metadata": {},
   "source": [
    "$P(X) = P(X_1)P(X_2|X_1)P(X_3|X_1,X_2) \\cdots P(X_n|X_1,\\dots,X_{n-1})$."
   ]
  },
  {
   "cell_type": "markdown",
   "metadata": {},
   "source": [
    "## Test"
   ]
  },
  {
   "cell_type": "markdown",
   "metadata": {},
   "source": [
    "### MIB1.0"
   ]
  },
  {
   "cell_type": "code",
   "execution_count": 7,
   "metadata": {},
   "outputs": [
    {
     "ename": "KeyError",
     "evalue": "0",
     "output_type": "error",
     "traceback": [
      "\u001b[0;31m---------------------------------------------------------------------------\u001b[0m",
      "\u001b[0;31mKeyError\u001b[0m                                  Traceback (most recent call last)",
      "Cell \u001b[0;32mIn [7], line 29\u001b[0m\n\u001b[1;32m     27\u001b[0m             indep_names \u001b[38;5;241m+\u001b[39m\u001b[38;5;241m=\u001b[39m indep_name\n\u001b[1;32m     28\u001b[0m         name \u001b[38;5;241m=\u001b[39m \u001b[38;5;124m'\u001b[39m\u001b[38;5;124mP(X)\u001b[39m\u001b[38;5;124m'\u001b[39m\u001b[38;5;241m+\u001b[39m\u001b[38;5;28mstr\u001b[39m(j\u001b[38;5;241m+\u001b[39m\u001b[38;5;241m2\u001b[39m)\u001b[38;5;241m+\u001b[39m\u001b[38;5;124m'\u001b[39m\u001b[38;5;124m|\u001b[39m\u001b[38;5;124m'\u001b[39m\u001b[38;5;241m+\u001b[39mindep_names\u001b[38;5;241m+\u001b[39m\u001b[38;5;124m'\u001b[39m\u001b[38;5;124m)\u001b[39m\u001b[38;5;124m'\u001b[39m\n\u001b[0;32m---> 29\u001b[0m         descomp\u001b[38;5;241m.\u001b[39mappend(mb1\u001b[38;5;241m.\u001b[39mDistribCond(name,var,\u001b[38;5;28mvars\u001b[39m[:j\u001b[38;5;241m+\u001b[39m\u001b[38;5;241m1\u001b[39m], tXn))\n\u001b[1;32m     31\u001b[0m joint_names \u001b[38;5;241m=\u001b[39m [v\u001b[38;5;241m.\u001b[39mname\u001b[38;5;241m+\u001b[39m\u001b[38;5;124m'\u001b[39m\u001b[38;5;124m,\u001b[39m\u001b[38;5;124m'\u001b[39m \u001b[38;5;28;01mfor\u001b[39;00m v \u001b[38;5;129;01min\u001b[39;00m \u001b[38;5;28mvars\u001b[39m]\n\u001b[1;32m     32\u001b[0m joint_name \u001b[38;5;241m=\u001b[39m \u001b[38;5;124m'\u001b[39m\u001b[38;5;124m'\u001b[39m\n",
      "File \u001b[0;32m~/Roberto/Tesis/mib.py:617\u001b[0m, in \u001b[0;36mDistribCond.__init__\u001b[0;34m(self, name, var, indep, tabla)\u001b[0m\n\u001b[1;32m    615\u001b[0m \u001b[38;5;28mself\u001b[39m\u001b[38;5;241m.\u001b[39mentry\u001b[38;5;241m=\u001b[39mgenera_espacio(entrada)\n\u001b[1;32m    616\u001b[0m \u001b[38;5;28;01mif\u001b[39;00m tabla \u001b[38;5;129;01mis\u001b[39;00m \u001b[38;5;129;01mnot\u001b[39;00m \u001b[38;5;28;01mNone\u001b[39;00m:\n\u001b[0;32m--> 617\u001b[0m     \u001b[38;5;28mself\u001b[39m\u001b[38;5;241m.\u001b[39mtabla\u001b[38;5;241m=\u001b[39m\u001b[43mcarga_tabla_cond\u001b[49m\u001b[43m(\u001b[49m\u001b[38;5;28;43mself\u001b[39;49m\u001b[38;5;241;43m.\u001b[39;49m\u001b[43mvar\u001b[49m\u001b[43m,\u001b[49m\u001b[38;5;28;43mself\u001b[39;49m\u001b[38;5;241;43m.\u001b[39;49m\u001b[43mentry\u001b[49m\u001b[43m,\u001b[49m\u001b[38;5;28;43mself\u001b[39;49m\u001b[38;5;241;43m.\u001b[39;49m\u001b[43mindep\u001b[49m\u001b[43m,\u001b[49m\u001b[43mtabla\u001b[49m\u001b[43m)\u001b[49m\n",
      "File \u001b[0;32m~/Roberto/Tesis/mib.py:156\u001b[0m, in \u001b[0;36mcarga_tabla_cond\u001b[0;34m(var, entrada, indep, tabla)\u001b[0m\n\u001b[1;32m    154\u001b[0m         tab\u001b[38;5;241m=\u001b[39m{}\n\u001b[1;32m    155\u001b[0m         \u001b[38;5;28;01mfor\u001b[39;00m i,s \u001b[38;5;129;01min\u001b[39;00m \u001b[38;5;28menumerate\u001b[39m(salidas):\n\u001b[0;32m--> 156\u001b[0m             tab[s]\u001b[38;5;241m=\u001b[39m\u001b[43mv\u001b[49m\u001b[43m[\u001b[49m\u001b[43mi\u001b[49m\u001b[43m]\u001b[49m\n\u001b[1;32m    157\u001b[0m         dico[k]\u001b[38;5;241m=\u001b[39mtab\n\u001b[1;32m    158\u001b[0m \u001b[38;5;28;01melse\u001b[39;00m:\n",
      "\u001b[0;31mKeyError\u001b[0m: 0"
     ]
    }
   ],
   "source": [
    "from itertools import product\n",
    "import mib as mb1\n",
    "n = 20\n",
    "timesM = []\n",
    "memoryM = []\n",
    "timesC = []\n",
    "memoryC = []\n",
    "\n",
    "for i in range(n):\n",
    "    values = [0,1]\n",
    "    \n",
    "    vars =  [mb1.Var('X'+str(j+1), values) for j in range (i+3)]\n",
    "    \n",
    "    for j,var in enumerate(vars):\n",
    "        if j == 0:\n",
    "            tX1 = {(0,):0.5, (1,):0.5}\n",
    "            descomp = [mb1.Distrib('P(X1)',[vars[0]], tX1)]\n",
    "        else:\n",
    "            for r in range(j):\n",
    "                tXn = {}\n",
    "                values_n = [list(xn.values) for xn in vars[:r+1]]\n",
    "                for key in product(*values_n):\n",
    "                    tXn[key] = {(0,):0.5, (1,):0.5}\n",
    "            indep_names_aux = [v.name+',' for v in vars[:j+1]]\n",
    "            indep_names = ''\n",
    "            for indep_name in indep_names_aux:\n",
    "                indep_names += indep_name\n",
    "            name = 'P(X)'+str(j+2)+'|'+indep_names+')'\n",
    "            descomp.append(mb1.DistribCond(name,var,vars[:j+1], tXn))\n",
    "    \n",
    "    joint_names = [v.name+',' for v in vars]\n",
    "    joint_name = ''\n",
    "    for name in joint_names:\n",
    "        joint_name += name\n",
    "    PX1Xn = mb1.JointDistrib(joint_name, vars, descomp)\n",
    "    Q_X1Xn=mb1.Question(joint=PABC)"
   ]
  },
  {
   "cell_type": "markdown",
   "metadata": {},
   "source": [
    "### MIB2.0"
   ]
  },
  {
   "cell_type": "markdown",
   "metadata": {},
   "source": [
    "Complejidad: $O(n) = 2^n$\n",
    "\n",
    "$t_m(n) = 2^n * n$"
   ]
  },
  {
   "cell_type": "code",
   "execution_count": 3,
   "metadata": {},
   "outputs": [
    {
     "name": "stdout",
     "output_type": "stream",
     "text": [
      "1\n",
      "\t1\n",
      "\t2\n",
      "\t3\n",
      "\t4\n",
      "\t5\n",
      "\t6\n",
      "\t7\n",
      "\t8\n",
      "\t9\n",
      "\t10\n",
      "2\n",
      "\t1\n",
      "\t2\n",
      "\t3\n",
      "\t4\n",
      "\t5\n",
      "\t6\n",
      "\t7\n",
      "\t8\n",
      "\t9\n",
      "\t10\n",
      "3\n",
      "\t1\n",
      "\t2\n",
      "\t3\n",
      "\t4\n",
      "\t5\n",
      "\t6\n",
      "\t7\n",
      "\t8\n",
      "\t9\n",
      "\t10\n",
      "4\n",
      "\t1\n",
      "\t2\n",
      "\t3\n",
      "\t4\n",
      "\t5\n",
      "\t6\n",
      "\t7\n",
      "\t8\n",
      "\t9\n",
      "\t10\n",
      "5\n",
      "\t1\n",
      "\t2\n",
      "\t3\n",
      "\t4\n",
      "\t5\n",
      "\t6\n",
      "\t7\n",
      "\t8\n",
      "\t9\n",
      "\t10\n",
      "6\n",
      "\t1\n",
      "\t2\n",
      "\t3\n",
      "\t4\n",
      "\t5\n",
      "\t6\n",
      "\t7\n",
      "\t8\n",
      "\t9\n",
      "\t10\n",
      "7\n",
      "\t1\n",
      "\t2\n",
      "\t3\n",
      "\t4\n",
      "\t5\n",
      "\t6\n",
      "\t7\n",
      "\t8\n",
      "\t9\n",
      "\t10\n",
      "8\n",
      "\t1\n",
      "\t2\n",
      "\t3\n",
      "\t4\n",
      "\t5\n",
      "\t6\n",
      "\t7\n",
      "\t8\n",
      "\t9\n",
      "\t10\n",
      "9\n",
      "\t1\n",
      "\t2\n",
      "\t3\n",
      "\t4\n",
      "\t5\n",
      "\t6\n",
      "\t7\n",
      "\t8\n",
      "\t9\n",
      "\t10\n",
      "10\n",
      "\t1\n",
      "\t2\n",
      "\t3\n",
      "\t4\n",
      "\t5\n",
      "\t6\n",
      "\t7\n",
      "\t8\n",
      "\t9\n",
      "\t10\n",
      "11\n",
      "\t1\n",
      "\t2\n",
      "\t3\n",
      "\t4\n",
      "\t5\n",
      "\t6\n",
      "\t7\n",
      "\t8\n",
      "\t9\n",
      "\t10\n",
      "12\n",
      "\t1\n",
      "\t2\n",
      "\t3\n",
      "\t4\n",
      "\t5\n",
      "\t6\n",
      "\t7\n",
      "\t8\n",
      "\t9\n",
      "\t10\n",
      "13\n",
      "\t1\n",
      "\t2\n",
      "\t3\n",
      "\t4\n",
      "\t5\n",
      "\t6\n",
      "\t7\n",
      "\t8\n",
      "\t9\n",
      "\t10\n",
      "14\n",
      "\t1\n",
      "\t2\n",
      "\t3\n",
      "\t4\n",
      "\t5\n",
      "\t6\n",
      "\t7\n",
      "\t8\n",
      "\t9\n",
      "\t10\n",
      "15\n",
      "\t1\n",
      "\t2\n",
      "\t3\n",
      "\t4\n",
      "\t5\n",
      "\t6\n",
      "\t7\n",
      "\t8\n",
      "\t9\n",
      "\t10\n",
      "16\n",
      "\t1\n",
      "\t2\n",
      "\t3\n",
      "\t4\n",
      "\t5\n",
      "\t6\n",
      "\t7\n",
      "\t8\n",
      "\t9\n",
      "\t10\n",
      "17\n",
      "\t1\n",
      "\t2\n",
      "\t3\n",
      "\t4\n",
      "\t5\n",
      "\t6\n",
      "\t7\n",
      "\t8\n",
      "\t9\n",
      "\t10\n",
      "18\n",
      "\t1\n",
      "\t2\n",
      "\t3\n",
      "\t4\n",
      "\t5\n",
      "\t6\n",
      "\t7\n",
      "\t8\n",
      "\t9\n",
      "\t10\n",
      "19\n",
      "\t1\n",
      "\t2\n",
      "\t3\n",
      "\t4\n",
      "\t5\n",
      "\t6\n",
      "\t7\n",
      "\t8\n",
      "\t9\n",
      "\t10\n",
      "20\n",
      "\t1\n",
      "\t2\n",
      "\t3\n",
      "\t4\n",
      "\t5\n",
      "\t6\n",
      "\t7\n",
      "\t8\n",
      "\t9\n",
      "\t10\n"
     ]
    }
   ],
   "source": [
    "from itertools import product\n",
    "n = 20\n",
    "timesM = []\n",
    "memoryM = []\n",
    "timesM_A = []\n",
    "memoryM_A = []\n",
    "test_n = 10\n",
    "for i in range(n):\n",
    "    print(i+1)\n",
    "    values = set([0,1])\n",
    "    \n",
    "    vars = tuple([mb.Var(\"X\"+str(j+1), values) for j in range(i+3)])\n",
    "    \n",
    "\n",
    "    for j,var in enumerate(vars):\n",
    "        if j == 0:\n",
    "            tX1 = {(0,):0.5, (1,):0.5}\n",
    "            descomp = [mb.Distrib(tX1, (var,))]\n",
    "        else:\n",
    "            for r in range(j):\n",
    "                tXn = {}\n",
    "                values_n = [list(xn.values) for xn in vars[:r+1]]\n",
    "                for key in product(*values_n):\n",
    "                    tXn[key] = {(0,):0.5, (1,):0.5}\n",
    "            descomp.append(mb.Distrib(tXn, (var,), tuple(vars[:j]) ))\n",
    "    \n",
    "    QX1Xn = mb.Question(mb.Specification(set(vars), tuple(descomp)))\n",
    "    \n",
    "    timesM_i = 0\n",
    "    memoryM_i = 0\n",
    "    timesM_Ai = 0\n",
    "    memoryM_Ai = 0\n",
    "    \n",
    "    for m in range(test_n):\n",
    "        print(f\"\\t{m+1}\")\n",
    "        # Inferencia de una distibución marginal\n",
    "        \"\"\" tracemalloc.start()\n",
    "        \n",
    "        inicio = time.time()\n",
    "        PXn = QX1Xn.DistributionQuery(set([vars[-1]]))\n",
    "        fin = time.time()\n",
    "        \n",
    "        memoria_actual, memoria_pico = tracemalloc.get_traced_memory()\n",
    "        tracemalloc.stop()\n",
    "\n",
    "        tiempo_ejecucion = fin - inicio\n",
    "        \n",
    "        timesM_i += tiempo_ejecucion\n",
    "        memoryM_i += memoria_actual \"\"\"\n",
    "        \n",
    "        # Aproximación de una distibución marginal\n",
    "        tracemalloc.start()\n",
    "        \n",
    "        inicio = time.time()\n",
    "        PXn = QX1Xn.DistributionQuery(set([vars[-1]]), aproximation=True)\n",
    "        fin = time.time()\n",
    "        \n",
    "        memoria_actual, memoria_pico = tracemalloc.get_traced_memory()\n",
    "        tracemalloc.stop()\n",
    "\n",
    "        tiempo_ejecucion = fin - inicio\n",
    "        \n",
    "        timesM_Ai += tiempo_ejecucion\n",
    "        memoryM_Ai += memoria_actual\n",
    "    \n",
    "    # timesM.append(timesM_i / test_n)\n",
    "    # memoryM.append(memoryM_i / test_n)\n",
    "    timesM_A.append(timesM_Ai / test_n)\n",
    "    memoryM_A.append(memoryM_Ai / test_n)"
   ]
  },
  {
   "cell_type": "code",
   "execution_count": 4,
   "metadata": {},
   "outputs": [
    {
     "name": "stdout",
     "output_type": "stream",
     "text": [
      "1\n",
      "\t1\n",
      "\t2\n",
      "\t3\n",
      "\t4\n",
      "\t5\n",
      "\t6\n",
      "\t7\n",
      "\t8\n",
      "\t9\n",
      "\t10\n",
      "2\n",
      "\t1\n",
      "\t2\n",
      "\t3\n",
      "\t4\n",
      "\t5\n",
      "\t6\n",
      "\t7\n",
      "\t8\n",
      "\t9\n",
      "\t10\n",
      "3\n",
      "\t1\n",
      "\t2\n",
      "\t3\n",
      "\t4\n",
      "\t5\n",
      "\t6\n",
      "\t7\n",
      "\t8\n",
      "\t9\n",
      "\t10\n",
      "4\n",
      "\t1\n",
      "\t2\n",
      "\t3\n",
      "\t4\n",
      "\t5\n",
      "\t6\n",
      "\t7\n",
      "\t8\n",
      "\t9\n",
      "\t10\n",
      "5\n",
      "\t1\n",
      "\t2\n",
      "\t3\n",
      "\t4\n",
      "\t5\n",
      "\t6\n",
      "\t7\n",
      "\t8\n",
      "\t9\n",
      "\t10\n",
      "6\n",
      "\t1\n",
      "\t2\n",
      "\t3\n",
      "\t4\n",
      "\t5\n",
      "\t6\n",
      "\t7\n",
      "\t8\n",
      "\t9\n",
      "\t10\n",
      "7\n",
      "\t1\n",
      "\t2\n",
      "\t3\n",
      "\t4\n",
      "\t5\n",
      "\t6\n",
      "\t7\n",
      "\t8\n",
      "\t9\n",
      "\t10\n",
      "8\n",
      "\t1\n",
      "\t2\n",
      "\t3\n",
      "\t4\n",
      "\t5\n",
      "\t6\n",
      "\t7\n",
      "\t8\n",
      "\t9\n",
      "\t10\n",
      "9\n",
      "\t1\n",
      "\t2\n",
      "\t3\n",
      "\t4\n",
      "\t5\n",
      "\t6\n",
      "\t7\n",
      "\t8\n",
      "\t9\n",
      "\t10\n",
      "10\n",
      "\t1\n",
      "\t2\n",
      "\t3\n",
      "\t4\n",
      "\t5\n",
      "\t6\n",
      "\t7\n",
      "\t8\n",
      "\t9\n",
      "\t10\n",
      "11\n",
      "\t1\n",
      "\t2\n",
      "\t3\n",
      "\t4\n",
      "\t5\n",
      "\t6\n",
      "\t7\n",
      "\t8\n",
      "\t9\n",
      "\t10\n",
      "12\n",
      "\t1\n",
      "\t2\n",
      "\t3\n",
      "\t4\n",
      "\t5\n",
      "\t6\n",
      "\t7\n",
      "\t8\n",
      "\t9\n",
      "\t10\n",
      "13\n",
      "\t1\n",
      "\t2\n",
      "\t3\n",
      "\t4\n",
      "\t5\n",
      "\t6\n",
      "\t7\n",
      "\t8\n",
      "\t9\n",
      "\t10\n",
      "14\n",
      "\t1\n",
      "\t2\n",
      "\t3\n",
      "\t4\n",
      "\t5\n",
      "\t6\n",
      "\t7\n",
      "\t8\n",
      "\t9\n",
      "\t10\n",
      "15\n",
      "\t1\n",
      "\t2\n",
      "\t3\n",
      "\t4\n",
      "\t5\n",
      "\t6\n",
      "\t7\n",
      "\t8\n",
      "\t9\n",
      "\t10\n",
      "16\n",
      "\t1\n",
      "\t2\n",
      "\t3\n",
      "\t4\n",
      "\t5\n",
      "\t6\n",
      "\t7\n",
      "\t8\n",
      "\t9\n",
      "\t10\n",
      "17\n",
      "\t1\n",
      "\t2\n",
      "\t3\n",
      "\t4\n",
      "\t5\n",
      "\t6\n",
      "\t7\n",
      "\t8\n",
      "\t9\n",
      "\t10\n",
      "18\n",
      "\t1\n",
      "\t2\n",
      "\t3\n",
      "\t4\n",
      "\t5\n",
      "\t6\n",
      "\t7\n",
      "\t8\n",
      "\t9\n",
      "\t10\n",
      "19\n",
      "\t1\n",
      "\t2\n",
      "\t3\n",
      "\t4\n",
      "\t5\n",
      "\t6\n",
      "\t7\n",
      "\t8\n",
      "\t9\n",
      "\t10\n",
      "20\n",
      "\t1\n",
      "\t2\n",
      "\t3\n",
      "\t4\n",
      "\t5\n",
      "\t6\n",
      "\t7\n",
      "\t8\n",
      "\t9\n",
      "\t10\n"
     ]
    }
   ],
   "source": [
    "n = 20\n",
    "timesC = []\n",
    "memoryC = []\n",
    "timesC_A = []\n",
    "memoryC_A = []\n",
    "\n",
    "test_n = 10\n",
    "for i in range(n):\n",
    "    print(i+1)\n",
    "    values = set([0,1])\n",
    "    \n",
    "    vars = tuple([mb.Var(\"X\"+str(j+1), values) for j in range(i+3)])\n",
    "    \n",
    "\n",
    "    for j,var in enumerate(vars):\n",
    "        if j == 0:\n",
    "            tX1 = {(0,):0.5, (1,):0.5}\n",
    "            descomp = [mb.Distrib(tX1, (var,))]\n",
    "        else:\n",
    "            for r in range(j):\n",
    "                tXn = {}\n",
    "                values_n = [list(xn.values) for xn in vars[:r+1]]\n",
    "                for key in product(*values_n):\n",
    "                    tXn[key] = {(0,):0.5, (1,):0.5}\n",
    "            descomp.append(mb.Distrib(tXn, (var,), tuple(vars[:j]) ))\n",
    "    \n",
    "    QX1Xn = mb.Question(mb.Specification(set(vars), tuple(descomp)))\n",
    "    \n",
    "    timesC_i = 0\n",
    "    memoryC_i = 0\n",
    "    timesC_Ai = 0\n",
    "    memoryC_Ai = 0\n",
    "    for m in range(test_n):\n",
    "        print(f\"\\t{m+1}\")\n",
    "        # Inferencia de una distibución condicional \n",
    "        \"\"\" tracemalloc.start()\n",
    "        \n",
    "        inicio = time.time()\n",
    "        PX1_X2Xn = QX1Xn.DistributionQuery(set([vars[0]]), set([vars[1],vars[-1]]))\n",
    "        fin = time.time()\n",
    "        \n",
    "        memoria_actual, memoria_pico = tracemalloc.get_traced_memory()\n",
    "        tracemalloc.stop()\n",
    "        \n",
    "        tiempo_ejecucion = fin - inicio\n",
    "        \n",
    "        timesC_i += tiempo_ejecucion\n",
    "        memoryC_i += memoria_actual \"\"\"\n",
    "        \n",
    "        # Aproximación de una distibución condicional \n",
    "        tracemalloc.start()\n",
    "        \n",
    "        inicio = time.time()\n",
    "        PX1_X2Xn = QX1Xn.DistributionQuery(set([vars[0]]), set([vars[1],vars[-1]]), aproximation=True)\n",
    "        fin = time.time()\n",
    "        \n",
    "        memoria_actual, memoria_pico = tracemalloc.get_traced_memory()\n",
    "        tracemalloc.stop()\n",
    "        \n",
    "        tiempo_ejecucion = fin - inicio\n",
    "        \n",
    "        timesC_Ai += tiempo_ejecucion\n",
    "        memoryC_Ai += memoria_actual\n",
    "    \n",
    "    # timesC.append(timesC_i/ test_n)\n",
    "    # memoryC.append(memoryC_i / test_n)\n",
    "    timesC_A.append(timesC_Ai/ test_n)\n",
    "    memoryC_A.append(memoryC_Ai / test_n)\n",
    "    "
   ]
  },
  {
   "cell_type": "code",
   "execution_count": 5,
   "metadata": {},
   "outputs": [],
   "source": [
    "import json\n",
    "\n",
    "\"\"\" # Diccionario que deseas guardar\n",
    "mi_diccionario = {\n",
    "    \"timesM\": timesM,\n",
    "    \"timesC\": timesC,\n",
    "    \"memoryM\": memoryM,\n",
    "    \"memoryC\": memoryC\n",
    "}\n",
    "\n",
    "# Guardar el diccionario en un archivo JSON\n",
    "with open(\"datos_MIB2.json\", \"w\") as archivo_json:\n",
    "    json.dump(mi_diccionario, archivo_json, indent=4) \"\"\"\n",
    "    \n",
    "# mi_diccionario.clear()\n",
    "mi_diccionario = {\n",
    "    \"timesM\": timesM_A,\n",
    "    \"timesC\": timesC_A,\n",
    "    \"memoryM\": memoryM_A,\n",
    "    \"memoryC\": memoryC_A\n",
    "}\n",
    "\n",
    "# Guardar el diccionario en un archivo JSON\n",
    "with open(\"datosA_MIB2.json\", \"w\") as archivo_json:\n",
    "    json.dump(mi_diccionario, archivo_json, indent=4)"
   ]
  },
  {
   "cell_type": "code",
   "execution_count": 6,
   "metadata": {},
   "outputs": [
    {
     "data": {
      "text/plain": [
       "{'timesM': [0.00014493465423583984,\n",
       "  0.00025005340576171874,\n",
       "  0.0004900217056274414,\n",
       "  0.000864720344543457,\n",
       "  0.0018998384475708008,\n",
       "  0.004308438301086426,\n",
       "  0.009550333023071289,\n",
       "  0.021512627601623535,\n",
       "  0.04999964237213135,\n",
       "  0.11041824817657471,\n",
       "  0.26698429584503175,\n",
       "  0.5420786619186402,\n",
       "  1.1352542638778687,\n",
       "  2.3552502632141112,\n",
       "  5.183044815063477,\n",
       "  10.583786654472352,\n",
       "  23.093365573883055,\n",
       "  48.681302189826965,\n",
       "  103.61304068565369,\n",
       "  278.02607760429385],\n",
       " 'timesC': [0.0006323099136352539,\n",
       "  0.0015597105026245116,\n",
       "  0.0029499292373657226,\n",
       "  0.00586404800415039,\n",
       "  0.013900852203369141,\n",
       "  0.03181009292602539,\n",
       "  0.06378555297851562,\n",
       "  0.17030539512634277,\n",
       "  0.3646751642227173,\n",
       "  0.8547543525695801,\n",
       "  1.7916800498962402,\n",
       "  4.831041049957276,\n",
       "  8.311834979057313,\n",
       "  12.309812593460084,\n",
       "  25.768193626403807,\n",
       "  57.2570859670639,\n",
       "  119.66406688690185,\n",
       "  257.81346290111543,\n",
       "  557.4392376661301,\n",
       "  1222.1001611709594],\n",
       " 'memoryM': [912.0,\n",
       "  176.0,\n",
       "  206.4,\n",
       "  188.0,\n",
       "  216.0,\n",
       "  296.6,\n",
       "  696.8,\n",
       "  696.1,\n",
       "  741.8,\n",
       "  729.3,\n",
       "  1902.5,\n",
       "  1316.1,\n",
       "  1251.7,\n",
       "  1525.6,\n",
       "  1510.6,\n",
       "  1675.5,\n",
       "  1910.7,\n",
       "  2290.7,\n",
       "  2054.4,\n",
       "  2082.8],\n",
       " 'memoryC': [186264.6,\n",
       "  1496.0,\n",
       "  1568.0,\n",
       "  1994.1,\n",
       "  2783.9,\n",
       "  2941.1,\n",
       "  2921.8,\n",
       "  3272.4,\n",
       "  5887.3,\n",
       "  5806.6,\n",
       "  5813.2,\n",
       "  6001.3,\n",
       "  5899.1,\n",
       "  6416.5,\n",
       "  6448.2,\n",
       "  6562.8,\n",
       "  6545.8,\n",
       "  6558.9,\n",
       "  6619.0,\n",
       "  7239.5]}"
      ]
     },
     "execution_count": 6,
     "metadata": {},
     "output_type": "execute_result"
    }
   ],
   "source": [
    "with open(\"datos_MIB2.json\", \"r\") as archivo_json:\n",
    "    datos = json.load(archivo_json)\n",
    "datos"
   ]
  },
  {
   "cell_type": "code",
   "execution_count": 7,
   "metadata": {},
   "outputs": [],
   "source": [
    "timesM = datos[\"timesM\"]\n",
    "timesC = datos[\"timesC\"]\n",
    "memoryM = datos[\"memoryM\"]\n",
    "memoryC = datos[\"memoryC\"]"
   ]
  },
  {
   "cell_type": "markdown",
   "metadata": {},
   "source": [
    "## Datos"
   ]
  },
  {
   "cell_type": "code",
   "execution_count": 24,
   "metadata": {},
   "outputs": [],
   "source": [
    "def grafica2(list1, list2, title1, title2, xn, x_label, y_label):\n",
    "    fig, ax = plt.subplots(1, 2)\n",
    "    fig.set_size_inches(12,6)\n",
    "    ax[0].plot(xn, list1, color='b',label = 'Exacta')\n",
    "    ax[0].set_title(title1)\n",
    "    ax[0].set_xlabel(x_label)\n",
    "    ax[0].set_ylabel(y_label)\n",
    "\n",
    "\n",
    "    ax[1].plot(xn, list2, color='r',label = 'Aproximación')\n",
    "    ax[1].set_title(title2)\n",
    "    ax[1].set_xlabel(x_label)\n",
    "    ax[1].set_ylabel(y_label)\n",
    "    \n",
    "    plt.show()\n",
    "    "
   ]
  },
  {
   "cell_type": "code",
   "execution_count": 9,
   "metadata": {},
   "outputs": [],
   "source": [
    "def grafica(list1, list2, label1, label2, title, xn, x_label, y_label):\n",
    "    fig, ax = plt.subplots()\n",
    "    ax.plot(xn, list1, color='b', label = label1)\n",
    "\n",
    "    ax.plot(xn, list2, color='r',label = label2)\n",
    "\n",
    "    ax.set_title(title)\n",
    "    ax.set_xlabel(x_label)\n",
    "    ax.set_ylabel(y_label)\n",
    "    ax.legend(loc = 'upper left')\n",
    "\n",
    "    # Mostrar las gráficas\n",
    "    plt.show()"
   ]
  },
  {
   "cell_type": "markdown",
   "metadata": {},
   "source": [
    "### Marginal"
   ]
  },
  {
   "cell_type": "markdown",
   "metadata": {},
   "source": [
    "#### Tiempos"
   ]
  },
  {
   "cell_type": "code",
   "execution_count": 30,
   "metadata": {},
   "outputs": [
    {
     "data": {
      "image/png": "[encoded data removed]",
      "text/plain": [
       "<Figure size 1200x600 with 2 Axes>"
      ]
     },
     "metadata": {},
     "output_type": "display_data"
    }
   ],
   "source": [
    "xn = [i+2 for i in range(n)]\n",
    "title1 = \"Tiempos de inferencia exacta para P(X_n)\"\n",
    "title2 = \"Tiempos de aproximacion para P(X_n) con N = 10000\"\n",
    "grafica2(timesM, timesM_A, title1, title2, xn, 'r', 'segundos')"
   ]
  },
  {
   "cell_type": "code",
   "execution_count": 31,
   "metadata": {},
   "outputs": [
    {
     "data": {
      "image/png": "[encoded data removed]",
      "text/plain": [
       "<Figure size 640x480 with 1 Axes>"
      ]
     },
     "metadata": {},
     "output_type": "display_data"
    }
   ],
   "source": [
    "grafica(timesM, timesM_A, 'Exacta', 'Aproximacion', \"Tiempo de inferencia para P(X_n)\", xn, 'r', 'segundos')"
   ]
  },
  {
   "cell_type": "markdown",
   "metadata": {},
   "source": [
    "### Condicional "
   ]
  },
  {
   "cell_type": "markdown",
   "metadata": {},
   "source": [
    "#### Tiempos"
   ]
  },
  {
   "cell_type": "code",
   "execution_count": 28,
   "metadata": {},
   "outputs": [
    {
     "data": {
      "image/png": "[encoded data removed]",
      "text/plain": [
       "<Figure size 1200x600 with 2 Axes>"
      ]
     },
     "metadata": {},
     "output_type": "display_data"
    }
   ],
   "source": [
    "xn = [i for i in range(n)]\n",
    "title1 = \"Tiempos de inferencia exacta para P(X_1|X_2,X_n)\"\n",
    "title2 = \"Tiempos de aproximacion para P(X_1|X_2,X_n) con N = 10000\"\n",
    "grafica2(timesC, timesC_A, title1, title2, xn, 'u', 'segundos')"
   ]
  },
  {
   "cell_type": "code",
   "execution_count": 29,
   "metadata": {},
   "outputs": [
    {
     "data": {
      "image/png": "[encoded data removed]",
      "text/plain": [
       "<Figure size 640x480 with 1 Axes>"
      ]
     },
     "metadata": {},
     "output_type": "display_data"
    }
   ],
   "source": [
    "grafica(timesC, timesC_A, 'Exacta', 'Aproximacion', \"Tiempo de inferencia para P(X_1|X_2,X_n)\", xn, 'u', 'segundos')"
   ]
  },
  {
   "cell_type": "markdown",
   "metadata": {},
   "source": [
    "# Test 3"
   ]
  },
  {
   "cell_type": "markdown",
   "metadata": {},
   "source": [
    "Autoria de textos "
   ]
  },
  {
   "cell_type": "markdown",
   "metadata": {},
   "source": [
    "## Plantemiento"
   ]
  },
  {
   "cell_type": "markdown",
   "metadata": {},
   "source": [
    "## Test"
   ]
  },
  {
   "cell_type": "markdown",
   "metadata": {},
   "source": [
    "### Recolección de datos (ejemplo)"
   ]
  },
  {
   "cell_type": "markdown",
   "metadata": {},
   "source": [
    "### Test del mib2.0"
   ]
  }
 ],
 "metadata": {
  "kernelspec": {
   "display_name": ".venv",
   "language": "python",
   "name": "python3"
  },
  "language_info": {
   "codemirror_mode": {
    "name": "ipython",
    "version": 3
   },
   "file_extension": ".py",
   "mimetype": "text/x-python",
   "name": "python",
   "nbconvert_exporter": "python",
   "pygments_lexer": "ipython3",
   "version": "3.11.10"
  }
 },
 "nbformat": 4,
 "nbformat_minor": 2
}
