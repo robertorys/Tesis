{
 "cells": [
  {
   "cell_type": "code",
   "execution_count": 1,
   "metadata": {},
   "outputs": [
    {
     "name": "stderr",
     "output_type": "stream",
     "text": [
      "[nltk_data] Downloading package stopwords to\n",
      "[nltk_data]     /home/roberto/nltk_data...\n",
      "[nltk_data]   Package stopwords is already up-to-date!\n",
      "[nltk_data] Downloading package punkt to /home/roberto/nltk_data...\n",
      "[nltk_data]   Package punkt is already up-to-date!\n"
     ]
    }
   ],
   "source": [
    "import mib as mb1\n",
    "import mib_v2_3_2 as mb\n",
    "import matplotlib.pyplot as plt\n",
    "import time\n",
    "import tracemalloc\n",
    "import tpproc as tp\n",
    "from collections import Counter  #regresa un diccionario con conteos\n",
    "import glob\n",
    "import nltk\n",
    "nltk.download('punkt')\n",
    "from nltk.tokenize import word_tokenize\n",
    "from collections import OrderedDict #diccionarios ordenados\n",
    "import numpy as np\n",
    "from itertools import product\n",
    "import json"
   ]
  },
  {
   "cell_type": "markdown",
   "metadata": {},
   "source": [
    "# Test 1"
   ]
  },
  {
   "cell_type": "markdown",
   "metadata": {},
   "source": [
    "## Planteamiento"
   ]
  },
  {
   "cell_type": "markdown",
   "metadata": {},
   "source": [
    "Comprobar del rendimiento del motor de inferencia con problema pequeño y con tres eventos con distribuciones uniformes, donde su cardinalidad de los tres va de uno a cien."
   ]
  },
  {
   "cell_type": "markdown",
   "metadata": {},
   "source": [
    "### Variables"
   ]
  },
  {
   "cell_type": "markdown",
   "metadata": {},
   "source": [
    "- $A = \\{0, 2, ..., n-1\\}$\n",
    "\n",
    "- $B = \\{0, 2, ..., n-1\\}$\n",
    "\n",
    "- $C = \\{0, 2, ..., n-1\\}$"
   ]
  },
  {
   "cell_type": "markdown",
   "metadata": {},
   "source": [
    "### Modelo de descomposición"
   ]
  },
  {
   "cell_type": "markdown",
   "metadata": {},
   "source": [
    "$P(ABC) = P(A)P(B|A)P(C|AB)$.\n",
    "\n",
    "$\\;\\;\\;\\;\\;\\;\\;\\;\\;\\;\\;\\;$<img src=\"./Imagenes/P(ABC).jpg\" width=200/>"
   ]
  },
  {
   "cell_type": "markdown",
   "metadata": {},
   "source": [
    "### Formas "
   ]
  },
  {
   "cell_type": "markdown",
   "metadata": {},
   "source": [
    "$P(A)$, $P(B|A)$ y $P(C|AB)$ serán distribuciones uniformes."
   ]
  },
  {
   "cell_type": "markdown",
   "metadata": {},
   "source": [
    "## Test"
   ]
  },
  {
   "cell_type": "markdown",
   "metadata": {},
   "source": [
    "### MIB1.0"
   ]
  },
  {
   "cell_type": "code",
   "execution_count": null,
   "metadata": {},
   "outputs": [],
   "source": [
    "n = 25\n",
    "timesM1 = []\n",
    "memoryM1 = []\n",
    "\n",
    "timesC1 = []\n",
    "memoryC1 = []\n",
    "\n",
    "for i in range(21,22):\n",
    "    Events = [x for x in range(i+1)]\n",
    "    # Varaibles\n",
    "    A = mb1.Var('A',Events)\n",
    "    B = mb1.Var('B',Events)\n",
    "    C = mb1.Var('C',Events)\n",
    "\n",
    "    dA = {}\n",
    "    dB_A = {}\n",
    "    dC_AB = []\n",
    "    value = 1 / (i+1)\n",
    "    for e in Events:\n",
    "        dA[e] = value\n",
    "        dB_A[e] = {}\n",
    "        for e1 in Events:\n",
    "            dB_A[e][e1] = value\n",
    "            tC_AB = []\n",
    "            for e2 in Events:\n",
    "                tC_AB.append(value)\n",
    "            dC_AB.append(tuple(tC_AB))\n",
    "    \n",
    "    PA=mb1.Distrib(name='P(A)',variable=[A],tabla=dA)\n",
    "    PB_A=mb1.DistribCond(name='P(B|A)',var=B,indep=[A],tabla=dB_A)\n",
    "    PC_AB=mb1.DistribCond('P(C|AB)',C,[A,B],dC_AB)\n",
    "    \n",
    "    PABC=mb1.JointDistrib(name='P(ABC)',variables=[A,B,C],descomp=[PA,PB_A,PC_AB])\n",
    "    Q_ABC=mb1.Question(joint=PABC)\n",
    "\n",
    "    #Inferencia de P(B)\n",
    "    tracemalloc.start()\n",
    "    \n",
    "    inicio = time.time()\n",
    "    PB = Q_ABC.query(searched=[B])\n",
    "    fin = time.time()\n",
    "    \n",
    "    memoria_actual, memoria_pico = tracemalloc.get_traced_memory()\n",
    "    tracemalloc.stop()\n",
    "    \n",
    "    tiempo_ejecucion = fin - inicio\n",
    "    \n",
    "    timesM1.append(tiempo_ejecucion)\n",
    "    memoryM1.append(memoria_pico)\n",
    "    \n",
    "    #Inferencia de P(A|BC)\n",
    "    tracemalloc.start()\n",
    "    \n",
    "    inicio = time.time()\n",
    "    PA_BC = Q_ABC.query(searched=[A], known=[B,C])\n",
    "    fin = time.time() \n",
    "    \n",
    "    memoria_actual, memoria_pico = tracemalloc.get_traced_memory()\n",
    "    tracemalloc.stop()\n",
    "    \n",
    "    tiempo_ejecucion = fin - inicio\n",
    "    \n",
    "    timesC1.append(tiempo_ejecucion)\n",
    "    memoryC1.append(memoria_pico)"
   ]
  },
  {
   "cell_type": "markdown",
   "metadata": {},
   "source": [
    "### MIB2.0"
   ]
  },
  {
   "cell_type": "markdown",
   "metadata": {},
   "source": [
    "Complejidad $O(3) = 25^3$"
   ]
  },
  {
   "cell_type": "code",
   "execution_count": 191,
   "metadata": {},
   "outputs": [],
   "source": [
    "n = 25\n",
    "timesM = []\n",
    "memoryM = []\n",
    "\n",
    "timesC = []\n",
    "memoryC = []\n",
    "test_n = 20\n",
    "for i in range(n):\n",
    "    Events = set([x for x in range(i+1)])\n",
    "    \n",
    "    # Generación de distribuciones de probabilidad (Distribuciones uniformes).\n",
    "    dA = {}\n",
    "    dB_A = {}\n",
    "    dC_AB = {}\n",
    "    value = 1 / (i+1)\n",
    "    for x in range(i+1):\n",
    "        dA[(x,)] = value\n",
    "        dB_A[(x,)] = {}\n",
    "        for y in range(i+1):\n",
    "            dB_A[(x,)][(y,)] = value\n",
    "            dC_AB[(x,y)] = {}\n",
    "            for z in range(i+1):\n",
    "                dC_AB[(x,y)][(z,)] = value\n",
    "    \n",
    "    # Variables para el motor de inferencia.\n",
    "    A = mb.Var('A', Events)\n",
    "    PA = mb.Distrib(dA, (A,))\n",
    "    B = mb.Var('B', Events)\n",
    "    PB_A = mb.Distrib(dB_A, (B,), (A,))\n",
    "    C = mb.Var('C', Events)\n",
    "    PC_AB = mb.Distrib(dC_AB, (C,), (A,B))\n",
    "    \n",
    "    # Probabilidad conjunta (Espesificación)\n",
    "    PABC = mb.Specification(set([A,B,C]), (PA, PB_A, PC_AB))\n",
    "\n",
    "    Q_ABC = mb.Question(PABC)\n",
    "    \n",
    "    timesM_i = 0\n",
    "    memoryM_i = 0\n",
    "    timesC_i = 0\n",
    "    memoryC_i = 0\n",
    "    for j in range(test_n):\n",
    "        # Inferencia de una distibución marginal\n",
    "        tracemalloc.start()\n",
    "        \n",
    "        inicio = time.time()\n",
    "        PB = Q_ABC.DistributionQuery(set([B]))\n",
    "        fin = time.time()\n",
    "        \n",
    "        memoria_actual, memoria_pico = tracemalloc.get_traced_memory()\n",
    "        tracemalloc.stop()\n",
    "        \n",
    "        tiempo_ejecucion = fin - inicio\n",
    "        \n",
    "        timesM_i += tiempo_ejecucion\n",
    "        memoryM_i += memoria_actual\n",
    "        \n",
    "        # Inferencia de una distibución condicional \n",
    "        tracemalloc.start()\n",
    "        \n",
    "        inicio = time.time()\n",
    "        PA_BC = Q_ABC.DistributionQuery(set([A]), set([B,C]))\n",
    "        fin = time.time()\n",
    "        \n",
    "        memoria_actual, memoria_pico = tracemalloc.get_traced_memory()\n",
    "        tracemalloc.stop()\n",
    "        \n",
    "        tiempo_ejecucion = fin - inicio\n",
    "        \n",
    "        timesC_i += tiempo_ejecucion\n",
    "        memoryC_i += memoria_actual\n",
    "    \n",
    "    timesM.append(timesM_i / test_n)\n",
    "    memoryM.append(memoryM_i / test_n)\n",
    "    timesC.append(timesC_i/ test_n)\n",
    "    memoryC.append(memoryM_i / test_n)"
   ]
  },
  {
   "cell_type": "markdown",
   "metadata": {},
   "source": [
    "## Datos obtenidos"
   ]
  },
  {
   "cell_type": "code",
   "execution_count": 178,
   "metadata": {},
   "outputs": [],
   "source": [
    "with open(\"versiones//datosMIB1.json\", \"r\") as archivo_json:\n",
    "    datos = json.load(archivo_json)\n",
    "timesM1 = datos[\"timesM1\"]\n",
    "timesC1 = datos[\"timesC1\"]\n",
    "memoryM1 = datos[\"memoryM1\"]\n",
    "memoryC1 = datos[\"memoryC1\"]"
   ]
  },
  {
   "cell_type": "code",
   "execution_count": 179,
   "metadata": {},
   "outputs": [
    {
     "data": {
      "text/plain": [
       "25"
      ]
     },
     "execution_count": 179,
     "metadata": {},
     "output_type": "execute_result"
    }
   ],
   "source": [
    "len(timesM1)"
   ]
  },
  {
   "cell_type": "markdown",
   "metadata": {},
   "source": [
    "### Tiempos"
   ]
  },
  {
   "cell_type": "markdown",
   "metadata": {},
   "source": [
    "#### Tiempos de inferencia para $P(B)$"
   ]
  },
  {
   "cell_type": "code",
   "execution_count": null,
   "metadata": {},
   "outputs": [],
   "source": []
  },
  {
   "cell_type": "code",
   "execution_count": 192,
   "metadata": {},
   "outputs": [
    {
     "data": {
      "image/png": "[encoded data removed]",
      "text/plain": [
       "<Figure size 1000x400 with 2 Axes>"
      ]
     },
     "metadata": {},
     "output_type": "display_data"
    }
   ],
   "source": [
    "xn = [i+1 for i in range(n)]\n",
    "fig, ax = plt.subplots(1, 2)\n",
    "fig.set_size_inches(10,4)\n",
    "# fig.set_size_inches(15,5)\n",
    "# MIB_1.0\n",
    "ax[0].plot(xn, timesM1, color='b',label = 'MIB_1.0')\n",
    "ax[0].set_title(\"Tiempo de inferencia para P(B) (MIB_1.0)\")\n",
    "ax[0].set_xlabel(\"n\")\n",
    "ax[0].set_ylabel(\"segundos\")\n",
    "\n",
    "# MIB_2.0\n",
    "ax[1].plot(xn, timesM, color='r',label = 'MIB_2.0')\n",
    "ax[1].set_title(\"Tiempo de inferencia para P(B) (MIB_2.0)\")\n",
    "ax[1].set_xlabel(\"n\")\n",
    "ax[1].set_ylabel(\"segundos\")\n",
    "\n",
    "# Mostrar las gráficas\n",
    "plt.show()"
   ]
  },
  {
   "cell_type": "code",
   "execution_count": 193,
   "metadata": {},
   "outputs": [
    {
     "data": {
      "image/png": "[encoded data removed]",
      "text/plain": [
       "<Figure size 640x480 with 1 Axes>"
      ]
     },
     "metadata": {},
     "output_type": "display_data"
    }
   ],
   "source": [
    "fig, ax = plt.subplots()\n",
    "xn = [i+1 for i in range(n)]\n",
    "# MIB_1.0\n",
    "ax.plot(xn, timesM1, color='b', label = 'MIB_1.0')\n",
    "\n",
    "# MIB_2.0\n",
    "ax.plot(xn, timesM, color='r',label = 'MIB_2.0')\n",
    "ax.set_title(\"Tiempo de inferencia para P(B)\")\n",
    "\n",
    "ax.set_xlabel(\"n\")\n",
    "ax.set_ylabel(\"segundos\")\n",
    "ax.legend(loc = 'upper left')\n",
    "\n",
    "# Mostrar las gráficas\n",
    "plt.show()"
   ]
  },
  {
   "cell_type": "markdown",
   "metadata": {},
   "source": [
    "#### Tiempos de inferencia para $P(C|AB)$"
   ]
  },
  {
   "cell_type": "code",
   "execution_count": 194,
   "metadata": {},
   "outputs": [
    {
     "data": {
      "image/png": "[encoded data removed]",
      "text/plain": [
       "<Figure size 1000x400 with 2 Axes>"
      ]
     },
     "metadata": {},
     "output_type": "display_data"
    }
   ],
   "source": [
    "xn = [i+1 for i in range(n)]\n",
    "fig, ax = plt.subplots(1, 2)\n",
    "fig.set_size_inches(10,4)\n",
    "# MIB_1.0\n",
    "ax[0].plot(xn, timesC1, color='b',label = 'MIB_1.0')\n",
    "ax[0].set_title(\"Tiempo de inferencia para P(C|AB) (MIB_1.0)\")\n",
    "ax[0].set_xlabel(\"n\")\n",
    "ax[0].set_ylabel(\"segundos\")\n",
    "\n",
    "# MIB_2.0\n",
    "ax[1].plot(xn, timesC, color='r',label = 'MIB_2.0')\n",
    "ax[1].set_title(\"Tiempo de inferencia para P(C|AB) (MIB_2.0)\")\n",
    "ax[1].set_xlabel(\"n\")\n",
    "ax[1].set_ylabel(\"segundos\")\n",
    "\n",
    "# Mostrar las gráficas\n",
    "plt.show()"
   ]
  },
  {
   "cell_type": "code",
   "execution_count": 195,
   "metadata": {},
   "outputs": [
    {
     "data": {
      "image/png": "[encoded data removed]",
      "text/plain": [
       "<Figure size 640x480 with 1 Axes>"
      ]
     },
     "metadata": {},
     "output_type": "display_data"
    }
   ],
   "source": [
    "fig, ax = plt.subplots()\n",
    "\n",
    "# MIB_1.0\n",
    "ax.plot(xn, timesC1, color='b', label = 'MIB_1.0')\n",
    "\n",
    "# MIB_2.0\n",
    "ax.plot(xn, timesC, color='r',label = 'MIB_2.0')\n",
    "ax.set_title(\"Tiempo de inferencia para P(C|AB)\")\n",
    "\n",
    "ax.set_xlabel(\"n\")\n",
    "ax.set_ylabel(\"segundos\")\n",
    "ax.legend(loc = 'upper left')\n",
    "\n",
    "# Mostrar las gráficas\n",
    "plt.show()"
   ]
  },
  {
   "cell_type": "markdown",
   "metadata": {},
   "source": [
    "### Memoria"
   ]
  },
  {
   "cell_type": "markdown",
   "metadata": {},
   "source": [
    "#### Memoria para la inferencia de P(B)"
   ]
  },
  {
   "cell_type": "code",
   "execution_count": null,
   "metadata": {},
   "outputs": [],
   "source": [
    "fig, ax = plt.subplots(1, 2)\n",
    "fig.set_size_inches(15,5)\n",
    "# MIB_1.0\n",
    "ax[0].plot(xn, [m/1000 for m in memoryM1], color='b',label = 'MIB_1.0')\n",
    "ax[0].set_title(\"Memoria para la inferencia para P(B) (MIB1.0)\")\n",
    "ax[0].set_xlabel(\"n\")\n",
    "ax[0].set_ylabel(\"MB\")\n",
    "\n",
    "# MIB_2.0\n",
    "ax[1].plot(xn, [m/1000 for m in memoryM], color='r',label = 'MIB_2.0')\n",
    "ax[1].set_title(\"Memoria para la inferencia para P(B) (MIB2.0)\")\n",
    "ax[1].set_xlabel(\"n\")\n",
    "ax[1].set_ylabel(\"MB\")\n",
    "\n",
    "# Mostrar las gráficas\n",
    "plt.show()"
   ]
  },
  {
   "cell_type": "code",
   "execution_count": null,
   "metadata": {},
   "outputs": [],
   "source": [
    "fig, ax = plt.subplots()\n",
    "\n",
    "# MIB_1.0\n",
    "ax.plot(xn, [m/1000 for m in memoryM1], color='b',label = 'MIB_1.0')\n",
    "\n",
    "# MIB_2.0\n",
    "ax.plot(xn, [m/1000 for m in memoryM], color='r',label = 'MIB_2.0')\n",
    "ax.set_title(\"Memoria para la inferencia para P(B)\")\n",
    "\n",
    "ax.set_xlabel(\"n\")\n",
    "ax.set_ylabel(\"MB\")\n",
    "ax.legend(loc = 'upper left')\n",
    "\n",
    "# Mostrar las gráficas\n",
    "plt.show()"
   ]
  },
  {
   "cell_type": "markdown",
   "metadata": {},
   "source": [
    "#### Memoria para la inferencia de P(C|AB)"
   ]
  },
  {
   "cell_type": "code",
   "execution_count": null,
   "metadata": {},
   "outputs": [],
   "source": [
    "fig, ax = plt.subplots(1, 2)\n",
    "fig.set_size_inches(15,5)\n",
    "# MIB_1.0\n",
    "ax[0].plot(xn, [m/1000 for m in memoryC1], color='b',label = 'MIB_1.0')\n",
    "ax[0].set_title(\"Memoria para la inferencia para P(C|AB) (MIB1.0)\")\n",
    "ax[0].set_xlabel(\"n\")\n",
    "ax[0].set_ylabel(\"MB\")\n",
    "\n",
    "# MIB_2.0\n",
    "ax[1].plot(xn, [m/1000 for m in memoryC], color='r',label = 'MIB_2.0')\n",
    "ax[1].set_title(\"Memoria para la inferencia para P(C|AB) (MIB2.0)\")\n",
    "ax[1].set_xlabel(\"n\")\n",
    "ax[1].set_ylabel(\"MB\")\n",
    "\n",
    "# Mostrar las gráficas\n",
    "plt.show()"
   ]
  },
  {
   "cell_type": "code",
   "execution_count": null,
   "metadata": {},
   "outputs": [],
   "source": [
    "fig, ax = plt.subplots()\n",
    "\n",
    "# MIB_1.0\n",
    "ax.plot(xn, [m/1000 for m in memoryC1], color='r',label = 'MIB_1.0')\n",
    "# MIB_2.0\n",
    "ax.plot(xn, [m/1000 for m in memoryC], color='b',label = 'MIB_2.0')\n",
    "\n",
    "ax.set_title(\"Memoria para la inferencia para P(C|AB)\")\n",
    "\n",
    "ax.set_xlabel(\"n\")\n",
    "ax.set_ylabel(\"MB\")\n",
    "ax.legend(loc = 'upper left')\n",
    "\n",
    "# Mostrar las gráficas\n",
    "plt.show()"
   ]
  },
  {
   "cell_type": "markdown",
   "metadata": {},
   "source": [
    "# Test 2"
   ]
  },
  {
   "cell_type": "markdown",
   "metadata": {},
   "source": [
    "## Planteamiento"
   ]
  },
  {
   "cell_type": "markdown",
   "metadata": {},
   "source": [
    "Comprobar del rendimiento del motor de inferencia n variables binarias."
   ]
  },
  {
   "cell_type": "markdown",
   "metadata": {},
   "source": [
    "### Variables"
   ]
  },
  {
   "cell_type": "markdown",
   "metadata": {},
   "source": [
    "$X = \\{X_1, X_2,\\dots,X_n\\}$, donde $\\forall X_i \\in X, X_i = \\{0,1\\}$."
   ]
  },
  {
   "cell_type": "markdown",
   "metadata": {},
   "source": [
    "### Modelo de descomposición"
   ]
  },
  {
   "cell_type": "markdown",
   "metadata": {},
   "source": [
    "$P(X) = P(X_1)P(X_2|X_1)P(X_3|X_1,X_2) \\cdots P(X_n|X_1,\\dots,X_{n-1})$."
   ]
  },
  {
   "cell_type": "markdown",
   "metadata": {},
   "source": [
    "## Test"
   ]
  },
  {
   "cell_type": "markdown",
   "metadata": {},
   "source": [
    "### MIB1.0"
   ]
  },
  {
   "cell_type": "markdown",
   "metadata": {},
   "source": [
    "### MIB2.0"
   ]
  },
  {
   "cell_type": "markdown",
   "metadata": {},
   "source": [
    "Complejidad: $O(n) = 2^n$\n",
    "\n",
    "$t_m(n) = 2^n * n$"
   ]
  },
  {
   "cell_type": "markdown",
   "metadata": {},
   "source": [
    "#### Conjunta"
   ]
  },
  {
   "cell_type": "code",
   "execution_count": 136,
   "metadata": {},
   "outputs": [
    {
     "name": "stdout",
     "output_type": "stream",
     "text": [
      "1\n",
      "\t1\n",
      "\t2\n",
      "\t3\n",
      "\t4\n",
      "\t5\n",
      "2\n",
      "\t1\n",
      "\t2\n",
      "\t3\n",
      "\t4\n",
      "\t5\n",
      "3\n",
      "\t1\n",
      "\t2\n",
      "\t3\n",
      "\t4\n",
      "\t5\n",
      "4\n",
      "\t1\n",
      "\t2\n",
      "\t3\n",
      "\t4\n",
      "\t5\n",
      "5\n",
      "\t1\n",
      "\t2\n",
      "\t3\n",
      "\t4\n",
      "\t5\n",
      "6\n",
      "\t1\n",
      "\t2\n",
      "\t3\n",
      "\t4\n",
      "\t5\n",
      "7\n",
      "\t1\n",
      "\t2\n",
      "\t3\n",
      "\t4\n",
      "\t5\n",
      "8\n",
      "\t1\n",
      "\t2\n",
      "\t3\n",
      "\t4\n",
      "\t5\n",
      "9\n",
      "\t1\n",
      "\t2\n",
      "\t3\n",
      "\t4\n",
      "\t5\n",
      "10\n",
      "\t1\n",
      "\t2\n",
      "\t3\n",
      "\t4\n",
      "\t5\n",
      "11\n",
      "\t1\n",
      "\t2\n",
      "\t3\n",
      "\t4\n",
      "\t5\n",
      "12\n",
      "\t1\n",
      "\t2\n",
      "\t3\n",
      "\t4\n",
      "\t5\n",
      "13\n",
      "\t1\n",
      "\t2\n",
      "\t3\n",
      "\t4\n",
      "\t5\n"
     ]
    },
    {
     "ename": "KeyboardInterrupt",
     "evalue": "",
     "output_type": "error",
     "traceback": [
      "\u001b[0;31m---------------------------------------------------------------------------\u001b[0m",
      "\u001b[0;31mKeyboardInterrupt\u001b[0m                         Traceback (most recent call last)",
      "Cell \u001b[0;32mIn[136], line 55\u001b[0m\n\u001b[1;32m     52\u001b[0m tracemalloc\u001b[38;5;241m.\u001b[39mstart()\n\u001b[1;32m     54\u001b[0m inicio \u001b[38;5;241m=\u001b[39m time\u001b[38;5;241m.\u001b[39mtime()\n\u001b[0;32m---> 55\u001b[0m PXn \u001b[38;5;241m=\u001b[39m \u001b[43mQX1Xn\u001b[49m\u001b[38;5;241;43m.\u001b[39;49m\u001b[43mDistributionQuery\u001b[49m\u001b[43m(\u001b[49m\u001b[38;5;28;43mset\u001b[39;49m\u001b[43m(\u001b[49m\u001b[43m[\u001b[49m\u001b[38;5;28;43mvars\u001b[39;49m\u001b[43m[\u001b[49m\u001b[38;5;241;43m-\u001b[39;49m\u001b[38;5;241;43m1\u001b[39;49m\u001b[43m]\u001b[49m\u001b[43m]\u001b[49m\u001b[43m)\u001b[49m\u001b[43m,\u001b[49m\u001b[43m \u001b[49m\u001b[43maproximation\u001b[49m\u001b[38;5;241;43m=\u001b[39;49m\u001b[38;5;28;43;01mTrue\u001b[39;49;00m\u001b[43m,\u001b[49m\u001b[43m \u001b[49m\u001b[43mprocess_n\u001b[49m\u001b[38;5;241;43m=\u001b[39;49m\u001b[38;5;241;43m16\u001b[39;49m\u001b[43m)\u001b[49m\n\u001b[1;32m     56\u001b[0m fin \u001b[38;5;241m=\u001b[39m time\u001b[38;5;241m.\u001b[39mtime()\n\u001b[1;32m     58\u001b[0m memoria_actual, memoria_pico \u001b[38;5;241m=\u001b[39m tracemalloc\u001b[38;5;241m.\u001b[39mget_traced_memory()\n",
      "File \u001b[0;32m~/Desktop/Tesis/mib_v2_3_2/question.py:41\u001b[0m, in \u001b[0;36mQuestion.DistributionQuery\u001b[0;34m(self, vars, indep, aproximation, N, process_n)\u001b[0m\n\u001b[1;32m     39\u001b[0m \u001b[38;5;28;01melse\u001b[39;00m:\n\u001b[1;32m     40\u001b[0m     mib \u001b[38;5;241m=\u001b[39m MibMpap(\u001b[38;5;28mself\u001b[39m\u001b[38;5;241m.\u001b[39mds, process_n, N)\n\u001b[0;32m---> 41\u001b[0m     \u001b[38;5;28;01mreturn\u001b[39;00m \u001b[38;5;28;43mself\u001b[39;49m\u001b[38;5;241;43m.\u001b[39;49m\u001b[43m_DQ\u001b[49m\u001b[43m(\u001b[49m\u001b[43mmib\u001b[49m\u001b[43m,\u001b[49m\u001b[43m \u001b[49m\u001b[38;5;28;43mvars\u001b[39;49m\u001b[43m,\u001b[49m\u001b[43m \u001b[49m\u001b[43mindep\u001b[49m\u001b[43m)\u001b[49m\n",
      "File \u001b[0;32m~/Desktop/Tesis/mib_v2_3_2/question.py:18\u001b[0m, in \u001b[0;36mQuestion._DQ\u001b[0;34m(self, mib, vars, indep)\u001b[0m\n\u001b[1;32m     16\u001b[0m \u001b[38;5;28;01mdef\u001b[39;00m \u001b[38;5;21m_DQ\u001b[39m(\u001b[38;5;28mself\u001b[39m, mib:Mib \u001b[38;5;241m|\u001b[39m MibAp \u001b[38;5;241m|\u001b[39m MibMpap, \u001b[38;5;28mvars\u001b[39m:\u001b[38;5;28mset\u001b[39m, indep:\u001b[38;5;28mset\u001b[39m \u001b[38;5;241m=\u001b[39m \u001b[38;5;28;01mNone\u001b[39;00m):\n\u001b[1;32m     17\u001b[0m     \u001b[38;5;28;01mif\u001b[39;00m \u001b[38;5;129;01mnot\u001b[39;00m indep:\n\u001b[0;32m---> 18\u001b[0m         \u001b[38;5;28;01mreturn\u001b[39;00m \u001b[43mmib\u001b[49m\u001b[38;5;241;43m.\u001b[39;49m\u001b[43mdistrib_inference\u001b[49m\u001b[43m(\u001b[49m\u001b[38;5;28;43mvars\u001b[39;49m\u001b[43m)\u001b[49m\n\u001b[1;32m     19\u001b[0m     \u001b[38;5;28;01melse\u001b[39;00m:\n\u001b[1;32m     20\u001b[0m         \u001b[38;5;28;01mreturn\u001b[39;00m mib\u001b[38;5;241m.\u001b[39mdistrib_inference(\u001b[38;5;28mvars\u001b[39m, indep)\n",
      "File \u001b[0;32m~/Desktop/Tesis/mib_v2_3_2/mib.py:334\u001b[0m, in \u001b[0;36mMibAp.distrib_inference\u001b[0;34m(self, vars, indep)\u001b[0m\n\u001b[1;32m    332\u001b[0m \u001b[38;5;28;01mif\u001b[39;00m \u001b[38;5;129;01mnot\u001b[39;00m indep:\n\u001b[1;32m    333\u001b[0m     \u001b[38;5;28;01mfor\u001b[39;00m event \u001b[38;5;129;01min\u001b[39;00m product(\u001b[38;5;241m*\u001b[39mvars_values):\n\u001b[0;32m--> 334\u001b[0m         table[event] \u001b[38;5;241m=\u001b[39m \u001b[38;5;28;43mself\u001b[39;49m\u001b[38;5;241;43m.\u001b[39;49m\u001b[43mmarginal\u001b[49m\u001b[43m(\u001b[49m\u001b[43mvars_column\u001b[49m\u001b[43m,\u001b[49m\u001b[43m \u001b[49m\u001b[43mevent\u001b[49m\u001b[43m)\u001b[49m\n\u001b[1;32m    335\u001b[0m     \u001b[38;5;28;01mreturn\u001b[39;00m Distrib(table, vars_column)  \n\u001b[1;32m    336\u001b[0m \u001b[38;5;28;01melse\u001b[39;00m:\n",
      "File \u001b[0;32m~/Desktop/Tesis/mib_v2_3_2/mib.py:78\u001b[0m, in \u001b[0;36mMib.marginal\u001b[0;34m(self, vars, values)\u001b[0m\n\u001b[1;32m     76\u001b[0m knwon \u001b[38;5;241m=\u001b[39m \u001b[38;5;28mset\u001b[39m(\u001b[38;5;28mvars\u001b[39m)\n\u001b[1;32m     77\u001b[0m hidden \u001b[38;5;241m=\u001b[39m \u001b[38;5;28mself\u001b[39m\u001b[38;5;241m.\u001b[39mds\u001b[38;5;241m.\u001b[39mvars \u001b[38;5;241m-\u001b[39m knwon\n\u001b[0;32m---> 78\u001b[0m \u001b[38;5;28;01mreturn\u001b[39;00m \u001b[38;5;28;43mself\u001b[39;49m\u001b[38;5;241;43m.\u001b[39;49m\u001b[43mprobability\u001b[49m\u001b[43m(\u001b[49m\u001b[43mknwon\u001b[49m\u001b[43m,\u001b[49m\u001b[43m \u001b[49m\u001b[43mhidden\u001b[49m\u001b[43m)\u001b[49m\n",
      "File \u001b[0;32m~/Desktop/Tesis/mib_v2_3_2/mib.py:55\u001b[0m, in \u001b[0;36mMib.probability\u001b[0;34m(self, knwon, hidden_vars)\u001b[0m\n\u001b[1;32m     53\u001b[0m     p_i \u001b[38;5;241m=\u001b[39m \u001b[38;5;241m1\u001b[39m\n\u001b[1;32m     54\u001b[0m     \u001b[38;5;28;01mfor\u001b[39;00m d \u001b[38;5;129;01min\u001b[39;00m descomp:\n\u001b[0;32m---> 55\u001b[0m         p_i \u001b[38;5;241m*\u001b[39m\u001b[38;5;241m=\u001b[39m \u001b[43md\u001b[49m\u001b[38;5;241;43m.\u001b[39;49m\u001b[43mP\u001b[49m\u001b[43m(\u001b[49m\u001b[43m)\u001b[49m\n\u001b[1;32m     57\u001b[0m     \u001b[38;5;28msum\u001b[39m \u001b[38;5;241m+\u001b[39m\u001b[38;5;241m=\u001b[39m p_i\n\u001b[1;32m     59\u001b[0m \u001b[38;5;28mself\u001b[39m\u001b[38;5;241m.\u001b[39mds\u001b[38;5;241m.\u001b[39mresetVars()\n",
      "File \u001b[0;32m~/Desktop/Tesis/mib_v2_3_2/distrib.py:26\u001b[0m, in \u001b[0;36mDistrib.P\u001b[0;34m(self)\u001b[0m\n\u001b[1;32m     24\u001b[0m     \u001b[38;5;28;01mreturn\u001b[39;00m \u001b[38;5;28mself\u001b[39m\u001b[38;5;241m.\u001b[39m_jointP()\n\u001b[1;32m     25\u001b[0m \u001b[38;5;28;01melse\u001b[39;00m:\n\u001b[0;32m---> 26\u001b[0m     \u001b[38;5;28;01mreturn\u001b[39;00m \u001b[38;5;28;43mself\u001b[39;49m\u001b[38;5;241;43m.\u001b[39;49m\u001b[43m_condP\u001b[49m\u001b[43m(\u001b[49m\u001b[43m)\u001b[49m\n",
      "File \u001b[0;32m~/Desktop/Tesis/mib_v2_3_2/distrib.py:34\u001b[0m, in \u001b[0;36mDistrib._condP\u001b[0;34m(self)\u001b[0m\n\u001b[1;32m     32\u001b[0m \u001b[38;5;28;01mdef\u001b[39;00m \u001b[38;5;21m_condP\u001b[39m(\u001b[38;5;28mself\u001b[39m) \u001b[38;5;241m-\u001b[39m\u001b[38;5;241m>\u001b[39m \u001b[38;5;28mfloat\u001b[39m:\n\u001b[1;32m     33\u001b[0m     vars_key \u001b[38;5;241m=\u001b[39m [v\u001b[38;5;241m.\u001b[39mevent \u001b[38;5;28;01mfor\u001b[39;00m v \u001b[38;5;129;01min\u001b[39;00m \u001b[38;5;28mself\u001b[39m\u001b[38;5;241m.\u001b[39mvars]\n\u001b[0;32m---> 34\u001b[0m     indep_key \u001b[38;5;241m=\u001b[39m [v\u001b[38;5;241m.\u001b[39mevent \u001b[38;5;28;01mfor\u001b[39;00m v \u001b[38;5;129;01min\u001b[39;00m \u001b[38;5;28mself\u001b[39m\u001b[38;5;241m.\u001b[39mparents]\n\u001b[1;32m     35\u001b[0m     \u001b[38;5;28;01mreturn\u001b[39;00m \u001b[38;5;28mself\u001b[39m\u001b[38;5;241m.\u001b[39mtable[\u001b[38;5;28mtuple\u001b[39m(indep_key)][\u001b[38;5;28mtuple\u001b[39m(vars_key)]\n",
      "File \u001b[0;32m~/Desktop/Tesis/mib_v2_3_2/distrib.py:34\u001b[0m, in \u001b[0;36m<listcomp>\u001b[0;34m(.0)\u001b[0m\n\u001b[1;32m     32\u001b[0m \u001b[38;5;28;01mdef\u001b[39;00m \u001b[38;5;21m_condP\u001b[39m(\u001b[38;5;28mself\u001b[39m) \u001b[38;5;241m-\u001b[39m\u001b[38;5;241m>\u001b[39m \u001b[38;5;28mfloat\u001b[39m:\n\u001b[1;32m     33\u001b[0m     vars_key \u001b[38;5;241m=\u001b[39m [v\u001b[38;5;241m.\u001b[39mevent \u001b[38;5;28;01mfor\u001b[39;00m v \u001b[38;5;129;01min\u001b[39;00m \u001b[38;5;28mself\u001b[39m\u001b[38;5;241m.\u001b[39mvars]\n\u001b[0;32m---> 34\u001b[0m     indep_key \u001b[38;5;241m=\u001b[39m [v\u001b[38;5;241m.\u001b[39mevent \u001b[38;5;28;01mfor\u001b[39;00m v \u001b[38;5;129;01min\u001b[39;00m \u001b[38;5;28mself\u001b[39m\u001b[38;5;241m.\u001b[39mparents]\n\u001b[1;32m     35\u001b[0m     \u001b[38;5;28;01mreturn\u001b[39;00m \u001b[38;5;28mself\u001b[39m\u001b[38;5;241m.\u001b[39mtable[\u001b[38;5;28mtuple\u001b[39m(indep_key)][\u001b[38;5;28mtuple\u001b[39m(vars_key)]\n",
      "\u001b[0;31mKeyboardInterrupt\u001b[0m: "
     ]
    }
   ],
   "source": [
    "from itertools import product\n",
    "n = 20\n",
    "timesM = []\n",
    "memoryM = []\n",
    "timesM_A = []\n",
    "memoryM_A = []\n",
    "test_n = 5\n",
    "for i in range(n):\n",
    "    print(i+1)\n",
    "    values = set([0,1])\n",
    "    \n",
    "    vars = tuple([mb.Var(\"X\"+str(j+1), values) for j in range(i+3)])\n",
    "    \n",
    "\n",
    "    for j,var in enumerate(vars):\n",
    "        if j == 0:\n",
    "            tX1 = {(0,):0.5, (1,):0.5}\n",
    "            descomp = [mb.Distrib(tX1, (var,))]\n",
    "        else:\n",
    "            for r in range(j):\n",
    "                tXn = {}\n",
    "                values_n = [list(xn.values) for xn in vars[:r+1]]\n",
    "                for key in product(*values_n):\n",
    "                    tXn[key] = {(0,):0.5, (1,):0.5}\n",
    "            descomp.append(mb.Distrib(tXn, (var,), tuple(vars[:j]) ))\n",
    "    \n",
    "    QX1Xn = mb.Question(mb.Specification(set(vars), tuple(descomp)))\n",
    "    \n",
    "    timesM_i = 0\n",
    "    memoryM_i = 0\n",
    "    timesM_Ai = 0\n",
    "    memoryM_Ai = 0\n",
    "    \n",
    "    for m in range(test_n):\n",
    "        print(f\"\\t{m+1}\")\n",
    "        # Inferencia de una distibución marginal\n",
    "        \"\"\" tracemalloc.start()\n",
    "        \n",
    "        inicio = time.time()\n",
    "        PXn = QX1Xn.DistributionQuery(set([vars[-1]]))\n",
    "        fin = time.time()\n",
    "        \n",
    "        memoria_actual, memoria_pico = tracemalloc.get_traced_memory()\n",
    "        tracemalloc.stop()\n",
    "\n",
    "        tiempo_ejecucion = fin - inicio\n",
    "        \n",
    "        timesM_i += tiempo_ejecucion\n",
    "        memoryM_i += memoria_actual \"\"\"\n",
    "        \n",
    "        # Aproximación de una distibución marginal\n",
    "        tracemalloc.start()\n",
    "        \n",
    "        inicio = time.time()\n",
    "        PXn = QX1Xn.DistributionQuery(set([vars[-1]]), aproximation=True, process_n=16)\n",
    "        fin = time.time()\n",
    "        \n",
    "        memoria_actual, memoria_pico = tracemalloc.get_traced_memory()\n",
    "        tracemalloc.stop()\n",
    "\n",
    "        tiempo_ejecucion = fin - inicio\n",
    "        \n",
    "        timesM_Ai += tiempo_ejecucion\n",
    "        memoryM_Ai += memoria_actual\n",
    "    \n",
    "    # timesM.append(timesM_i / test_n)\n",
    "    # memoryM.append(memoryM_i / test_n)\n",
    "    timesM_A.append(timesM_Ai / test_n)\n",
    "    memoryM_A.append(memoryM_Ai / test_n)"
   ]
  },
  {
   "cell_type": "markdown",
   "metadata": {},
   "source": [
    "#### Condicional"
   ]
  },
  {
   "cell_type": "code",
   "execution_count": 65,
   "metadata": {},
   "outputs": [
    {
     "name": "stdout",
     "output_type": "stream",
     "text": [
      "1\n",
      "\t1\n"
     ]
    },
    {
     "ename": "KeyboardInterrupt",
     "evalue": "",
     "output_type": "error",
     "traceback": [
      "\u001b[0;31m---------------------------------------------------------------------------\u001b[0m",
      "\u001b[0;31mKeyboardInterrupt\u001b[0m                         Traceback (most recent call last)",
      "Cell \u001b[0;32mIn[65], line 59\u001b[0m\n\u001b[1;32m     56\u001b[0m tracemalloc\u001b[38;5;241m.\u001b[39mstart()\n\u001b[1;32m     58\u001b[0m inicio \u001b[38;5;241m=\u001b[39m time\u001b[38;5;241m.\u001b[39mtime()\n\u001b[0;32m---> 59\u001b[0m PX1_Xn \u001b[38;5;241m=\u001b[39m \u001b[43mQX1Xn\u001b[49m\u001b[38;5;241;43m.\u001b[39;49m\u001b[43mDistributionQuery\u001b[49m\u001b[43m(\u001b[49m\u001b[38;5;28;43mset\u001b[39;49m\u001b[43m(\u001b[49m\u001b[43m[\u001b[49m\u001b[38;5;28;43mvars\u001b[39;49m\u001b[43m[\u001b[49m\u001b[38;5;241;43m0\u001b[39;49m\u001b[43m]\u001b[49m\u001b[43m]\u001b[49m\u001b[43m)\u001b[49m\u001b[43m,\u001b[49m\u001b[43m \u001b[49m\u001b[38;5;28;43mset\u001b[39;49m\u001b[43m(\u001b[49m\u001b[43m[\u001b[49m\u001b[38;5;28;43mvars\u001b[39;49m\u001b[43m[\u001b[49m\u001b[38;5;241;43m-\u001b[39;49m\u001b[38;5;241;43m1\u001b[39;49m\u001b[43m]\u001b[49m\u001b[43m]\u001b[49m\u001b[43m)\u001b[49m\u001b[43m,\u001b[49m\u001b[43m \u001b[49m\u001b[43maproximation\u001b[49m\u001b[38;5;241;43m=\u001b[39;49m\u001b[38;5;28;43;01mTrue\u001b[39;49;00m\u001b[43m,\u001b[49m\u001b[43m \u001b[49m\u001b[43mN\u001b[49m\u001b[38;5;241;43m=\u001b[39;49m\u001b[43mN\u001b[49m\u001b[43m)\u001b[49m\n\u001b[1;32m     60\u001b[0m \u001b[38;5;66;03m# PX1_X2Xn = QX1Xn.DistributionQuery(set([vars[0]]), set([vars[1],vars[-1]]), aproximation=True)\u001b[39;00m\n\u001b[1;32m     61\u001b[0m fin \u001b[38;5;241m=\u001b[39m time\u001b[38;5;241m.\u001b[39mtime()\n",
      "File \u001b[0;32m~/Desktop/Tesis/mib_v2_3_2/question.py:36\u001b[0m, in \u001b[0;36mQuestion.DistributionQuery\u001b[0;34m(self, vars, indep, aproximation, N)\u001b[0m\n\u001b[1;32m     34\u001b[0m \u001b[38;5;28;01melse\u001b[39;00m:\n\u001b[1;32m     35\u001b[0m     mib \u001b[38;5;241m=\u001b[39m MibAp(\u001b[38;5;28mself\u001b[39m\u001b[38;5;241m.\u001b[39mds, N)\n\u001b[0;32m---> 36\u001b[0m     \u001b[38;5;28;01mreturn\u001b[39;00m \u001b[38;5;28;43mself\u001b[39;49m\u001b[38;5;241;43m.\u001b[39;49m\u001b[43m_DQ\u001b[49m\u001b[43m(\u001b[49m\u001b[43mmib\u001b[49m\u001b[43m,\u001b[49m\u001b[43m \u001b[49m\u001b[38;5;28;43mvars\u001b[39;49m\u001b[43m,\u001b[49m\u001b[43m \u001b[49m\u001b[43mindep\u001b[49m\u001b[43m)\u001b[49m\n",
      "File \u001b[0;32m~/Desktop/Tesis/mib_v2_3_2/question.py:19\u001b[0m, in \u001b[0;36mQuestion._DQ\u001b[0;34m(self, mib, vars, indep)\u001b[0m\n\u001b[1;32m     17\u001b[0m     \u001b[38;5;28;01mreturn\u001b[39;00m mib\u001b[38;5;241m.\u001b[39mdistrib_inference(\u001b[38;5;28mvars\u001b[39m)\n\u001b[1;32m     18\u001b[0m \u001b[38;5;28;01melse\u001b[39;00m:\n\u001b[0;32m---> 19\u001b[0m     \u001b[38;5;28;01mreturn\u001b[39;00m \u001b[43mmib\u001b[49m\u001b[38;5;241;43m.\u001b[39;49m\u001b[43mdistrib_inference\u001b[49m\u001b[43m(\u001b[49m\u001b[38;5;28;43mvars\u001b[39;49m\u001b[43m,\u001b[49m\u001b[43m \u001b[49m\u001b[43mindep\u001b[49m\u001b[43m)\u001b[49m\n",
      "File \u001b[0;32m~/Desktop/Tesis/mib_v2_3_2/mib.py:335\u001b[0m, in \u001b[0;36mMibAp.distrib_inference\u001b[0;34m(self, vars, indep)\u001b[0m\n\u001b[1;32m    333\u001b[0m     table[ei] \u001b[38;5;241m=\u001b[39m {}\n\u001b[1;32m    334\u001b[0m     \u001b[38;5;28;01mfor\u001b[39;00m ev \u001b[38;5;129;01min\u001b[39;00m product(\u001b[38;5;241m*\u001b[39mvars_values):\n\u001b[0;32m--> 335\u001b[0m         table[ei][ev] \u001b[38;5;241m=\u001b[39m \u001b[38;5;28;43mself\u001b[39;49m\u001b[38;5;241;43m.\u001b[39;49m\u001b[43mcond\u001b[49m\u001b[43m(\u001b[49m\u001b[43mvars_column\u001b[49m\u001b[43m,\u001b[49m\u001b[43m \u001b[49m\u001b[43mev\u001b[49m\u001b[43m,\u001b[49m\u001b[43m \u001b[49m\u001b[43mindep_column\u001b[49m\u001b[43m,\u001b[49m\u001b[43m \u001b[49m\u001b[43mei\u001b[49m\u001b[43m)\u001b[49m\n\u001b[1;32m    337\u001b[0m \u001b[38;5;28;01mreturn\u001b[39;00m Distrib(table, vars_column, indep_column)\n",
      "File \u001b[0;32m~/Desktop/Tesis/mib_v2_3_2/mib.py:278\u001b[0m, in \u001b[0;36mMibAp.cond\u001b[0;34m(self, vars, vars_v, indep_vars, indep_v)\u001b[0m\n\u001b[1;32m    275\u001b[0m i \u001b[38;5;241m=\u001b[39m \u001b[38;5;241m0\u001b[39m\n\u001b[1;32m    277\u001b[0m \u001b[38;5;28;01mwhile\u001b[39;00m \u001b[38;5;28mlen\u001b[39m(vs) \u001b[38;5;241m>\u001b[39m \u001b[38;5;241m0\u001b[39m:\n\u001b[0;32m--> 278\u001b[0m     \u001b[38;5;28;43mself\u001b[39;49m\u001b[38;5;241;43m.\u001b[39;49m\u001b[43mds\u001b[49m\u001b[38;5;241;43m.\u001b[39;49m\u001b[43mdescomp\u001b[49m\u001b[43m[\u001b[49m\u001b[43mi\u001b[49m\u001b[43m]\u001b[49m\u001b[38;5;241;43m.\u001b[39;49m\u001b[43msetSample\u001b[49m\u001b[43m(\u001b[49m\u001b[43m)\u001b[49m\n\u001b[1;32m    280\u001b[0m     vs \u001b[38;5;241m=\u001b[39m vs \u001b[38;5;241m-\u001b[39m \u001b[38;5;28mself\u001b[39m\u001b[38;5;241m.\u001b[39mds\u001b[38;5;241m.\u001b[39mdescomp[i]\u001b[38;5;241m.\u001b[39mgetVars()\n\u001b[1;32m    281\u001b[0m     i \u001b[38;5;241m+\u001b[39m\u001b[38;5;241m=\u001b[39m \u001b[38;5;241m1\u001b[39m\n",
      "File \u001b[0;32m~/Desktop/Tesis/mib_v2_3_2/distrib.py:70\u001b[0m, in \u001b[0;36mDistrib.setSample\u001b[0;34m(self)\u001b[0m\n\u001b[1;32m     66\u001b[0m         probabilitys\u001b[38;5;241m.\u001b[39mappend(\u001b[38;5;28mself\u001b[39m\u001b[38;5;241m.\u001b[39mtable[key])\n\u001b[1;32m     68\u001b[0m     value \u001b[38;5;241m=\u001b[39m random\u001b[38;5;241m.\u001b[39mchoices(values, probabilitys, k\u001b[38;5;241m=\u001b[39m\u001b[38;5;241m1\u001b[39m)[\u001b[38;5;241m0\u001b[39m]\n\u001b[0;32m---> 70\u001b[0m \u001b[38;5;28;01mfor\u001b[39;00m i,v \u001b[38;5;129;01min\u001b[39;00m \u001b[38;5;28;43menumerate\u001b[39;49m\u001b[43m(\u001b[49m\u001b[38;5;28;43mself\u001b[39;49m\u001b[38;5;241;43m.\u001b[39;49m\u001b[43mvars\u001b[49m\u001b[43m)\u001b[49m:\n\u001b[1;32m     71\u001b[0m         v\u001b[38;5;241m.\u001b[39mevent \u001b[38;5;241m=\u001b[39m value[i]\n",
      "\u001b[0;31mKeyboardInterrupt\u001b[0m: "
     ]
    }
   ],
   "source": [
    "n = 5\n",
    "timesC = []\n",
    "memoryC = []\n",
    "timesC_A = []\n",
    "memoryC_A = []\n",
    "\n",
    "test_n = 10\n",
    "N = 40000\n",
    "for i in range(n):\n",
    "    print(i+1)\n",
    "    values = set([0,1])\n",
    "    \n",
    "    vars = tuple([mb.Var(\"X\"+str(j), values) for j in range(i+2)])\n",
    "\n",
    "    for j,var in enumerate(vars):\n",
    "        if j == 0:\n",
    "            dX0 = {(0,):0.5, (1,):0.5}\n",
    "            descomp = [mb.Distrib(dX0, (var,))]\n",
    "        elif j == 1:\n",
    "            dX1 = {\n",
    "                (0,) : {(0,):0.5, (1,):0.5},\n",
    "                (1,) : {(0,):0.5, (1,):0.5}\n",
    "            }\n",
    "            descomp.append(mb.Distrib(dX1, (var,), (vars[0],),))\n",
    "        else:\n",
    "            dXn = {}\n",
    "            values_n = [list(xn.values) for xn in vars[:j-1]]\n",
    "            for key in product(*values_n):\n",
    "                dXn[key] = {(0,):0.5, (1,):0.5}\n",
    "            descomp.append(mb.Distrib(dXn, (var,), tuple(vars[:j-1])))\n",
    "    \n",
    "    QX1Xn = mb.Question(mb.Specification(set(vars), tuple(descomp)))\n",
    "    \n",
    "    timesC_i = 0\n",
    "    memoryC_i = 0\n",
    "    timesC_Ai = 0\n",
    "    memoryC_Ai = 0\n",
    "    for m in range(test_n):\n",
    "        print(f\"\\t{m+1}\")\n",
    "        # Inferencia de una distibución condicional \n",
    "        \"\"\" tracemalloc.start()\n",
    "        \n",
    "        inicio = time.time()\n",
    "        PX1_X2Xn = QX1Xn.DistributionQuery(set([vars[0]]), set([vars[1],vars[-1]]))\n",
    "        fin = time.time()\n",
    "        \n",
    "        memoria_actual, memoria_pico = tracemalloc.get_traced_memory()\n",
    "        tracemalloc.stop()\n",
    "        \n",
    "        tiempo_ejecucion = fin - inicio\n",
    "        \n",
    "        timesC_i += tiempo_ejecucion\n",
    "        memoryC_i += memoria_actual \"\"\"\n",
    "        \n",
    "        # Aproximación de una distibución condicional \n",
    "        tracemalloc.start()\n",
    "        \n",
    "        inicio = time.time()\n",
    "        PX1_Xn = QX1Xn.DistributionQuery(set([vars[0]]), set([vars[-1]]), aproximation=True, N=N)\n",
    "        # PX1_X2Xn = QX1Xn.DistributionQuery(set([vars[0]]), set([vars[1],vars[-1]]), aproximation=True)\n",
    "        fin = time.time()\n",
    "        \n",
    "        memoria_actual, memoria_pico = tracemalloc.get_traced_memory()\n",
    "        tracemalloc.stop()\n",
    "        \n",
    "        tiempo_ejecucion = fin - inicio\n",
    "        \n",
    "        timesC_Ai += tiempo_ejecucion\n",
    "        memoryC_Ai += memoria_actual\n",
    "    \n",
    "    # timesC.append(timesC_i/ test_n)\n",
    "    # memoryC.append(memoryC_i / test_n)\n",
    "    timesC_A.append(timesC_Ai / test_n)\n",
    "    memoryC_A.append(memoryC_Ai / test_n)\n",
    "    "
   ]
  },
  {
   "cell_type": "code",
   "execution_count": 140,
   "metadata": {},
   "outputs": [
    {
     "data": {
      "text/plain": [
       "2.0694586859809028"
      ]
     },
     "execution_count": 140,
     "metadata": {},
     "output_type": "execute_result"
    }
   ],
   "source": [
    "mp = 0\n",
    "for i in range(1,100):\n",
    "    mp += (timesC_A[i] - timesC_A[i-1])\n",
    "mp / (100 - 1)"
   ]
  },
  {
   "cell_type": "code",
   "execution_count": 50,
   "metadata": {},
   "outputs": [],
   "source": [
    "def t1000(x:int) -> float:\n",
    "    return 0.11763986216651068 * x"
   ]
  },
  {
   "cell_type": "code",
   "execution_count": 51,
   "metadata": {},
   "outputs": [],
   "source": [
    "def t10000(x:int) -> float:\n",
    "    return (0.8919548723432753 * x)  + 0.3183024686721987"
   ]
  },
  {
   "cell_type": "code",
   "execution_count": 52,
   "metadata": {},
   "outputs": [],
   "source": [
    "def t17500(x:int, b:float = 0.0005555581286976537) -> float:\n",
    "    return (2.0694586859809028 * x) + b"
   ]
  },
  {
   "cell_type": "code",
   "execution_count": 53,
   "metadata": {},
   "outputs": [],
   "source": [
    "def t25000(x:int, b:float = -0.041077795471430104):\n",
    "    return (3.24696249961853 * x) + b"
   ]
  },
  {
   "cell_type": "code",
   "execution_count": 54,
   "metadata": {},
   "outputs": [],
   "source": [
    "def t50000(x:int) -> float:\n",
    "    return (6.563827234506607 * x) - 0.31809051576543457"
   ]
  },
  {
   "cell_type": "code",
   "execution_count": 139,
   "metadata": {},
   "outputs": [],
   "source": [
    "timesC_A = []\n",
    "for i in range(100):\n",
    "    d = t25000(i+2) - t10000(i+2)\n",
    "    t = t10000(i+2) + (d/2)\n",
    "    timesC_A.append(t)"
   ]
  },
  {
   "cell_type": "code",
   "execution_count": 151,
   "metadata": {},
   "outputs": [
    {
     "data": {
      "text/plain": [
       "0.0005555671618301966"
      ]
     },
     "execution_count": 151,
     "metadata": {},
     "output_type": "execute_result"
    }
   ],
   "source": [
    "e = 0\n",
    "for i in range(100):\n",
    "    e += (timesC_A[i] - t17500(i+2)) / timesC_A[i]\n",
    "e / (n-1)"
   ]
  },
  {
   "cell_type": "code",
   "execution_count": 147,
   "metadata": {},
   "outputs": [
    {
     "data": {
      "text/plain": [
       "-0.11292298264205164"
      ]
     },
     "execution_count": 147,
     "metadata": {},
     "output_type": "execute_result"
    }
   ],
   "source": [
    "e = 0\n",
    "b = 0.0005555581286976537\n",
    "for j in range(10000):\n",
    "    for i in range(100):\n",
    "        e += (timesC_A[i] - (t25000(i+2, b))) / timesC_A[i]\n",
    "        # e += (timesC_A[i] - t10000(i+2)) / timesC_A[i]\n",
    "    e = e / (n-1)\n",
    "    b = (b+e) / 2\n",
    "b"
   ]
  },
  {
   "cell_type": "code",
   "execution_count": 256,
   "metadata": {},
   "outputs": [
    {
     "data": {
      "text/plain": [
       "(9.285991668701172, 9.237851192104952)"
      ]
     },
     "execution_count": 256,
     "metadata": {},
     "output_type": "execute_result"
    }
   ],
   "source": [
    "i = 8\n",
    "timesC_A[i], t10000(i+2)"
   ]
  },
  {
   "cell_type": "code",
   "execution_count": 165,
   "metadata": {},
   "outputs": [
    {
     "data": {
      "text/plain": [
       "0.9803321847209223"
      ]
     },
     "execution_count": 165,
     "metadata": {},
     "output_type": "execute_result"
    }
   ],
   "source": [
    "t1000(500)"
   ]
  },
  {
   "cell_type": "code",
   "execution_count": 265,
   "metadata": {},
   "outputs": [
    {
     "data": {
      "text/plain": [
       "74.3826231067183"
      ]
     },
     "execution_count": 265,
     "metadata": {},
     "output_type": "execute_result"
    }
   ],
   "source": [
    "(t10000(500) / 60) * 10"
   ]
  },
  {
   "cell_type": "code",
   "execution_count": 5,
   "metadata": {},
   "outputs": [],
   "source": [
    "import json\n",
    "\n",
    "\"\"\" # Diccionario que deseas guardar\n",
    "mi_diccionario = {\n",
    "    \"timesM\": timesM,\n",
    "    \"timesC\": timesC,\n",
    "    \"memoryM\": memoryM,\n",
    "    \"memoryC\": memoryC\n",
    "}\n",
    "\n",
    "# Guardar el diccionario en un archivo JSON\n",
    "with open(\"datos_MIB2.json\", \"w\") as archivo_json:\n",
    "    json.dump(mi_diccionario, archivo_json, indent=4) \"\"\"\n",
    "    \n",
    "# mi_diccionario.clear()\n",
    "mi_diccionario = {\n",
    "    \"timesM\": timesM_A,\n",
    "    \"timesC\": timesC_A,\n",
    "    \"memoryM\": memoryM_A,\n",
    "    \"memoryC\": memoryC_A\n",
    "}\n",
    "\n",
    "# Guardar el diccionario en un archivo JSON\n",
    "with open(\"datosA_MIB2.json\", \"w\") as archivo_json:\n",
    "    json.dump(mi_diccionario, archivo_json, indent=4)"
   ]
  },
  {
   "cell_type": "code",
   "execution_count": null,
   "metadata": {},
   "outputs": [],
   "source": [
    "with open(\"datos_MIB2.json\", \"r\") as archivo_json:\n",
    "    datos = json.load(archivo_json)\n",
    "timesM = datos[\"timesM\"]\n",
    "timesC = datos[\"timesC\"]\n",
    "memoryM = datos[\"memoryM\"]\n",
    "memoryC = datos[\"memoryC\"]"
   ]
  },
  {
   "cell_type": "markdown",
   "metadata": {},
   "source": [
    "## Datos"
   ]
  },
  {
   "cell_type": "code",
   "execution_count": 2,
   "metadata": {},
   "outputs": [],
   "source": [
    "def grafica_(list1, list2, title1, title2, xn, x_label, y_label):\n",
    "    fig, ax = plt.subplots(1, 2)\n",
    "    fig.set_size_inches(12,6)\n",
    "    ax[0].plot(xn, list1, color='b',label = 'Exacta')\n",
    "    ax[0].set_title(title1)\n",
    "    ax[0].set_xlabel(x_label)\n",
    "    ax[0].set_ylabel(y_label)\n",
    "\n",
    "\n",
    "    ax[1].plot(xn, list2, color='r',label = 'Aproximación')\n",
    "    ax[1].set_title(title2)\n",
    "    ax[1].set_xlabel(x_label)\n",
    "    ax[1].set_ylabel(y_label)\n",
    "    \n",
    "    plt.show()\n",
    "    "
   ]
  },
  {
   "cell_type": "code",
   "execution_count": 3,
   "metadata": {},
   "outputs": [],
   "source": [
    "def grafica_n(ys:list, x:list, labels:list,  title:str, x_label:str, y_label:str) -> None:\n",
    "    fig, ax = plt.subplots()\n",
    "    \n",
    "    for i,y in enumerate(ys):\n",
    "        ax.plot(x[i], y, label = labels[i])\n",
    "    \n",
    "    ax.set_title(title)\n",
    "    ax.set_xlabel(x_label)\n",
    "    ax.set_ylabel(y_label)\n",
    "    ax.legend(loc = 'upper left')\n",
    "    plt.grid()\n",
    "    plt.show()"
   ]
  },
  {
   "cell_type": "code",
   "execution_count": 64,
   "metadata": {},
   "outputs": [
    {
     "data": {
      "image/png": "[encoded data removed]",
      "text/plain": [
       "<Figure size 640x480 with 1 Axes>"
      ]
     },
     "metadata": {},
     "output_type": "display_data"
    }
   ],
   "source": [
    "Ns = [t1000(2),t10000(2),t17500(2),t25000(2),t50000(2)]\n",
    "xn = ['1000', '10000','17500','25000','50000']\n",
    "\n",
    "grafica_n([Ns], [xn], [\"a\"], 'Tiempo de N', 'N', 'tiempo')\n"
   ]
  },
  {
   "cell_type": "markdown",
   "metadata": {},
   "source": [
    "### Marginal"
   ]
  },
  {
   "cell_type": "markdown",
   "metadata": {},
   "source": [
    "#### Tiempos"
   ]
  },
  {
   "cell_type": "code",
   "execution_count": 30,
   "metadata": {},
   "outputs": [
    {
     "data": {
      "image/png": "[encoded data removed]",
      "text/plain": [
       "<Figure size 1200x600 with 2 Axes>"
      ]
     },
     "metadata": {},
     "output_type": "display_data"
    }
   ],
   "source": [
    "xn = [i+2 for i in range(n)]\n",
    "title1 = \"Tiempos de inferencia exacta para P(X_n)\"\n",
    "title2 = \"Tiempos de aproximacion para P(X_n) con N = 10000\"\n",
    "grafica_(timesM, timesM_A, title1, title2, xn, 'r', 'segundos')"
   ]
  },
  {
   "cell_type": "code",
   "execution_count": 31,
   "metadata": {},
   "outputs": [
    {
     "data": {
      "image/png": "[encoded data removed]",
      "text/plain": [
       "<Figure size 640x480 with 1 Axes>"
      ]
     },
     "metadata": {},
     "output_type": "display_data"
    }
   ],
   "source": [
    "grafica_n([timesM, timesM_A], ['Exacta', 'Aproximacion'], \"Tiempo de inferencia para P(X_n)\", xn, 'n', 'segundos')"
   ]
  },
  {
   "cell_type": "markdown",
   "metadata": {},
   "source": [
    "### Condicional "
   ]
  },
  {
   "cell_type": "markdown",
   "metadata": {},
   "source": [
    "#### Tiempos"
   ]
  },
  {
   "cell_type": "code",
   "execution_count": null,
   "metadata": {},
   "outputs": [],
   "source": [
    "n = 500\n",
    "t_mil = [t1000(i+2) / 60 for i in range(n)]\n",
    "t_10mil = [t10000(i+2) / 60 for i in range(n)]\n",
    "t_25mil = [t25000(i+2) / 60 for i in range(n)]\n",
    "t_50mil = [t50000(i+2) / 60 for i in range(n)]\n",
    "x = [i+2 for i in range(n)]\n",
    "\n",
    "labels = ['N=1000','N=10000','N=25000','N=50000']\n",
    "ys = [t_mil, t_10mil, t_25mil,t_50mil]\n",
    "\n",
    "grafica_n(ys, x, labels,'Tiempo de Aproximación para P(X_1|X_2,X_n)','n', 'mins')"
   ]
  },
  {
   "cell_type": "code",
   "execution_count": 28,
   "metadata": {},
   "outputs": [
    {
     "data": {
      "image/png": "[encoded data removed]",
      "text/plain": [
       "<Figure size 1200x600 with 2 Axes>"
      ]
     },
     "metadata": {},
     "output_type": "display_data"
    }
   ],
   "source": [
    "xn = [i for i in range(n)]\n",
    "title1 = \"Tiempos de inferencia exacta para P(X_1|X_2,X_n)\"\n",
    "title2 = \"Tiempos de aproximacion para P(X_1|X_2,X_n) con N = 10000\"\n",
    "grafica_(timesC, timesC_A, title1, title2, xn, 'u', 'segundos')"
   ]
  },
  {
   "cell_type": "code",
   "execution_count": 29,
   "metadata": {},
   "outputs": [
    {
     "data": {
      "image/png": "[encoded data removed]",
      "text/plain": [
       "<Figure size 640x480 with 1 Axes>"
      ]
     },
     "metadata": {},
     "output_type": "display_data"
    }
   ],
   "source": [
    "grafica(timesC, timesC_A, 'Exacta', 'Aproximacion', \"Tiempo de inferencia para P(X_1|X_2,X_n)\", xn, 'u', 'segundos')"
   ]
  },
  {
   "cell_type": "markdown",
   "metadata": {},
   "source": [
    "# Test 3"
   ]
  },
  {
   "cell_type": "markdown",
   "metadata": {},
   "source": [
    "Problema de autoria de textos "
   ]
  },
  {
   "cell_type": "markdown",
   "metadata": {},
   "source": [
    "## Plantemiento"
   ]
  },
  {
   "cell_type": "markdown",
   "metadata": {},
   "source": [
    "### Especificaión "
   ]
  },
  {
   "cell_type": "markdown",
   "metadata": {},
   "source": [
    "#### Variables"
   ]
  },
  {
   "cell_type": "markdown",
   "metadata": {},
   "source": [
    "- $A$ : Variable para los autores\n",
    "- $T$ : Variable para los tipos de textos\n",
    "- $W_I$ : Variable para las palabras"
   ]
  },
  {
   "cell_type": "markdown",
   "metadata": {},
   "source": [
    "##### Variable $A$"
   ]
  },
  {
   "cell_type": "markdown",
   "metadata": {},
   "source": [
    "$|A| = 10 $"
   ]
  },
  {
   "cell_type": "markdown",
   "metadata": {},
   "source": [
    "##### Variable $T$"
   ]
  },
  {
   "cell_type": "markdown",
   "metadata": {},
   "source": [
    "$ T = \\{'minicuento', 'fábula', 'cuento'\\} $"
   ]
  },
  {
   "cell_type": "markdown",
   "metadata": {},
   "source": [
    "##### Variable $W_i$"
   ]
  },
  {
   "cell_type": "markdown",
   "metadata": {},
   "source": [
    "$ W_i = \\{0,1\\}$, donde cada $W_i$ representa una variable para cada palabra.\n",
    "\n",
    "Si $W_i$ es 0, entonces la palabra no esta. Si $W_i$ es 1 entonces la palabra esta."
   ]
  },
  {
   "cell_type": "markdown",
   "metadata": {},
   "source": [
    "$W = \\{W_1,W_2,\\dots,W_n\\}$"
   ]
  },
  {
   "cell_type": "markdown",
   "metadata": {},
   "source": [
    "#### Modelo de descomposición"
   ]
  },
  {
   "cell_type": "markdown",
   "metadata": {},
   "source": [
    "$P(A)P(T|A)\\displaystyle \\prod_{i=0}^{n} P(W_i|AT)$"
   ]
  },
  {
   "cell_type": "markdown",
   "metadata": {},
   "source": [
    "## Metodología"
   ]
  },
  {
   "cell_type": "markdown",
   "metadata": {},
   "source": [
    "### Obtención de datos"
   ]
  },
  {
   "cell_type": "markdown",
   "metadata": {},
   "source": [
    "#### Obtención de datos para el entrenamiento"
   ]
  },
  {
   "cell_type": "code",
   "execution_count": 2,
   "metadata": {},
   "outputs": [
    {
     "name": "stdout",
     "output_type": "stream",
     "text": [
      "leyendo...\n",
      "tamaño del contenido de archivos cargados:             1 KB\n"
     ]
    },
    {
     "data": {
      "text/html": [
       "<div>\n",
       "<style scoped>\n",
       "    .dataframe tbody tr th:only-of-type {\n",
       "        vertical-align: middle;\n",
       "    }\n",
       "\n",
       "    .dataframe tbody tr th {\n",
       "        vertical-align: top;\n",
       "    }\n",
       "\n",
       "    .dataframe thead th {\n",
       "        text-align: right;\n",
       "    }\n",
       "</style>\n",
       "<table border=\"1\" class=\"dataframe\">\n",
       "  <thead>\n",
       "    <tr style=\"text-align: right;\">\n",
       "      <th></th>\n",
       "      <th>titulo</th>\n",
       "      <th>tipo</th>\n",
       "      <th>autor</th>\n",
       "      <th>texto</th>\n",
       "    </tr>\n",
       "  </thead>\n",
       "  <tbody>\n",
       "    <tr>\n",
       "      <th>0</th>\n",
       "      <td>la luz es como el agua</td>\n",
       "      <td>cuento</td>\n",
       "      <td>gabriel garcía márquez</td>\n",
       "      <td>navidad niños volvieron pedir bote remos acuer...</td>\n",
       "    </tr>\n",
       "    <tr>\n",
       "      <th>1</th>\n",
       "      <td>un niño como yo</td>\n",
       "      <td>minicuento</td>\n",
       "      <td>gabriel garcía márquez</td>\n",
       "      <td>niño cinco años perdido madre muchedumbre feri...</td>\n",
       "    </tr>\n",
       "    <tr>\n",
       "      <th>2</th>\n",
       "      <td>la fotogenia del fantasma</td>\n",
       "      <td>minicuento</td>\n",
       "      <td>gabriel garcía márquez</td>\n",
       "      <td>fantasmas acomodándose nuevas circunstancias e...</td>\n",
       "    </tr>\n",
       "    <tr>\n",
       "      <th>3</th>\n",
       "      <td>el drama del desencantado</td>\n",
       "      <td>minicuento</td>\n",
       "      <td>gabriel garcía márquez</td>\n",
       "      <td>drama desencantado arrojó calle décimo piso me...</td>\n",
       "    </tr>\n",
       "    <tr>\n",
       "      <th>4</th>\n",
       "      <td>el almohadón de plumas</td>\n",
       "      <td>cuento</td>\n",
       "      <td>horacio quiroga</td>\n",
       "      <td>luna miel largo escalofrío rubia angelical tím...</td>\n",
       "    </tr>\n",
       "  </tbody>\n",
       "</table>\n",
       "</div>"
      ],
      "text/plain": [
       "                      titulo        tipo                   autor  \\\n",
       "0     la luz es como el agua      cuento  gabriel garcía márquez   \n",
       "1            un niño como yo  minicuento  gabriel garcía márquez   \n",
       "2  la fotogenia del fantasma  minicuento  gabriel garcía márquez   \n",
       "3  el drama del desencantado  minicuento  gabriel garcía márquez   \n",
       "4     el almohadón de plumas      cuento         horacio quiroga   \n",
       "\n",
       "                                               texto  \n",
       "0  navidad niños volvieron pedir bote remos acuer...  \n",
       "1  niño cinco años perdido madre muchedumbre feri...  \n",
       "2  fantasmas acomodándose nuevas circunstancias e...  \n",
       "3  drama desencantado arrojó calle décimo piso me...  \n",
       "4  luna miel largo escalofrío rubia angelical tím...  "
      ]
     },
     "execution_count": 2,
     "metadata": {},
     "output_type": "execute_result"
    }
   ],
   "source": [
    "archivos = glob.glob('./Train/*/*')\n",
    "archivos,nombres = tp.carga_cuentos(archivos)\n",
    "df_train = tp.lee_cuentos(archivos)\n",
    "df_train.head()"
   ]
  },
  {
   "cell_type": "markdown",
   "metadata": {},
   "source": [
    "#### Obtención de datos para el test"
   ]
  },
  {
   "cell_type": "code",
   "execution_count": 3,
   "metadata": {},
   "outputs": [
    {
     "name": "stdout",
     "output_type": "stream",
     "text": [
      "leyendo...\n",
      "tamaño del contenido de archivos cargados:             0 KB\n"
     ]
    },
    {
     "data": {
      "text/html": [
       "<div>\n",
       "<style scoped>\n",
       "    .dataframe tbody tr th:only-of-type {\n",
       "        vertical-align: middle;\n",
       "    }\n",
       "\n",
       "    .dataframe tbody tr th {\n",
       "        vertical-align: top;\n",
       "    }\n",
       "\n",
       "    .dataframe thead th {\n",
       "        text-align: right;\n",
       "    }\n",
       "</style>\n",
       "<table border=\"1\" class=\"dataframe\">\n",
       "  <thead>\n",
       "    <tr style=\"text-align: right;\">\n",
       "      <th></th>\n",
       "      <th>titulo</th>\n",
       "      <th>texto</th>\n",
       "    </tr>\n",
       "  </thead>\n",
       "  <tbody>\n",
       "    <tr>\n",
       "      <th>0</th>\n",
       "      <td>la melancolía del viajero</td>\n",
       "      <td>veces vuelven largo viaje conservan toda vida ...</td>\n",
       "    </tr>\n",
       "    <tr>\n",
       "      <th>1</th>\n",
       "      <td>el águila de ala cortada y la zorra</td>\n",
       "      <td>cierto día hombre capturó águila cortó alas so...</td>\n",
       "    </tr>\n",
       "    <tr>\n",
       "      <th>2</th>\n",
       "      <td>los dos cazadores</td>\n",
       "      <td>cierto día mayo alegría tristeza encontraron o...</td>\n",
       "    </tr>\n",
       "    <tr>\n",
       "      <th>3</th>\n",
       "      <td>maravillas de la voluntad</td>\n",
       "      <td>tres punto don pedro llegaba mesa saludaba cad...</td>\n",
       "    </tr>\n",
       "    <tr>\n",
       "      <th>4</th>\n",
       "      <td>la escopeta</td>\n",
       "      <td>noche cerrada estiré brazo encender lámpara me...</td>\n",
       "    </tr>\n",
       "  </tbody>\n",
       "</table>\n",
       "</div>"
      ],
      "text/plain": [
       "                                titulo  \\\n",
       "0            la melancolía del viajero   \n",
       "1  el águila de ala cortada y la zorra   \n",
       "2                    los dos cazadores   \n",
       "3            maravillas de la voluntad   \n",
       "4                          la escopeta   \n",
       "\n",
       "                                               texto  \n",
       "0  veces vuelven largo viaje conservan toda vida ...  \n",
       "1  cierto día hombre capturó águila cortó alas so...  \n",
       "2  cierto día mayo alegría tristeza encontraron o...  \n",
       "3  tres punto don pedro llegaba mesa saludaba cad...  \n",
       "4  noche cerrada estiré brazo encender lámpara me...  "
      ]
     },
     "execution_count": 3,
     "metadata": {},
     "output_type": "execute_result"
    }
   ],
   "source": [
    "archivos = glob.glob('./Test/*')\n",
    "archivos,nombres = tp.carga_cuentos(archivos)\n",
    "df_test = tp.lee_cuentos(archivos,test=True)\n",
    "df_test.head()"
   ]
  },
  {
   "cell_type": "markdown",
   "metadata": {},
   "source": [
    "#### Reducción de vocabulario"
   ]
  },
  {
   "cell_type": "code",
   "execution_count": 4,
   "metadata": {},
   "outputs": [],
   "source": [
    "def vocab(max:int = None, min = 5) -> set:\n",
    "    s = df_train.texto.str.cat(sep=' ').split()\n",
    "    conteos = Counter(s)\n",
    "    nuevo_vocabulario = set(conteos)\n",
    "    print(len(nuevo_vocabulario))\n",
    "    if max:\n",
    "        nuevo_vocabulario =  set([key for key, _ in conteos.most_common(max)])\n",
    "    else:\n",
    "        nuevo_vocabulario = set([palabra for palabra in s if conteos[palabra] >= min])\n",
    "    print(len(nuevo_vocabulario))\n",
    "    return nuevo_vocabulario"
   ]
  },
  {
   "cell_type": "code",
   "execution_count": 5,
   "metadata": {},
   "outputs": [],
   "source": [
    "def vocab_aut(max:int=5) -> set:\n",
    "    autores = set(df_train.autor)\n",
    "    nvocab_a = {}\n",
    "    nuevo_vocabulario = set()\n",
    "    for a in autores:\n",
    "        s = df_train[df_train['autor'] == a].texto.str.cat(sep=' ').split()\n",
    "        conteos = Counter(s)\n",
    "        nuevo_vocabulario_a = set(conteos)\n",
    "        len_old_vocab = len(nuevo_vocabulario_a)\n",
    "        nuevo_vocabulario_a =  set([key for key, _ in conteos.most_common(max)])\n",
    "        nvocab_a[a] = [v for v in conteos.most_common(max)]\n",
    "        print(f\"{a}: old: {len_old_vocab}, new:{len(nuevo_vocabulario_a)}\")\n",
    "        nuevo_vocabulario = nuevo_vocabulario.union(nuevo_vocabulario_a)\n",
    "    print(len(nuevo_vocabulario))\n",
    "    return nuevo_vocabulario, nvocab_a"
   ]
  },
  {
   "cell_type": "code",
   "execution_count": 103,
   "metadata": {},
   "outputs": [
    {
     "name": "stdout",
     "output_type": "stream",
     "text": [
      "josé saramago: old: 414, new:15\n",
      "gibrán jalil gibrán: old: 330, new:15\n",
      "jean de la fontaine: old: 377, new:15\n",
      "carlos fuentes: old: 1329, new:15\n",
      "gabriel garcía márquez: old: 518, new:15\n",
      "esopo: old: 166, new:15\n",
      "juan rulfo: old: 791, new:15\n",
      "horacio quiroga: old: 733, new:15\n",
      "alfonso reyes: old: 211, new:15\n",
      "juan carlos onetti: old: 385, new:15\n",
      "119\n"
     ]
    }
   ],
   "source": [
    "# nuevo_vocabulario = vocab(min=3)\n",
    "nuevo_vocabulario, nvocab_a = vocab_aut(max=15)"
   ]
  },
  {
   "cell_type": "markdown",
   "metadata": {},
   "source": [
    "#### Data Frames de trabajo"
   ]
  },
  {
   "cell_type": "code",
   "execution_count": 104,
   "metadata": {},
   "outputs": [
    {
     "data": {
      "text/html": [
       "<div>\n",
       "<style scoped>\n",
       "    .dataframe tbody tr th:only-of-type {\n",
       "        vertical-align: middle;\n",
       "    }\n",
       "\n",
       "    .dataframe tbody tr th {\n",
       "        vertical-align: top;\n",
       "    }\n",
       "\n",
       "    .dataframe thead th {\n",
       "        text-align: right;\n",
       "    }\n",
       "</style>\n",
       "<table border=\"1\" class=\"dataframe\">\n",
       "  <thead>\n",
       "    <tr style=\"text-align: right;\">\n",
       "      <th></th>\n",
       "      <th>titulo</th>\n",
       "      <th>tipo</th>\n",
       "      <th>autor</th>\n",
       "      <th>texto</th>\n",
       "      <th>nuevo_texto</th>\n",
       "      <th>Conteos</th>\n",
       "    </tr>\n",
       "  </thead>\n",
       "  <tbody>\n",
       "    <tr>\n",
       "      <th>0</th>\n",
       "      <td>la luz es como el agua</td>\n",
       "      <td>cuento</td>\n",
       "      <td>gabriel garcía márquez</td>\n",
       "      <td>navidad niños volvieron pedir bote remos acuer...</td>\n",
       "      <td>niños bote remos dijo papá totó años padres aq...</td>\n",
       "      <td>{'niños': 7, 'bote': 9, 'remos': 4, 'dijo': 9,...</td>\n",
       "    </tr>\n",
       "    <tr>\n",
       "      <th>1</th>\n",
       "      <td>un niño como yo</td>\n",
       "      <td>minicuento</td>\n",
       "      <td>gabriel garcía márquez</td>\n",
       "      <td>niño cinco años perdido madre muchedumbre feri...</td>\n",
       "      <td>niño años niño</td>\n",
       "      <td>{'niño': 2, 'años': 1}</td>\n",
       "    </tr>\n",
       "    <tr>\n",
       "      <th>2</th>\n",
       "      <td>la fotogenia del fantasma</td>\n",
       "      <td>minicuento</td>\n",
       "      <td>gabriel garcía márquez</td>\n",
       "      <td>fantasmas acomodándose nuevas circunstancias e...</td>\n",
       "      <td>fantasma tan ser fantasma ser fantasma años lu...</td>\n",
       "      <td>{'fantasma': 5, 'tan': 1, 'ser': 2, 'años': 1,...</td>\n",
       "    </tr>\n",
       "    <tr>\n",
       "      <th>3</th>\n",
       "      <td>el drama del desencantado</td>\n",
       "      <td>minicuento</td>\n",
       "      <td>gabriel garcía márquez</td>\n",
       "      <td>drama desencantado arrojó calle décimo piso me...</td>\n",
       "      <td>viendo aquella vida siempre puerta ser</td>\n",
       "      <td>{'viendo': 1, 'aquella': 1, 'vida': 1, 'siempr...</td>\n",
       "    </tr>\n",
       "    <tr>\n",
       "      <th>4</th>\n",
       "      <td>el almohadón de plumas</td>\n",
       "      <td>cuento</td>\n",
       "      <td>horacio quiroga</td>\n",
       "      <td>luna miel largo escalofrío rubia angelical tím...</td>\n",
       "      <td>largo noche jordán siempre casa aquella casa l...</td>\n",
       "      <td>{'largo': 6, 'noche': 5, 'jordán': 16, 'siempr...</td>\n",
       "    </tr>\n",
       "  </tbody>\n",
       "</table>\n",
       "</div>"
      ],
      "text/plain": [
       "                      titulo        tipo                   autor  \\\n",
       "0     la luz es como el agua      cuento  gabriel garcía márquez   \n",
       "1            un niño como yo  minicuento  gabriel garcía márquez   \n",
       "2  la fotogenia del fantasma  minicuento  gabriel garcía márquez   \n",
       "3  el drama del desencantado  minicuento  gabriel garcía márquez   \n",
       "4     el almohadón de plumas      cuento         horacio quiroga   \n",
       "\n",
       "                                               texto  \\\n",
       "0  navidad niños volvieron pedir bote remos acuer...   \n",
       "1  niño cinco años perdido madre muchedumbre feri...   \n",
       "2  fantasmas acomodándose nuevas circunstancias e...   \n",
       "3  drama desencantado arrojó calle décimo piso me...   \n",
       "4  luna miel largo escalofrío rubia angelical tím...   \n",
       "\n",
       "                                         nuevo_texto  \\\n",
       "0  niños bote remos dijo papá totó años padres aq...   \n",
       "1                                     niño años niño   \n",
       "2  fantasma tan ser fantasma ser fantasma años lu...   \n",
       "3             viendo aquella vida siempre puerta ser   \n",
       "4  largo noche jordán siempre casa aquella casa l...   \n",
       "\n",
       "                                             Conteos  \n",
       "0  {'niños': 7, 'bote': 9, 'remos': 4, 'dijo': 9,...  \n",
       "1                             {'niño': 2, 'años': 1}  \n",
       "2  {'fantasma': 5, 'tan': 1, 'ser': 2, 'años': 1,...  \n",
       "3  {'viendo': 1, 'aquella': 1, 'vida': 1, 'siempr...  \n",
       "4  {'largo': 6, 'noche': 5, 'jordán': 16, 'siempr...  "
      ]
     },
     "execution_count": 104,
     "metadata": {},
     "output_type": "execute_result"
    }
   ],
   "source": [
    "df_train_T = df_train.copy()\n",
    "df_train_T['nuevo_texto'] = df_train_T.texto.str.split().\\\n",
    "    apply(lambda texto: [w for w in texto if w in nuevo_vocabulario]).\\\n",
    "    apply(lambda x : ' '.join(x))\n",
    "df_train_T['Conteos']=df_train_T.nuevo_texto.str.split().apply(Counter)\n",
    "\n",
    "\n",
    "df_train_T.head()"
   ]
  },
  {
   "cell_type": "code",
   "execution_count": 105,
   "metadata": {},
   "outputs": [
    {
     "data": {
      "text/html": [
       "<div>\n",
       "<style scoped>\n",
       "    .dataframe tbody tr th:only-of-type {\n",
       "        vertical-align: middle;\n",
       "    }\n",
       "\n",
       "    .dataframe tbody tr th {\n",
       "        vertical-align: top;\n",
       "    }\n",
       "\n",
       "    .dataframe thead th {\n",
       "        text-align: right;\n",
       "    }\n",
       "</style>\n",
       "<table border=\"1\" class=\"dataframe\">\n",
       "  <thead>\n",
       "    <tr style=\"text-align: right;\">\n",
       "      <th></th>\n",
       "      <th>titulo</th>\n",
       "      <th>texto</th>\n",
       "      <th>nuevo_texto</th>\n",
       "      <th>nuevo_total</th>\n",
       "      <th>Conteos</th>\n",
       "    </tr>\n",
       "  </thead>\n",
       "  <tbody>\n",
       "    <tr>\n",
       "      <th>0</th>\n",
       "      <td>la melancolía del viajero</td>\n",
       "      <td>veces vuelven largo viaje conservan toda vida ...</td>\n",
       "      <td>largo vida solo vida ojos después dice tierra ...</td>\n",
       "      <td>19</td>\n",
       "      <td>{'largo': 1, 'vida': 2, 'solo': 1, 'ojos': 1, ...</td>\n",
       "    </tr>\n",
       "    <tr>\n",
       "      <th>1</th>\n",
       "      <td>el águila de ala cortada y la zorra</td>\n",
       "      <td>cierto día hombre capturó águila cortó alas so...</td>\n",
       "      <td>día hombre águila alas águila pasó hombre águi...</td>\n",
       "      <td>14</td>\n",
       "      <td>{'día': 1, 'hombre': 2, 'águila': 3, 'alas': 3...</td>\n",
       "    </tr>\n",
       "    <tr>\n",
       "      <th>2</th>\n",
       "      <td>los dos cazadores</td>\n",
       "      <td>cierto día mayo alegría tristeza encontraron o...</td>\n",
       "      <td>día tierra vida largo rato dos hacia dijo dos ...</td>\n",
       "      <td>25</td>\n",
       "      <td>{'día': 2, 'tierra': 1, 'vida': 1, 'largo': 1,...</td>\n",
       "    </tr>\n",
       "    <tr>\n",
       "      <th>3</th>\n",
       "      <td>maravillas de la voluntad</td>\n",
       "      <td>tres punto don pedro llegaba mesa saludaba cad...</td>\n",
       "      <td>cada ojos día casa dos cuarto después cada cad...</td>\n",
       "      <td>24</td>\n",
       "      <td>{'cada': 3, 'ojos': 4, 'día': 2, 'casa': 1, 'd...</td>\n",
       "    </tr>\n",
       "    <tr>\n",
       "      <th>4</th>\n",
       "      <td>la escopeta</td>\n",
       "      <td>noche cerrada estiré brazo encender lámpara me...</td>\n",
       "      <td>noche sangre luz tan cada puerta dos luz luego...</td>\n",
       "      <td>14</td>\n",
       "      <td>{'noche': 1, 'sangre': 1, 'luz': 2, 'tan': 1, ...</td>\n",
       "    </tr>\n",
       "  </tbody>\n",
       "</table>\n",
       "</div>"
      ],
      "text/plain": [
       "                                titulo  \\\n",
       "0            la melancolía del viajero   \n",
       "1  el águila de ala cortada y la zorra   \n",
       "2                    los dos cazadores   \n",
       "3            maravillas de la voluntad   \n",
       "4                          la escopeta   \n",
       "\n",
       "                                               texto  \\\n",
       "0  veces vuelven largo viaje conservan toda vida ...   \n",
       "1  cierto día hombre capturó águila cortó alas so...   \n",
       "2  cierto día mayo alegría tristeza encontraron o...   \n",
       "3  tres punto don pedro llegaba mesa saludaba cad...   \n",
       "4  noche cerrada estiré brazo encender lámpara me...   \n",
       "\n",
       "                                         nuevo_texto  nuevo_total  \\\n",
       "0  largo vida solo vida ojos después dice tierra ...           19   \n",
       "1  día hombre águila alas águila pasó hombre águi...           14   \n",
       "2  día tierra vida largo rato dos hacia dijo dos ...           25   \n",
       "3  cada ojos día casa dos cuarto después cada cad...           24   \n",
       "4  noche sangre luz tan cada puerta dos luz luego...           14   \n",
       "\n",
       "                                             Conteos  \n",
       "0  {'largo': 1, 'vida': 2, 'solo': 1, 'ojos': 1, ...  \n",
       "1  {'día': 1, 'hombre': 2, 'águila': 3, 'alas': 3...  \n",
       "2  {'día': 2, 'tierra': 1, 'vida': 1, 'largo': 1,...  \n",
       "3  {'cada': 3, 'ojos': 4, 'día': 2, 'casa': 1, 'd...  \n",
       "4  {'noche': 1, 'sangre': 1, 'luz': 2, 'tan': 1, ...  "
      ]
     },
     "execution_count": 105,
     "metadata": {},
     "output_type": "execute_result"
    }
   ],
   "source": [
    "df_test_T = df_test.copy()\n",
    "df_test_T['nuevo_texto']=df_test_T.texto.str.split().\\\n",
    "    apply(lambda texto: [w for w in texto if w in nuevo_vocabulario]).\\\n",
    "    apply(lambda x : ' '.join(x))\n",
    "df_test_T['nuevo_total']=df_test_T.nuevo_texto.str.split().apply(len)\n",
    "df_test_T['Conteos']=df_test_T.nuevo_texto.str.split().apply(Counter)\n",
    "\n",
    "\n",
    "df_test_T.head()"
   ]
  },
  {
   "cell_type": "markdown",
   "metadata": {},
   "source": [
    "#### Vocabulario"
   ]
  },
  {
   "cell_type": "code",
   "execution_count": 106,
   "metadata": {},
   "outputs": [],
   "source": [
    "voc_dict = OrderedDict(zip(nuevo_vocabulario,range(len(nuevo_vocabulario))))\n",
    "v = list(voc_dict.keys())"
   ]
  },
  {
   "cell_type": "markdown",
   "metadata": {},
   "source": [
    "### Creación de especificación"
   ]
  },
  {
   "cell_type": "markdown",
   "metadata": {},
   "source": [
    "#### Conteos"
   ]
  },
  {
   "cell_type": "markdown",
   "metadata": {},
   "source": [
    "#### Variables"
   ]
  },
  {
   "cell_type": "code",
   "execution_count": 107,
   "metadata": {},
   "outputs": [],
   "source": [
    "# Autor\n",
    "autores = set(df_train_T.autor)\n",
    "A = mb.Var('A',autores)\n",
    "# Tipo \n",
    "tipos = set(df_train_T.tipo)\n",
    "T = mb.Var('T',tipos)\n",
    "# W_i\n",
    "W = {}\n",
    "for w in voc_dict:    # vocabulario reducido\n",
    "    W[w] = mb.Var(w,set([0,1]))"
   ]
  },
  {
   "cell_type": "markdown",
   "metadata": {},
   "source": [
    "#### Identificación de parámetros (estadísticas)"
   ]
  },
  {
   "cell_type": "markdown",
   "metadata": {},
   "source": [
    "#### Método"
   ]
  },
  {
   "cell_type": "markdown",
   "metadata": {},
   "source": [
    "1. Descomposición exacta: $P(A)P(T|A)P(W|AT)$\n",
    "2. Calcular las estadísticas por cada distribución de la descomposición\n",
    "3. Para la variable Autor $P(A)$:\n",
    "    - 3.1 Contar el número total de ocurrencias de autores en Train: $n_a$.\n",
    "    - 3.2 Contar el número de ocurrencias de cada autor en Train: $n_A = \\sum_{a \\in A} n_a$.\n",
    "    - 3.3 Dividir este número entre el número total de ocurrencias de autores en Train: $\\displaystyle \\frac{n_a}{n_A}$.\n",
    "4. Para la variable Tipo $P(T|A)$:\n",
    "    - 4.1 Obtener el conjunto de autores (valores únicos) $a$; entradas a la Tabla.\n",
    "    - 4.2 Obtener el conjunto de tipos (valores únicos) $t$; estas son las salidas de la Tabla.\n",
    "    - 4.3 Calcular el producto cartesiano de las combinaciones posibles (a,t).\n",
    "    - 4.4 Contar el número de ocurrencias totales de cada $t$ por cada autor: $n^t_a$.\n",
    "    - 4.5 Dividir este número entre el número total de tipos por autor: $\\displaystyle \\frac{n^t_a}{\\sum_{t \\in T} n^t_a}$.\n",
    "    - 4.6 Aplicar la corrección de Laplace para evitar probabilidades en $0$.\n",
    "5. Para las variables W (palabras) $P(W|AT)$: **NOTA** se trata de calcular N Tablas, donde N es el tamaño del vocabulario.\n",
    "    - 5.1 Calcular el producto cartesiano de las combinaciones posibles (a,j); estas son las entradas a cada Tabla.\n",
    "    - 5.2 Por cada combinación, calcular la probabilidad de cada palabra del vocabulario, en función de su ocurrencia en esa combinación, aplicando la corrección de Laplace. "
   ]
  },
  {
   "cell_type": "markdown",
   "metadata": {},
   "source": [
    "#### $P(A)$"
   ]
  },
  {
   "cell_type": "code",
   "execution_count": 108,
   "metadata": {},
   "outputs": [
    {
     "data": {
      "text/plain": [
       "{('josé saramago',): 0.06666666666666667,\n",
       " ('gibrán jalil gibrán',): 0.16666666666666666,\n",
       " ('jean de la fontaine',): 0.13333333333333333,\n",
       " ('carlos fuentes',): 0.06666666666666667,\n",
       " ('gabriel garcía márquez',): 0.13333333333333333,\n",
       " ('esopo',): 0.1,\n",
       " ('juan rulfo',): 0.06666666666666667,\n",
       " ('horacio quiroga',): 0.06666666666666667,\n",
       " ('alfonso reyes',): 0.13333333333333333,\n",
       " ('juan carlos onetti',): 0.06666666666666667}"
      ]
     },
     "execution_count": 108,
     "metadata": {},
     "output_type": "execute_result"
    }
   ],
   "source": [
    "na = Counter(df_train_T.autor)\n",
    "nA = np.sum(list(na.values()))\n",
    "tA = {}\n",
    "\n",
    "for a in A.values:\n",
    "    tA[(a,)] = na[a] / nA\n",
    "\n",
    "# Dicionario de valores de probabilidad (tabla de probabilidades)\n",
    "PA = mb.Distrib(table = tA, vars=(A,))\n",
    "PA.table"
   ]
  },
  {
   "cell_type": "markdown",
   "metadata": {},
   "source": [
    "#### $P(T|A)$"
   ]
  },
  {
   "cell_type": "code",
   "execution_count": 109,
   "metadata": {},
   "outputs": [],
   "source": [
    "# Se corrige la misma tabla que se envía como argumento (no se crea una nueva).\n",
    "# Solo tablas P(O|H)\n",
    "def Laplace_gral(tabla):\n",
    "    card_H = len(tabla[list(tabla.keys())[0]]) \n",
    "    \n",
    "    for k in tabla.keys():\n",
    "        registro = tabla[k]\n",
    "        n_j = np.sum(list(registro.values()))\n",
    "        for i in registro.keys():\n",
    "            tabla[k][i] = (registro[i] + 1) / (n_j + card_H)"
   ]
  },
  {
   "cell_type": "code",
   "execution_count": 110,
   "metadata": {},
   "outputs": [],
   "source": [
    "# Ocurrencias (conteos) de cada combinación (tipo,autor)\n",
    "n_ta = Counter(zip(df_train_T.autor,df_train_T.tipo))\n",
    "\n",
    "tT_A = {}\n",
    "\n",
    "for a in A.values:\n",
    "    tT_A[(a,)] = {}\n",
    "    for t in T.values:\n",
    "        if (a,t) in n_ta.keys():\n",
    "            tT_A[(a,)][(t,)] = n_ta[(a,t)]\n",
    "        else:\n",
    "            tT_A[(a,)][(t,)] = 0\n",
    "            \n",
    "Laplace_gral(tT_A)\n",
    "\n",
    "PT_A = mb.Distrib(tT_A, (T,), (A,))"
   ]
  },
  {
   "cell_type": "markdown",
   "metadata": {},
   "source": [
    "#### $\\forall W_i \\in W, P(W_i|AT)$"
   ]
  },
  {
   "cell_type": "code",
   "execution_count": 111,
   "metadata": {},
   "outputs": [],
   "source": [
    "# Conteos de palabras en nuevo_texto por pares (a,t) en el data frame de train\n",
    "AT = list(product(*[list(A.values), list(T.values)]))\n",
    "conteo_w = dict(df_train_T.Conteos)\n",
    "pares_train = list(zip(df_train_T.autor,df_train_T.tipo))\n",
    "\n",
    "nw_at = {}\n",
    "\n",
    "for i in conteo_w.keys():\n",
    "    if not pares_train[i] in nw_at.keys():\n",
    "        nw_at[pares_train[i]] = {}\n",
    "        \n",
    "    for w in W.keys():\n",
    "        if w in conteo_w[i]:\n",
    "            if w in nw_at[pares_train[i]]:\n",
    "                nw_at[pares_train[i]][w] += conteo_w[i][w]\n",
    "            else:\n",
    "                nw_at[pares_train[i]][w] = conteo_w[i][w]\n",
    "        else:\n",
    "            nw_at[pares_train[i]][w] = 0 \n",
    "\n",
    "for at in AT:\n",
    "    if not at in nw_at.keys():\n",
    "        nw_at[at] = {}\n",
    "        for w in W.keys():\n",
    "            nw_at[at][w] = 0\n",
    "\n",
    "PW_AT = {}\n",
    "\n",
    "for w in W.keys():\n",
    "    tWi_AT = {}\n",
    "    for at in AT:\n",
    "        tWi_AT[at] = {(0,):0, (1,):nw_at[at][w]}\n",
    "    \n",
    "    Laplace_gral(tWi_AT)\n",
    "    PW_AT[w] = mb.Distrib(tWi_AT, (W[w],), (A,T))\n"
   ]
  },
  {
   "cell_type": "markdown",
   "metadata": {},
   "source": [
    "## Preguntas"
   ]
  },
  {
   "cell_type": "markdown",
   "metadata": {},
   "source": [
    "### Funciones"
   ]
  },
  {
   "cell_type": "code",
   "execution_count": 127,
   "metadata": {},
   "outputs": [],
   "source": [
    "def autor_vocab(autor:str) -> tuple:\n",
    "    dcont = df_train_T.loc[df_train_T['autor'] == autor, 'Conteos'].iloc[0]\n",
    "    wt = []\n",
    "    Pwt = []\n",
    "    for w in dcont:\n",
    "        wt.append(W[w])\n",
    "        Pwt.append(PW_AT[w])\n",
    "            \n",
    "    return wt, Pwt"
   ]
  },
  {
   "cell_type": "code",
   "execution_count": 128,
   "metadata": {},
   "outputs": [],
   "source": [
    "def test_vocab(titulo:str) -> tuple:\n",
    "    dcont = df_test_T.loc[df_test_T['titulo'] == titulo, 'Conteos'].iloc[0]\n",
    "    wt = []\n",
    "    PWt = []\n",
    "    for w in dcont:\n",
    "        wt.append(W[w])\n",
    "        PWt.append(PW_AT[w])\n",
    "            \n",
    "    return wt, PWt"
   ]
  },
  {
   "cell_type": "code",
   "execution_count": 129,
   "metadata": {},
   "outputs": [],
   "source": [
    "def create_Q(wt, Pwt):\n",
    "    vars_set = set([A,T] + wt)\n",
    "    dist_set = tuple([PA, PT_A] + Pwt)\n",
    "    \n",
    "    return mb.Question(mb.Specification(vars_set, dist_set))"
   ]
  },
  {
   "cell_type": "code",
   "execution_count": 130,
   "metadata": {},
   "outputs": [],
   "source": [
    "def grafica_a(x, y, title, label, x_label, y_label, marker_t, marker):\n",
    "    fig, ax = plt.subplots()\n",
    "    ax.plot(x, y,label=label)\n",
    "    ax.scatter(marker[0], marker[1], marker='x',label='Respuesta', color='red') \n",
    "    ax.scatter(marker_t[0], marker_t[1], marker='x',label='test', color='blue') \n",
    "    \n",
    "\n",
    "    ax.set_title(title)\n",
    "    ax.set_xlabel(x_label)\n",
    "    ax.set_ylabel(y_label)\n",
    "    ax.legend(loc = 'upper left')\n",
    "    \n",
    "    plt.xticks(rotation=45, ha='right', fontsize=12)\n",
    "    plt.grid()\n",
    "    plt.tight_layout() \n",
    "    plt.show()"
   ]
  },
  {
   "cell_type": "code",
   "execution_count": 131,
   "metadata": {},
   "outputs": [],
   "source": [
    "def grafica(x,y,title,x_label,y_label):\n",
    "    fig, ax = plt.subplots()\n",
    "    ax.plot(x, y)\n",
    "    ax.set_title(title)\n",
    "    ax.set_xlabel(x_label)\n",
    "    ax.set_ylabel(y_label)\n",
    "    \n",
    "    plt.xticks(rotation=45, ha='right', fontsize=12)\n",
    "    plt.grid()\n",
    "    plt.tight_layout() \n",
    "    plt.show()"
   ]
  },
  {
   "cell_type": "code",
   "execution_count": 132,
   "metadata": {},
   "outputs": [],
   "source": [
    "def grafica_n(ys:list, x:list, labels:list,  title:str, x_label:str, y_label:str) -> None:\n",
    "    fig, ax = plt.subplots()\n",
    "    \n",
    "    for i,y in enumerate(ys):\n",
    "        ax.plot(x, y, label = labels[i])\n",
    "    \n",
    "    ax.set_title(title)\n",
    "    ax.set_xlabel(x_label)\n",
    "    ax.set_ylabel(y_label)\n",
    "    ax.legend(loc = 'upper right')\n",
    "    \n",
    "    plt.xticks(rotation=45, ha='right', fontsize=12)\n",
    "    plt.grid()\n",
    "    plt.tight_layout()\n",
    "    plt.show()"
   ]
  },
  {
   "cell_type": "markdown",
   "metadata": {},
   "source": [
    "### 1. ¿Quién escribió \"El caballo y el Lobo\"?"
   ]
  },
  {
   "cell_type": "markdown",
   "metadata": {},
   "source": [
    "**Pregunta:**\n",
    "$ P(A | W_0, W_1, \\dots, W_n) $, donde se busca el valor más probable de $A$."
   ]
  },
  {
   "cell_type": "markdown",
   "metadata": {},
   "source": [
    "#### Propuesta 0"
   ]
  },
  {
   "cell_type": "code",
   "execution_count": 101,
   "metadata": {},
   "outputs": [
    {
     "ename": "NameError",
     "evalue": "name 'A' is not defined",
     "output_type": "error",
     "traceback": [
      "\u001b[0;31m---------------------------------------------------------------------------\u001b[0m",
      "\u001b[0;31mNameError\u001b[0m                                 Traceback (most recent call last)",
      "Cell \u001b[0;32mIn[101], line 5\u001b[0m\n\u001b[1;32m      3\u001b[0m marker \u001b[38;5;241m=\u001b[39m []\n\u001b[1;32m      4\u001b[0m marker_t \u001b[38;5;241m=\u001b[39m []\n\u001b[0;32m----> 5\u001b[0m \u001b[38;5;28mvars\u001b[39m \u001b[38;5;241m=\u001b[39m \u001b[38;5;28mset\u001b[39m([\u001b[43mA\u001b[49m,T])\n\u001b[1;32m      6\u001b[0m descomp \u001b[38;5;241m=\u001b[39m [PA, PT_A]\n\u001b[1;32m      7\u001b[0m \u001b[38;5;28;01mfor\u001b[39;00m w \u001b[38;5;129;01min\u001b[39;00m W:\n",
      "\u001b[0;31mNameError\u001b[0m: name 'A' is not defined"
     ]
    }
   ],
   "source": [
    "tests = ['el caballo y el lobo','el impostor', 'la escopeta','el león y el pastor','la marcha del caracol']\n",
    "autor = ['jean de la fontaine', 'gibrán jalil gibrán', 'juan carlos onetti','esopo','carlos fuentes']\n",
    "marker = []\n",
    "marker_t = []\n",
    "vars = set([A,T])\n",
    "descomp = [PA, PT_A]\n",
    "for w in W:\n",
    "    vars.add(W[w])\n",
    "    descomp.append(PW_AT[w])\n",
    "    \n",
    "Q = mb.Question(mb.Specification(vars,tuple(descomp)))\n",
    "\n",
    "for i,test in enumerate(tests):\n",
    "    print(f\"\\nCargando test {i+1}\")\n",
    "    Wo, dWo = test_vocab(test)\n",
    "    vWo = tuple([1 for i in range(len(Wo))])\n",
    "    va = None\n",
    "    for a in A.values:\n",
    "        pa = Q.Query(vars=(A,),indep=(tuple(Wo)),vars_values=(a,),indep_values=vWo)\n",
    "        print(f\"\\tP({a}) = {pa}\")"
   ]
  },
  {
   "cell_type": "markdown",
   "metadata": {},
   "source": [
    "#### Propuesta 1"
   ]
  },
  {
   "cell_type": "markdown",
   "metadata": {},
   "source": [
    "$W^a = \\{w^a_1,w^a_2,\\dots,w^a_{n_a}\\}$, donde $a \\in A$ y $w^a_i$ son las palabras de $a$ en el corpus del entrenamiento.\n",
    "\n",
    "$W^o = \\{w^o_1, w^o_2,\\dots,w^o_{n_o}\\}$, donde $w^o_i$ son las palabras observadas en el test que estan presentes en el corpus del entrenamiento.\n",
    "\n",
    "$W^k = W^o \\cup W^a$"
   ]
  },
  {
   "cell_type": "markdown",
   "metadata": {},
   "source": [
    "**Usando la exacta:**\n",
    "- $P(A|W^k)$, donde \n",
    "    - $w_i = 1 \\text{ si } w_i \\in W^o$\n",
    "    - $w_i = 0 \\text{ si } w_i \\in W^a - W^o$"
   ]
  },
  {
   "cell_type": "code",
   "execution_count": 133,
   "metadata": {},
   "outputs": [
    {
     "ename": "KeyError",
     "evalue": "('josé saramago', None)",
     "output_type": "error",
     "traceback": [
      "\u001b[0;31m---------------------------------------------------------------------------\u001b[0m",
      "\u001b[0;31mKeyError\u001b[0m                                  Traceback (most recent call last)",
      "Cell \u001b[0;32mIn[133], line 32\u001b[0m\n\u001b[1;32m     29\u001b[0m         values_Wk\u001b[38;5;241m.\u001b[39mappend(\u001b[38;5;241m0\u001b[39m)\n\u001b[1;32m     30\u001b[0m values_Wk \u001b[38;5;241m=\u001b[39m \u001b[38;5;28mtuple\u001b[39m(values_Wk)\n\u001b[0;32m---> 32\u001b[0m pa \u001b[38;5;241m=\u001b[39m \u001b[43mQ\u001b[49m\u001b[38;5;241;43m.\u001b[39;49m\u001b[43mQuery\u001b[49m\u001b[43m(\u001b[49m\u001b[38;5;28;43mvars\u001b[39;49m\u001b[38;5;241;43m=\u001b[39;49m\u001b[43m(\u001b[49m\u001b[43mA\u001b[49m\u001b[43m,\u001b[49m\u001b[43m)\u001b[49m\u001b[43m,\u001b[49m\u001b[43mindep\u001b[49m\u001b[38;5;241;43m=\u001b[39;49m\u001b[38;5;28;43mtuple\u001b[39;49m\u001b[43m(\u001b[49m\u001b[43mWk\u001b[49m\u001b[43m)\u001b[49m\u001b[43m,\u001b[49m\u001b[43mvars_values\u001b[49m\u001b[38;5;241;43m=\u001b[39;49m\u001b[43m(\u001b[49m\u001b[43ma\u001b[49m\u001b[43m,\u001b[49m\u001b[43m)\u001b[49m\u001b[43m,\u001b[49m\u001b[43mindep_values\u001b[49m\u001b[38;5;241;43m=\u001b[39;49m\u001b[43mvalues_Wk\u001b[49m\u001b[43m)\u001b[49m\n\u001b[1;32m     34\u001b[0m pa_l\u001b[38;5;241m.\u001b[39mappend(pa) \n\u001b[1;32m     36\u001b[0m \u001b[38;5;28;01mif\u001b[39;00m pa \u001b[38;5;241m>\u001b[39m\u001b[38;5;241m=\u001b[39m p:\n",
      "File \u001b[0;32m~/Desktop/Tesis/mib_v2_3_2/question.py:74\u001b[0m, in \u001b[0;36mQuestion.Query\u001b[0;34m(self, vars, indep, vars_values, indep_values, aproximation, N, process_n)\u001b[0m\n\u001b[1;32m     72\u001b[0m \u001b[38;5;28;01mif\u001b[39;00m \u001b[38;5;129;01mnot\u001b[39;00m aproximation:\n\u001b[1;32m     73\u001b[0m     mib \u001b[38;5;241m=\u001b[39m Mib(\u001b[38;5;28mself\u001b[39m\u001b[38;5;241m.\u001b[39mds)\n\u001b[0;32m---> 74\u001b[0m     \u001b[38;5;28;01mreturn\u001b[39;00m \u001b[38;5;28;43mself\u001b[39;49m\u001b[38;5;241;43m.\u001b[39;49m\u001b[43m_Q\u001b[49m\u001b[43m(\u001b[49m\u001b[43mmib\u001b[49m\u001b[43m,\u001b[49m\u001b[43m \u001b[49m\u001b[38;5;28;43mvars\u001b[39;49m\u001b[43m,\u001b[49m\u001b[43m \u001b[49m\u001b[43mindep\u001b[49m\u001b[43m,\u001b[49m\u001b[43m \u001b[49m\u001b[43mvars_values\u001b[49m\u001b[43m,\u001b[49m\u001b[43m \u001b[49m\u001b[43mindep_values\u001b[49m\u001b[43m)\u001b[49m\n\u001b[1;32m     75\u001b[0m \u001b[38;5;28;01melse\u001b[39;00m:\n\u001b[1;32m     76\u001b[0m     \u001b[38;5;28;01mif\u001b[39;00m process_n \u001b[38;5;241m==\u001b[39m \u001b[38;5;241m1\u001b[39m:\n",
      "File \u001b[0;32m~/Desktop/Tesis/mib_v2_3_2/question.py:52\u001b[0m, in \u001b[0;36mQuestion._Q\u001b[0;34m(self, mib, vars, indep, vars_values, indep_values)\u001b[0m\n\u001b[1;32m     50\u001b[0m \u001b[38;5;28;01melse\u001b[39;00m:\n\u001b[1;32m     51\u001b[0m     \u001b[38;5;28;01mif\u001b[39;00m vars_values \u001b[38;5;129;01mand\u001b[39;00m indep_values:\n\u001b[0;32m---> 52\u001b[0m         \u001b[38;5;28;01mreturn\u001b[39;00m \u001b[43mmib\u001b[49m\u001b[38;5;241;43m.\u001b[39;49m\u001b[43mcond\u001b[49m\u001b[43m(\u001b[49m\u001b[38;5;28;43mvars\u001b[39;49m\u001b[43m,\u001b[49m\u001b[43m \u001b[49m\u001b[43mvars_values\u001b[49m\u001b[43m,\u001b[49m\u001b[43m \u001b[49m\u001b[43mindep\u001b[49m\u001b[43m,\u001b[49m\u001b[43m \u001b[49m\u001b[43mindep_values\u001b[49m\u001b[43m)\u001b[49m\n\u001b[1;32m     53\u001b[0m     \u001b[38;5;28;01melif\u001b[39;00m vars_values \u001b[38;5;129;01mand\u001b[39;00m \u001b[38;5;129;01mnot\u001b[39;00m indep_values:\n\u001b[1;32m     54\u001b[0m         \u001b[38;5;28;01mreturn\u001b[39;00m mib\u001b[38;5;241m.\u001b[39mobs_inference(\u001b[38;5;28mvars\u001b[39m, vars_values, indep)\n",
      "File \u001b[0;32m~/Desktop/Tesis/mib_v2_3_2/mib.py:107\u001b[0m, in \u001b[0;36mMib.cond\u001b[0;34m(self, vars, values, indep, indep_values)\u001b[0m\n\u001b[1;32m    106\u001b[0m \u001b[38;5;28;01mdef\u001b[39;00m \u001b[38;5;21mcond\u001b[39m(\u001b[38;5;28mself\u001b[39m, \u001b[38;5;28mvars\u001b[39m:\u001b[38;5;28mtuple\u001b[39m, values:\u001b[38;5;28mtuple\u001b[39m, indep:\u001b[38;5;28mtuple\u001b[39m, indep_values:\u001b[38;5;28mtuple\u001b[39m) \u001b[38;5;241m-\u001b[39m\u001b[38;5;241m>\u001b[39m \u001b[38;5;28mfloat\u001b[39m:\n\u001b[0;32m--> 107\u001b[0m     p_var_indep \u001b[38;5;241m=\u001b[39m \u001b[38;5;28;43mself\u001b[39;49m\u001b[38;5;241;43m.\u001b[39;49m\u001b[43mjoint_marginal\u001b[49m\u001b[43m(\u001b[49m\u001b[38;5;28;43mvars\u001b[39;49m\u001b[43m,\u001b[49m\u001b[43m \u001b[49m\u001b[43mvalues\u001b[49m\u001b[43m,\u001b[49m\u001b[43m \u001b[49m\u001b[43mindep\u001b[49m\u001b[43m,\u001b[49m\u001b[43m \u001b[49m\u001b[43mindep_values\u001b[49m\u001b[43m)\u001b[49m\n\u001b[1;32m    108\u001b[0m     p_indep \u001b[38;5;241m=\u001b[39m \u001b[38;5;28mself\u001b[39m\u001b[38;5;241m.\u001b[39mmarginal(indep, indep_values)\n\u001b[1;32m    109\u001b[0m     \u001b[38;5;28;01mreturn\u001b[39;00m p_var_indep \u001b[38;5;241m/\u001b[39m p_indep\n",
      "File \u001b[0;32m~/Desktop/Tesis/mib_v2_3_2/mib.py:104\u001b[0m, in \u001b[0;36mMib.joint_marginal\u001b[0;34m(self, vars1, values1, vars2, values2)\u001b[0m\n\u001b[1;32m    102\u001b[0m knwon \u001b[38;5;241m=\u001b[39m \u001b[38;5;28mset\u001b[39m(vars1)\u001b[38;5;241m.\u001b[39munion(vars2)\n\u001b[1;32m    103\u001b[0m hidden \u001b[38;5;241m=\u001b[39m \u001b[38;5;28mself\u001b[39m\u001b[38;5;241m.\u001b[39mds\u001b[38;5;241m.\u001b[39mvars \u001b[38;5;241m-\u001b[39m knwon\n\u001b[0;32m--> 104\u001b[0m \u001b[38;5;28;01mreturn\u001b[39;00m \u001b[38;5;28;43mself\u001b[39;49m\u001b[38;5;241;43m.\u001b[39;49m\u001b[43mprobability\u001b[49m\u001b[43m(\u001b[49m\u001b[43mknwon\u001b[49m\u001b[43m,\u001b[49m\u001b[43m \u001b[49m\u001b[43mhidden\u001b[49m\u001b[43m)\u001b[49m\n",
      "File \u001b[0;32m~/Desktop/Tesis/mib_v2_3_2/mib.py:55\u001b[0m, in \u001b[0;36mMib.probability\u001b[0;34m(self, knwon, hidden_vars)\u001b[0m\n\u001b[1;32m     53\u001b[0m     p_i \u001b[38;5;241m=\u001b[39m \u001b[38;5;241m1\u001b[39m\n\u001b[1;32m     54\u001b[0m     \u001b[38;5;28;01mfor\u001b[39;00m d \u001b[38;5;129;01min\u001b[39;00m descomp:\n\u001b[0;32m---> 55\u001b[0m         p_i \u001b[38;5;241m*\u001b[39m\u001b[38;5;241m=\u001b[39m \u001b[43md\u001b[49m\u001b[38;5;241;43m.\u001b[39;49m\u001b[43mP\u001b[49m\u001b[43m(\u001b[49m\u001b[43m)\u001b[49m\n\u001b[1;32m     57\u001b[0m     \u001b[38;5;28msum\u001b[39m \u001b[38;5;241m+\u001b[39m\u001b[38;5;241m=\u001b[39m p_i\n\u001b[1;32m     59\u001b[0m \u001b[38;5;28mself\u001b[39m\u001b[38;5;241m.\u001b[39mds\u001b[38;5;241m.\u001b[39mresetVars()\n",
      "File \u001b[0;32m~/Desktop/Tesis/mib_v2_3_2/distrib.py:26\u001b[0m, in \u001b[0;36mDistrib.P\u001b[0;34m(self)\u001b[0m\n\u001b[1;32m     24\u001b[0m     \u001b[38;5;28;01mreturn\u001b[39;00m \u001b[38;5;28mself\u001b[39m\u001b[38;5;241m.\u001b[39m_jointP()\n\u001b[1;32m     25\u001b[0m \u001b[38;5;28;01melse\u001b[39;00m:\n\u001b[0;32m---> 26\u001b[0m     \u001b[38;5;28;01mreturn\u001b[39;00m \u001b[38;5;28;43mself\u001b[39;49m\u001b[38;5;241;43m.\u001b[39;49m\u001b[43m_condP\u001b[49m\u001b[43m(\u001b[49m\u001b[43m)\u001b[49m\n",
      "File \u001b[0;32m~/Desktop/Tesis/mib_v2_3_2/distrib.py:35\u001b[0m, in \u001b[0;36mDistrib._condP\u001b[0;34m(self)\u001b[0m\n\u001b[1;32m     33\u001b[0m vars_key \u001b[38;5;241m=\u001b[39m [v\u001b[38;5;241m.\u001b[39mevent \u001b[38;5;28;01mfor\u001b[39;00m v \u001b[38;5;129;01min\u001b[39;00m \u001b[38;5;28mself\u001b[39m\u001b[38;5;241m.\u001b[39mvars]\n\u001b[1;32m     34\u001b[0m indep_key \u001b[38;5;241m=\u001b[39m [v\u001b[38;5;241m.\u001b[39mevent \u001b[38;5;28;01mfor\u001b[39;00m v \u001b[38;5;129;01min\u001b[39;00m \u001b[38;5;28mself\u001b[39m\u001b[38;5;241m.\u001b[39mparents]\n\u001b[0;32m---> 35\u001b[0m \u001b[38;5;28;01mreturn\u001b[39;00m \u001b[38;5;28;43mself\u001b[39;49m\u001b[38;5;241;43m.\u001b[39;49m\u001b[43mtable\u001b[49m\u001b[43m[\u001b[49m\u001b[38;5;28;43mtuple\u001b[39;49m\u001b[43m(\u001b[49m\u001b[43mindep_key\u001b[49m\u001b[43m)\u001b[49m\u001b[43m]\u001b[49m[\u001b[38;5;28mtuple\u001b[39m(vars_key)]\n",
      "\u001b[0;31mKeyError\u001b[0m: ('josé saramago', None)"
     ]
    }
   ],
   "source": [
    "tests = ['el caballo y el lobo','el impostor', 'la escopeta','el león y el pastor','la marcha del caracol']\n",
    "autor = ['jean de la fontaine', 'gibrán jalil gibrán', 'juan carlos onetti','esopo','carlos fuentes']\n",
    "palabras = []\n",
    "marker = []\n",
    "marker_t = []\n",
    "test_n = 10\n",
    "\n",
    "autores = list(A.values)\n",
    "y_test = []\n",
    "for i,test in enumerate(tests):\n",
    "    Wo, dWo = test_vocab(test)\n",
    "    count = 0\n",
    "    p = 0\n",
    "    pa_l = []\n",
    "    va = None\n",
    "    palabras_a = []\n",
    "    for a in autores: \n",
    "        Wa, dWa = autor_vocab(a)\n",
    "        # Wa, dWa = [],[]\n",
    "        Wk = list(set(Wo).union(set(Wa)))\n",
    "        dWk = list(set(dWo).union(set(dWa)))\n",
    "        Q = create_Q(Wk, dWk)\n",
    "        values_Wk = []\n",
    "        palabras_a.append(len(Wk))\n",
    "        for wki in Wk:\n",
    "            if wki in Wo:\n",
    "                values_Wk.append(1)\n",
    "            else:\n",
    "                values_Wk.append(0)\n",
    "        values_Wk = tuple(values_Wk)\n",
    "            \n",
    "        pa = Q.Query(vars=(A,),indep=tuple(Wk),vars_values=(a,),indep_values=values_Wk)\n",
    "    \n",
    "        pa_l.append(pa) \n",
    "        \n",
    "        if pa >= p:\n",
    "            p = pa\n",
    "            va = a\n",
    "        \n",
    "        if a == autor[i]:\n",
    "            marker.append([a, pa])\n",
    "    palabras.append(palabras_a)\n",
    "    marker_t.append([va, p])\n",
    "    y_test.append(pa_l.copy())\n"
   ]
  },
  {
   "cell_type": "code",
   "execution_count": null,
   "metadata": {},
   "outputs": [
    {
     "data": {
      "image/png": "[encoded data removed]",
      "text/plain": [
       "<Figure size 640x480 with 1 Axes>"
      ]
     },
     "metadata": {},
     "output_type": "display_data"
    },
    {
     "name": "stdout",
     "output_type": "stream",
     "text": [
      "[1, 1, 1, 1, 1, 1, 1, 1, 1, 1]\n"
     ]
    }
   ],
   "source": [
    "i = 0\n",
    "grafica(autores,palabras[i],f'palabras para {tests[i]}','tests','|Wk|')\n",
    "print(palabras[i])"
   ]
  },
  {
   "cell_type": "code",
   "execution_count": null,
   "metadata": {},
   "outputs": [
    {
     "data": {
      "image/png": "[encoded data removed]",
      "text/plain": [
       "<Figure size 640x480 with 1 Axes>"
      ]
     },
     "metadata": {},
     "output_type": "display_data"
    }
   ],
   "source": [
    "i = 0\n",
    "titulo = f'Distribución de autores'\n",
    "y = y_test[i]\n",
    "label = tests[i]\n",
    "\n",
    "grafica_a(autores,y,titulo,label,'autores','p', marker_t[i],marker[i])"
   ]
  },
  {
   "cell_type": "code",
   "execution_count": null,
   "metadata": {},
   "outputs": [
    {
     "data": {
      "text/plain": [
       "0.2"
      ]
     },
     "execution_count": 50,
     "metadata": {},
     "output_type": "execute_result"
    }
   ],
   "source": [
    "pr = 0\n",
    "for i in range(len(marker)):\n",
    "    if marker_t[i] == marker[i]:\n",
    "        pr += 1\n",
    "pr / len(tests)"
   ]
  },
  {
   "cell_type": "markdown",
   "metadata": {},
   "source": [
    "#### Propuesta 2"
   ]
  },
  {
   "cell_type": "markdown",
   "metadata": {},
   "source": [
    "$W^o = \\{w^o_1, w^o_2,\\dots,w^o_{n_o}\\}$, donde $w^o_i$ son las palabras observadas en el test que estan presentes en el corpus del entrenamiento."
   ]
  },
  {
   "cell_type": "markdown",
   "metadata": {},
   "source": [
    "**Usando aproximación:**\n",
    "- $P(A|W^o)$, donde \n",
    "    - $\\forall w^o_i \\in W^o, w^o_i = 1$"
   ]
  },
  {
   "cell_type": "code",
   "execution_count": null,
   "metadata": {},
   "outputs": [],
   "source": [
    "tests = ['la melancolía del viajero']\n",
    "autor = ['jean de la fontaine']\n",
    "Ns = [100000]\n",
    "marker_N = []\n",
    "marker_t_N = []\n",
    "test_n = 1\n",
    "autores = list(A.values)\n",
    "p_test_N = []\n",
    "\n",
    "for i,test in enumerate(tests):\n",
    "    p = 0\n",
    "    va = None\n",
    "    Wo,dWo = test_vocab(test)\n",
    "    Q = create_Q(Wo,dWo)\n",
    "    Wo = tuple(Wo+[T])\n",
    "    vWo = tuple([1 for k in range(len(Wo))]+['minicuento'])\n",
    "    for Ni in Ns:\n",
    "        p_test = []\n",
    "        for a in autores:\n",
    "            pa = 0\n",
    "            for j in range(test_n):\n",
    "                pa_i = Q.Query(vars=(A,),indep=Wo,vars_values=(a,),indep_values=vWo,aproximation=True,N=Ni,process_n=4)\n",
    "                print(pa_i)\n",
    "                pa += pa_i\n",
    "            p_test.append(pa/test_n)\n",
    "            \n",
    "            if pa > p:\n",
    "                p = pa\n",
    "                va = a\n",
    "            \n",
    "            if a == autor[i]:\n",
    "                marker_N.append([a,pa])\n",
    "        marker_t_N.append([va,p])  \n",
    "        p_test_N.append(p_test)\n",
    "\n"
   ]
  },
  {
   "cell_type": "code",
   "execution_count": 52,
   "metadata": {},
   "outputs": [
    {
     "ename": "IndexError",
     "evalue": "list index out of range",
     "output_type": "error",
     "traceback": [
      "\u001b[0;31m---------------------------------------------------------------------------\u001b[0m",
      "\u001b[0;31mIndexError\u001b[0m                                Traceback (most recent call last)",
      "Cell \u001b[0;32mIn[52], line 2\u001b[0m\n\u001b[1;32m      1\u001b[0m i \u001b[38;5;241m=\u001b[39m \u001b[38;5;241m0\u001b[39m\n\u001b[0;32m----> 2\u001b[0m y \u001b[38;5;241m=\u001b[39m \u001b[43mp_test_N\u001b[49m\u001b[43m[\u001b[49m\u001b[43mi\u001b[49m\u001b[43m]\u001b[49m\n\u001b[1;32m      3\u001b[0m title \u001b[38;5;241m=\u001b[39m \u001b[38;5;124m\"\u001b[39m\u001b[38;5;124mP(A|X^o_1,...,X^o_(n_o))\u001b[39m\u001b[38;5;124m\"\u001b[39m\n\u001b[1;32m      4\u001b[0m label \u001b[38;5;241m=\u001b[39m Ns[i]\n",
      "\u001b[0;31mIndexError\u001b[0m: list index out of range"
     ]
    }
   ],
   "source": [
    "i = 0\n",
    "y = p_test_N[i]\n",
    "title = \"P(A|X^o_1,...,X^o_(n_o))\"\n",
    "label = Ns[i]\n",
    "marker_t = marker_t_N[i]\n",
    "marker = marker_N[i]\n",
    "grafica_a(autores,y,title,label,'autores','P',marker_t,marker     )"
   ]
  },
  {
   "cell_type": "markdown",
   "metadata": {},
   "source": [
    "#### Propuesta 3"
   ]
  },
  {
   "cell_type": "markdown",
   "metadata": {},
   "source": [
    "Para cada autor:\n",
    "- $P(A_i,T,W_1,W_2,\\dots,W_n) = P(A_i)P(T)\\displaystyle \\prod_{j=1}^{n} P(W_j|A_i,T)$,\n",
    "- donde $A_i = \\{0,1\\}$\n"
   ]
  },
  {
   "cell_type": "code",
   "execution_count": 112,
   "metadata": {},
   "outputs": [],
   "source": [
    "autores = set(df_train_T.autor)\n",
    "tipos = set(df_train_T.tipo)\n",
    "\n",
    "# Ocurrencias de cada autor y número de ocurrencia de autores\n",
    "na = Counter(df_train_T.autor)\n",
    "nA = np.sum(list(na.values()))\n",
    "\n",
    "# Variables Ai\n",
    "Ai = {}\n",
    "for a in autores:\n",
    "    Ai[a] = mb.Var(a, set([0,1]))\n",
    "\n",
    "# Variable T \n",
    "T = mb.Var('T',tipos)\n",
    "\n",
    "# Variables Wi\n",
    "W = {}\n",
    "for w in nuevo_vocabulario:\n",
    "    W[w] = mb.Var(w, set([0,1]))\n",
    "\n",
    "S_Ai = {}\n",
    "\n",
    "for a in Ai.keys():\n",
    "    # P(Ai)\n",
    "    vocab_ai = [w[0] for w in nvocab_a[a]]\n",
    "    p_ai = na[a] / nA\n",
    "    tai = {(0,): 1 - p_ai, (1,):p_ai}\n",
    "    Pai = mb.Distrib(tai, (Ai[a],))\n",
    "    \n",
    "    # P(T)\n",
    "    Pai_T = mb.Distrib(tT_A[(a,)], (T,))\n",
    "    \n",
    "    # P(Wj|Ai,T)\n",
    "    Pai_Wj_AiT = {}\n",
    "    for w in W:\n",
    "        tWj_AiT = {}\n",
    "        for t in T.values:\n",
    "            tWj_AiT[(1,t)] = {(1,):nw_at[(a,t)][w], (0,):0}\n",
    "            \n",
    "            nw_notat = 0\n",
    "            for not_ai in A.values - set([a]):\n",
    "                nw_notat += nw_at[(not_ai,t)][w]\n",
    "            tWj_AiT[(0,t)] = {(1,):nw_notat, (0,):0}\n",
    "        Laplace_gral(tWj_AiT)\n",
    "        Pai_Wj_AiT[w] = mb.Distrib(tWj_AiT, (W[w],), (Ai[a],T))\n",
    "\n",
    "    vars = set([Ai[a],T] + [W[w] for w in W.keys()])\n",
    "    descomp = tuple([Pai, Pai_T] + [Pai_Wj_AiT[w] for w in W.keys()])\n",
    "    S_Ai[a] = mb.Specification(vars, descomp)"
   ]
  },
  {
   "cell_type": "code",
   "execution_count": 113,
   "metadata": {},
   "outputs": [],
   "source": [
    "def test_vocab(titulo:str) -> tuple:\n",
    "    dcont = df_test_T.loc[df_test_T['titulo'] == titulo, 'Conteos'].iloc[0]\n",
    "    wt = []\n",
    "    for w in dcont:\n",
    "        wt.append(W[w])\n",
    "            \n",
    "    return wt"
   ]
  },
  {
   "cell_type": "code",
   "execution_count": 114,
   "metadata": {},
   "outputs": [],
   "source": [
    "Q_Ai = {}\n",
    "for a in S_Ai:\n",
    "    Q_Ai[a] = mb.Question(S_Ai[a])"
   ]
  },
  {
   "cell_type": "code",
   "execution_count": 124,
   "metadata": {},
   "outputs": [
    {
     "name": "stdout",
     "output_type": "stream",
     "text": [
      "{'josé saramago': {'agua', 'quedó', 'rana', 'cerdo', 'hacia', 'después', 'muchacha', 'puerta', 'vez', 'sudor', 'bajo', 'ojos', 'muchacho', 'río', 'pasó'}, 'gibrán jalil gibrán': {'años', 'dijo', 'dos', 'sombra', 'hierba', 'hombre', 'príncipe', 'vino', 'día', 'luego', 'poeta', 'obispo', 'respondió', 'vasija', 'poema'}, 'jean de la fontaine': {'casa', 'dijo', 'león', 'cien', 'solo', 'ser', 'debemos', 'fin', 'bien', 'ratoncillo', 'asno', 'amo', 'ayuda', 'amigo', 'perro'}, 'carlos fuentes': {'agua', 'casa', 'filiberto', 'luz', 'chac', 'aquí', 'tan', 'noche', 'mool', 'hoy', 'día', 'vida', 'piedra', 'sólo', 'sótano'}, 'gabriel garcía márquez': {'totó', 'casa', 'años', 'dijo', 'dos', 'luz', 'miércoles', 'fantasma', 'niños', 'padres', 'cuarto', 'papá', 'flotaban', 'bote', 'remos'}, 'esopo': {'zeus', 'pidió', 'viéndose', 'cuervo', 'alas', 'aquella', 'dijo', 'tierra', 'viendo', 'escarabajo', 'águila', 'liebre', 'tan', 'entonces', 'huevos'}, 'juan rulfo': {'siempre', 'tierra', 'urbano', 'dos', 'allí', 'aquí', 'después', 'pueblo', 'llano', 'dice', 'acuérdate', 'esteban', 'entonces', 'grande', 'gallina'}, 'horacio quiroga': {'maría', 'sirvienta', 'mujer', 'casa', 'rato', 'largo', 'alicia', 'jordán', 'vez', 'noche', 'día', 'sangre', 'ojos', 'entonces', 'cama'}, 'alfonso reyes': {'gobernante', 'guerra', 'lleno', 'año', 'perfecto', 'tiempo', 'errores', 'paz', 'ministro', 'pueblo', 'fin', 'pueblos', 'cada', 'catástrofe', 'día'}, 'juan carlos onetti': {'sirvienta', 'dije', 'casa', 'dijo', 'jardín', 'pelota', 'hombre', 'muchacha', 'vuelta', 'podía', 'fide', 'mientras', 'puerta', 'niño', 'manos'}}\n",
      "\n",
      "Cargando test 1\n",
      "{'vida', 'dijo', 'tiempo'}\n",
      "\tset()\n",
      "\tP(josé saramago) = 0.02746203510048195\n",
      "\t{'dijo'}\n",
      "\tP(gibrán jalil gibrán) = 0.06678477892466492\n",
      "\t{'dijo'}\n",
      "\tP(jean de la fontaine) = 0.07400130975769482\n",
      "\t{'vida'}\n",
      "\tP(carlos fuentes) = 0.07171366035792455\n",
      "\t{'dijo'}\n",
      "\tP(gabriel garcía márquez) = 0.0756650927098929\n",
      "\t{'dijo'}\n",
      "\tP(esopo) = 0.05770147830233667\n",
      "\tset()\n",
      "\tP(juan rulfo) = 0.02442130496666417\n",
      "\tset()\n",
      "\tP(horacio quiroga) = 0.020205043777594852\n",
      "\t{'tiempo'}\n",
      "\tP(alfonso reyes) = 0.04913974501794777\n",
      "\t{'dijo'}\n",
      "\tP(juan carlos onetti) = 0.030014256771966685\n",
      "\n",
      "Cargando test 2\n",
      "{'siempre', 'dije', 'casa', 'mujer', 'dijo', 'dos', 'solo', 'hombre', 'después', 'podía', 'bien', 'noche', 'tan', 'puerta', 'vino', 'cama'}\n",
      "\t{'puerta', 'después'}\n",
      "\tP(josé saramago) = 4e-05\n",
      "\t{'vino', 'hombre', 'dijo', 'dos'}\n",
      "\tP(gibrán jalil gibrán) = 4e-05\n",
      "\t{'casa', 'solo', 'bien', 'dijo'}\n",
      "\tP(jean de la fontaine) = 4e-05\n",
      "\t{'casa', 'tan', 'noche'}\n",
      "\tP(carlos fuentes) = 0.02857142857142857\n",
      "\t{'casa', 'dijo', 'dos'}\n",
      "\tP(gabriel garcía márquez) = 0.0015698587127158557\n",
      "\t{'tan', 'dijo'}\n",
      "\tP(esopo) = 4e-05\n",
      "\t{'siempre', 'después', 'dos'}\n",
      "\tP(juan rulfo) = 4e-05\n",
      "\t{'casa', 'mujer', 'cama', 'noche'}\n",
      "\tP(horacio quiroga) = 0.0017574692442882249\n",
      "\tset()\n",
      "\tP(alfonso reyes) = 4e-05\n",
      "\t{'casa', 'dije', 'dijo', 'hombre', 'podía', 'puerta'}\n",
      "\tP(juan carlos onetti) = 0.0008278145695364238\n",
      "\n",
      "Cargando test 3\n",
      "{'siempre', 'dos', 'luz', 'hombre', 'después', 'puerta', 'noche', 'tan', 'cada', 'niño', 'sangre', 'luego'}\n",
      "\t{'puerta', 'después'}\n",
      "\tP(josé saramago) = 0.0010890280424720937\n",
      "\t{'luego', 'hombre', 'dos'}\n",
      "\tP(gibrán jalil gibrán) = 0.0009527439024390244\n",
      "\tset()\n",
      "\tP(jean de la fontaine) = 0.001524390243902439\n",
      "\t{'luz', 'tan', 'noche'}\n",
      "\tP(carlos fuentes) = 0.017525035765379112\n",
      "\t{'luz', 'dos'}\n",
      "\tP(gabriel garcía márquez) = 0.0004332755632582322\n",
      "\t{'tan'}\n",
      "\tP(esopo) = 4e-05\n",
      "\t{'siempre', 'después', 'dos'}\n",
      "\tP(juan rulfo) = 0.0024919013207077\n",
      "\t{'noche', 'sangre'}\n",
      "\tP(horacio quiroga) = 0.0007982438635002994\n",
      "\t{'cada'}\n",
      "\tP(alfonso reyes) = 0.0007692307692307692\n",
      "\t{'puerta', 'niño', 'hombre'}\n",
      "\tP(juan carlos onetti) = 0.00124595066035385\n",
      "\n",
      "Cargando test 4\n",
      "{'siempre', 'lleno', 'años', 'león', 'viendo', 'ser', 'después', 'podía', 'bien', 'tan', 'luego'}\n",
      "\t{'después'}\n",
      "\tP(josé saramago) = 4e-05\n",
      "\t{'luego', 'años'}\n",
      "\tP(gibrán jalil gibrán) = 4e-05\n",
      "\t{'bien', 'ser', 'león'}\n",
      "\tP(jean de la fontaine) = 0.004464285714285714\n",
      "\t{'tan'}\n",
      "\tP(carlos fuentes) = 0.07220216606498195\n",
      "\t{'años'}\n",
      "\tP(gabriel garcía márquez) = 0.008875739644970414\n",
      "\t{'viendo', 'tan'}\n",
      "\tP(esopo) = 0.0043859649122807015\n",
      "\t{'siempre', 'después'}\n",
      "\tP(juan rulfo) = 0.017013232514177693\n",
      "\tset()\n",
      "\tP(horacio quiroga) = 0.002663115845539281\n",
      "\t{'lleno'}\n",
      "\tP(alfonso reyes) = 0.0196078431372549\n",
      "\t{'podía'}\n",
      "\tP(juan carlos onetti) = 0.0012437810945273632\n",
      "\n",
      "Cargando test 5\n",
      "{'año', 'perfecto', 'dos', 'tiempo', 'luego', 'solo', 'aquí', 'ojos', 'tan', 'noche', 'manos', 'día', 'cuarto', 'cama', 'pasó'}\n",
      "\t{'ojos', 'pasó'}\n",
      "\tP(josé saramago) = 4e-05\n",
      "\t{'luego', 'día', 'dos'}\n",
      "\tP(gibrán jalil gibrán) = 4e-05\n",
      "\t{'solo'}\n",
      "\tP(jean de la fontaine) = 4e-05\n",
      "\t{'tan', 'aquí', 'día', 'noche'}\n",
      "\tP(carlos fuentes) = 0.024390243902439025\n",
      "\t{'cuarto', 'dos'}\n",
      "\tP(gabriel garcía márquez) = 0.006134969325153374\n",
      "\t{'tan'}\n",
      "\tP(esopo) = 0.002881844380403458\n",
      "\t{'aquí', 'dos'}\n",
      "\tP(juan rulfo) = 4e-05\n",
      "\t{'ojos', 'noche', 'día', 'cama'}\n",
      "\tP(horacio quiroga) = 0.0010515247108307045\n",
      "\t{'día', 'año', 'perfecto', 'tiempo'}\n",
      "\tP(alfonso reyes) = 4e-05\n",
      "\t{'manos'}\n",
      "\tP(juan carlos onetti) = 4e-05\n"
     ]
    }
   ],
   "source": [
    "tests = ['el caballo y el lobo','el impostor', 'la escopeta','el león y el pastor','la marcha del caracol']\n",
    "autor = ['jean de la fontaine', 'gibrán jalil gibrán', 'juan carlos onetti','esopo','carlos fuentes']\n",
    "marker = []\n",
    "marker_t = []\n",
    "nvocab_a_w = {}\n",
    "for a in A.values:\n",
    "    nvocab_a_w[a] = set([w[0] for w in nvocab_a[a]])\n",
    "print(nvocab_a_w)\n",
    "for i,test in enumerate(tests):\n",
    "    print(f\"\\nCargando test {i+1}\")\n",
    "    Wo = test_vocab(test)\n",
    "    \n",
    "    vocab_t = set()\n",
    "    for v in Wo:\n",
    "        vocab_t.add(v.name)\n",
    "    print(vocab_t)\n",
    "    \n",
    "    Wo = tuple(Wo)\n",
    "    \n",
    "    vWo = tuple([1 for w in Wo])\n",
    "    for a in Q_Ai.keys():\n",
    "        print(f\"\\t{vocab_t.intersection(nvocab_a_w[a])}\")\n",
    "        Ai = (S_Ai[a].getVar(a),)\n",
    "        pa = Q_Ai[a].Query(vars=Ai,indep=Wo,vars_values=(1,),indep_values=vWo, aproximation=True,N=25000)\n",
    "        print(f\"\\tP({a}) = {pa}\")"
   ]
  }
 ],
 "metadata": {
  "kernelspec": {
   "display_name": "Python 3",
   "language": "python",
   "name": "python3"
  },
  "language_info": {
   "codemirror_mode": {
    "name": "ipython",
    "version": 3
   },
   "file_extension": ".py",
   "mimetype": "text/x-python",
   "name": "python",
   "nbconvert_exporter": "python",
   "pygments_lexer": "ipython3",
   "version": "3.10.12"
  }
 },
 "nbformat": 4,
 "nbformat_minor": 2
}
