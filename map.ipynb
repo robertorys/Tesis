{
 "cells": [
  {
   "cell_type": "markdown",
   "metadata": {},
   "source": [
    "# Método de mapeo"
   ]
  },
  {
   "cell_type": "markdown",
   "metadata": {},
   "source": [
    "Método para mapear un índice con una fila para la consulta"
   ]
  },
  {
   "cell_type": "code",
   "execution_count": 1,
   "metadata": {},
   "outputs": [],
   "source": [
    "import mib_v2_1_1 as mb\n",
    "import pandas as pd\n",
    "\n",
    "# Declaración de variables\n",
    "A = mb.Var('A', set([0,1]))\n",
    "B = mb.Var('B', set([0,1]))\n",
    "C = mb.Var('C', set([0,1,2]))\n",
    "\n",
    "\n",
    "tA = [\n",
    "    [0, 0.3],\n",
    "    [1, 0.7]\n",
    "]\n",
    "dfA = pd.DataFrame(tA, columns=['A','probability'])\n",
    "dA = mb.Distrib(set([A]), dfA)\n",
    "\n",
    "tB_A = [\n",
    "    [0, 0, 0.2],\n",
    "    [0, 1, 0.8],\n",
    "    [1, 0, 0.3],\n",
    "    [1, 1, 0.7]\n",
    "]\n",
    "dfB_A = pd.DataFrame(tB_A, columns=['A','B','probability'])\n",
    "dB_A = mb.CondDistrib(set([A]),set([B]),dfB_A)\n",
    "\n",
    "tC_AB = [\n",
    "    [0, 0, 0, 0.1],\n",
    "    [0, 0, 1, 0.8],\n",
    "    [0, 0, 2, 0.1],\n",
    "    [0, 1, 0, 0.3],\n",
    "    [0, 1, 1, 0.5],\n",
    "    [0, 1, 2, 0.2],\n",
    "    [1, 0, 0, 0.4],\n",
    "    [1, 0, 1, 0.5],\n",
    "    [1, 0, 2, 0.1],\n",
    "    [1, 1, 0, 0.1],\n",
    "    [1, 1, 1, 0.7],\n",
    "    [1, 1, 2, 0.2]\n",
    "]\n",
    "dfC_AB = pd.DataFrame(tC_AB, columns=['A','B','C','probability'])\n",
    "dC_AB = mb.CondDistrib(set([C]),set([A,B]),dfC_AB)\n",
    "\n",
    "PABC = mb.Specification(set([A,B,C]),set([dA, dB_A, dC_AB]))\n",
    "\n",
    "Q_ABC = mb.Question(PABC)\n"
   ]
  },
  {
   "cell_type": "code",
   "execution_count": null,
   "metadata": {},
   "outputs": [],
   "source": []
  }
 ],
 "metadata": {
  "kernelspec": {
   "display_name": "Python 3",
   "language": "python",
   "name": "python3"
  },
  "language_info": {
   "codemirror_mode": {
    "name": "ipython",
    "version": 3
   },
   "file_extension": ".py",
   "mimetype": "text/x-python",
   "name": "python",
   "nbconvert_exporter": "python",
   "pygments_lexer": "ipython3",
   "version": "3.8.10"
  }
 },
 "nbformat": 4,
 "nbformat_minor": 2
}
