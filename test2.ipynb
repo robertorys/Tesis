{
 "cells": [
  {
   "cell_type": "code",
   "execution_count": 1,
   "metadata": {},
   "outputs": [],
   "source": [
    "import glob"
   ]
  },
  {
   "cell_type": "code",
   "execution_count": 2,
   "metadata": {},
   "outputs": [],
   "source": [
    "archivos = glob.glob('./Train/*/*')"
   ]
  },
  {
   "cell_type": "code",
   "execution_count": 3,
   "metadata": {},
   "outputs": [
    {
     "data": {
      "text/plain": [
       "['./Train/García Márquez/La luz es como el agua.txt',\n",
       " './Train/García Márquez/Un niño como yo.txt',\n",
       " './Train/García Márquez/La fotogenia del fantasma.txt',\n",
       " './Train/García Márquez/Eñ drama del desencantado.txt',\n",
       " './Train/Quiroga/El almohadón de plumas.txt',\n",
       " './Train/Quiroga/El vampiro.txt',\n",
       " './Train/Fuentes/Una zona sagrada.txt',\n",
       " './Train/Fuentes/Chac Mool.txt',\n",
       " './Train/Esopo/El águila, el cuervo y el pastor.txt',\n",
       " './Train/Esopo/El águila y el escarabajo.txt',\n",
       " './Train/Esopo/El buen rey león.txt',\n",
       " './Train/Alfonso Reyes/Del perfecto gobernante.txt',\n",
       " './Train/Alfonso Reyes/Los alivios.txt',\n",
       " './Train/Alfonso Reyes/Ley profunda.txt',\n",
       " './Train/Alfonso Reyes/Catástrofes.txt',\n",
       " './Train/La Fontaine/Dos amigos.txt',\n",
       " './Train/La Fontaine/El león y el ratón.txt',\n",
       " './Train/La Fontaine/El Asno y el Perro.txt',\n",
       " './Train/La Fontaine/Júpiter y el pasajero.txt',\n",
       " './Train/Gibran/La sombra.txt',\n",
       " './Train/Gibran/Aquel viejo, viejo vino.txt',\n",
       " './Train/Gibran/Dos poemas.txt',\n",
       " './Train/Gibran/La búsqueda.txt',\n",
       " './Train/Gibran/Tres regalos.txt',\n",
       " './Train/Onetti/Ida y vuelta.txt',\n",
       " './Train/Onetti/El árbol.txt',\n",
       " './Train/Saramago/Desquite.txt',\n",
       " './Train/Saramago/Café en suspenso.txt',\n",
       " './Train/Rulfo/Acuérdate.txt',\n",
       " './Train/Rulfo/Nos han dado la tierra.txt']"
      ]
     },
     "execution_count": 3,
     "metadata": {},
     "output_type": "execute_result"
    }
   ],
   "source": []
  }
 ],
 "metadata": {
  "kernelspec": {
   "display_name": "Python 3",
   "language": "python",
   "name": "python3"
  },
  "language_info": {
   "codemirror_mode": {
    "name": "ipython",
    "version": 3
   },
   "file_extension": ".py",
   "mimetype": "text/x-python",
   "name": "python",
   "nbconvert_exporter": "python",
   "pygments_lexer": "ipython3",
   "version": "3.10.12"
  }
 },
 "nbformat": 4,
 "nbformat_minor": 2
}
